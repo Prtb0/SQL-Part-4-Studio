{
    "metadata": {
        "kernelspec": {
            "name": "SQL",
            "display_name": "SQL",
            "language": "sql"
        },
        "language_info": {
            "name": "sql",
            "version": ""
        },
        "extensions": {
            "azuredatastudio": {
                "version": 1,
                "views": []
            }
        }
    },
    "nbformat_minor": 2,
    "nbformat": 4,
    "cells": [
        {
            "cell_type": "markdown",
            "source": [
                "# SQL Part 4 Studio\n",
                "\n",
                "For this studio, you will be working in small groups and using the BooksDB.  One group member should screen share while fellow group members code along in their own notebooks.  Each group member will submit a link to their studio notebook.\n",
                "\n",
                "You are back at the bookstore helping employees with their inventory of books.   Four employees need your help with finding books to create in-store displays.  Read their requests and decide if you want to use a correlated subquery, nested subquery, UNION operator, EXCEPT operator, or INTERSECT operator.  You may not use any joins or add multiple statements to the WHERE clause unless explicitly asked."
            ],
            "metadata": {
                "azdata_cell_guid": "3ea3f8a2-b444-4354-be8b-eebc139b3c13"
            },
            "attachments": {}
        },
        {
            "cell_type": "markdown",
            "source": [
                "## QUESTION 1:  Willow\n",
                "\n",
                "Willow wants a list of book titles that have multiple authors attributed to them.  Write a query to return her desired results."
            ],
            "metadata": {
                "azdata_cell_guid": "5c8b1c77-0878-4dc6-8e79-7f64e5e1df0d"
            },
            "attachments": {}
        },
        {
            "cell_type": "code",
            "source": [
                "-- Code here: \r\n",
                "select title FROM BooksDB.dbo.books \r\n",
                "WHERE authors IN (select authors from BooksDB.dbo.books where authors LIKE '%,%')\r\n",
                "\r\n",
                ""
            ],
            "metadata": {
                "azdata_cell_guid": "46c76d2f-acbc-4fd2-9c2a-367044fda616",
                "tags": [],
                "language": "sql"
            },
            "outputs": [
                {
                    "output_type": "display_data",
                    "data": {
                        "text/html": "(2079 rows affected)"
                    },
                    "metadata": {}
                },
                {
                    "output_type": "display_data",
                    "data": {
                        "text/html": "Total execution time: 00:00:00.363"
                    },
                    "metadata": {}
                },
                {
                    "output_type": "execute_result",
                    "execution_count": 3,
                    "data": {
                        "application/vnd.dataresource+json": {
                            "schema": {
                                "fields": [
                                    {
                                        "name": "title"
                                    }
                                ]
                            },
                            "data": [
                                {
                                    "title": "When We Were Very Young (Winnie-the-Pooh, #3)"
                                },
                                {
                                    "title": "Now We Are Six (Winnie-the-Pooh, #4)"
                                },
                                {
                                    "title": "The World of Winnie-the-Pooh (Winnie-the-Pooh, #1-2)"
                                },
                                {
                                    "title": "The Complete Tales and Poems of Winnie-the-Pooh (Winnie-the-Pooh, #1-4)"
                                },
                                {
                                    "title": "Winnie-the-Pooh (Winnie-the-Pooh, #1)"
                                },
                                {
                                    "title": "The House at Pooh Corner (Winnie-the-Pooh, #2)"
                                },
                                {
                                    "title": "Sleeping Beauty (Disney Princess, 5)"
                                },
                                {
                                    "title": "Sleeping Beauty Box Set"
                                },
                                {
                                    "title": "Beauty's Punishment (Sleeping Beauty, #2)"
                                },
                                {
                                    "title": "Beauty's Release (Sleeping Beauty, #3)"
                                },
                                {
                                    "title": "The Claiming of Sleeping Beauty (Sleeping Beauty, #1)"
                                },
                                {
                                    "title": "Wings of Fire: An Autobiography"
                                },
                                {
                                    "title": "Dangerous Girls"
                                },
                                {
                                    "title": "A Higher Call: An Incredible True Story of Combat and Chivalry in the War-Torn Skies of World War II"
                                },
                                {
                                    "title": "Go the Fuck to Sleep"
                                },
                                {
                                    "title": "How to Talk So Kids Will Listen & Listen So Kids Will Talk"
                                },
                                {
                                    "title": "The Invention of Morel"
                                },
                                {
                                    "title": "The Exploits of Sherlock Holmes"
                                },
                                {
                                    "title": "Agamemnon (Oresteia, #1)"
                                },
                                {
                                    "title": "The Oresteia  (Ορέστεια, #1-3)"
                                },
                                {
                                    "title": "Aesop's Fables"
                                },
                                {
                                    "title": "One, Two, Buckle My Shoe (Hercule Poirot, #22)"
                                },
                                {
                                    "title": "The Clocks (Hercule Poirot, #34)"
                                },
                                {
                                    "title": "The Mysterious Affair at Styles (Hercule Poirot, #1)"
                                },
                                {
                                    "title": "Reborn! Vol. 01: Reborn Arrives! (Reborn!, #1)"
                                },
                                {
                                    "title": "The Three Little Pigs (Disney Classic)"
                                },
                                {
                                    "title": "Hand, Hand, Fingers, Thumb"
                                },
                                {
                                    "title": "The 22 Immutable Laws of Marketing: Violate Them at Your Own Risk"
                                },
                                {
                                    "title": "Positioning: The Battle for Your Mind: How to Be Seen and Heard in the Overcrowded Marketplace"
                                },
                                {
                                    "title": "نادي السيارات"
                                },
                                {
                                    "title": "The Yacoubian Building"
                                },
                                {
                                    "title": "شيكاجو"
                                },
                                {
                                    "title": "Hello, Cupcake"
                                },
                                {
                                    "title": "A New Hope  (Star Wars: Novelizations #4)"
                                },
                                {
                                    "title": "The Force Awakens (Star Wars)"
                                },
                                {
                                    "title": "The Lord of the Rings Sketchbook"
                                },
                                {
                                    "title": "Batman: The Killing Joke"
                                },
                                {
                                    "title": "Superman: Whatever Happened to the Man of Tomorrow?"
                                },
                                {
                                    "title": "Watchmen"
                                },
                                {
                                    "title": "V for Vendetta"
                                },
                                {
                                    "title": "From Hell"
                                },
                                {
                                    "title": "The League of Extraordinary Gentlemen, Vol. 1"
                                },
                                {
                                    "title": "The League of Extraordinary Gentlemen, Vol. 2"
                                },
                                {
                                    "title": "Swamp Thing, Vol. 1: Saga of the Swamp Thing"
                                },
                                {
                                    "title": "The Myth of Sisyphus and Other Essays"
                                },
                                {
                                    "title": "The Fall"
                                },
                                {
                                    "title": "The Stranger"
                                },
                                {
                                    "title": "The Plague"
                                },
                                {
                                    "title": "Relativity: The Special and the General Theory"
                                },
                                {
                                    "title": "Brave New World / Brave New World Revisited"
                                },
                                {
                                    "title": "Горе от ума"
                                },
                                {
                                    "title": "The Gulag Archipelago 1918-1956"
                                },
                                {
                                    "title": "One Day in the Life of Ivan Denisovich"
                                },
                                {
                                    "title": "The Federalist Papers"
                                },
                                {
                                    "title": "Business Model Generation"
                                },
                                {
                                    "title": "Eugene Onegin"
                                },
                                {
                                    "title": "La Dame aux Camélias"
                                },
                                {
                                    "title": "Twenty Years After (The D'Artagnan Romances, #2)"
                                },
                                {
                                    "title": "The Man in the Iron Mask (The D'Artagnan Romances, #3.3)"
                                },
                                {
                                    "title": "The Count of Monte Cristo"
                                },
                                {
                                    "title": "Democracy in America "
                                },
                                {
                                    "title": "The Stars My Destination"
                                },
                                {
                                    "title": "The Lady of Shalott"
                                },
                                {
                                    "title": "My Life with the Walter Boys (My Life with the Walter Boys #1)"
                                },
                                {
                                    "title": "The Drama of the Gifted Child: The Search for the True Self"
                                },
                                {
                                    "title": "The Sandman: King of Dreams"
                                },
                                {
                                    "title": "The Dirty Girls Social Club (Dirty Girls, #1)"
                                },
                                {
                                    "title": "Where Eagles Dare "
                                },
                                {
                                    "title": "The Definitive Book of Body Language"
                                },
                                {
                                    "title": "Howl and Other Poems"
                                },
                                {
                                    "title": "Scary Stories to Tell in the Dark (Scary Stories, #1)"
                                },
                                {
                                    "title": "Hope: A Memoir of Survival in Cleveland"
                                },
                                {
                                    "title": "A House in the Sky"
                                },
                                {
                                    "title": "The America's Test Kitchen Family Cookbook"
                                },
                                {
                                    "title": "Illuminae (The Illuminae Files, #1)"
                                },
                                {
                                    "title": "Gemina (The Illuminae Files, #2)"
                                },
                                {
                                    "title": "These Broken Stars (Starbound, #1)"
                                },
                                {
                                    "title": "Samarkand"
                                },
                                {
                                    "title": "The Art of Amy Brown"
                                },
                                {
                                    "title": "Take This Regret (Take This Regret, #1)"
                                },
                                {
                                    "title": "The Climb: Tragic Ambitions on Everest"
                                },
                                {
                                    "title": "The Rainbow Comes and Goes: A Mother and Son On Life, Love, and Loss"
                                },
                                {
                                    "title": "Open"
                                },
                                {
                                    "title": "The Elvenbane (Halfblood Chronicles, #1)"
                                },
                                {
                                    "title": "Frindle"
                                },
                                {
                                    "title": "The Pragmatic Programmer: From Journeyman to Master"
                                },
                                {
                                    "title": "Finding Nemo"
                                },
                                {
                                    "title": "Harry Potter: A Pop-Up Book: Based on the Film Phenomenon"
                                },
                                {
                                    "title": "The Tale of Three Trees"
                                },
                                {
                                    "title": "Flyte (Septimus Heap, #2)"
                                },
                                {
                                    "title": "Queste (Septimus Heap, #4)"
                                },
                                {
                                    "title": "Physik (Septimus Heap, #3)"
                                },
                                {
                                    "title": "Darke (Septimus Heap, #6)"
                                },
                                {
                                    "title": "Stone Soup"
                                },
                                {
                                    "title": "Hunting and Gathering"
                                },
                                {
                                    "title": "Agnes Grey"
                                },
                                {
                                    "title": "The Tenant of Wildfell Hall"
                                },
                                {
                                    "title": "The Cake Mix Doctor"
                                },
                                {
                                    "title": "The Diary of a Young Girl"
                                },
                                {
                                    "title": "Anne Frank's Tales from the Secret Annex"
                                },
                                {
                                    "title": "Some Assembly Required: A Journal of My Son's First Son"
                                },
                                {
                                    "title": "Dragonflight (Dragonriders of Pern, #1)"
                                },
                                {
                                    "title": "Exit to Eden"
                                },
                                {
                                    "title": "Belinda"
                                },
                                {
                                    "title": "Vampire Chronicles: Interview with the Vampire, The Vampire Lestat, The Queen of the Damned (Anne Rice)"
                                },
                                {
                                    "title": "Taltos (Lives of the Mayfair Witches, #3)"
                                },
                                {
                                    "title": "The Complete Poems"
                                },
                                {
                                    "title": "The Accidental Tourist"
                                },
                                {
                                    "title": "Night World: The Ultimate Fan Guide"
                                },
                                {
                                    "title": "The Dhammapada"
                                },
                                {
                                    "title": "The Book of Mormon: Another Testament of Jesus Christ"
                                },
                                {
                                    "title": "The Upanishads: Translations from the Sanskrit"
                                },
                                {
                                    "title": "ESV Study Bible"
                                },
                                {
                                    "title": "The Epic of Gilgamesh"
                                },
                                {
                                    "title": "The Arabian Nights"
                                },
                                {
                                    "title": "The I Ching or Book of Changes"
                                },
                                {
                                    "title": "Life Application Study Bible: NIV"
                                },
                                {
                                    "title": "Scar Tissue"
                                },
                                {
                                    "title": "Unlimited Power : The New Science Of Personal Achievement"
                                },
                                {
                                    "title": "Awaken the Giant Within: How to Take Immediate Control of Your Mental, Emotional, Physical and Financial Destiny!"
                                },
                                {
                                    "title": "The Little Prince"
                                },
                                {
                                    "title": "The Seagull"
                                },
                                {
                                    "title": "The Complete Short Novels"
                                },
                                {
                                    "title": "Selected Stories"
                                },
                                {
                                    "title": "The Cherry Orchard"
                                },
                                {
                                    "title": "Katherine"
                                },
                                {
                                    "title": "Logicomix: An epic search for truth"
                                },
                                {
                                    "title": "Full Moon o Sagashite, Vol. 1"
                                },
                                {
                                    "title": "Lysistrata"
                                },
                                {
                                    "title": "The Nicomachean Ethics"
                                },
                                {
                                    "title": "Metaphysics"
                                },
                                {
                                    "title": "Poetics"
                                },
                                {
                                    "title": "Roadside Picnic"
                                },
                                {
                                    "title": "Tikki Tikki Tembo"
                                },
                                {
                                    "title": "Silence of the Grave (Inspector Erlendur #4)"
                                },
                                {
                                    "title": "Jar City (Inspector Erlendur, #3)"
                                },
                                {
                                    "title": "Rama II (Rama, #2)"
                                },
                                {
                                    "title": "The Garden of Rama (Rama, #3)"
                                },
                                {
                                    "title": "Rama Revealed (Rama, #4)"
                                },
                                {
                                    "title": "The Hound of the Baskervilles"
                                },
                                {
                                    "title": "The Valley of Fear"
                                },
                                {
                                    "title": "The Complete Sherlock Holmes, Vol 2"
                                },
                                {
                                    "title": "The Sign of Four"
                                },
                                {
                                    "title": "The Annotated Sherlock Holmes: The Four Novels and the Fifty-Six Short Stories Complete (2 Volume Set)"
                                },
                                {
                                    "title": "Darkness at Noon"
                                },
                                {
                                    "title": "The Crucible"
                                },
                                {
                                    "title": "All My Sons"
                                },
                                {
                                    "title": "The Flanders Panel"
                                },
                                {
                                    "title": "The Club Dumas"
                                },
                                {
                                    "title": "The Bookseller of Kabul"
                                },
                                {
                                    "title": "Assata: An Autobiography"
                                },
                                {
                                    "title": "Pippi in the South Seas"
                                },
                                {
                                    "title": "The Brothers Lionheart"
                                },
                                {
                                    "title": "Pippi Longstocking"
                                },
                                {
                                    "title": "Ronia, the Robber's Daughter"
                                },
                                {
                                    "title": "Complications: A Surgeon's Notes on an Imperfect Science"
                                },
                                {
                                    "title": "The Kissing Hand"
                                },
                                {
                                    "title": "The Napping House"
                                },
                                {
                                    "title": "Confessions"
                                },
                                {
                                    "title": "All My Friends Are Dead"
                                },
                                {
                                    "title": "Love★Com, Vol. 1"
                                },
                                {
                                    "title": "Atlas Shrugged"
                                },
                                {
                                    "title": "The Fountainhead"
                                },
                                {
                                    "title": "We the Living"
                                },
                                {
                                    "title": "The Virtue of Selfishness: A New Concept of Egoism"
                                },
                                {
                                    "title": "Last Train to Istanbul"
                                },
                                {
                                    "title": "Modern Romance"
                                },
                                {
                                    "title": "Kitchen"
                                },
                                {
                                    "title": "Hands Of Light"
                                },
                                {
                                    "title": "Animal, Vegetable, Miracle: A Year of Food Life"
                                },
                                {
                                    "title": "Junie B. Jones and the  Stupid Smelly Bus (Junie B. Jones, #1)"
                                },
                                {
                                    "title": "Rudolph the Red-Nosed Reindeer"
                                },
                                {
                                    "title": "The Guns of August"
                                },
                                {
                                    "title": "Ethics"
                                },
                                {
                                    "title": "Go Ask Alice"
                                },
                                {
                                    "title": "The Hedge Knight (The Hedge Knight Graphic Novels, #1)"
                                },
                                {
                                    "title": "Gifted Hands: The Ben Carson Story"
                                },
                                {
                                    "title": "Mrs. Mike (Mrs. Mike, #1)"
                                },
                                {
                                    "title": "The Autobiography of Benjamin Franklin"
                                },
                                {
                                    "title": "The Intelligent Investor (Collins Business Essentials)"
                                },
                                {
                                    "title": "The Tao of Pooh"
                                },
                                {
                                    "title": "I Love You Through and Through"
                                },
                                {
                                    "title": "The Reader"
                                },
                                {
                                    "title": "Mother Courage and Her Children"
                                },
                                {
                                    "title": "Why I Am Not a Christian and Other Essays on Religion and Related Subjects"
                                },
                                {
                                    "title": "Saving CeeCee Honeycutt"
                                },
                                {
                                    "title": "The Smartest Guys in the Room: The Amazing Rise and Scandalous Fall of Enron"
                                },
                                {
                                    "title": "The Feminine Mystique"
                                },
                                {
                                    "title": "Mrs. Piggle-Wiggle's Magic (Mrs. Piggle Wiggle, #2)"
                                },
                                {
                                    "title": "Mrs. Piggle-Wiggle (Mrs. Piggle Wiggle, #1)"
                                },
                                {
                                    "title": "Hello, Mrs. Piggle-Wiggle (Mrs. Piggle Wiggle, #4)"
                                },
                                {
                                    "title": "Ramona the Brave (Ramona, #3)"
                                },
                                {
                                    "title": "Ramona and Her Father (Ramona, #4)"
                                },
                                {
                                    "title": "The Mouse and the Motorcycle (Ralph S. Mouse, #1)"
                                },
                                {
                                    "title": "Dear Mr. Henshaw (Leigh Botts, #1)"
                                },
                                {
                                    "title": "Henry Huggins (Henry Huggins, #1)"
                                },
                                {
                                    "title": "Empty Mansions: The Mysterious Life of Huguette Clark and the Spending of a Great American Fortune"
                                },
                                {
                                    "title": "The Batman Chronicles, Vol. 1"
                                },
                                {
                                    "title": "Too Busy Not to Pray: Slowing Down to Be With God"
                                },
                                {
                                    "title": "Panda Bear, Panda Bear, What Do You See?"
                                },
                                {
                                    "title": "Brown Bear, Brown Bear, What Do You See?"
                                },
                                {
                                    "title": "Polar Bear, Polar Bear, What Do You Hear?"
                                },
                                {
                                    "title": "Chicka Chicka Boom Boom"
                                },
                                {
                                    "title": "Killing Kennedy: The End of Camelot"
                                },
                                {
                                    "title": "Killing Lincoln: The Shocking Assassination that Changed America Forever"
                                },
                                {
                                    "title": "Killing Jesus: A History"
                                },
                                {
                                    "title": "Killing Reagan: The Violent Assault That Changed a Presidency"
                                },
                                {
                                    "title": "Killing Patton: The Strange Death of World War II's Most Audacious General"
                                },
                                {
                                    "title": "Calvin and Hobbes"
                                },
                                {
                                    "title": "Fables, Vol. 1: Legends in Exile"
                                },
                                {
                                    "title": "Fables, Vol. 4: March of the Wooden Soldiers"
                                },
                                {
                                    "title": "Fables, Vol. 6: Homelands"
                                },
                                {
                                    "title": "Fables, Vol. 10: The Good Prince"
                                },
                                {
                                    "title": "Fables, Vol. 9: Sons of Empire"
                                },
                                {
                                    "title": "Fables, Vol. 3: Storybook Love"
                                },
                                {
                                    "title": "Fables, Vol. 2: Animal Farm"
                                },
                                {
                                    "title": "Fables, Vol. 7: Arabian Nights [and Days] (Fables, #7)"
                                },
                                {
                                    "title": "Fables, Vol. 8: Wolves"
                                },
                                {
                                    "title": "Fables, Vol. 5: The Mean Seasons"
                                },
                                {
                                    "title": "Black Elk Speaks: Being the Life Story of a Holy Man of the Oglala Sioux"
                                },
                                {
                                    "title": "Chasing Vermeer (Chasing Vermeer, #1)"
                                },
                                {
                                    "title": "The Legend of Sleepy Hollow (Graphic Novel)"
                                },
                                {
                                    "title": "Batman: No Man's Land, Vol. 1"
                                },
                                {
                                    "title": "Up from Slavery"
                                },
                                {
                                    "title": "Doctor Zhivago"
                                },
                                {
                                    "title": "Identity Crisis"
                                },
                                {
                                    "title": "Dracula"
                                },
                                {
                                    "title": "Skin Deep (Legion, #2)"
                                },
                                {
                                    "title": "The Ragamuffin Gospel: Good News for the Bedraggled, Beat-Up, and Burnt Out"
                                },
                                {
                                    "title": "Wonder Woman, Volume 1: Blood"
                                },
                                {
                                    "title": "100 Bullets, Vol. 1: First Shot, Last Call"
                                },
                                {
                                    "title": "The Joker"
                                },
                                {
                                    "title": "The Face of Fear"
                                },
                                {
                                    "title": "The Voice of the Night"
                                },
                                {
                                    "title": "Faeries"
                                },
                                {
                                    "title": "Good Faeries/Bad Faeries"
                                },
                                {
                                    "title": "House Harkonnen (Prelude to Dune #2)"
                                },
                                {
                                    "title": "The Machine Crusade (Legends of Dune, #2)"
                                },
                                {
                                    "title": "The Butlerian Jihad (Legends of Dune, #1)"
                                },
                                {
                                    "title": "House Atreides (Prelude to Dune #1)"
                                },
                                {
                                    "title": "House Corrino (Prelude to Dune #3)"
                                },
                                {
                                    "title": "Hunters of Dune (Dune Chronicles #7)"
                                },
                                {
                                    "title": "The Long Patrol (Redwall, #10)"
                                },
                                {
                                    "title": "Mariel of Redwall (Redwall, #4)"
                                },
                                {
                                    "title": "Salamandastron (Redwall, #5)"
                                },
                                {
                                    "title": "Runaways, Vol. 1: Pride and Joy (Runaways, #1)"
                                },
                                {
                                    "title": "Paper Girls, Vol. 1 (Paper Girls, #1)"
                                },
                                {
                                    "title": "Saga, Vol. 6 (Saga, #6)"
                                },
                                {
                                    "title": "Saga, Vol. 3 (Saga, #3)"
                                },
                                {
                                    "title": "Saga, Vol. 4 (Saga, #4)"
                                },
                                {
                                    "title": "Saga, Vol. 5 (Saga, #5)"
                                },
                                {
                                    "title": "Saga, Vol. 2 (Saga, #2)"
                                },
                                {
                                    "title": "Saga #1"
                                },
                                {
                                    "title": "Saga, Vol. 1 (Saga, #1)"
                                },
                                {
                                    "title": "Pride of Baghdad"
                                },
                                {
                                    "title": "Y: The Last Man, Vol. 4: Safeword (Y: The Last Man, #4)"
                                },
                                {
                                    "title": "Y: The Last Man, Vol. 7: Paper Dolls (Y: The Last Man, #7)"
                                },
                                {
                                    "title": "Y: The Last Man, Vol. 9: Motherland (Y: The Last Man, #9)"
                                },
                                {
                                    "title": "Y: The Last Man, Vol. 6: Girl on Girl (Y: The Last Man, #6)"
                                },
                                {
                                    "title": "Y: The Last Man, Vol. 8: Kimono Dragons (Y: The Last Man, #8)"
                                },
                                {
                                    "title": "Y: The Last Man, Vol. 5: Ring of Truth (Y: The Last Man, #5)"
                                },
                                {
                                    "title": "Y: The Last Man, Vol. 2: Cycles (Y: The Last Man, #2)"
                                },
                                {
                                    "title": "Y: The Last Man, Vol. 1: Unmanned"
                                },
                                {
                                    "title": "Y: The Last Man, Vol. 10: Whys and Wherefores (Y: The Last Man, #10)"
                                },
                                {
                                    "title": "Y: The Last Man - The Deluxe Edition Book One"
                                },
                                {
                                    "title": "Y: The Last Man, Vol. 3: One Small Step (Y: The Last Man, #3)"
                                },
                                {
                                    "title": "George Washington's Secret Six: The Spy Ring That Saved the American Revolution"
                                },
                                {
                                    "title": "Ultimate Spider-Man, Volume 1: Power and Responsibility"
                                },
                                {
                                    "title": "House of M"
                                },
                                {
                                    "title": "God's Smuggler"
                                },
                                {
                                    "title": "Secrets of the Vine: Breaking Through to Abundance"
                                },
                                {
                                    "title": "The Magic Mirror of M.C. Escher"
                                },
                                {
                                    "title": "Barbarians at the Gate: The Fall of RJR Nabisco"
                                },
                                {
                                    "title": "Raymond E. Feist's Magician Master"
                                },
                                {
                                    "title": "Avatar: The Last Airbender: The Lost Adventures"
                                },
                                {
                                    "title": "Seconds"
                                },
                                {
                                    "title": "Scott Pilgrim, Volume 4: Scott Pilgrim Gets It Together"
                                },
                                {
                                    "title": "Anne McCaffrey's Dragonflight #1"
                                },
                                {
                                    "title": "Loving What Is: Four Questions That Can Change Your Life"
                                },
                                {
                                    "title": "Memories, Dreams, Reflections"
                                },
                                {
                                    "title": "Man and His Symbols"
                                },
                                {
                                    "title": "The Chronicles of Narnia (Chronicles of Narnia, #1-7)"
                                },
                                {
                                    "title": "The Voyage of the Dawn Treader (Chronicles of Narnia, #3)"
                                },
                                {
                                    "title": "The Silver Chair (Chronicles of Narnia, #4)"
                                },
                                {
                                    "title": "The Preacher (Patrik Hedström, #2)"
                                },
                                {
                                    "title": "The Ice Princess (Patrik Hedström, #1)"
                                },
                                {
                                    "title": "The Hidden Child (Patrik Hedström, #5)"
                                },
                                {
                                    "title": "One Fifth Avenue"
                                },
                                {
                                    "title": "Snowmen at Night"
                                },
                                {
                                    "title": "All the President's Men"
                                },
                                {
                                    "title": "On Becoming a Person: A Therapist's View of Psychotherapy"
                                },
                                {
                                    "title": "The Demon-Haunted World: Science as a Candle in the Dark"
                                },
                                {
                                    "title": "Billions & Billions: Thoughts on Life and Death at the Brink of the Millennium"
                                },
                                {
                                    "title": "Pale Blue Dot: A Vision of the Human Future in Space"
                                },
                                {
                                    "title": "Pinocchio"
                                },
                                {
                                    "title": "The Angel's Game (The Cemetery of Forgotten Books, #2)"
                                },
                                {
                                    "title": "The Shadow of the Wind (The Cemetery of Forgotten Books,  #1)"
                                },
                                {
                                    "title": "The Prince of Mist (Niebla, #1)"
                                },
                                {
                                    "title": "The Midnight Palace (Niebla, #2)"
                                },
                                {
                                    "title": "Mistakes Were Made (But Not by Me): Why We Justify Foolish Beliefs, Bad Decisions, and Hurtful Acts"
                                },
                                {
                                    "title": "Escape"
                                },
                                {
                                    "title": "The Hidden Staircase (Nancy Drew #2)"
                                },
                                {
                                    "title": "The Secret of the Old Clock (Nancy Drew, #1)"
                                },
                                {
                                    "title": "As You Wish: Inconceivable Tales from the Making of The Princess Bride"
                                },
                                {
                                    "title": "The Infernal Devices: Clockwork Angel (The Infernal Devices: Manga, #1)"
                                },
                                {
                                    "title": "The Shadowhunter's Codex"
                                },
                                {
                                    "title": "Welcome to Shadowhunter Academy (Tales from the Shadowhunter Academy, #1)"
                                },
                                {
                                    "title": "What Really Happened in Peru (The Bane Chronicles, #1)"
                                },
                                {
                                    "title": "The Bane Chronicles"
                                },
                                {
                                    "title": "The Girl Who Circumnavigated Fairyland in a Ship of Her Own Making (Fairyland, #1)"
                                },
                                {
                                    "title": "El Deafo"
                                },
                                {
                                    "title": "Les Fleurs du Mal"
                                },
                                {
                                    "title": "Mutiny on the Bounty (The Bounty Trilogy, #1)"
                                },
                                {
                                    "title": "Oliver Twist"
                                },
                                {
                                    "title": "Little Dorrit"
                                },
                                {
                                    "title": "David Copperfield"
                                },
                                {
                                    "title": "A Christmas Carol, The Chimes and The Cricket on the Hearth"
                                },
                                {
                                    "title": "Nicholas Nickleby"
                                },
                                {
                                    "title": "A Christmas Carol and Other Christmas Writings"
                                },
                                {
                                    "title": "Bleak House"
                                },
                                {
                                    "title": "The Old Curiosity Shop"
                                },
                                {
                                    "title": "Martin Chuzzlewit"
                                },
                                {
                                    "title": "A Tale of Two Cities"
                                },
                                {
                                    "title": "Art in Theory 1900 - 2000: An Anthology of Changing Ideas"
                                },
                                {
                                    "title": "Villette"
                                },
                                {
                                    "title": "Shirley"
                                },
                                {
                                    "title": "Jane Eyre"
                                },
                                {
                                    "title": "The Yellow Wall-Paper"
                                },
                                {
                                    "title": "Lies That Chelsea Handler Told Me"
                                },
                                {
                                    "title": "Made to Stick: Why Some Ideas Survive and Others Die"
                                },
                                {
                                    "title": "Switch: How to Change Things When Change Is Hard"
                                },
                                {
                                    "title": "The Lord of the Rings: Weapons and Warfare"
                                },
                                {
                                    "title": "X-Men: The Dark Phoenix Saga"
                                },
                                {
                                    "title": "The Wishing Spell (The Land of Stories, #1)"
                                },
                                {
                                    "title": "The Enchantress Returns (The Land of Stories, #2)"
                                },
                                {
                                    "title": "A Grimm Warning (The Land of Stories, #3)"
                                },
                                {
                                    "title": "American Sniper: The Autobiography of the Most Lethal Sniper in U.S. Military History"
                                },
                                {
                                    "title": "The Complete Clive Barker's The Great And Secret Show"
                                },
                                {
                                    "title": "The Chronicles of Harris Burdick: 14 Amazing Authors Tell the Tales"
                                },
                                {
                                    "title": "Wir Kinder vom Bahnhof Zoo"
                                },
                                {
                                    "title": "Sex at Dawn: The Prehistoric Origins of Modern Sexuality"
                                },
                                {
                                    "title": "The Invisible Gorilla: And Other Ways Our Intuitions Deceive Us"
                                },
                                {
                                    "title": "The Portable Atheist: Essential Readings for the Nonbeliever"
                                },
                                {
                                    "title": "Island of the Sequined Love Nun"
                                },
                                {
                                    "title": "Ender's Game, Volume 1: Battle School (Ender's Saga)"
                                },
                                {
                                    "title": "Ender's Game, Volume 2: Command School"
                                },
                                {
                                    "title": "The Hobbit: Graphic Novel"
                                },
                                {
                                    "title": "The Five Chinese Brothers"
                                },
                                {
                                    "title": "Cardcaptor Sakura: Master of the Clow, Vol. 1 (Cardcaptor Sakura, #7)"
                                },
                                {
                                    "title": "Tsubasa: RESERVoir CHRoNiCLE, Vol. 01"
                                },
                                {
                                    "title": "Cardcaptor Sakura, Vol. 1 (Cardcaptor Sakura, #1)"
                                },
                                {
                                    "title": "Chobits, Vol. 1"
                                },
                                {
                                    "title": "xxxHolic, Vol. 1 (xxxHOLiC, #1)"
                                },
                                {
                                    "title": "The Second Assistant: A Tale from the Bottom of the Hollywood Ladder"
                                },
                                {
                                    "title": "How Will You Measure Your Life?"
                                },
                                {
                                    "title": "The Night Before Christmas"
                                },
                                {
                                    "title": "Mrs. Kennedy and Me: An Intimate Memoir"
                                },
                                {
                                    "title": "Pacific Vortex! (Dirk Pitt, #1)"
                                },
                                {
                                    "title": "Wildwood (Wildwood Chronicles, #1)"
                                },
                                {
                                    "title": "Never Never (Never Never, #1)"
                                },
                                {
                                    "title": "Never Never: Part Two (Never Never, #2)"
                                },
                                {
                                    "title": "Never Never: Part Three (Never Never, #3)"
                                },
                                {
                                    "title": "The Analects"
                                },
                                {
                                    "title": "The New Best Recipe"
                                },
                                {
                                    "title": "The Moonlit Garden"
                                },
                                {
                                    "title": "Inkspell (Inkworld, #2)"
                                },
                                {
                                    "title": "Inkheart (Inkworld, #1)"
                                },
                                {
                                    "title": "The Hiding Place: The Triumphant True Story of Corrie Ten Boom"
                                },
                                {
                                    "title": "In Real Life"
                                },
                                {
                                    "title": "My Lady Jane (The Lady Janies, #1)"
                                },
                                {
                                    "title": "The Relatives Came"
                                },
                                {
                                    "title": "Jesus Freaks: Stories of Those Who Stood for Jesus, the Ultimate Jesus Freaks (Jesus Freaks, #1)"
                                },
                                {
                                    "title": "The Rainbow"
                                },
                                {
                                    "title": "Lady Chatterley's Lover"
                                },
                                {
                                    "title": "Sons and Lovers"
                                },
                                {
                                    "title": "Balzac and the Little Chinese Seamstress"
                                },
                                {
                                    "title": "The Art of Happiness"
                                },
                                {
                                    "title": "It Starts with Food: Discover the Whole30 and Change Your Life in Unexpected Ways"
                                },
                                {
                                    "title": "The Death of Superman"
                                },
                                {
                                    "title": "A Game of Thrones: Comic Book, Issue 1"
                                },
                                {
                                    "title": "A Game of Thrones: The Graphic Novel, Vol. 1"
                                },
                                {
                                    "title": "The Talent Code: Unlocking the Secret of Skill in Sports, Art, Music, Math, and Just About Everything Else"
                                },
                                {
                                    "title": "Robinson Crusoe"
                                },
                                {
                                    "title": "Why We Broke Up"
                                },
                                {
                                    "title": "No One Here Gets Out Alive"
                                },
                                {
                                    "title": "The Divine Comedy"
                                },
                                {
                                    "title": "Inferno (The Divine Comedy #1)"
                                },
                                {
                                    "title": "Paradiso (The Divine Comedy, #3)"
                                },
                                {
                                    "title": "Purgatorio (The Divine Comedy, #2)"
                                },
                                {
                                    "title": "Rebecca"
                                },
                                {
                                    "title": "Why Nations Fail: The Origins of Power, Prosperity, and Poverty"
                                },
                                {
                                    "title": "DC: The New Frontier, Volume 1"
                                },
                                {
                                    "title": "The Adventures of Ook and Gluk, Kung-Fu Cavemen from the Future"
                                },
                                {
                                    "title": "Longitude: The True Story of a Lone Genius Who Solved the Greatest Scientific Problem of His Time"
                                },
                                {
                                    "title": "Peter and the Secret of Rundoon (Peter and the Starcatchers, #3)"
                                },
                                {
                                    "title": "Peter and the Starcatchers (Peter and the Starcatchers, #1)"
                                },
                                {
                                    "title": "Peter and the Shadow Thieves (Peter and the Starcatchers, #2)"
                                },
                                {
                                    "title": "Grain Brain: The Surprising Truth about Wheat, Carbs,  and Sugar--Your Brain's Silent Killers"
                                },
                                {
                                    "title": "Icebound"
                                },
                                {
                                    "title": "Harry Potter and Philosophy: If Aristotle Ran Hogwarts"
                                },
                                {
                                    "title": "Art and Fear: Observations on the Perils (and Rewards) of Artmaking"
                                },
                                {
                                    "title": "Wicked: The Grimmerie"
                                },
                                {
                                    "title": "Polgara the Sorceress (Malloreon)"
                                },
                                {
                                    "title": "Belgarath the Sorcerer"
                                },
                                {
                                    "title": "The Redemption of Althalus"
                                },
                                {
                                    "title": "Franz Kafka's The Castle (Dramatization)"
                                },
                                {
                                    "title": "The Pale King"
                                },
                                {
                                    "title": "The Girl in the Spider's Web (Millennium, #4)"
                                },
                                {
                                    "title": "Squirrel Seeks Chipmunk: A Modest Bestiary"
                                },
                                {
                                    "title": "The Cross and the Switchblade"
                                },
                                {
                                    "title": "Fix-It and Forget-It Cookbook: Feasting with Your Slow Cooker"
                                },
                                {
                                    "title": "City of Night (Dean Koontz's Frankenstein, #2)"
                                },
                                {
                                    "title": "Seize the Night (Moonlight Bay, #2)"
                                },
                                {
                                    "title": "Dean Koontz's Frankenstein, Volume 1: Prodigal Son"
                                },
                                {
                                    "title": "Prodigal Son (Dean Koontz's Frankenstein, #1)"
                                },
                                {
                                    "title": "Cold Fire / Hideaway / The Key to Midnight"
                                },
                                {
                                    "title": "Is Your Mama a Llama?"
                                },
                                {
                                    "title": "Train Dreams"
                                },
                                {
                                    "title": "Skulduggery Pleasant (Skulduggery Pleasant, #1)"
                                },
                                {
                                    "title": "Ancestors of Avalon (Avalon, #5)"
                                },
                                {
                                    "title": "Diane Arbus: Monograph"
                                },
                                {
                                    "title": "The Monkey's Paw (Oxford Bookworms)"
                                },
                                {
                                    "title": "The Little Red Hen (Little Golden Book)"
                                },
                                {
                                    "title": "Babe: The Gallant Pig"
                                },
                                {
                                    "title": "The New Bedside, Bathtub and Armchair Companion to Agatha Christie"
                                },
                                {
                                    "title": "Beyond Band of Brothers: The War Memoirs of Major Dick Winters"
                                },
                                {
                                    "title": "Metro 2033 (METRO, #1)"
                                },
                                {
                                    "title": "The 101 Dalmatians (The Hundred and One Dalmatians, #1)"
                                },
                                {
                                    "title": "The Little Mouse, the Red Ripe Strawberry, and the Big Hungry Bear"
                                },
                                {
                                    "title": "Falling Man"
                                },
                                {
                                    "title": "90 Minutes in Heaven: A True Story of Death and Life"
                                },
                                {
                                    "title": "Ox-Cart Man (Picture Puffin)"
                                },
                                {
                                    "title": "Trump: The Art of the Deal"
                                },
                                {
                                    "title": "Giggle, Giggle, Quack"
                                },
                                {
                                    "title": "Click, Clack, Moo: Cows That Type"
                                },
                                {
                                    "title": "Diary of a Worm"
                                },
                                {
                                    "title": "Baking: From My Home to Yours"
                                },
                                {
                                    "title": "Team of Rivals: The Political Genius of Abraham Lincoln"
                                },
                                {
                                    "title": "Batman: Knightfall, Vol. 1: Broken Bat"
                                },
                                {
                                    "title": "Last Chance to See"
                                },
                                {
                                    "title": "White Fire (Pendergast, #13)"
                                },
                                {
                                    "title": "Cold Vengeance (Pendergast, #11)"
                                },
                                {
                                    "title": "The Ice Limit (Ice Limit #1)"
                                },
                                {
                                    "title": "Two Graves (Pendergast, #12)"
                                },
                                {
                                    "title": "Riptide"
                                },
                                {
                                    "title": "Gideon's Sword (Gideon Crew, #1)"
                                },
                                {
                                    "title": "Mount Dragon"
                                },
                                {
                                    "title": "Blue Labyrinth (Pendergast, #14)"
                                },
                                {
                                    "title": "The Wheel of Darkness (Pendergast, #8)"
                                },
                                {
                                    "title": "Cemetery Dance (Pendergast, #9)"
                                },
                                {
                                    "title": "The Book of the Dead (Pendergast, #7; Diogenes, #3)"
                                },
                                {
                                    "title": "Fever Dream (Pendergast, #10)"
                                },
                                {
                                    "title": "Still Life With Crows (Pendergast, #4)"
                                },
                                {
                                    "title": "Thunderhead"
                                },
                                {
                                    "title": "Dance of Death (Pendergast, #6; Diogenes, #2)"
                                },
                                {
                                    "title": "Brimstone (Pendergast, #5; Diogenes, #1)"
                                },
                                {
                                    "title": "The Cabinet of Curiosities (Pendergast, #3)"
                                },
                                {
                                    "title": "Reliquary (Pendergast, #2)"
                                },
                                {
                                    "title": "Relic (Pendergast, #1)"
                                },
                                {
                                    "title": "Crimson Shore (Pendergast, #15)"
                                },
                                {
                                    "title": "The Monster of Florence"
                                },
                                {
                                    "title": "The Secret Art of Dr. Seuss"
                                },
                                {
                                    "title": "In a People House"
                                },
                                {
                                    "title": "The Cat in the Hat and Other Dr. Seuss Favorites"
                                },
                                {
                                    "title": "Green Eggs and Ham"
                                },
                                {
                                    "title": "The Day the Crayons Quit"
                                },
                                {
                                    "title": "Of Course I Love You...! Till I Find Someone Better..."
                                },
                                {
                                    "title": "The Trumpet of the Swan"
                                },
                                {
                                    "title": "Stuart Little"
                                },
                                {
                                    "title": "Charlotte's Web"
                                },
                                {
                                    "title": "Selected Poems"
                                },
                                {
                                    "title": "A Little History of the World"
                                },
                                {
                                    "title": "A Passage to India"
                                },
                                {
                                    "title": "Batman: The Man Who Laughs"
                                },
                                {
                                    "title": "Creativity, Inc.: Overcoming the Unseen Forces That Stand in the Way of True Inspiration"
                                },
                                {
                                    "title": "Essential Tales and Poems"
                                },
                                {
                                    "title": "The Tell-Tale Heart"
                                },
                                {
                                    "title": "The Raven"
                                },
                                {
                                    "title": "The Raven and other poems"
                                },
                                {
                                    "title": "The Fall of the House of Usher and Other Tales "
                                },
                                {
                                    "title": "A Princess of Mars (Barsoom, #1)"
                                },
                                {
                                    "title": "The Nazi Officer's Wife: How One Jewish Woman Survived the Holocaust"
                                },
                                {
                                    "title": "Mythology: Timeless Tales of Gods and Heroes"
                                },
                                {
                                    "title": "Ethan Frome and Other Short Fiction"
                                },
                                {
                                    "title": "The Age of Innocence"
                                },
                                {
                                    "title": "The House of Mirth"
                                },
                                {
                                    "title": "Cyrano de Bergerac"
                                },
                                {
                                    "title": "The Faerie Queene "
                                },
                                {
                                    "title": "Tangerine"
                                },
                                {
                                    "title": "Half Magic (Tales of Magic, #1)"
                                },
                                {
                                    "title": "The Decline and Fall of the Roman Empire"
                                },
                                {
                                    "title": "Flatland: A Romance of Many Dimensions"
                                },
                                {
                                    "title": "One Piece, Volume 01: Romance Dawn (One Piece, #1)"
                                },
                                {
                                    "title": "Musashi"
                                },
                                {
                                    "title": "Sadako and the Thousand Paper Cranes"
                                },
                                {
                                    "title": "The Hundred Dresses"
                                },
                                {
                                    "title": "My Brilliant Friend (The Neapolitan Novels #1)"
                                },
                                {
                                    "title": "Those Who Leave and Those Who Stay (The Neapolitan Novels #3)"
                                },
                                {
                                    "title": "The Story of a New Name (The Neapolitan Novels #2)"
                                },
                                {
                                    "title": "The Story of the Lost Child (The Neapolitan Novels, #4)"
                                },
                                {
                                    "title": "Night (The Night Trilogy #1)"
                                },
                                {
                                    "title": "The Forty Rules of Love"
                                },
                                {
                                    "title": "Stolen Innocence: My Story of Growing Up in a Polygamous Sect, Becoming a Teenage Bride, and Breaking Free of Warren Jeffs"
                                },
                                {
                                    "title": "The Goal: A Process of Ongoing Improvement"
                                },
                                {
                                    "title": "My Story"
                                },
                                {
                                    "title": "North and South"
                                },
                                {
                                    "title": "Wives and Daughters"
                                },
                                {
                                    "title": "Mary Barton"
                                },
                                {
                                    "title": "The Three Little Pigs"
                                },
                                {
                                    "title": "My Name Is Lucy Barton"
                                },
                                {
                                    "title": "Henry's Freedom Box: A True Story from the Underground Railroad"
                                },
                                {
                                    "title": "A Kiss for Little Bear (An I Can Read Book) by Minarik, Else Holmelund [1984]"
                                },
                                {
                                    "title": "Little Bear's Friend"
                                },
                                {
                                    "title": "Little Bear"
                                },
                                {
                                    "title": "Thérèse Raquin"
                                },
                                {
                                    "title": "Germinal (Les Rougon-Macquart, #13)"
                                },
                                {
                                    "title": "When I'm Gone"
                                },
                                {
                                    "title": "Wuthering Heights"
                                },
                                {
                                    "title": "The Complete Poems of Emily Dickinson"
                                },
                                {
                                    "title": "The Nanny Diaries (Nanny, #1)"
                                },
                                {
                                    "title": "Lassie Come-Home"
                                },
                                {
                                    "title": "Pete the Cat: I Love My White Shoes"
                                },
                                {
                                    "title": "How Google Works"
                                },
                                {
                                    "title": "Oz: The Wonderful Wizard of Oz"
                                },
                                {
                                    "title": "The Bourne Objective (Jason Bourne, #8)"
                                },
                                {
                                    "title": "The Art of Loving"
                                },
                                {
                                    "title": "All Quiet on the Western Front"
                                },
                                {
                                    "title": "The Devil in the White City: Murder, Magic, and Madness at the Fair That Changed America"
                                },
                                {
                                    "title": "The Freedom Writers Diary"
                                },
                                {
                                    "title": "Paper Princess (The Royals, #1)"
                                },
                                {
                                    "title": "Naïve. Super"
                                },
                                {
                                    "title": "The Motorcycle Diaries: Notes on a Latin American Journey"
                                },
                                {
                                    "title": "Tobacco Road (Brown Thrasher Books)"
                                },
                                {
                                    "title": "This Star Won't Go Out: The Life and Words of Esther Grace Earl"
                                },
                                {
                                    "title": "Johnny Tremain"
                                },
                                {
                                    "title": "The Law of Attraction: The Basics of the Teachings of Abraham"
                                },
                                {
                                    "title": "Money, and the Law of Attraction: Learning to Attract Wealth, Health, and Happiness"
                                },
                                {
                                    "title": "Ask and It Is Given: Learning to Manifest Your Desires"
                                },
                                {
                                    "title": "With the Old Breed: At Peleliu and Okinawa"
                                },
                                {
                                    "title": "Pinocchio"
                                },
                                {
                                    "title": "Peter Pan (A Little Golden Book)"
                                },
                                {
                                    "title": "Medea"
                                },
                                {
                                    "title": "The Vagina Monologues"
                                },
                                {
                                    "title": "The Short Stories"
                                },
                                {
                                    "title": "Daytripper"
                                },
                                {
                                    "title": "Anne Rice's The Vampire Lestat: A Graphic Novel"
                                },
                                {
                                    "title": "Anne Rice's The Tale of the Body Thief (A Graphic Novel)"
                                },
                                {
                                    "title": "La casa de Bernarda Alba"
                                },
                                {
                                    "title": "You're Never Weird on the Internet (Almost)"
                                },
                                {
                                    "title": "Bambi"
                                },
                                {
                                    "title": "The Book of Disquiet"
                                },
                                {
                                    "title": "Everything That Rises Must Converge: Stories"
                                },
                                {
                                    "title": "The Good Soldier"
                                },
                                {
                                    "title": "A Little Princess"
                                },
                                {
                                    "title": "A Voice in the Wind (Mark of the Lion, #1)"
                                },
                                {
                                    "title": "Forgotten God: Reversing Our Tragic Neglect of the Holy Spirit"
                                },
                                {
                                    "title": "Crazy Love: Overwhelmed by a Relentless God"
                                },
                                {
                                    "title": "Hector and the Search for Happiness"
                                },
                                {
                                    "title": "Gargantua and Pantagruel"
                                },
                                {
                                    "title": "Cheaper by the Dozen"
                                },
                                {
                                    "title": "House"
                                },
                                {
                                    "title": "Batman: Year One"
                                },
                                {
                                    "title": "Batman: The Dark Knight Returns (The Dark Knight Saga, #1)"
                                },
                                {
                                    "title": "300"
                                },
                                {
                                    "title": "Batman: The Dark Knight Strikes Again (The Dark Knight Saga, #2)"
                                },
                                {
                                    "title": "Catch Me If You Can: The True Story of a Real Fake"
                                },
                                {
                                    "title": "The Wretched of the Earth"
                                },
                                {
                                    "title": "The Trial"
                                },
                                {
                                    "title": "The Metamorphosis and Other Stories"
                                },
                                {
                                    "title": "The Castle"
                                },
                                {
                                    "title": "The Complete Stories"
                                },
                                {
                                    "title": "The Metamorphosis"
                                },
                                {
                                    "title": "Amerika"
                                },
                                {
                                    "title": "A Man Called Ove"
                                },
                                {
                                    "title": "My Grandmother Asked Me to Tell You She's Sorry"
                                },
                                {
                                    "title": "Britt-Marie Was Here"
                                },
                                {
                                    "title": "The Diary of Frida Kahlo: An Intimate Self-Portrait"
                                },
                                {
                                    "title": "On the Genealogy of Morals"
                                },
                                {
                                    "title": "The Anti-Christ"
                                },
                                {
                                    "title": "Beyond Good and Evil"
                                },
                                {
                                    "title": "Thus Spoke Zarathustra"
                                },
                                {
                                    "title": "The Gay Science"
                                },
                                {
                                    "title": "On the Genealogy of Morals/Ecce Homo"
                                },
                                {
                                    "title": "Notes from Underground, White Nights, The Dream of a Ridiculous Man, and Selections from The House of the Dead"
                                },
                                {
                                    "title": "Notes from Underground"
                                },
                                {
                                    "title": "The Idiot"
                                },
                                {
                                    "title": "The Gambler"
                                },
                                {
                                    "title": "Crime and Punishment"
                                },
                                {
                                    "title": "The House of the Dead"
                                },
                                {
                                    "title": "The Brothers Karamazov"
                                },
                                {
                                    "title": "Demons"
                                },
                                {
                                    "title": "Ms. Marvel, Vol. 1: No Normal"
                                },
                                {
                                    "title": "Ms. Marvel, Vol. 2: Generation Why"
                                },
                                {
                                    "title": "The Man Who Was Thursday: A Nightmare"
                                },
                                {
                                    "title": "Love in the Time of Cholera"
                                },
                                {
                                    "title": "Memories of My Melancholy Whores"
                                },
                                {
                                    "title": "The General in His Labyrinth"
                                },
                                {
                                    "title": "The Autumn of the Patriarch"
                                },
                                {
                                    "title": "Chronicle of a Death Foretold"
                                },
                                {
                                    "title": "One Hundred Years of Solitude"
                                },
                                {
                                    "title": "Innocent Erendira and Other Stories"
                                },
                                {
                                    "title": "No One Writes to the Colonel and Other Stories"
                                },
                                {
                                    "title": "The Story of a Shipwrecked Sailor"
                                },
                                {
                                    "title": "Preacher, Volume 7: Salvation"
                                },
                                {
                                    "title": "Preacher, Volume 9: Alamo"
                                },
                                {
                                    "title": "Preacher, Volume 5: Dixie Fried"
                                },
                                {
                                    "title": "Preacher, Volume 2: Until the End of the World"
                                },
                                {
                                    "title": "Preacher, Volume 1: Gone to Texas"
                                },
                                {
                                    "title": "Preacher, Volume 8: All Hell's a-Coming"
                                },
                                {
                                    "title": "Preacher, Volume 3: Proud Americans"
                                },
                                {
                                    "title": "Preacher, Volume 6: War in the Sun"
                                },
                                {
                                    "title": "Preacher, Volume 4: Ancient History"
                                },
                                {
                                    "title": "The Five Love Languages of Children"
                                },
                                {
                                    "title": "The One Thing: The Surprisingly Simple Truth Behind Extraordinary Results"
                                },
                                {
                                    "title": "The Phantom of the Opera"
                                },
                                {
                                    "title": "The Phoenix Project: A Novel About IT, DevOps, and Helping Your Business Win"
                                },
                                {
                                    "title": "Avatar: The Last Airbender (The Search, #1)"
                                },
                                {
                                    "title": "Avatar: The Last Airbender (The Promise, #1)"
                                },
                                {
                                    "title": "Avatar: The Last Airbender (The Rift, #1)"
                                },
                                {
                                    "title": "Avatar: The Last Airbender (The Promise, #2)"
                                },
                                {
                                    "title": "Harry the Dirty Dog"
                                },
                                {
                                    "title": "Batman: Earth One, Volume 1"
                                },
                                {
                                    "title": "Crossing the Chasm: Marketing and Selling High-Tech Products to Mainstream Customers"
                                },
                                {
                                    "title": "The Canterbury Tales"
                                },
                                {
                                    "title": "The Legend of Sleepy Hollow and Other Stories"
                                },
                                {
                                    "title": "Phenomenology of Spirit"
                                },
                                {
                                    "title": "Pygmalion & My Fair Lady"
                                },
                                {
                                    "title": "Pygmalion and Three Other Plays"
                                },
                                {
                                    "title": "The Complete Phantom of the Opera"
                                },
                                {
                                    "title": "Last Words"
                                },
                                {
                                    "title": "The Mill on the Floss"
                                },
                                {
                                    "title": "Daniel Deronda"
                                },
                                {
                                    "title": "Adam Bede"
                                },
                                {
                                    "title": "Middlemarch"
                                },
                                {
                                    "title": "Selected Poems"
                                },
                                {
                                    "title": "The Princess and the Goblin  (Princess Irene and Curdie, #1)"
                                },
                                {
                                    "title": "Animal Farm / 1984"
                                },
                                {
                                    "title": "1984"
                                },
                                {
                                    "title": "Homage to Catalonia"
                                },
                                {
                                    "title": "The World of Ice & Fire: The Untold History of Westeros and the Game of Thrones"
                                },
                                {
                                    "title": "Rogues"
                                },
                                {
                                    "title": "A Knight of the Seven Kingdoms (The Tales of Dunk and Egg, #1-3)"
                                },
                                {
                                    "title": "The Cricket in Times Square"
                                },
                                {
                                    "title": "Story of the Eye"
                                },
                                {
                                    "title": "My Family and Other Animals (Corfu Trilogy, #1)"
                                },
                                {
                                    "title": "The Umbrella Academy, Vol. 1: The Apocalypse Suite"
                                },
                                {
                                    "title": "The Boxcar Children (The Boxcar Children, #1)"
                                },
                                {
                                    "title": "Giada's Family Dinners"
                                },
                                {
                                    "title": "Giraffes Can't Dance"
                                },
                                {
                                    "title": "Just Me in the Tub (Mercer Mayer's Little Critter)"
                                },
                                {
                                    "title": "The Lives of the Artists"
                                },
                                {
                                    "title": "The Decameron"
                                },
                                {
                                    "title": "Gut: The Inside Story of Our Body’s Most Underrated Organ"
                                },
                                {
                                    "title": "The Leopard"
                                },
                                {
                                    "title": "Horrorstör"
                                },
                                {
                                    "title": "Brighton Rock"
                                },
                                {
                                    "title": "The Power and the Glory"
                                },
                                {
                                    "title": "The End of the Affair"
                                },
                                {
                                    "title": "The Quiet American"
                                },
                                {
                                    "title": "Batman and Son"
                                },
                                {
                                    "title": "Batman: Arkham Asylum - A Serious House on Serious Earth"
                                },
                                {
                                    "title": "All-Star Superman, Vol. 1"
                                },
                                {
                                    "title": "All-Star Superman, Vol. 2"
                                },
                                {
                                    "title": "We3"
                                },
                                {
                                    "title": "Batman & Robin: Batman Reborn"
                                },
                                {
                                    "title": "He's Just Not That Into You: The No-Excuses Truth to Understanding Guys"
                                },
                                {
                                    "title": "Three Cups of Tea: One Man's Mission to Promote Peace ... One School at a Time"
                                },
                                {
                                    "title": "Stones Into Schools: Promoting Peace With Books, Not Bombs, in Afghanistan and Pakistan"
                                },
                                {
                                    "title": "The Incredible Hulk: Planet Hulk"
                                },
                                {
                                    "title": "Batwoman: Elegy"
                                },
                                {
                                    "title": "Son of a Witch (The Wicked Years, #2)"
                                },
                                {
                                    "title": "Wicked: The Life and Times of the Wicked Witch of the West (The Wicked Years, #1)"
                                },
                                {
                                    "title": "Lost"
                                },
                                {
                                    "title": "Out of Oz (The Wicked Years, #4)"
                                },
                                {
                                    "title": "A Lion Among Men (The Wicked Years, #3)"
                                },
                                {
                                    "title": "Happier at Home: Kiss More, Jump More, Abandon a Project, Read Samuel Johnson, and My Other Experiments in the Practice of Everyday Life"
                                },
                                {
                                    "title": "The Strain (The Strain Trilogy, #1)"
                                },
                                {
                                    "title": "The Night Eternal (The Strain Trilogy, #3)"
                                },
                                {
                                    "title": "The Fall (The Strain Trilogy, #2)"
                                },
                                {
                                    "title": "Madame Bovary"
                                },
                                {
                                    "title": "Sentimental Education"
                                },
                                {
                                    "title": "Bel-Ami"
                                },
                                {
                                    "title": "The Society of the Spectacle"
                                },
                                {
                                    "title": "The Time Machine/The Invisible Man"
                                },
                                {
                                    "title": "The War of the Worlds"
                                },
                                {
                                    "title": "The Time Machine"
                                },
                                {
                                    "title": "The Best of H.P. Lovecraft: Bloodcurdling Tales of Horror and the Macabre"
                                },
                                {
                                    "title": "At the Mountains of Madness"
                                },
                                {
                                    "title": "Necronomicon: The Best Weird Tales"
                                },
                                {
                                    "title": "The Call of Cthulhu and Other Weird Stories"
                                },
                                {
                                    "title": "History of Art"
                                },
                                {
                                    "title": "Attack on Titan: No Regrets, Volume 01"
                                },
                                {
                                    "title": "Attack on Titan, Vol. 1 (Attack on Titan, #1)"
                                },
                                {
                                    "title": "The Vegetarian"
                                },
                                {
                                    "title": "I Never Promised You a Rose Garden"
                                },
                                {
                                    "title": "The Ugly Duckling"
                                },
                                {
                                    "title": "The Complete Fairy Tales"
                                },
                                {
                                    "title": "The Little Mermaid"
                                },
                                {
                                    "title": "The Little Match Girl"
                                },
                                {
                                    "title": "Every Man Dies Alone"
                                },
                                {
                                    "title": "Kurt Vonnegut's Cat's Cradle (Modern Critical Interpretations)"
                                },
                                {
                                    "title": "We Were Soldiers Once... and Young: Ia Drang - The Battle that Changed the War in Vietnam"
                                },
                                {
                                    "title": "Miss Nelson Is Back (Miss Nelson, #2)"
                                },
                                {
                                    "title": "Miss Nelson Is Missing! (Miss Nelson, #1)"
                                },
                                {
                                    "title": "Hard-Boiled Wonderland and the End of the World"
                                },
                                {
                                    "title": "A Wild Sheep Chase (The Rat, #3)"
                                },
                                {
                                    "title": "Underground: The Tokyo Gas Attack and the Japanese Psyche"
                                },
                                {
                                    "title": "After Dark"
                                },
                                {
                                    "title": "The Wind-Up Bird Chronicle"
                                },
                                {
                                    "title": "Norwegian Wood"
                                },
                                {
                                    "title": "After the Quake"
                                },
                                {
                                    "title": "1Q84 #1-2 (1Q84, #1-2)"
                                },
                                {
                                    "title": "The Elephant Vanishes"
                                },
                                {
                                    "title": "1Q84"
                                },
                                {
                                    "title": "Colorless Tsukuru Tazaki and His Years of Pilgrimage"
                                },
                                {
                                    "title": "Kafka on the Shore"
                                },
                                {
                                    "title": "Sputnik Sweetheart"
                                },
                                {
                                    "title": "South of the Border, West of the Sun"
                                },
                                {
                                    "title": "What I Talk About When I Talk About Running"
                                },
                                {
                                    "title": "Blind Willow, Sleeping Woman"
                                },
                                {
                                    "title": "The Strange Library"
                                },
                                {
                                    "title": "1Q84 BOOK 1 (1Q84, #1)"
                                },
                                {
                                    "title": "1Q84 BOOK 3 (1Q84, #3)"
                                },
                                {
                                    "title": "Diary ng Panget"
                                },
                                {
                                    "title": "The Royal We"
                                },
                                {
                                    "title": "What to Expect When You're Expecting"
                                },
                                {
                                    "title": "What to Expect the First Year (What to Expect)"
                                },
                                {
                                    "title": "عقاید یک دلقک"
                                },
                                {
                                    "title": "Art Through the Ages "
                                },
                                {
                                    "title": "A Fish Out of Water"
                                },
                                {
                                    "title": "Firewall (Wallander, #8)"
                                },
                                {
                                    "title": "One Step Behind  (Kurt Wallander, #7)"
                                },
                                {
                                    "title": "The White Lioness (Kurt Wallander, #3)"
                                },
                                {
                                    "title": "The Troubled Man (Kurt Wallander, #10)"
                                },
                                {
                                    "title": "The Man Who Smiled (Kurt Wallander, #4)"
                                },
                                {
                                    "title": "The Dogs of Riga (Kurt Wallander, #2)"
                                },
                                {
                                    "title": "The Man from Beijing"
                                },
                                {
                                    "title": "Sidetracked (Kurt Wallander, #5)"
                                },
                                {
                                    "title": "The Fifth Woman (Kurt Wallander, #6)"
                                },
                                {
                                    "title": "Faceless Killers (Kurt Wallander, #1)"
                                },
                                {
                                    "title": "A Doll's House"
                                },
                                {
                                    "title": "Hedda Gabler"
                                },
                                {
                                    "title": "Boundaries: When to Say Yes, How to Say No to Take Control of Your Life"
                                },
                                {
                                    "title": "Walden & Civil Disobedience"
                                },
                                {
                                    "title": "The History of Tom Jones, a Foundling"
                                },
                                {
                                    "title": "The Wings of the Dove"
                                },
                                {
                                    "title": "Washington Square"
                                },
                                {
                                    "title": "The Portrait of a Lady"
                                },
                                {
                                    "title": "Experiencing God: Knowing and Doing the Will of God, Workbook"
                                },
                                {
                                    "title": "Quo Vadis"
                                },
                                {
                                    "title": "Tintin in the Land of the Soviets (Tintin #1)"
                                },
                                {
                                    "title": "Tintin in Tibet (Tintin, #20)"
                                },
                                {
                                    "title": "The Dinner"
                                },
                                {
                                    "title": "Moby-Dick or, The Whale"
                                },
                                {
                                    "title": "Calling Doctor Amelia Bedelia"
                                },
                                {
                                    "title": "Steppenwolf"
                                },
                                {
                                    "title": "Siddhartha"
                                },
                                {
                                    "title": "The Glass Bead Game"
                                },
                                {
                                    "title": "Narcissus and Goldmund"
                                },
                                {
                                    "title": "The Histories"
                                },
                                {
                                    "title": "Press Here"
                                },
                                {
                                    "title": "Fairy Tail, Vol. 1 (Fairy Tail, #1)"
                                },
                                {
                                    "title": "Fullmetal Alchemist, Vol. 1 (Fullmetal Alchemist, #1)"
                                },
                                {
                                    "title": "All You Need Is Kill"
                                },
                                {
                                    "title": "Hana-Kimi, Vol. 1 (Hana-Kimi, #1)"
                                },
                                {
                                    "title": "The Iron Trial (Magisterium, #1)"
                                },
                                {
                                    "title": "Doll Bones"
                                },
                                {
                                    "title": "The Ironwood Tree (The Spiderwick Chronicles, #4)"
                                },
                                {
                                    "title": "Lucinda's Secret (The Spiderwick Chronicles, #3)"
                                },
                                {
                                    "title": "The Seeing Stone (The Spiderwick Chronicles, #2)"
                                },
                                {
                                    "title": "The Wrath of Mulgarath (The Spiderwick Chronicles, #5)"
                                },
                                {
                                    "title": "The Field Guide (The Spiderwick Chronicles, #1)"
                                },
                                {
                                    "title": "The Iliad/The Odyssey"
                                },
                                {
                                    "title": "The Odyssey"
                                },
                                {
                                    "title": "The Iliad"
                                },
                                {
                                    "title": "Eugénie Grandet"
                                },
                                {
                                    "title": "A Wrinkle in Time: The Graphic Novel"
                                },
                                {
                                    "title": "My Lobotomy"
                                },
                                {
                                    "title": "SEAL Team Six: Memoirs of an Elite Navy SEAL Sniper"
                                },
                                {
                                    "title": "Onward: How Starbucks Fought for Its Life without Losing Its Soul"
                                },
                                {
                                    "title": "Requiem for a Dream"
                                },
                                {
                                    "title": "Last Exit to Brooklyn"
                                },
                                {
                                    "title": "The Story of Doctor Dolittle (Doctor Dolittle, #1)"
                                },
                                {
                                    "title": "The Voyages of Doctor Dolittle (Doctor Dolittle, #2)"
                                },
                                {
                                    "title": "Fear and Loathing in Las Vegas"
                                },
                                {
                                    "title": "The Rule of Four"
                                },
                                {
                                    "title": "The Picture of Dorian Gray: A Graphic Novel"
                                },
                                {
                                    "title": "Knots and Crosses (Inspector Rebus, #1)"
                                },
                                {
                                    "title": "حوجن [Ḥawjan]"
                                },
                                {
                                    "title": "The Twelve Chairs"
                                },
                                {
                                    "title": "Left to Tell: Discovering God Amidst the Rwandan Holocaust"
                                },
                                {
                                    "title": "Groundwork of the Metaphysics of Morals"
                                },
                                {
                                    "title": "Critique of Pure Reason"
                                },
                                {
                                    "title": "Barefoot Contessa Family Style: Easy Ideas and Recipes That Make Everyone Feel Like Family"
                                },
                                {
                                    "title": "The Barefoot Contessa Cookbook"
                                },
                                {
                                    "title": "Barefoot Contessa Back to Basics"
                                },
                                {
                                    "title": "Barefoot Contessa at Home: Everyday Recipes You'll Make Over and Over Again"
                                },
                                {
                                    "title": "Barefoot in Paris"
                                },
                                {
                                    "title": "Cunt: A Declaration of Independence"
                                },
                                {
                                    "title": "Suite Française"
                                },
                                {
                                    "title": "Notorious RBG: The Life and Times of Ruth Bader Ginsburg"
                                },
                                {
                                    "title": "The Sea, the Sea"
                                },
                                {
                                    "title": "The Joy of Cooking"
                                },
                                {
                                    "title": "The Gift of Therapy: An Open Letter to a New Generation of Therapists and Their Patients"
                                },
                                {
                                    "title": "Trainspotting"
                                },
                                {
                                    "title": "The Agony and the Ecstasy"
                                },
                                {
                                    "title": "Veganomicon: The Ultimate Vegan Cookbook"
                                },
                                {
                                    "title": "Vegan Cupcakes Take Over the World: 75 Dairy-Free Recipes for Cupcakes that Rule"
                                },
                                {
                                    "title": "The Last Question"
                                },
                                {
                                    "title": "Nightfall"
                                },
                                {
                                    "title": "Maya's Notebook"
                                },
                                {
                                    "title": "The House of the Spirits"
                                },
                                {
                                    "title": "Daughter of Fortune"
                                },
                                {
                                    "title": "Eva Luna"
                                },
                                {
                                    "title": "Portrait in Sepia"
                                },
                                {
                                    "title": "Island Beneath the Sea"
                                },
                                {
                                    "title": "Inés of My Soul"
                                },
                                {
                                    "title": "Zorro"
                                },
                                {
                                    "title": "City of the Beasts (Eagle and Jaguar, #1)"
                                },
                                {
                                    "title": "Of Love and Shadows"
                                },
                                {
                                    "title": "The Japanese Lover"
                                },
                                {
                                    "title": "Ripper"
                                },
                                {
                                    "title": "Out of Africa"
                                },
                                {
                                    "title": "The Baron in the Trees"
                                },
                                {
                                    "title": "If on a Winter's Night a Traveler"
                                },
                                {
                                    "title": "Invisible Cities"
                                },
                                {
                                    "title": "Cosmicomics"
                                },
                                {
                                    "title": "Oblomov"
                                },
                                {
                                    "title": "Fathers and Sons"
                                },
                                {
                                    "title": "Wait for You (Wait for You, #1)"
                                },
                                {
                                    "title": "Tempting the Best Man (Gamble Brothers, #1)"
                                },
                                {
                                    "title": "Stay with Me (Wait for You, #3)"
                                },
                                {
                                    "title": "Frigid (Frigid, #1)"
                                },
                                {
                                    "title": "Be with Me (Wait for You, #2)"
                                },
                                {
                                    "title": "Trust in Me (Wait for You, #1.5)"
                                },
                                {
                                    "title": "Tempting the Player (Gamble Brothers, #2)"
                                },
                                {
                                    "title": "Superman: Earth One, Volume 1"
                                },
                                {
                                    "title": "Judgment in Death (In Death, #11)"
                                },
                                {
                                    "title": "Betrayal in Death (In Death, #12)"
                                },
                                {
                                    "title": "Treachery in Death (In Death, #32)"
                                },
                                {
                                    "title": "Witness in Death (In Death, #10)"
                                },
                                {
                                    "title": "Loyalty in Death (In Death, #9)"
                                },
                                {
                                    "title": "Born in Death (In Death, #23)"
                                },
                                {
                                    "title": "New York to Dallas (In Death, #33)"
                                },
                                {
                                    "title": "Rapture in Death (In Death, #4)"
                                },
                                {
                                    "title": "S."
                                },
                                {
                                    "title": "Very Good Lives: The Fringe Benefits of Failure and the Importance of Imagination"
                                },
                                {
                                    "title": "Harry Potter and the Sorcerer's Stone (Harry Potter, #1)"
                                },
                                {
                                    "title": "Harry Potter and the Order of the Phoenix (Harry Potter, #5)"
                                },
                                {
                                    "title": "Harry Potter and the Half-Blood Prince (Harry Potter, #6)"
                                },
                                {
                                    "title": "Harry Potter and the Chamber of Secrets (Harry Potter, #2)"
                                },
                                {
                                    "title": "Harry Potter and the Goblet of Fire (Harry Potter, #4)"
                                },
                                {
                                    "title": "Harry Potter and the Deathly Hallows (Harry Potter, #7)"
                                },
                                {
                                    "title": "The Harry Potter Collection 1-4 (Harry Potter, #1-4)"
                                },
                                {
                                    "title": "Harry Potter Boxed Set, Books 1-5 (Harry Potter, #1-5)"
                                },
                                {
                                    "title": "Harry Potter and the Prisoner of Azkaban (Harry Potter, #3)"
                                },
                                {
                                    "title": "Short Stories from Hogwarts of Power, Politics and Pesky Poltergeists (Pottermore Presents, #2)"
                                },
                                {
                                    "title": "Short Stories from Hogwarts of Heroism, Hardship and Dangerous Hobbies (Pottermore Presents, #1)"
                                },
                                {
                                    "title": "Peter Pan"
                                },
                                {
                                    "title": "Unfinished Tales of Númenor and Middle-Earth"
                                },
                                {
                                    "title": "The Children of Húrin"
                                },
                                {
                                    "title": "The Silmarillion (Middle-Earth Universe)"
                                },
                                {
                                    "title": "The Success Principles: How to Get from Where You Are to Where You Want to Be"
                                },
                                {
                                    "title": "Chicken Soup for the Soul"
                                },
                                {
                                    "title": "Chicken Soup for the Teenage Soul: 101 Stories of Life, Love and Learning (Chicken Soup for the Soul)"
                                },
                                {
                                    "title": "Big Sur"
                                },
                                {
                                    "title": "Desolation Angels"
                                },
                                {
                                    "title": "Martin Eden"
                                },
                                {
                                    "title": "Jack: Straight from the Gut"
                                },
                                {
                                    "title": "Winning"
                                },
                                {
                                    "title": "The Complete Grimm's Fairy Tales"
                                },
                                {
                                    "title": "Grimm's Fairy Tales"
                                },
                                {
                                    "title": "Snowflake Bentley"
                                },
                                {
                                    "title": "The Story of Tracy Beaker"
                                },
                                {
                                    "title": "The Illustrated Mum"
                                },
                                {
                                    "title": "Double Act"
                                },
                                {
                                    "title": "Among the Mad (Maisie Dobbs, #6)"
                                },
                                {
                                    "title": "The Essential Rumi"
                                },
                                {
                                    "title": "The Fire Next Time"
                                },
                                {
                                    "title": "Live from New York: An Uncensored History of Saturday Night Live"
                                },
                                {
                                    "title": "Those Guys Have All the Fun: Inside the World of ESPN"
                                },
                                {
                                    "title": "Built to Last: Successful Habits of Visionary Companies"
                                },
                                {
                                    "title": "Great by Choice: Uncertainty, Chaos, and Luck--Why Some Thrive Despite Them All"
                                },
                                {
                                    "title": "Flags of Our Fathers"
                                },
                                {
                                    "title": "The Calling (Endgame, #1)"
                                },
                                {
                                    "title": "Bunnicula (Bunnicula, #1)"
                                },
                                {
                                    "title": "Dubliners"
                                },
                                {
                                    "title": "A Portrait of the Artist as a Young Man"
                                },
                                {
                                    "title": "My Brother Sam Is Dead"
                                },
                                {
                                    "title": "The Jester"
                                },
                                {
                                    "title": "Lifeguard"
                                },
                                {
                                    "title": "Judge & Jury"
                                },
                                {
                                    "title": "3rd Degree (Women's Murder Club, #3)"
                                },
                                {
                                    "title": "2nd Chance (Women's Murder Club, #2)"
                                },
                                {
                                    "title": "Middle School: The Worst Years of My Life (Midde School, #1)"
                                },
                                {
                                    "title": "Mistress"
                                },
                                {
                                    "title": "Invisible"
                                },
                                {
                                    "title": "Guilty Wives"
                                },
                                {
                                    "title": "The Murder House"
                                },
                                {
                                    "title": "First Love"
                                },
                                {
                                    "title": "Witch & Wizard (Witch & Wizard, #1)"
                                },
                                {
                                    "title": "Sundays at Tiffany's"
                                },
                                {
                                    "title": "Honeymoon (Honeymoon, #1)"
                                },
                                {
                                    "title": "Don't Blink"
                                },
                                {
                                    "title": "Second Honeymoon (Honeymoon, #2)"
                                },
                                {
                                    "title": "Sail"
                                },
                                {
                                    "title": "You've Been Warned"
                                },
                                {
                                    "title": "The Fire (Witch & Wizard, #3)"
                                },
                                {
                                    "title": "Cat and Mouse (Alex Cross, #4)"
                                },
                                {
                                    "title": "The Postcard Killers"
                                },
                                {
                                    "title": "Private London (Private #4)"
                                },
                                {
                                    "title": "Private Games (Private #3)"
                                },
                                {
                                    "title": "Private Berlin (Private #5)"
                                },
                                {
                                    "title": "Kill Me If You Can"
                                },
                                {
                                    "title": "NYPD Red (NYPD Red, #1)"
                                },
                                {
                                    "title": "NYPD Red 3 (NYPD Red, #3)"
                                },
                                {
                                    "title": "NYPD Red 2 (NYPD Red, #2)"
                                },
                                {
                                    "title": "Private #1 Suspect (Private, #2)"
                                },
                                {
                                    "title": "Unlucky 13 (Women’s Murder Club, #13)"
                                },
                                {
                                    "title": "Swimsuit"
                                },
                                {
                                    "title": "Confessions of a Murder Suspect (Confessions, #1)"
                                },
                                {
                                    "title": "14th Deadly Sin (Women’s Murder Club, #14)"
                                },
                                {
                                    "title": "15th Affair (Women's Murder Club #15)"
                                },
                                {
                                    "title": "The 5th Horseman (Women's Murder Club, #5)"
                                },
                                {
                                    "title": "4th of July (Women's Murder Club, #4)"
                                },
                                {
                                    "title": "Private (Private, #1)"
                                },
                                {
                                    "title": "7th Heaven (Women's Murder Club, #7)"
                                },
                                {
                                    "title": "The 6th Target (Women's Murder Club, #6)"
                                },
                                {
                                    "title": "12th of Never (Women's Murder Club, #12)"
                                },
                                {
                                    "title": "11th Hour (Women's Murder Club, #11)"
                                },
                                {
                                    "title": "10th Anniversary (Women's Murder Club, #10)"
                                },
                                {
                                    "title": "The 8th Confession (Women's Murder Club, #8)"
                                },
                                {
                                    "title": "The 9th Judgment  (Women's Murder Club, #9)"
                                },
                                {
                                    "title": "Zoo"
                                },
                                {
                                    "title": "Now You See Her"
                                },
                                {
                                    "title": "The Quickie"
                                },
                                {
                                    "title": "Step on a Crack (Michael Bennett, #1)"
                                },
                                {
                                    "title": "Tick Tock (Michael Bennett, #4)"
                                },
                                {
                                    "title": "Worst Case (Michael Bennett, #3)"
                                },
                                {
                                    "title": "Run for Your Life (Michael Bennett, #2)"
                                },
                                {
                                    "title": "I, Michael Bennett (Michael Bennett, #5)"
                                },
                                {
                                    "title": "Gone (Michael Bennett, #6)"
                                },
                                {
                                    "title": "The Dangerous Days of Daniel X (Daniel X, #1)"
                                },
                                {
                                    "title": "Alert (Michael Bennett, #8)"
                                },
                                {
                                    "title": "Burn (Michael Bennett, #7)"
                                },
                                {
                                    "title": "Maximum Ride, Vol. 1 (Maximum Ride: The Manga, #1)"
                                },
                                {
                                    "title": "The Gift (Witch & Wizard, #2)"
                                },
                                {
                                    "title": "Beach Road"
                                },
                                {
                                    "title": "The Beach House"
                                },
                                {
                                    "title": "Alex Cross's Trial (Alex Cross, #15)"
                                },
                                {
                                    "title": "The Christmas Wedding"
                                },
                                {
                                    "title": "The Blood Gospel (The Order of the Sanguines, #1)"
                                },
                                {
                                    "title": "Hellblazer: Original Sins"
                                },
                                {
                                    "title": "Northanger Abbey"
                                },
                                {
                                    "title": "Emma"
                                },
                                {
                                    "title": "Persuasion"
                                },
                                {
                                    "title": "Mansfield Park"
                                },
                                {
                                    "title": "Lady Susan"
                                },
                                {
                                    "title": "Sense and Sensibility"
                                },
                                {
                                    "title": "Alice in Wonderland"
                                },
                                {
                                    "title": "A Map of the World"
                                },
                                {
                                    "title": "Happy Accidents: A Memoir"
                                },
                                {
                                    "title": "Fancy Nancy"
                                },
                                {
                                    "title": "Frosty the Snow Man"
                                },
                                {
                                    "title": "Owl Moon"
                                },
                                {
                                    "title": "How Do Dinosaurs Say Good Night?"
                                },
                                {
                                    "title": "Each Peach Pear Plum"
                                },
                                {
                                    "title": "The Taste of Home Cookbook"
                                },
                                {
                                    "title": "Full Tilt (Full #2)"
                                },
                                {
                                    "title": "Full House (Full #1)"
                                },
                                {
                                    "title": "The Chase (Fox and O'Hare, #2)"
                                },
                                {
                                    "title": "The Job (Fox and O'Hare, #3)"
                                },
                                {
                                    "title": "The Heist (Fox and O'Hare, #1)"
                                },
                                {
                                    "title": "Smokin' Seventeen (Stephanie Plum, #17)"
                                },
                                {
                                    "title": "Hard Eight (Stephanie Plum, #8)"
                                },
                                {
                                    "title": "The Princess and the Pea"
                                },
                                {
                                    "title": "The Poky Little Puppy (A Little Golden Book)"
                                },
                                {
                                    "title": "Gonzo: The Life of Hunter S. Thompson"
                                },
                                {
                                    "title": "Nothing"
                                },
                                {
                                    "title": "The Art of Hearing Heartbeats"
                                },
                                {
                                    "title": "Rework"
                                },
                                {
                                    "title": "The Future of Us"
                                },
                                {
                                    "title": "Rome (Marked Men, #3)"
                                },
                                {
                                    "title": "Rule (Marked Men, #1)"
                                },
                                {
                                    "title": "Julie of the Wolves (Julie of the Wolves, #1)"
                                },
                                {
                                    "title": "The Story of Babar"
                                },
                                {
                                    "title": "The Diving Bell and the Butterfly"
                                },
                                {
                                    "title": "The Social Contract"
                                },
                                {
                                    "title": "Existentialism Is a Humanism"
                                },
                                {
                                    "title": "Being and Nothingness"
                                },
                                {
                                    "title": "Nausea"
                                },
                                {
                                    "title": "No Exit and Three Other Plays"
                                },
                                {
                                    "title": "Flat Stanley (Flat Stanley, #1)"
                                },
                                {
                                    "title": "Artisan Bread in Five Minutes a Day: The Discovery That Revolutionizes Home Baking"
                                },
                                {
                                    "title": "Sweet Tooth, Volume 1: Out of the Deep Woods"
                                },
                                {
                                    "title": "Out from Boneville (Bone, #1)"
                                },
                                {
                                    "title": "The Dragonslayer (Bone, #4)"
                                },
                                {
                                    "title": "Bone: Tall Tales"
                                },
                                {
                                    "title": "A Case of Need"
                                },
                                {
                                    "title": "The End of Poverty"
                                },
                                {
                                    "title": "How to Make Love Like a Porn Star: A Cautionary Tale"
                                },
                                {
                                    "title": "Beyond Belief: My Secret Life Inside Scientology and My Harrowing Escape"
                                },
                                {
                                    "title": "Agnes and the Hitman"
                                },
                                {
                                    "title": "The Fourteenth Goldfish"
                                },
                                {
                                    "title": "All the Bright Places"
                                },
                                {
                                    "title": "Burn for Burn (Burn for Burn, #1)"
                                },
                                {
                                    "title": "Batman: Hush, Vol. 2"
                                },
                                {
                                    "title": "Batman: Hush, Vol. 1"
                                },
                                {
                                    "title": "Batman: Hush"
                                },
                                {
                                    "title": "Batman: Dark Victory"
                                },
                                {
                                    "title": "Superman for All Seasons"
                                },
                                {
                                    "title": "Batman: The Long Halloween"
                                },
                                {
                                    "title": "Inherit the Wind"
                                },
                                {
                                    "title": "The Pursuit of Holiness"
                                },
                                {
                                    "title": "Chopsticks"
                                },
                                {
                                    "title": "The Dresden Files:  Storm Front, Volume 1-  The Gathering Storm"
                                },
                                {
                                    "title": "Fresh Wind, Fresh Fire: What Happens When God's Spirit Invades the Heart of His People"
                                },
                                {
                                    "title": "Big Red (Big Red, #1)"
                                },
                                {
                                    "title": "Justice, Volume 1"
                                },
                                {
                                    "title": "The Power of Full Engagement: Managing Energy, Not Time, Is the Key to High Performance and Personal Renewal"
                                },
                                {
                                    "title": "Batman: A Death in the Family"
                                },
                                {
                                    "title": "Deadman Wonderland, Volume 1 (Deadman Wonderland, #1)"
                                },
                                {
                                    "title": "The Son"
                                },
                                {
                                    "title": "Phantom (Harry Hole, #9)"
                                },
                                {
                                    "title": "Flaggermusmannen (Harry Hole, #1)"
                                },
                                {
                                    "title": "Nemesis (Harry Hole, #4)"
                                },
                                {
                                    "title": "The Redbreast (Harry Hole, #3)"
                                },
                                {
                                    "title": "The Snowman (Harry Hole, #7)"
                                },
                                {
                                    "title": "Police (Harry Hole, #10)"
                                },
                                {
                                    "title": "Headhunters"
                                },
                                {
                                    "title": "Cockroaches (Harry Hole, #2)"
                                },
                                {
                                    "title": "Blood on Snow (Blood on Snow, #1)"
                                },
                                {
                                    "title": "The Wolves of Willoughby Chase (The Wolves Chronicles, #1)"
                                },
                                {
                                    "title": "Play It as It Lays"
                                },
                                {
                                    "title": "Inside the Human Body (The Magic School Bus, #3)"
                                },
                                {
                                    "title": "Between the Lines (Between the Lines, #1)"
                                },
                                {
                                    "title": "20th Century Ghosts"
                                },
                                {
                                    "title": "Locke & Key, Vol. 2: Head Games"
                                },
                                {
                                    "title": "Locke & Key, Vol. 3: Crown of Shadows"
                                },
                                {
                                    "title": "Locke & Key, Vol. 5: Clockworks"
                                },
                                {
                                    "title": "Locke & Key, Vol. 4: Keys to the Kingdom"
                                },
                                {
                                    "title": "Locke & Key, Vol. 6: Alpha & Omega"
                                },
                                {
                                    "title": "Locke & Key, Vol. 1: Welcome to Lovecraft"
                                },
                                {
                                    "title": "What Every Body is Saying: An Ex-FBI Agent's Guide to Speed-Reading People"
                                },
                                {
                                    "title": "Palestine"
                                },
                                {
                                    "title": "The Swiss Family Robinson  "
                                },
                                {
                                    "title": "The Sorrows of Young Werther"
                                },
                                {
                                    "title": "Faust: First Part"
                                },
                                {
                                    "title": "Faust"
                                },
                                {
                                    "title": "Heidi"
                                },
                                {
                                    "title": "March: Book One (March, #1)"
                                },
                                {
                                    "title": "Stoner"
                                },
                                {
                                    "title": "The 21 Irrefutable Laws of Leadership: Follow Them and People Will Follow You"
                                },
                                {
                                    "title": "The Great Brain (Great Brain #1)"
                                },
                                {
                                    "title": "The History of the Hobbit, Part One: Mr. Baggins"
                                },
                                {
                                    "title": "The Sacred Romance Drawing Closer To The Heart Of God"
                                },
                                {
                                    "title": "Captivating: Unveiling the Mystery of a Woman's Soul"
                                },
                                {
                                    "title": "Ask the Dust (Arturo Bandini, #3)"
                                },
                                {
                                    "title": "Foxe's Book of Martyrs"
                                },
                                {
                                    "title": "Will Grayson, Will Grayson"
                                },
                                {
                                    "title": "Let It Snow: Three Holiday Romances"
                                },
                                {
                                    "title": "Theodore Boone: Kid Lawyer (Theodore Boone, #1)"
                                },
                                {
                                    "title": "Game Change: Obama and the Clintons, McCain and Palin, and the Race of a Lifetime"
                                },
                                {
                                    "title": "The Improbable Adventures of Sherlock Holmes"
                                },
                                {
                                    "title": "A Confederacy of Dunces"
                                },
                                {
                                    "title": "The Littles"
                                },
                                {
                                    "title": "Chew, Vol. 2: International Flavor"
                                },
                                {
                                    "title": "Chew, Vol. 1: Taster's Choice"
                                },
                                {
                                    "title": "Second Treatise of Government"
                                },
                                {
                                    "title": "Two Treatises of Government"
                                },
                                {
                                    "title": "The Seven Principles for Making Marriage Work: A Practical Guide from the Country's Foremost Relationship Expert"
                                },
                                {
                                    "title": "Paradise Lost"
                                },
                                {
                                    "title": "The Winter of Our Discontent"
                                },
                                {
                                    "title": "Utilitarianism"
                                },
                                {
                                    "title": "Harry Potter and the Cursed Child - Parts One and Two (Harry Potter, #8)"
                                },
                                {
                                    "title": "Cash"
                                },
                                {
                                    "title": "The Stinky Cheese Man and Other Fairly Stupid Tales"
                                },
                                {
                                    "title": "The True Story of the 3 Little Pigs"
                                },
                                {
                                    "title": "America (The Book): A Citizen's Guide to Democracy Inaction"
                                },
                                {
                                    "title": "Earth (The Book): A Visitor's Guide to the Human Race"
                                },
                                {
                                    "title": "The Monster at the End of this Book"
                                },
                                {
                                    "title": "The Girl Who Saved the King of Sweden"
                                },
                                {
                                    "title": "The Hundred-Year-Old Man Who Climbed Out of the Window and Disappeared"
                                },
                                {
                                    "title": "The Ring of Solomon (Bartimaeus, #0.5)"
                                },
                                {
                                    "title": "Gulliver's Travels"
                                },
                                {
                                    "title": "Joni: An Unforgettable Story"
                                },
                                {
                                    "title": "Collected Fictions"
                                },
                                {
                                    "title": "The Aleph and Other Stories "
                                },
                                {
                                    "title": "Ficciones"
                                },
                                {
                                    "title": "Labyrinths:  Selected Stories and Other Writings"
                                },
                                {
                                    "title": "Os Maias"
                                },
                                {
                                    "title": "درخت زیبای من"
                                },
                                {
                                    "title": "Baltasar and Blimunda"
                                },
                                {
                                    "title": "Blindness"
                                },
                                {
                                    "title": "All the Names"
                                },
                                {
                                    "title": "Seeing"
                                },
                                {
                                    "title": "Death With Interruptions"
                                },
                                {
                                    "title": "The Double"
                                },
                                {
                                    "title": "The Power of Myth"
                                },
                                {
                                    "title": "Heart of Darkness and Selected Short Fiction"
                                },
                                {
                                    "title": "Night of the Soul Stealer (The Last Apprentice / Wardstone Chronicles, #3)"
                                },
                                {
                                    "title": "Attack of the Fiend (The Last Apprentice / Wardstone Chronicles, #4)"
                                },
                                {
                                    "title": "Curse of the Bane (The Last Apprentice / Wardstone Chronicles, #2)"
                                },
                                {
                                    "title": "Revenge of the Witch (The Last Apprentice / Wardstone Chronicles, #1)"
                                },
                                {
                                    "title": "Welcome to Night Vale"
                                },
                                {
                                    "title": "The Power of Your Subconscious Mind"
                                },
                                {
                                    "title": "Fiddler on the Roof"
                                },
                                {
                                    "title": "Those Left Behind (Serenity, #1)"
                                },
                                {
                                    "title": "Buffy the Vampire Slayer: The Long Way Home (Season 8, #1)"
                                },
                                {
                                    "title": "Astonishing X-Men, Volume 1: Gifted"
                                },
                                {
                                    "title": "Astonishing X-Men, Volume 2: Dangerous"
                                },
                                {
                                    "title": "The Orange Girl"
                                },
                                {
                                    "title": "Sophie's World"
                                },
                                {
                                    "title": "The Solitaire Mystery: A Novel About Family and Destiny"
                                },
                                {
                                    "title": "The Sound of Things Falling"
                                },
                                {
                                    "title": "Pedro Páramo"
                                },
                                {
                                    "title": "Cloudy With a Chance of Meatballs"
                                },
                                {
                                    "title": "Alexander and the Terrible, Horrible, No Good, Very Bad Day"
                                },
                                {
                                    "title": "The Silver Palate Cookbook"
                                },
                                {
                                    "title": "Twenty Thousand Leagues Under the Sea"
                                },
                                {
                                    "title": "The Mysterious Island (Extraordinary Voyages, #12)"
                                },
                                {
                                    "title": "Around the World in Eighty Days"
                                },
                                {
                                    "title": "My Life in France"
                                },
                                {
                                    "title": "Mastering the Art of French Cooking"
                                },
                                {
                                    "title": "The Gruffalo"
                                },
                                {
                                    "title": "By the Time You Read This, I'll Be Dead"
                                },
                                {
                                    "title": "The Invisible Bridge"
                                },
                                {
                                    "title": "Kamisama Kiss, Vol. 1"
                                },
                                {
                                    "title": "Hopscotch"
                                },
                                {
                                    "title": "Pandora Hearts 1巻"
                                },
                                {
                                    "title": "The Absent One (Department Q, #2)"
                                },
                                {
                                    "title": "The Keeper of Lost Causes (Department Q, #1)"
                                },
                                {
                                    "title": "The Lion King: A little Golden Book"
                                },
                                {
                                    "title": "Shattered"
                                },
                                {
                                    "title": "The Broken Wings"
                                },
                                {
                                    "title": "Dream Dark (Caster Chronicles, #2.5)"
                                },
                                {
                                    "title": "Beautiful Creatures (Caster Chronicles, #1)"
                                },
                                {
                                    "title": "Beautiful Darkness (Caster Chronicles, #2)"
                                },
                                {
                                    "title": "Beautiful Redemption (Caster Chronicles, #4)"
                                },
                                {
                                    "title": "Beautiful Chaos (Caster Chronicles, #3)"
                                },
                                {
                                    "title": "Black Bird, Vol. 01 (Black Bird, #1)"
                                },
                                {
                                    "title": "Remember (Redemption, #2)"
                                },
                                {
                                    "title": "Return (Redemption, #3)"
                                },
                                {
                                    "title": "Rejoice (Redemption, #4)"
                                },
                                {
                                    "title": "Reunion (Redemption, #5)"
                                },
                                {
                                    "title": "Redemption (Redemption, #1)"
                                },
                                {
                                    "title": "The Communist Manifesto"
                                },
                                {
                                    "title": "Bear Snores On"
                                },
                                {
                                    "title": "Kimi ni Todoke: From Me to You, Vol. 1"
                                },
                                {
                                    "title": "The Readers of Broken Wheel Recommend"
                                },
                                {
                                    "title": "The Awakening and Selected Stories"
                                },
                                {
                                    "title": "The Miraculous Journey of Edward Tulane"
                                },
                                {
                                    "title": "Because of Winn-Dixie"
                                },
                                {
                                    "title": "Flora and Ulysses: The Illuminated Adventures"
                                },
                                {
                                    "title": "The Tale of Despereaux"
                                },
                                {
                                    "title": "The Magician's Elephant"
                                },
                                {
                                    "title": "The One and Only Ivan"
                                },
                                {
                                    "title": "The Saggy Baggy Elephant (A Little Golden Book)"
                                },
                                {
                                    "title": "Tawny Scrawny Lion"
                                },
                                {
                                    "title": "Virals (Virals, #1)"
                                },
                                {
                                    "title": "Kisses from Katie: A Story of Relentless Love and Redemption"
                                },
                                {
                                    "title": "Akira, Vol. 1"
                                },
                                {
                                    "title": "D.Gray-man, Volume 01"
                                },
                                {
                                    "title": "Eloise "
                                },
                                {
                                    "title": "Blue Exorcist, Vol. 1  (Blue Exorcist, #1)"
                                },
                                {
                                    "title": "The Devotion of Suspect X"
                                },
                                {
                                    "title": "The Element: How Finding Your Passion Changes Everything"
                                },
                                {
                                    "title": "Hamlet: Screenplay, Introduction And Film Diary"
                                },
                                {
                                    "title": "The Wind in the Willows"
                                },
                                {
                                    "title": "The One Minute Manager"
                                },
                                {
                                    "title": "Quidditch Through the Ages"
                                },
                                {
                                    "title": "Berserk, Vol. 1 (Berserk, #1)"
                                },
                                {
                                    "title": "Influencer: The Power to Change Anything"
                                },
                                {
                                    "title": "Crucial Conversations: Tools for Talking When Stakes Are High"
                                },
                                {
                                    "title": "Ruby Red (Precious Stone Trilogy, #1)"
                                },
                                {
                                    "title": "Ghost in the Wires: My Adventures as the World's Most Wanted Hacker"
                                },
                                {
                                    "title": "The Boy Who Came Back from Heaven: A Remarkable Account of Miracles, Angels, and Life beyond This World"
                                },
                                {
                                    "title": "The Wicked + The Divine, Vol. 1: The Faust Act"
                                },
                                {
                                    "title": "The Vow: The Kim & Krickitt Carpenter Story"
                                },
                                {
                                    "title": "The War that Saved My Life (The War That Saved My Life #1)"
                                },
                                {
                                    "title": "The Natural Way to Draw"
                                },
                                {
                                    "title": "Lucky Jim"
                                },
                                {
                                    "title": "Yotsuba&!, Vol. 01 (Yotsuba&! #1)"
                                },
                                {
                                    "title": "Hunger"
                                },
                                {
                                    "title": "The Woman in the Dunes"
                                },
                                {
                                    "title": "Hellsing, Vol. 01 (Hellsing, #1)"
                                },
                                {
                                    "title": "Battle Royale"
                                },
                                {
                                    "title": "Deep Kiss of Winter (Includes: Immortals After Dark, #8; Alien Huntress, #3.5)"
                                },
                                {
                                    "title": "The Bhagavad Gita"
                                },
                                {
                                    "title": "Addicted to You (Addicted, #1)"
                                },
                                {
                                    "title": "Marvels"
                                },
                                {
                                    "title": "Rat Queens, Vol. 1: Sass & Sorcery"
                                },
                                {
                                    "title": "Please Look After Mom"
                                },
                                {
                                    "title": "The Marvelous Land of Oz (Oz, #2)"
                                },
                                {
                                    "title": "The Wonderful Wizard of Oz (Oz, #1)"
                                },
                                {
                                    "title": "The Ripper (The Vampire Diaries: Stefan's Diaries, #4)"
                                },
                                {
                                    "title": "Origins (The Vampire Diaries: Stefan's Diaries, #1)"
                                },
                                {
                                    "title": "Bloodlust (The Vampire Diaries: Stefan's Diaries, #2)"
                                },
                                {
                                    "title": "It's Not About the Bike: My Journey Back to Life"
                                },
                                {
                                    "title": "Tao Te Ching"
                                },
                                {
                                    "title": "When the Game Was Ours"
                                },
                                {
                                    "title": "Red Phoenix (Red Phoenix #1)"
                                },
                                {
                                    "title": "Execution: The Discipline of Getting Things Done"
                                },
                                {
                                    "title": "Lucifer's Hammer"
                                },
                                {
                                    "title": "The Mote in God's Eye"
                                },
                                {
                                    "title": "Footfall"
                                },
                                {
                                    "title": "The Hypnotist (Joona Linna, #1)"
                                },
                                {
                                    "title": "The Nightmare (Joona Linna, #2)"
                                },
                                {
                                    "title": "Like Water for Chocolate"
                                },
                                {
                                    "title": "The Little House Collection (Little House, #1-9)"
                                },
                                {
                                    "title": "Little House in the Big Woods (Little House, #1)"
                                },
                                {
                                    "title": "Little House on the Prairie (Little House, #2)"
                                },
                                {
                                    "title": "Little Town on the Prairie  (Little House, #7)"
                                },
                                {
                                    "title": "On the Banks of Plum Creek  (Little House, #4)"
                                },
                                {
                                    "title": "Farmer Boy (Little House, #3)"
                                },
                                {
                                    "title": "By the Shores of Silver Lake  (Little House, #5)"
                                },
                                {
                                    "title": "The Long Winter (Little House, #6)"
                                },
                                {
                                    "title": "These Happy Golden Years (Little House, #8)"
                                },
                                {
                                    "title": "The First Four Years  (Little House, #9)"
                                },
                                {
                                    "title": "If You Give a Pig a Party"
                                },
                                {
                                    "title": "If You Take a Mouse to the Movies"
                                },
                                {
                                    "title": "If You Give a Cat a Cupcake"
                                },
                                {
                                    "title": "If You Take a Mouse to School"
                                },
                                {
                                    "title": "If You Give a Pig a Pancake "
                                },
                                {
                                    "title": "If You Give a Moose a Muffin"
                                },
                                {
                                    "title": "If You Give a Mouse a Cookie"
                                },
                                {
                                    "title": "An Invisible Thread: The True Story of an 11-Year-Old Panhandler, a Busy Sales Executive, and an Unlikely Meeting with Destiny"
                                },
                                {
                                    "title": "A Lick of Frost (Merry Gentry, #6)"
                                },
                                {
                                    "title": "Girls' Night In"
                                },
                                {
                                    "title": "The Life and Opinions of Tristram Shandy, Gentleman"
                                },
                                {
                                    "title": "A Universe from Nothing: Why There Is Something Rather Than Nothing"
                                },
                                {
                                    "title": "Troublemaker: Surviving Hollywood and Scientology"
                                },
                                {
                                    "title": "The Girl Who Was on Fire: Your Favorite Authors on Suzanne Collins' Hunger Games Trilogy"
                                },
                                {
                                    "title": "Without Fail (Jack Reacher, #6)"
                                },
                                {
                                    "title": "A Wanted Man (Jack Reacher, #17)"
                                },
                                {
                                    "title": "Night School"
                                },
                                {
                                    "title": "Please Kill Me: The Uncensored Oral History of Punk"
                                },
                                {
                                    "title": "The Key to Midnight"
                                },
                                {
                                    "title": "Shadow Fires"
                                },
                                {
                                    "title": "The House of Thunder"
                                },
                                {
                                    "title": "The Servants of Twilight"
                                },
                                {
                                    "title": "The Eyes of Darkness"
                                },
                                {
                                    "title": "The Reptile Room (A Series of Unfortunate Events, #2)"
                                },
                                {
                                    "title": "The Wide Window (A Series of Unfortunate Events, #3)"
                                },
                                {
                                    "title": "The Bad Beginning (A Series of Unfortunate Events, #1)"
                                },
                                {
                                    "title": "The Grim Grotto (A Series of Unfortunate Events, #11)"
                                },
                                {
                                    "title": "The Hostile Hospital (A Series of Unfortunate Events, #8)"
                                },
                                {
                                    "title": "The Penultimate Peril (A Series of Unfortunate Events, #12)"
                                },
                                {
                                    "title": "The End (A Series of Unfortunate Events, #13)"
                                },
                                {
                                    "title": "The Carnivorous Carnival (A Series of Unfortunate Events, #9)"
                                },
                                {
                                    "title": "The Slippery Slope (A Series of Unfortunate Events, #10)"
                                },
                                {
                                    "title": "The Ersatz Elevator (A Series of Unfortunate Events, #6)"
                                },
                                {
                                    "title": "The Vile Village (A Series of Unfortunate Events, #7)"
                                },
                                {
                                    "title": "The Austere Academy (A Series of Unfortunate Events, #5)"
                                },
                                {
                                    "title": "The Miserable Mill (A Series of Unfortunate Events, #4)"
                                },
                                {
                                    "title": "A Series of Unfortunate Events Box: The Complete Wreck (Books 1-13)"
                                },
                                {
                                    "title": "Who Could That Be at This Hour? (All the Wrong Questions, #1)"
                                },
                                {
                                    "title": "Not That Kind of Girl: A Young Woman Tells You What She's \"Learned\""
                                },
                                {
                                    "title": "The Boy in the Suitcase (Nina Borg, #1)"
                                },
                                {
                                    "title": "The Death of Ivan Ilych"
                                },
                                {
                                    "title": "War and Peace"
                                },
                                {
                                    "title": "The Kreutzer Sonata"
                                },
                                {
                                    "title": "Resurrection"
                                },
                                {
                                    "title": "Anna Karenina"
                                },
                                {
                                    "title": "Leonardo's Notebooks"
                                },
                                {
                                    "title": "Streams in the Desert"
                                },
                                {
                                    "title": "Alice's Adventures in Wonderland & Other Stories"
                                },
                                {
                                    "title": "Alice's Adventures in Wonderland"
                                },
                                {
                                    "title": "Alice's Adventures in Wonderland & Through the Looking-Glass"
                                },
                                {
                                    "title": "Through the Looking-Glass, and What Alice Found There"
                                },
                                {
                                    "title": "Strange Angels (Strange Angels, #1)"
                                },
                                {
                                    "title": "Betrayals (Strange Angels, #2)"
                                },
                                {
                                    "title": "Jealousy (Strange Angels, #3)"
                                },
                                {
                                    "title": "Defiance (Strange Angels, #4)"
                                },
                                {
                                    "title": "The Little Old Lady Who Was Not Afraid of Anything"
                                },
                                {
                                    "title": "Hamilton: The Revolution"
                                },
                                {
                                    "title": "Tempt Me at Twilight (The Hathaways, #3)"
                                },
                                {
                                    "title": "The Dark Forest (Remembrance of Earth’s Past, #2)"
                                },
                                {
                                    "title": "The Three-Body Problem (Remembrance of Earth’s Past, #1)"
                                },
                                {
                                    "title": "The Tail of Emily Windsnap (Emily Windsnap, #1)"
                                },
                                {
                                    "title": "Cinderella"
                                },
                                {
                                    "title": "Sideways Stories from Wayside School (Wayside School #1)"
                                },
                                {
                                    "title": "Wayside School Is Falling Down (Wayside School #2)"
                                },
                                {
                                    "title": "Holes (Holes, #1)"
                                },
                                {
                                    "title": "Journey to the End of the Night"
                                },
                                {
                                    "title": "The Knockoff"
                                },
                                {
                                    "title": "Philosophical Investigations"
                                },
                                {
                                    "title": "The Bite Before Christmas (Argeneau, #15.5; Night Huntress, #6.5)"
                                },
                                {
                                    "title": "M.C. Escher: The Graphic Work"
                                },
                                {
                                    "title": "Extra Yarn (E. B. White Read-Aloud Award. Picture Books)"
                                },
                                {
                                    "title": "I Am Malala: The Story of the Girl Who Stood Up for Education and Was Shot by the Taliban"
                                },
                                {
                                    "title": "The Autobiography of Malcolm X"
                                },
                                {
                                    "title": "Stolen Lives: Twenty Years in a Desert Jail"
                                },
                                {
                                    "title": "Sherlock Holmes and the Case of the Hound of the Baskervilles (Illustrated Classic Editions)"
                                },
                                {
                                    "title": "Stephen King's N."
                                },
                                {
                                    "title": "Swann's Way (In Search of Lost Time, #1)"
                                },
                                {
                                    "title": "Essentials of Classic Italian Cooking"
                                },
                                {
                                    "title": "Meditations"
                                },
                                {
                                    "title": "First, Break All the Rules: What the World's Greatest Managers Do Differently"
                                },
                                {
                                    "title": "Now, Discover Your Strengths"
                                },
                                {
                                    "title": "Lone Survivor: The Eyewitness Account of Operation Redwing and the Lost Heroes of SEAL Team 10"
                                },
                                {
                                    "title": "The Rainbow Fish"
                                },
                                {
                                    "title": "Alias Grace"
                                },
                                {
                                    "title": "Into the Labyrinth (The Death Gate Cycle, #6)"
                                },
                                {
                                    "title": "Dragonlance Chronicles (Dragonlance #1-3)"
                                },
                                {
                                    "title": "Serpent Mage (The Death Gate Cycle, #4)"
                                },
                                {
                                    "title": "Dragon Wing (The Death Gate Cycle, #1)"
                                },
                                {
                                    "title": "War of the Twins (Dragonlance: Legends, #2)"
                                },
                                {
                                    "title": "Test of the Twins (Dragonlance: Legends, #3)"
                                },
                                {
                                    "title": "The Seventh Gate (The Death Gate Cycle, #7)"
                                },
                                {
                                    "title": "Fire Sea (The Death Gate Cycle, #3)"
                                },
                                {
                                    "title": "The Hand of Chaos (The Death Gate Cycle, #5)"
                                },
                                {
                                    "title": "Dragons of Summer Flame (Dragonlance: The Second Generation, #2)"
                                },
                                {
                                    "title": "Elven Star (The Death Gate Cycle, #2)"
                                },
                                {
                                    "title": "Time of the Twins (Dragonlance: Legends, #1)"
                                },
                                {
                                    "title": "Dragons of Winter Night (Dragonlance: Chronicles, #2)"
                                },
                                {
                                    "title": "Dragons of Spring Dawning (Dragonlance: Chronicles, #3)"
                                },
                                {
                                    "title": "Dragons of Autumn Twilight  (Dragonlance: Chronicles, #1)"
                                },
                                {
                                    "title": "The Runaway Bunny"
                                },
                                {
                                    "title": "Goodnight Moon"
                                },
                                {
                                    "title": "The Velveteen Rabbit"
                                },
                                {
                                    "title": "The Complete Adventures of Curious George"
                                },
                                {
                                    "title": "Curious George Goes to the Hospital"
                                },
                                {
                                    "title": "Curious George Visits the Library"
                                },
                                {
                                    "title": "The Lover"
                                },
                                {
                                    "title": "King of the Wind: The Story of the Godolphin Arabian"
                                },
                                {
                                    "title": "Misty of Chincoteague (Misty, #1)"
                                },
                                {
                                    "title": "The Time in Between"
                                },
                                {
                                    "title": "The Life-Changing Magic of Tidying Up: The Japanese Art of Decluttering and Organizing"
                                },
                                {
                                    "title": "This One Summer"
                                },
                                {
                                    "title": "The Long Hard Road Out of Hell"
                                },
                                {
                                    "title": "The Godfather"
                                },
                                {
                                    "title": "The Feast of the Goat"
                                },
                                {
                                    "title": "Aunt Julia and the Scriptwriter"
                                },
                                {
                                    "title": "The Fannie Farmer Cookbook: Anniversary"
                                },
                                {
                                    "title": "The Forest House (Avalon, #2)"
                                },
                                {
                                    "title": "Lady of Avalon (Avalon, #3)"
                                },
                                {
                                    "title": "Priestess of Avalon (Avalon, #4)"
                                },
                                {
                                    "title": "Persepolis 2: The Story of a Return (Persepolis, #2)"
                                },
                                {
                                    "title": "Embroideries"
                                },
                                {
                                    "title": "Persepolis: The Story of a Childhood (Persepolis, #1)"
                                },
                                {
                                    "title": "The Complete Persepolis"
                                },
                                {
                                    "title": "The Story About Ping"
                                },
                                {
                                    "title": "Wanted"
                                },
                                {
                                    "title": "Kick-Ass (Kick-Ass, #1)"
                                },
                                {
                                    "title": "Superman: Red Son"
                                },
                                {
                                    "title": "Civil War: A Marvel Comics Event"
                                },
                                {
                                    "title": "No Easy Day: The Firsthand Account of the Mission That Killed Osama Bin Laden"
                                },
                                {
                                    "title": "The Prince and the Pauper"
                                },
                                {
                                    "title": "The Adventures of Tom Sawyer"
                                },
                                {
                                    "title": "The Adventures of Huckleberry Finn"
                                },
                                {
                                    "title": "Kingdom Come"
                                },
                                {
                                    "title": "Superman: Birthright"
                                },
                                {
                                    "title": "What Got You Here Won't Get You There: How Successful People Become Even More Successful"
                                },
                                {
                                    "title": "The Medium is the Massage"
                                },
                                {
                                    "title": "Martha Stewart's Cookies: The Very Best Treats to Bake and to Share"
                                },
                                {
                                    "title": "The Autobiography of Martin Luther King, Jr."
                                },
                                {
                                    "title": "Ghost Boy"
                                },
                                {
                                    "title": "Owl Babies"
                                },
                                {
                                    "title": "Crisis on Infinite Earths"
                                },
                                {
                                    "title": "The Guernsey Literary and Potato Peel Pie Society"
                                },
                                {
                                    "title": "Choosing to SEE"
                                },
                                {
                                    "title": "The Cinderella Murder (Under Suspicion, #2)"
                                },
                                {
                                    "title": "I've Got You Under My Skin (Under Suspicion, #1)"
                                },
                                {
                                    "title": "Amazing Grace"
                                },
                                {
                                    "title": "The Borrowers (The Borrowers, #1)"
                                },
                                {
                                    "title": "My Friend Flicka (Flicka, #1)"
                                },
                                {
                                    "title": "The Knight at Dawn (Magic Tree House, #2)"
                                },
                                {
                                    "title": "Dinosaurs Before Dark (Magic Tree House, #1)"
                                },
                                {
                                    "title": "Mummies in the Morning (Magic Tree House, #3)"
                                },
                                {
                                    "title": "Absent In The Spring"
                                },
                                {
                                    "title": "Frankenstein"
                                },
                                {
                                    "title": "Percy Jackson & the Olympians:  The Ultimate Guide"
                                },
                                {
                                    "title": "Kare Kano: His and Her Circumstances, Vol. 1"
                                },
                                {
                                    "title": "The Hidden Messages in Water"
                                },
                                {
                                    "title": "Naruto, Vol. 11: Impassioned Efforts (Naruto, #11)"
                                },
                                {
                                    "title": "Naruto, Vol. 01: The Tests of the Ninja (Naruto, #1)"
                                },
                                {
                                    "title": "Three Little Kittens"
                                },
                                {
                                    "title": "Vampire Knight, Vol. 9"
                                },
                                {
                                    "title": "Vampire Knight, Vol. 4 (Vampire Knight, #4)"
                                },
                                {
                                    "title": "Vampire Knight, Vol. 1 (Vampire Knight, #1)"
                                },
                                {
                                    "title": "Vampire Knight, Vol. 3 (Vampire Knight, #3)"
                                },
                                {
                                    "title": "Vampire Knight, Vol. 2 (Vampire Knight, #2)"
                                },
                                {
                                    "title": "Sex Criminals, Vol. 1: One Weird Trick"
                                },
                                {
                                    "title": "Hawkeye, Volume 2: Little Hits"
                                },
                                {
                                    "title": "Hawkeye, Volume 1: My Life as a Weapon"
                                },
                                {
                                    "title": "How to Tell If Your Cat Is Plotting to Kill You"
                                },
                                {
                                    "title": "Betsy-Tacy (Betsy-Tacy, #1)"
                                },
                                {
                                    "title": "キスよりも早く1 [Kisu Yorimo Hayaku 1] (Faster than a Kiss #1)"
                                },
                                {
                                    "title": "Judy Moody (Judy Moody, # 1)"
                                },
                                {
                                    "title": "How I Became a Pirate"
                                },
                                {
                                    "title": "Harry, a History: The True Story of a Boy Wizard, His Fans, and Life Inside the Harry Potter Phenomenon"
                                },
                                {
                                    "title": "Anne Frank : The Biography"
                                },
                                {
                                    "title": "Time for Bed"
                                },
                                {
                                    "title": "Tokyo Mew Mew, Vol. 1 (Tokyo Mew Mew, #1)"
                                },
                                {
                                    "title": "Holy Blood, Holy Grail"
                                },
                                {
                                    "title": "A Bear Called Paddington (Paddington, #1)"
                                },
                                {
                                    "title": "The Fairy-Tale Detectives (The Sisters Grimm, #1)"
                                },
                                {
                                    "title": "The Unusual Suspects (The Sisters Grimm, #2)"
                                },
                                {
                                    "title": "The Problem Child (The Sisters Grimm, #3)"
                                },
                                {
                                    "title": "Once Upon a Crime (The Sisters Grimm, #4)"
                                },
                                {
                                    "title": "Tales From the Hood (The Sisters Grimm, #6)"
                                },
                                {
                                    "title": "Magic and Other Misdemeanors (The Sisters Grimm, #5)"
                                },
                                {
                                    "title": "The Everafter War (The Sisters Grimm, #7)"
                                },
                                {
                                    "title": "Gentlemen of the Road"
                                },
                                {
                                    "title": "Wonder Boys"
                                },
                                {
                                    "title": "The Final Solution"
                                },
                                {
                                    "title": "Micro"
                                },
                                {
                                    "title": "Avatar Volume 1: The Last Airbender (Avatar #1)"
                                },
                                {
                                    "title": "The Neverending Story"
                                },
                                {
                                    "title": "We're Going on a Bear Hunt"
                                },
                                {
                                    "title": "Shakespeare's Romeo and Juliet"
                                },
                                {
                                    "title": "The Little Mermaid"
                                },
                                {
                                    "title": "Sleeping Beauty: a Little Golden Book (Disney Princess)"
                                },
                                {
                                    "title": "Discipline and Punish: The Birth of the Prison"
                                },
                                {
                                    "title": "The History of Sexuality, Volume 1: An Introduction"
                                },
                                {
                                    "title": "The Elementary Particles"
                                },
                                {
                                    "title": "Finding Me: A Decade of Darkness, a Life Reclaimed - A Memoir of the Cleveland Kidnappings"
                                },
                                {
                                    "title": "Wolf Brother (Chronicles of Ancient Darkness, #1)"
                                },
                                {
                                    "title": "Vampire Academy: The Ultimate Guide (Vampire Academy)"
                                },
                                {
                                    "title": "Anne Frank Remembered: The Story of the Woman Who Helped to Hide the Frank Family"
                                },
                                {
                                    "title": "Don Quixote"
                                },
                                {
                                    "title": "سینوهه"
                                },
                                {
                                    "title": "The Unwritten, Vol. 1: Tommy Taylor and the Bogus Identity"
                                },
                                {
                                    "title": "Neil Gaiman's Neverwhere"
                                },
                                {
                                    "title": "Hellboy, Vol. 1: Seed of Destruction (Hellboy, #1)"
                                },
                                {
                                    "title": "The Master and Margarita"
                                },
                                {
                                    "title": "Heart of a Dog"
                                },
                                {
                                    "title": "A Hero of Our Time"
                                },
                                {
                                    "title": "Auschwitz: A Doctor's Eyewitness Account"
                                },
                                {
                                    "title": "The Book of Laughter and Forgetting"
                                },
                                {
                                    "title": "Life is Elsewhere"
                                },
                                {
                                    "title": "Slowness"
                                },
                                {
                                    "title": "Ignorance"
                                },
                                {
                                    "title": "Identity"
                                },
                                {
                                    "title": "The Unbearable Lightness of Being"
                                },
                                {
                                    "title": "Laughable Loves"
                                },
                                {
                                    "title": "Miles: The Autobiography"
                                },
                                {
                                    "title": "Geisha, a Life"
                                },
                                {
                                    "title": "It Chooses You"
                                },
                                {
                                    "title": "Tuesdays with Morrie"
                                },
                                {
                                    "title": "A Book of Five Rings: The Classic Guide to Strategy"
                                },
                                {
                                    "title": "Tartuffe"
                                },
                                {
                                    "title": "The Man Who Listens to Horses"
                                },
                                {
                                    "title": "Rebel Spring (Falling Kingdoms, #2)"
                                },
                                {
                                    "title": "Falling Kingdoms (Falling Kingdoms, #1)"
                                },
                                {
                                    "title": "Gathering Darkness (Falling Kingdoms, #3)"
                                },
                                {
                                    "title": "The Wave"
                                },
                                {
                                    "title": "رأيت رام الله"
                                },
                                {
                                    "title": "The Story of Ferdinand"
                                },
                                {
                                    "title": "The Elegance of the Hedgehog"
                                },
                                {
                                    "title": "Palace Walk (The Cairo Trilogy #1)"
                                },
                                {
                                    "title": "الحرافيش"
                                },
                                {
                                    "title": "أولاد حارتنا"
                                },
                                {
                                    "title": "Sheep in a Jeep"
                                },
                                {
                                    "title": "Lies Women Believe: And the Truth that Sets Them Free"
                                },
                                {
                                    "title": "Miracle in the Andes"
                                },
                                {
                                    "title": "The Reason I Jump: The Inner Voice of a Thirteen-Year-Old Boy with Autism"
                                },
                                {
                                    "title": "美少女戦士セーラームーン新装版 1 [Bishōjo Senshi Sailor Moon Shinsōban 1]"
                                },
                                {
                                    "title": "The Day of the Locust"
                                },
                                {
                                    "title": "The House of the Seven Gables"
                                },
                                {
                                    "title": "The Scarlet Letter"
                                },
                                {
                                    "title": "Fruits Basket, Vol. 1"
                                },
                                {
                                    "title": "Fruits Basket, Vol. 7"
                                },
                                {
                                    "title": "Fruits Basket, Vol. 2"
                                },
                                {
                                    "title": "Fruits Basket, Vol. 4"
                                },
                                {
                                    "title": "Fruits Basket, Vol. 3"
                                },
                                {
                                    "title": "Fruits Basket, Vol. 15"
                                },
                                {
                                    "title": "Fruits Basket, Vol. 14"
                                },
                                {
                                    "title": "Kitchen Princess, Vol. 01 (Kitchen Princess, #1)"
                                },
                                {
                                    "title": "Out"
                                },
                                {
                                    "title": "Batman: Whatever Happened to the Caped Crusader?"
                                },
                                {
                                    "title": "Marvel 1602"
                                },
                                {
                                    "title": "The Sandman: Endless Nights"
                                },
                                {
                                    "title": "Fables and Reflections (The Sandman #6)"
                                },
                                {
                                    "title": "Death: The High Cost of Living Collected"
                                },
                                {
                                    "title": "The Sleeper and the Spindle"
                                },
                                {
                                    "title": "The Graveyard Book"
                                },
                                {
                                    "title": "The Sandman: Overture"
                                },
                                {
                                    "title": "Brief Lives (The Sandman #7)"
                                },
                                {
                                    "title": "Dream Country (The Sandman #3)"
                                },
                                {
                                    "title": "The Kindly Ones (The Sandman #9)"
                                },
                                {
                                    "title": "Odd and the Frost Giants"
                                },
                                {
                                    "title": "Season of Mists (The Sandman #4)"
                                },
                                {
                                    "title": "InterWorld (InterWorld, #1)"
                                },
                                {
                                    "title": "The Wake (The Sandman #10)"
                                },
                                {
                                    "title": "Worlds' End (The Sandman #8)"
                                },
                                {
                                    "title": "The Absolute Sandman, Volume One"
                                },
                                {
                                    "title": "Coraline (Illustrated/Graphic Novel Edition)"
                                },
                                {
                                    "title": "Preludes & Nocturnes (The Sandman #1)"
                                },
                                {
                                    "title": "A Game of You (The Sandman #5)"
                                },
                                {
                                    "title": "Fortunately, the Milk"
                                },
                                {
                                    "title": "The Doll's House (The Sandman #2)"
                                },
                                {
                                    "title": "The Sandman: The Dream Hunters"
                                },
                                {
                                    "title": "Neil Patrick Harris: Choose Your Own Autobiography"
                                },
                                {
                                    "title": "Amusing Ourselves to Death: Public Discourse in the Age of Show Business"
                                },
                                {
                                    "title": "Passing"
                                },
                                {
                                    "title": "Fantastic Beasts and Where to Find Them"
                                },
                                {
                                    "title": "The Prince"
                                },
                                {
                                    "title": "Half the Sky: Turning Oppression into Opportunity for Women Worldwide"
                                },
                                {
                                    "title": "Graffiti World: Street Art from Five Continents"
                                },
                                {
                                    "title": "Three Weeks With My Brother"
                                },
                                {
                                    "title": "Run Baby Run"
                                },
                                {
                                    "title": "Everything, Everything"
                                },
                                {
                                    "title": "The Nose"
                                },
                                {
                                    "title": "Dead Souls"
                                },
                                {
                                    "title": "Zorba the Greek"
                                },
                                {
                                    "title": "The Little Paris Bookshop"
                                },
                                {
                                    "title": "Manufacturing Consent: The Political Economy of the Mass Media"
                                },
                                {
                                    "title": "Rurouni Kenshin, Vol. 1: Meiji Swordsman Romantic Story (Rurouni Kenshin, #1)"
                                },
                                {
                                    "title": "Ballet Shoes (Shoes, #1)"
                                },
                                {
                                    "title": "Lumberjanes, Vol. 1: Beware the Kitten Holy"
                                },
                                {
                                    "title": "Savor the Moment (Bride Quartet, #3)"
                                },
                                {
                                    "title": "The Last Boyfriend (Inn BoonsBoro, #2)"
                                },
                                {
                                    "title": "The Next Always (Inn BoonsBoro, #1)"
                                },
                                {
                                    "title": "The Phantom Tollbooth"
                                },
                                {
                                    "title": "I Am Nujood, Age 10 and Divorced"
                                },
                                {
                                    "title": "The Gift of the Magi"
                                },
                                {
                                    "title": "Selected Stories"
                                },
                                {
                                    "title": "The Hangman's Daughter (The Hangman's Daughter, #1)"
                                },
                                {
                                    "title": "The Dark Monk (The Hangman's Daughter, #2)"
                                },
                                {
                                    "title": "The Beggar King (The Hangman's Daughter, #3)"
                                },
                                {
                                    "title": "رباعيات خيام"
                                },
                                {
                                    "title": "My Name is Red"
                                },
                                {
                                    "title": "Snow"
                                },
                                {
                                    "title": "The Museum of Innocence"
                                },
                                {
                                    "title": "Sway: The Irresistible Pull of Irrational Behavior"
                                },
                                {
                                    "title": "Earth Unaware (The First Formic War, #1)"
                                },
                                {
                                    "title": "The Abyss"
                                },
                                {
                                    "title": "The Canterville Ghost"
                                },
                                {
                                    "title": "The Picture of Dorian Gray"
                                },
                                {
                                    "title": "Complete Works of Oscar Wilde"
                                },
                                {
                                    "title": "The Importance of Being Earnest and Other Plays"
                                },
                                {
                                    "title": "Metamorphoses"
                                },
                                {
                                    "title": "The Mask"
                                },
                                {
                                    "title": "The Funhouse"
                                },
                                {
                                    "title": "I Am Ozzy"
                                },
                                {
                                    "title": "Dragon's Oath (House of Night Novellas, #1)"
                                },
                                {
                                    "title": "Revealed (House of Night, #11)"
                                },
                                {
                                    "title": "Hidden (House of Night, #10)"
                                },
                                {
                                    "title": "Marked / Betrayed / Chosen / Untamed / Hunted (House of Night #1-5)"
                                },
                                {
                                    "title": "Marked / Betrayed / Chosen / Untamed (House of Night, #1-4)"
                                },
                                {
                                    "title": "Destined (House of Night, #9)"
                                },
                                {
                                    "title": "Marked (House of Night, #1)"
                                },
                                {
                                    "title": "Untamed (House of Night, #4)"
                                },
                                {
                                    "title": "Betrayed (House of Night, #2)"
                                },
                                {
                                    "title": "Tempted (House of Night, #6)"
                                },
                                {
                                    "title": "Burned (House of Night, #7)"
                                },
                                {
                                    "title": "Hunted (House of Night, #5)"
                                },
                                {
                                    "title": "Chosen (House of Night, #3)"
                                },
                                {
                                    "title": "Awakened (House of Night, #8)"
                                },
                                {
                                    "title": "Redeemed (House of Night, #12)"
                                },
                                {
                                    "title": "Lenobia's Vow (House of Night Novellas, #2)"
                                },
                                {
                                    "title": "Mary Poppins (Mary Poppins, #1)"
                                },
                                {
                                    "title": "The Poetry of Pablo Neruda"
                                },
                                {
                                    "title": "100 Love Sonnets"
                                },
                                {
                                    "title": "Twenty Love Poems and a Song of Despair"
                                },
                                {
                                    "title": "I'm with the Band: Confessions of a Groupie"
                                },
                                {
                                    "title": "Bringing Up Bébé: One American Mother Discovers the Wisdom of French Parenting"
                                },
                                {
                                    "title": "The Solitude of Prime Numbers"
                                },
                                {
                                    "title": "Night Train to Lisbon"
                                },
                                {
                                    "title": "On the Prowl (Alpha & Omega, #0.5)"
                                },
                                {
                                    "title": "Talking to Dragons (Enchanted Forest Chronicles, #4)"
                                },
                                {
                                    "title": "Dealing with Dragons (Enchanted Forest Chronicles, #1)"
                                },
                                {
                                    "title": "Calling on Dragons (Enchanted Forest Chronicles, #3)"
                                },
                                {
                                    "title": "Searching for Dragons (Enchanted Forest Chronicles, #2)"
                                },
                                {
                                    "title": "The Country Mouse and the City Mouse; The Fox and the Crow; The Dog and His Bone"
                                },
                                {
                                    "title": "The Sisters Brothers"
                                },
                                {
                                    "title": "A Monster Calls"
                                },
                                {
                                    "title": "The Slow Regard of Silent Things (The Kingkiller Chronicle #2.5)"
                                },
                                {
                                    "title": "Perfume: The Story of a Murderer"
                                },
                                {
                                    "title": "Wonderful Tonight"
                                },
                                {
                                    "title": "Stand Tall, Molly Lou Melon"
                                },
                                {
                                    "title": "The New York Trilogy"
                                },
                                {
                                    "title": "The Three Billy Goats Gruff"
                                },
                                {
                                    "title": "The Heavenly Man: The Remarkable True Story of Chinese Christian Brother Yun"
                                },
                                {
                                    "title": "Wolverine: Origin"
                                },
                                {
                                    "title": "When Breath Becomes Air"
                                },
                                {
                                    "title": "The Light of the Fireflies"
                                },
                                {
                                    "title": "The Lady & Sons Savannah Country Cookbook"
                                },
                                {
                                    "title": "Story of O (Story of O #1)"
                                },
                                {
                                    "title": "The Valkyries"
                                },
                                {
                                    "title": "By the River Piedra I Sat Down and Wept"
                                },
                                {
                                    "title": "The Alchemist"
                                },
                                {
                                    "title": "The Pilgrimage"
                                },
                                {
                                    "title": "The Devil and Miss Prym (On the Seventh Day, #3)"
                                },
                                {
                                    "title": "The Zahir"
                                },
                                {
                                    "title": "Veronika Decides to Die"
                                },
                                {
                                    "title": "Eleven Minutes"
                                },
                                {
                                    "title": "Manuscript Found in Accra"
                                },
                                {
                                    "title": "Brida"
                                },
                                {
                                    "title": "Pedagogy of the Oppressed"
                                },
                                {
                                    "title": "Amelia Bedelia and the Surprise Shower"
                                },
                                {
                                    "title": "Amelia Bedelia  (Amelia Bedelia #1)"
                                },
                                {
                                    "title": "Come Back, Amelia Bedelia"
                                },
                                {
                                    "title": "Rival (Fall Away, #2)"
                                },
                                {
                                    "title": "Corrupt (Devil's Night, #1)"
                                },
                                {
                                    "title": "Until You (Fall Away, #1.5)"
                                },
                                {
                                    "title": "Cocky Bastard"
                                },
                                {
                                    "title": "Out Stealing Horses"
                                },
                                {
                                    "title": "The Chronicles of Narnia - The Lion, the Witch, and the Wardrobe Official Illustrated Movie Companion"
                                },
                                {
                                    "title": "The Dark Tower: The Gunslinger Born"
                                },
                                {
                                    "title": "Smilla's Sense of Snow"
                                },
                                {
                                    "title": "One Up On Wall Street: How To Use What You Already Know To Make Money In The Market"
                                },
                                {
                                    "title": "Zero to One: Notes on Startups, or How to Build the Future"
                                },
                                {
                                    "title": "The Glassblower"
                                },
                                {
                                    "title": "Happy, Happy, Happy"
                                },
                                {
                                    "title": "A Sick Day for Amos McGee"
                                },
                                {
                                    "title": "Ubik"
                                },
                                {
                                    "title": "Do Androids Dream of Electric Sheep?"
                                },
                                {
                                    "title": "Fairy Tales from the Brothers Grimm: A New English Version"
                                },
                                {
                                    "title": "Lyra's Oxford (His Dark Materials, #3.5)"
                                },
                                {
                                    "title": "Portnoy's Complaint"
                                },
                                {
                                    "title": "The Kingmaker's Daughter (The Plantagenet and Tudor Novels, #4)"
                                },
                                {
                                    "title": "Tom's Midnight Garden"
                                },
                                {
                                    "title": "Planet of the Apes"
                                },
                                {
                                    "title": "Les Liaisons dangereuses"
                                },
                                {
                                    "title": "The Symposium"
                                },
                                {
                                    "title": "The Republic"
                                },
                                {
                                    "title": "The Trial and Death of Socrates"
                                },
                                {
                                    "title": "Five Dialogues: Euthyphro, Apology, Crito, Meno, Phaedo"
                                },
                                {
                                    "title": "Apology"
                                },
                                {
                                    "title": "I Wrote This For You"
                                },
                                {
                                    "title": "NurtureShock: New Thinking About Children"
                                },
                                {
                                    "title": "Survival in Auschwitz"
                                },
                                {
                                    "title": "The Name of This Book Is Secret (Secret, #1)"
                                },
                                {
                                    "title": "This Book Is Not Good for You (Secret, #3)"
                                },
                                {
                                    "title": "If You're Reading This, It's Too Late (Secret, #2)"
                                },
                                {
                                    "title": "Alice in the Country of Hearts, Vol. 01 (Alice in the Country of Hearts, #1)"
                                },
                                {
                                    "title": "Lorna Doone"
                                },
                                {
                                    "title": "Malgudi Days"
                                },
                                {
                                    "title": "Kiss of Death (The Morganville Vampires, #8)"
                                },
                                {
                                    "title": "Silent Spring"
                                },
                                {
                                    "title": "Nick & Norah's Infinite Playlist"
                                },
                                {
                                    "title": "Dash & Lily's Book of Dares (Dash & Lily, #1)"
                                },
                                {
                                    "title": "الطنطورية"
                                },
                                {
                                    "title": "ثلاثية غرناطة"
                                },
                                {
                                    "title": "Drama"
                                },
                                {
                                    "title": "Letters to a Young Poet"
                                },
                                {
                                    "title": "The Selected Poetry of Rainer Maria Rilke"
                                },
                                {
                                    "title": "Vincent Van Gogh: The Complete Paintings"
                                },
                                {
                                    "title": "Essays and Poems"
                                },
                                {
                                    "title": "Be Here Now"
                                },
                                {
                                    "title": "Courageous"
                                },
                                {
                                    "title": "The Last Lecture"
                                },
                                {
                                    "title": "And the Band Played On: Politics, People, and the AIDS Epidemic"
                                },
                                {
                                    "title": "Mistress of the Empire (The Empire Trilogy, #3)"
                                },
                                {
                                    "title": "Daughter of the Empire (The Empire Trilogy, #1)"
                                },
                                {
                                    "title": "Servant of the Empire (The Empire Trilogy, #2)"
                                },
                                {
                                    "title": "Magician: Apprentice  (Raymond E. Feist's Magician: Apprentice #1)"
                                },
                                {
                                    "title": "Twilight and Philosophy: Vampires, Vegetarians, and the Pursuit of Immortality"
                                },
                                {
                                    "title": "Twelve Angry Men"
                                },
                                {
                                    "title": "Discourse on Method"
                                },
                                {
                                    "title": "Meditations on First Philosophy"
                                },
                                {
                                    "title": "Discourse on Method and Meditations on First Philosophy"
                                },
                                {
                                    "title": "Asterix the Gaul (Asterix, #1)"
                                },
                                {
                                    "title": "Le Petit Nicolas (Le petit Nicolas, #1)"
                                },
                                {
                                    "title": "Mr. Popper's Penguins"
                                },
                                {
                                    "title": "Jonathan Livingston Seagull"
                                },
                                {
                                    "title": "Thinner"
                                },
                                {
                                    "title": "The Running Man"
                                },
                                {
                                    "title": "The Bachman Books"
                                },
                                {
                                    "title": "The Long Walk"
                                },
                                {
                                    "title": "The Regulators"
                                },
                                {
                                    "title": "Blaze"
                                },
                                {
                                    "title": "Roadwork"
                                },
                                {
                                    "title": "Rage"
                                },
                                {
                                    "title": "The Magic of Reality: How We Know What's Really True"
                                },
                                {
                                    "title": "Nudge: Improving Decisions About Health, Wealth, and Happiness"
                                },
                                {
                                    "title": "The Further Adventures of Sherlock Holmes: After Sir Arthur Conan Doyle (Classic Crime)"
                                },
                                {
                                    "title": "The Door to December"
                                },
                                {
                                    "title": "That Old Cape Magic"
                                },
                                {
                                    "title": "Black Boy"
                                },
                                {
                                    "title": "Vampire Academy: The Graphic Novel (Vampire Academy: The Graphic Novel, #1)"
                                },
                                {
                                    "title": "Vespers Rising (The 39 Clues, #11)"
                                },
                                {
                                    "title": "The Demigod Diaries"
                                },
                                {
                                    "title": "Percy Jackson's Greek Gods (A Percy Jackson and the Olympians Guide)"
                                },
                                {
                                    "title": "The Lightning Thief: The Graphic Novel (Percy Jackson and the Olympians, #1)"
                                },
                                {
                                    "title": "Percy Jackson and the Olympians Boxed Set (Percy Jackson and the Olympians, #1-5)"
                                },
                                {
                                    "title": "Disney after Dark (Kingdom Keepers, #1)"
                                },
                                {
                                    "title": "Gnomes"
                                },
                                {
                                    "title": "Going Solo"
                                },
                                {
                                    "title": "Revolting Rhymes"
                                },
                                {
                                    "title": "The Giraffe and the Pelly and Me"
                                },
                                {
                                    "title": "The Magic Finger (Young Puffin Developing Reader)"
                                },
                                {
                                    "title": "Esio Trot"
                                },
                                {
                                    "title": "Boy: Tales of Childhood"
                                },
                                {
                                    "title": "Danny the Champion of the World"
                                },
                                {
                                    "title": "The Twits"
                                },
                                {
                                    "title": "Fantastic Mr. Fox"
                                },
                                {
                                    "title": "George's Marvellous Medicine"
                                },
                                {
                                    "title": "Charlie and the Great Glass Elevator (Charlie Bucket, #2)"
                                },
                                {
                                    "title": "James and the Giant Peach"
                                },
                                {
                                    "title": "The BFG"
                                },
                                {
                                    "title": "The Witches"
                                },
                                {
                                    "title": "Charlie and the Chocolate Factory (Charlie Bucket, #1)"
                                },
                                {
                                    "title": "Matilda"
                                },
                                {
                                    "title": "The Thousand-Dollar Tan Line (Veronica Mars, #1)"
                                },
                                {
                                    "title": "Mr. Kiss and Tell (Veronica Mars, #2)"
                                },
                                {
                                    "title": "The Past Through Tomorrow (Future History, #1-21)"
                                },
                                {
                                    "title": "The Story of Ruby Bridges"
                                },
                                {
                                    "title": "Dali: The Paintings"
                                },
                                {
                                    "title": "The Complete Guide to Middle-Earth"
                                },
                                {
                                    "title": "The Poetry of Robert Frost (Collected Poems, Complete & Unabridged)"
                                },
                                {
                                    "title": "The Silkworm (Cormoran Strike, #2)"
                                },
                                {
                                    "title": "Career of Evil (Cormoran Strike, #3)"
                                },
                                {
                                    "title": "The Cuckoo's Calling (Cormoran Strike, #1)"
                                },
                                {
                                    "title": "The 48 Laws of Power"
                                },
                                {
                                    "title": "The Art Spirit: Notes, Articles, Fragments of Letters and Talks to Students, Bearing on the Concept and Technique of Picture Making, the Study of Art (Icon Editions)"
                                },
                                {
                                    "title": "The Gathering Storm (Wheel of Time, #12)"
                                },
                                {
                                    "title": "Towers of Midnight (Wheel of Time, #13)"
                                },
                                {
                                    "title": "A Memory of Light (Wheel of Time, #14)"
                                },
                                {
                                    "title": "Dr. Seuss's Green Eggs and Ham: For Soprano, Boy Soprano, and Orchestra"
                                },
                                {
                                    "title": "The Walking Dead, Compendium 2"
                                },
                                {
                                    "title": "The Walking Dead, Book Two (The Walking Dead #13-24)"
                                },
                                {
                                    "title": "The Walking Dead, Vol. 12: Life Among Them"
                                },
                                {
                                    "title": "The Walking Dead, Vol. 03: Safety Behind Bars"
                                },
                                {
                                    "title": "The Walking Dead, Vol. 02: Miles Behind Us"
                                },
                                {
                                    "title": "The Walking Dead, Vol. 06: This Sorrowful Life"
                                },
                                {
                                    "title": "The Walking Dead, Vol. 04: The Heart's Desire"
                                },
                                {
                                    "title": "The Walking Dead, Vol. 05: The Best Defense"
                                },
                                {
                                    "title": "The Walking Dead, Vol. 14: No Way Out"
                                },
                                {
                                    "title": "The Walking Dead, Vol. 09: Here We Remain"
                                },
                                {
                                    "title": "The Walking Dead, Vol. 11: Fear the Hunters"
                                },
                                {
                                    "title": "The Walking Dead, Vol. 07: The Calm Before"
                                },
                                {
                                    "title": "The Walking Dead, Vol. 13: Too Far Gone"
                                },
                                {
                                    "title": "The Walking Dead, Book Three (The Walking Dead #25-36)"
                                },
                                {
                                    "title": "Rise of the Governor (The Walking Dead #1)"
                                },
                                {
                                    "title": "The Walking Dead, Vol. 01: Days Gone Bye"
                                },
                                {
                                    "title": "The Walking Dead, Book One (The Walking Dead #1-12)"
                                },
                                {
                                    "title": "The Strange Case of Dr. Jekyll and Mr. Hyde and Other Stories "
                                },
                                {
                                    "title": "The Strange Case of Dr. Jekyll and Mr. Hyde and Other Tales of Terror"
                                },
                                {
                                    "title": "A Child's Garden of Verses"
                                },
                                {
                                    "title": "The Strange Case of Dr. Jekyll and Mr. Hyde"
                                },
                                {
                                    "title": "The Monuments Men: Allied Heroes, Nazi Thieves, and the Greatest Treasure Hunt in History"
                                },
                                {
                                    "title": "The Paper Bag Princess"
                                },
                                {
                                    "title": "Love You Forever"
                                },
                                {
                                    "title": "Alice's Adventures in Wonderland: A Pop-Up Adaptation"
                                },
                                {
                                    "title": "The Illuminatus! Trilogy"
                                },
                                {
                                    "title": "Rich Dad's Cashflow Quadrant: Rich Dad's Guide to Financial Freedom"
                                },
                                {
                                    "title": "Rich Dad's Guide to Investing: What the Rich Invest in That the Poor and Middle Class Do Not!"
                                },
                                {
                                    "title": "The King in Yellow and Other Horror Stories"
                                },
                                {
                                    "title": "The Stand: Soul Survivors"
                                },
                                {
                                    "title": "The Stand: Captain Trips"
                                },
                                {
                                    "title": "The Savage Detectives"
                                },
                                {
                                    "title": "The Talisman (Volume 1): The Road of Trials"
                                },
                                {
                                    "title": "Tunnels (Tunnels, #1)"
                                },
                                {
                                    "title": "Getting to Yes: Negotiating an Agreement Without Giving In"
                                },
                                {
                                    "title": "Little House on Rocky Ridge (Little House: The Rocky Ridge Years, #1)"
                                },
                                {
                                    "title": "Lord of Light"
                                },
                                {
                                    "title": "Mythologies"
                                },
                                {
                                    "title": "Camera Lucida: Reflections on Photography"
                                },
                                {
                                    "title": "Same Kind of Different as Me"
                                },
                                {
                                    "title": "A Scandal in Bohemia (The Adventures of Sherlock Holmes, #1)"
                                },
                                {
                                    "title": "Skinny Bitch"
                                },
                                {
                                    "title": "The Cake Bible"
                                },
                                {
                                    "title": "Willpower: Rediscovering the Greatest Human Strength"
                                },
                                {
                                    "title": "Dracula (Marvel Illustrated)"
                                },
                                {
                                    "title": "The Jungle Books"
                                },
                                {
                                    "title": "Kim"
                                },
                                {
                                    "title": "Rikki-Tikki-Tavi"
                                },
                                {
                                    "title": "Bedtime for Frances"
                                },
                                {
                                    "title": "A Bargain for Frances"
                                },
                                {
                                    "title": "Bread and Jam for Frances"
                                },
                                {
                                    "title": "Marching Powder: A True Story of Friendship, Cocaine, and South America's Strangest Jail"
                                },
                                {
                                    "title": "The Carrot Seed"
                                },
                                {
                                    "title": "Anne Frank: Beyond the Diary - A Photographic Remembrance"
                                },
                                {
                                    "title": "In the Miso Soup"
                                },
                                {
                                    "title": "The Blind Owl"
                                },
                                {
                                    "title": "Haroun and the Sea of Stories (Khalifa Brothers, #1)"
                                },
                                {
                                    "title": "Guess How Much I Love You"
                                },
                                {
                                    "title": "The Jordan Rules"
                                },
                                {
                                    "title": "The House of God"
                                },
                                {
                                    "title": "The Rime of the Ancient Mariner"
                                },
                                {
                                    "title": "Low Pressure"
                                },
                                {
                                    "title": "Clementine (Clementine, #1)"
                                },
                                {
                                    "title": "The Postmistress"
                                },
                                {
                                    "title": "Red Riding Hood"
                                },
                                {
                                    "title": "Having Our Say: The Delany Sisters' First 100 Years"
                                },
                                {
                                    "title": "Going Rogue: An American Life"
                                },
                                {
                                    "title": "The Magic Thief (Magic Thief, #1)"
                                },
                                {
                                    "title": "The Partly Cloudy Patriot"
                                },
                                {
                                    "title": "The Adventures of Augie March"
                                },
                                {
                                    "title": "Henderson the Rain King"
                                },
                                {
                                    "title": "Herzog"
                                },
                                {
                                    "title": "Our Dumb Century: The Onion Presents 100 Years of Headlines from America's Finest News Source"
                                },
                                {
                                    "title": "Eat and Run: My Unlikely Journey to Ultramarathon Greatness"
                                },
                                {
                                    "title": "Batman, Volume 1: The Court of Owls"
                                },
                                {
                                    "title": "Batman, Volume 3: Death of the Family"
                                },
                                {
                                    "title": "Batman, Volume 2: The City of Owls"
                                },
                                {
                                    "title": "Batman: The Black Mirror"
                                },
                                {
                                    "title": "American Vampire, Vol. 1"
                                },
                                {
                                    "title": "Goliath (Leviathan, #3)"
                                },
                                {
                                    "title": "Behemoth (Leviathan, #2)"
                                },
                                {
                                    "title": "Night Watch (Watch #1)"
                                },
                                {
                                    "title": "Day Watch (Watch #2)"
                                },
                                {
                                    "title": "Twilight Watch (Watch #3)"
                                },
                                {
                                    "title": "Pride and Prejudice and Zombies (Pride and Prejudice and Zombies, #1)"
                                },
                                {
                                    "title": "Book of a Thousand Days"
                                },
                                {
                                    "title": "A Severe Mercy: A Story of Faith, Tragedy and Triumph"
                                },
                                {
                                    "title": "The Absolutely True Diary of a Part-Time Indian"
                                },
                                {
                                    "title": "Lean In: Women, Work, and the Will to Lead"
                                },
                                {
                                    "title": "We Have Always Lived in the Castle"
                                },
                                {
                                    "title": "The Haunting of Hill House"
                                },
                                {
                                    "title": "FRUiTS"
                                },
                                {
                                    "title": "Silence"
                                },
                                {
                                    "title": "Si-cology 1: Tales and Wisdom from Duck Dynasty’s Favorite Uncle"
                                },
                                {
                                    "title": "The Whipping Boy"
                                },
                                {
                                    "title": "Civilization and Its Discontents"
                                },
                                {
                                    "title": "Soccernomics: Why England Loses, Why Germany and Brazil Win, and Why the U.S., Japan, Australia, Turkey--and Even Iraq--Are Destined to Become the Kings of the World's Most Popular Sport"
                                },
                                {
                                    "title": "The Second Sex"
                                },
                                {
                                    "title": "Slash"
                                },
                                {
                                    "title": "The Tibetan Book of Living and Dying"
                                },
                                {
                                    "title": "The Oedipus Cycle: Oedipus Rex/Oedipus at Colonus/Antigone (The Theban Plays, #1–3)"
                                },
                                {
                                    "title": "Antigone (The Theban Plays, #3)"
                                },
                                {
                                    "title": "Oedipus Rex  (The Theban Plays, #1)"
                                },
                                {
                                    "title": "Fear and Trembling"
                                },
                                {
                                    "title": "Who Moved My Cheese?"
                                },
                                {
                                    "title": "Manga Classics: Les Misérables"
                                },
                                {
                                    "title": "The Berenstain Bears and the Messy Room"
                                },
                                {
                                    "title": "The Berenstain Bears' Trouble at School"
                                },
                                {
                                    "title": "Inside, Outside, Upside Down (Berenstain Bears Bright and Early Board Book)"
                                },
                                {
                                    "title": "The Berenstain Bears Go to School"
                                },
                                {
                                    "title": "The Berenstain Bears Forget Their Manners"
                                },
                                {
                                    "title": "The Berenstain Bears and Too Much TV"
                                },
                                {
                                    "title": "Chess Story"
                                },
                                {
                                    "title": "Cold Comfort Farm"
                                },
                                {
                                    "title": "The Charterhouse of Parma"
                                },
                                {
                                    "title": "The Red and the Black"
                                },
                                {
                                    "title": "America's First Daughter"
                                },
                                {
                                    "title": "My True Love Gave to Me: Twelve Holiday Stories"
                                },
                                {
                                    "title": "Interesting Times: The Play"
                                },
                                {
                                    "title": "Guards! Guards!: The Play"
                                },
                                {
                                    "title": "Fish: A Proven Way to Boost Morale and Improve Results"
                                },
                                {
                                    "title": "I Am America (And So Can You!)"
                                },
                                {
                                    "title": "The Red Badge of Courage and Selected Short Fiction  "
                                },
                                {
                                    "title": "A Brief History of Time"
                                },
                                {
                                    "title": "The Grand Design"
                                },
                                {
                                    "title": "A Briefer History of Time"
                                },
                                {
                                    "title": "Shadows over Innsmouth"
                                },
                                {
                                    "title": "The Love Dare"
                                },
                                {
                                    "title": "Cycle of the Werewolf"
                                },
                                {
                                    "title": "Wolves of the Calla (The Dark Tower, #5)"
                                },
                                {
                                    "title": "The Stand"
                                },
                                {
                                    "title": "Creepshow"
                                },
                                {
                                    "title": "Insomnia"
                                },
                                {
                                    "title": "Song of Susannah (The Dark Tower, #6)"
                                },
                                {
                                    "title": "Wizard and Glass (The Dark Tower, #4)"
                                },
                                {
                                    "title": "Dolores Claiborne"
                                },
                                {
                                    "title": "The Wind Through the Keyhole (The Dark Tower, #4.5)"
                                },
                                {
                                    "title": "'Salem's Lot"
                                },
                                {
                                    "title": "Night Shift"
                                },
                                {
                                    "title": "Riding the Bullet"
                                },
                                {
                                    "title": "Christine"
                                },
                                {
                                    "title": "The Little Sisters of Eluria (The Dark Tower, #0.5)"
                                },
                                {
                                    "title": "The Waste Lands (The Dark Tower, #3)"
                                },
                                {
                                    "title": "The Talisman (The Talisman, #1)"
                                },
                                {
                                    "title": "Black House (The Talisman, #2)"
                                },
                                {
                                    "title": "The Body"
                                },
                                {
                                    "title": "One Past Midnight: The Langoliers"
                                },
                                {
                                    "title": "Dreamcatcher"
                                },
                                {
                                    "title": "First Things First"
                                },
                                {
                                    "title": "Wicked - Piano/Vocal Arrangement"
                                },
                                {
                                    "title": "Sweeney Todd: The Demon Barber of Fleet Street"
                                },
                                {
                                    "title": "The Twilight Saga (Twilight, #1-4)"
                                },
                                {
                                    "title": "Twilight: The Graphic Novel, Vol. 2  (Twilight: The Graphic Novel, #2)"
                                },
                                {
                                    "title": "The Paris Vendetta (Cotton Malone, #5)"
                                },
                                {
                                    "title": "Dawn of the Dreadfuls (Pride and Prejudice and Zombies, #0.5)"
                                },
                                {
                                    "title": "30 Days of Night, Vol. 1"
                                },
                                {
                                    "title": "Breaking Point (Tom Clancy's Net Force, #4)"
                                },
                                {
                                    "title": "SuperFreakonomics: Global Cooling, Patriotic Prostitutes And Why Suicide Bombers Should Buy Life Insurance"
                                },
                                {
                                    "title": "Freakonomics: A Rogue Economist Explores the Hidden Side of Everything (Freakonomics, #1)"
                                },
                                {
                                    "title": "Think Like a Freak"
                                },
                                {
                                    "title": "Van Gogh: The Life"
                                },
                                {
                                    "title": "The War of Art: Break Through the Blocks & Win Your Inner Creative Battles"
                                },
                                {
                                    "title": "The Millennium Trilogy (Millennium Trilogy, #1-3)"
                                },
                                {
                                    "title": "The Girl Who Played with Fire (Millennium, #2)"
                                },
                                {
                                    "title": "The Girl Who Kicked the Hornet's Nest (Millennium, #3)"
                                },
                                {
                                    "title": "The Girl with the Dragon Tattoo (Millennium, #1)"
                                },
                                {
                                    "title": "The Twelve Caesars"
                                },
                                {
                                    "title": "Tokyo Ghoul, tome 1 (Tokyo Ghoul, #1)"
                                },
                                {
                                    "title": "The Art of War"
                                },
                                {
                                    "title": "The Woman in Black"
                                },
                                {
                                    "title": "Meet Samantha: An American Girl (American Girls: Samantha, #1)"
                                },
                                {
                                    "title": "The Ladies of Grace Adieu and Other Stories"
                                },
                                {
                                    "title": "The Winter Sea (Slains, #1)"
                                },
                                {
                                    "title": "The Unabridged Journals of Sylvia Plath"
                                },
                                {
                                    "title": "The Collected Poems"
                                },
                                {
                                    "title": "The China Study: The Most Comprehensive Study of Nutrition Ever Conducted And the Startling Implications for Diet, Weight Loss, And Long-term Health"
                                },
                                {
                                    "title": "Drop City"
                                },
                                {
                                    "title": "Old Possum's Book of Practical Cats"
                                },
                                {
                                    "title": "The Waste Land"
                                },
                                {
                                    "title": "Gakuen Alice, Vol. 01 (Gakuen Alice, #1)"
                                },
                                {
                                    "title": "Season of Migration to the North"
                                },
                                {
                                    "title": "Animal-Speak: The Spiritual & Magical Powers of Creatures Great & Small"
                                },
                                {
                                    "title": "Lady and the Tramp"
                                },
                                {
                                    "title": "Beauty and the Beast (Disney)"
                                },
                                {
                                    "title": "Star Wars - Episode I: The Phantom Menace"
                                },
                                {
                                    "title": "Temple of the Winds (Sword of Truth, #4)"
                                },
                                {
                                    "title": "Lady Cottington's Pressed Fairy Book"
                                },
                                {
                                    "title": "Good Omens: The Nice and Accurate Prophecies of Agnes Nutter, Witch"
                                },
                                {
                                    "title": "The Last Hero (Discworld, #27; Rincewind #7)"
                                },
                                {
                                    "title": "The Long War (The Long Earth, #2)"
                                },
                                {
                                    "title": "The Long Earth (The Long Earth, #1)"
                                },
                                {
                                    "title": "Mort: The Play"
                                },
                                {
                                    "title": "Men at Arms: The Play"
                                },
                                {
                                    "title": "Totto-chan: The Little Girl at the Window"
                                },
                                {
                                    "title": "The Beatles Anthology"
                                },
                                {
                                    "title": "Waiter Rant: Thanks for the Tip-Confessions of a Cynical Waiter"
                                },
                                {
                                    "title": "Ten Apples Up On Top!"
                                },
                                {
                                    "title": "An American Tragedy"
                                },
                                {
                                    "title": "Peace Is Every Step: The Path of Mindfulness in Everyday Life"
                                },
                                {
                                    "title": "The Imitation of Christ"
                                },
                                {
                                    "title": "The Return of the Native  "
                                },
                                {
                                    "title": "The Mayor of Casterbridge"
                                },
                                {
                                    "title": "The Woodlanders"
                                },
                                {
                                    "title": "Far from the Madding Crowd"
                                },
                                {
                                    "title": "Tess of the D'Urbervilles"
                                },
                                {
                                    "title": "Leviathan"
                                },
                                {
                                    "title": "The Millionaire Next Door: The Surprising Secrets of Americas Wealthy"
                                },
                                {
                                    "title": "King Arthur and His Knights: Selected Tales"
                                },
                                {
                                    "title": "Le Morte d'Arthur: King Arthur and the Legends of the Round Table"
                                },
                                {
                                    "title": "Death in Venice and Other Tales"
                                },
                                {
                                    "title": "The Magic Mountain"
                                },
                                {
                                    "title": "Buddenbrooks: The Decline of a Family"
                                },
                                {
                                    "title": "Death in Venice"
                                },
                                {
                                    "title": "The Seven Storey Mountain"
                                },
                                {
                                    "title": "Utopia"
                                },
                                {
                                    "title": "Common Sense, The Rights of Man and Other Essential Writings"
                                },
                                {
                                    "title": "Capital in the Twenty-First Century"
                                },
                                {
                                    "title": "Our Town"
                                },
                                {
                                    "title": "History of the Peloponnesian War"
                                },
                                {
                                    "title": "Fahrenheit 451: The Authorized Adaptation"
                                },
                                {
                                    "title": "Armageddon: The Cosmic Battle of the Ages (Left Behind, #11)"
                                },
                                {
                                    "title": "The Rising: Antichrist is Born  (Before They Were Left Behind, #1)"
                                },
                                {
                                    "title": "The Indwelling (Left Behind, #7)"
                                },
                                {
                                    "title": "Desecration (Left Behind, #9)"
                                },
                                {
                                    "title": "The Remnant (Left Behind, #10)"
                                },
                                {
                                    "title": "Glorious Appearing: The End of Days (Left Behind, #12)"
                                },
                                {
                                    "title": "Apollyon (Left Behind, #5)"
                                },
                                {
                                    "title": "Assassins (Left Behind, #6)"
                                },
                                {
                                    "title": "The Mark (Left Behind, #8)"
                                },
                                {
                                    "title": "Nicolae (Left Behind, #3)"
                                },
                                {
                                    "title": "Soul Harvest: The World Takes Sides (Left Behind, #4)"
                                },
                                {
                                    "title": "Tribulation Force (Left Behind, #2)"
                                },
                                {
                                    "title": "Left Behind (Left Behind, #1)"
                                },
                                {
                                    "title": "Through My Eyes"
                                },
                                {
                                    "title": "The Meaning of Marriage: Facing the Complexities of Commitment with the Wisdom of God"
                                },
                                {
                                    "title": "Heaven is for Real: A Little Boy's Astounding Story of His Trip to Heaven and Back"
                                },
                                {
                                    "title": "Dead or Alive (Jack Ryan Universe, #13)"
                                },
                                {
                                    "title": "Threat Vector (Jack Ryan Universe, #15)"
                                },
                                {
                                    "title": "Command Authority (Jack Ryan Universe, #16)"
                                },
                                {
                                    "title": "Locked On (Jack Ryan Universe, #14)"
                                },
                                {
                                    "title": "Against All Enemies (Max Moore, #1)"
                                },
                                {
                                    "title": "In Search of Excellence: Lessons from America's Best-Run Companies"
                                },
                                {
                                    "title": "Bone: Quest for the Spark, Vol. 1"
                                },
                                {
                                    "title": "Rosencrantz and Guildenstern Are Dead"
                                },
                                {
                                    "title": "The Dirt: Confessions of the World's Most Notorious Rock Band"
                                },
                                {
                                    "title": "The Wallflower, Vol. 1 (The Wallflower, #1)"
                                },
                                {
                                    "title": "Emotional Intelligence 2.0"
                                },
                                {
                                    "title": "The Mysterious Benedict Society (The Mysterious Benedict Society, #1)"
                                },
                                {
                                    "title": "The Mysterious Benedict Society and the Prisoner's Dilemma (The Mysterious Benedict Society, #3)"
                                },
                                {
                                    "title": "The Mysterious Benedict Society and the Perilous Journey (The Mysterious Benedict Society, #2)"
                                },
                                {
                                    "title": "Little Red Riding Hood"
                                },
                                {
                                    "title": "The Day Jimmy's Boa Ate the Wash"
                                },
                                {
                                    "title": "When Rabbit Howls"
                                },
                                {
                                    "title": "Death Note, Vol. 1: Boredom (Death Note, #1)"
                                },
                                {
                                    "title": "Death Note, Vol. 4: Love (Death Note, #4)"
                                },
                                {
                                    "title": "Death Note, Vol. 3: Hard Run (Death Note, #3)"
                                },
                                {
                                    "title": "Death Note, Vol. 6: Give-and-Take (Death Note, #6)"
                                },
                                {
                                    "title": "Death Note, Vol. 8: Target (Death Note, #8)"
                                },
                                {
                                    "title": "Death Note, Vol. 7: Zero (Death Note, #7)"
                                },
                                {
                                    "title": "Death Note, Vol. 5: Whiteout (Death Note, #5)"
                                },
                                {
                                    "title": "Death Note, Vol. 2: Confluence (Death Note, #2)"
                                },
                                {
                                    "title": "Bakuman, Band 1: Traum und Realität"
                                },
                                {
                                    "title": "The Secret Race: Inside the Hidden World of the Tour de France: Doping, Cover-ups, and Winning at All Costs"
                                },
                                {
                                    "title": "History of Beauty"
                                },
                                {
                                    "title": "The Prague Cemetery"
                                },
                                {
                                    "title": "Foucault's Pendulum"
                                },
                                {
                                    "title": "Baudolino"
                                },
                                {
                                    "title": "The Name of the Rose"
                                },
                                {
                                    "title": "Sir Gawain and the Green Knight "
                                },
                                {
                                    "title": "Beowulf"
                                },
                                {
                                    "title": "The Jungle"
                                },
                                {
                                    "title": "The Left Hand of Darkness"
                                },
                                {
                                    "title": "A Gathering of Shadows (Shades of Magic, #2)"
                                },
                                {
                                    "title": "A Darker Shade of Magic (Shades of Magic, #1)"
                                },
                                {
                                    "title": "Vicious (Villains, #1)"
                                },
                                {
                                    "title": "Phantoms in the Brain: Probing the Mysteries of the Human Mind"
                                },
                                {
                                    "title": "Why Mosquitoes Buzz in People's Ears"
                                },
                                {
                                    "title": "Stuck-Up Suit"
                                },
                                {
                                    "title": "Dewey: The Small-Town Library Cat Who Touched the World"
                                },
                                {
                                    "title": "Les Misérables"
                                },
                                {
                                    "title": "The Hunchback of Notre-Dame"
                                },
                                {
                                    "title": "Pinkalicious"
                                },
                                {
                                    "title": "The Survivor (Mitch Rapp, #14)"
                                },
                                {
                                    "title": "Helter Skelter: The True Story of the Manson Murders"
                                },
                                {
                                    "title": "Dear Theo"
                                },
                                {
                                    "title": "The Letters of Vincent van Gogh"
                                },
                                {
                                    "title": "The Aeneid"
                                },
                                {
                                    "title": "Mrs. Dalloway"
                                },
                                {
                                    "title": "Lolita"
                                },
                                {
                                    "title": "Pnin"
                                },
                                {
                                    "title": "Blue Ocean Strategy: How To Create Uncontested Market Space And Make The Competition Irrelevant"
                                },
                                {
                                    "title": "Of Human Bondage"
                                },
                                {
                                    "title": "The Collected Poems of W.B. Yeats"
                                },
                                {
                                    "title": "The Souls of Black Folk"
                                },
                                {
                                    "title": "Austerlitz"
                                },
                                {
                                    "title": "Beauty and the Beast"
                                },
                                {
                                    "title": "The Work of Art in the Age of Its Technological Reproducibility, and Other Writings on Media"
                                },
                                {
                                    "title": "The Black Stallion (The Black Stallion, #1)"
                                },
                                {
                                    "title": "A Night to Remember"
                                },
                                {
                                    "title": "The 13½ Lives of Captain Bluebear (Zamonia, #1)"
                                },
                                {
                                    "title": "Desert Flower"
                                },
                                {
                                    "title": "Iron Man: Extremis"
                                },
                                {
                                    "title": "Transmetropolitan, Vol. 2: Lust for Life (Transmetropolitan, #2)"
                                },
                                {
                                    "title": "Transmetropolitan, Vol. 3: Year of the Bastard (Transmetropolitan, #3)"
                                },
                                {
                                    "title": "Transmetropolitan, Vol. 4: The New Scum (Transmetropolitan, #4)"
                                },
                                {
                                    "title": "Transmetropolitan, Vol. 5: Lonely City (Transmetropolitan, #5)"
                                },
                                {
                                    "title": "Transmetropolitan, Vol. 1: Back on the Street (Transmetropolitan, #1)"
                                },
                                {
                                    "title": "Planetary, Volume 1: All Over the World and Other Stories"
                                },
                                {
                                    "title": "The Little Engine That Could"
                                },
                                {
                                    "title": "The Other Wes Moore: One Name, Two Fates"
                                },
                                {
                                    "title": "The Moonstone"
                                },
                                {
                                    "title": "The Woman in White"
                                },
                                {
                                    "title": "What the Bleep Do We Know!?: Discovering the Endless Possibilities for Altering Your Everyday Reality"
                                },
                                {
                                    "title": "The Complete Poetry and Prose"
                                },
                                {
                                    "title": "Selected Poems"
                                },
                                {
                                    "title": "The Difference Engine "
                                },
                                {
                                    "title": "Burning Chrome (Sprawl, #0)"
                                },
                                {
                                    "title": "Johnny Mnemonic"
                                },
                                {
                                    "title": "Sounder"
                                },
                                {
                                    "title": "The Boy Who Harnessed the Wind: Creating Currents of Electricity and Hope"
                                },
                                {
                                    "title": "Vanity Fair"
                                },
                                {
                                    "title": "The Bad Seed"
                                },
                                {
                                    "title": "Cradle to Cradle: Remaking the Way We Make Things"
                                },
                                {
                                    "title": "The Wind Singer (Wind on Fire, #1)"
                                },
                                {
                                    "title": "Naked Lunch"
                                },
                                {
                                    "title": "Junky"
                                },
                                {
                                    "title": "Measure for Measure"
                                },
                                {
                                    "title": "Henry V"
                                },
                                {
                                    "title": "A Midsummer Night's Dream"
                                },
                                {
                                    "title": "Much Ado About Nothing"
                                },
                                {
                                    "title": "Antony and Cleopatra"
                                },
                                {
                                    "title": "King Henry IV, Part 1 (Wars of the Roses, #2)"
                                },
                                {
                                    "title": "Richard III"
                                },
                                {
                                    "title": "Shakespeare's Sonnets"
                                },
                                {
                                    "title": "Hamlet"
                                },
                                {
                                    "title": "Romeo and Juliet"
                                },
                                {
                                    "title": "The Merchant of Venice"
                                },
                                {
                                    "title": "Julius Caesar"
                                },
                                {
                                    "title": "Richard II"
                                },
                                {
                                    "title": "Four Great Tragedies: Hamlet / Othello / King Lear / Macbeth"
                                },
                                {
                                    "title": "The Elements of Style"
                                },
                                {
                                    "title": "The Pianist: The Extraordinary Story of One Man's Survival in Warsaw, 1939–45"
                                },
                                {
                                    "title": "Black Butler, Vol. 2 (Black Butler, #2)"
                                },
                                {
                                    "title": "Black Butler, Vol. 1 (Black Butler, #1)"
                                },
                                {
                                    "title": "Snow Country"
                                },
                                {
                                    "title": "We"
                                },
                                {
                                    "title": "Boys Over Flowers: Hana Yori Dango, Vol. 1 (Boys Over Flowers, #1)"
                                },
                                {
                                    "title": "The Housekeeper and the Professor"
                                },
                                {
                                    "title": "Hunter x Hunter, Vol. 01 (Hunter x Hunter, #1)"
                                },
                                {
                                    "title": "Skip Beat!, Vol. 01"
                                },
                                {
                                    "title": "Twilight: The Graphic Novel, Vol. 1 (Twilight: The Graphic Novel, #1)"
                                },
                                {
                                    "title": "The Sailor Who Fell from Grace with the Sea"
                                },
                                {
                                    "title": "Fushigi Yûgi: The Mysterious Play, Vol. 1: Priestess"
                                },
                                {
                                    "title": "See You at the Top"
                                },
                                {
                                    "title": "Girl Online (Girl Online, #1)"
                                },
                                {
                                    "title": "فوضى الحواس"
                                },
                                {
                                    "title": "عابر سرير"
                                },
                                {
                                    "title": "ذاكرة الجسد"
                                },
                                {
                                    "title": "com نسيان"
                                },
                                {
                                    "title": "الأسود يليق بك"
                                },
                                {
                                    "title": "تاكسي: حواديت المشاوير"
                                },
                                {
                                    "title": "ساق البامبو"
                                },
                                {
                                    "title": "رباعيات صلاح جاهين"
                                },
                                {
                                    "title": "قمر على سمرقند"
                                },
                                {
                                    "title": "محال"
                                },
                                {
                                    "title": "النبطي"
                                }
                            ]
                        },
                        "text/html": "<table><tr><th>title</th></tr><tr><td>When We Were Very Young (Winnie-the-Pooh, #3)</td></tr><tr><td>Now We Are Six (Winnie-the-Pooh, #4)</td></tr><tr><td>The World of Winnie-the-Pooh (Winnie-the-Pooh, #1-2)</td></tr><tr><td>The Complete Tales and Poems of Winnie-the-Pooh (Winnie-the-Pooh, #1-4)</td></tr><tr><td>Winnie-the-Pooh (Winnie-the-Pooh, #1)</td></tr><tr><td>The House at Pooh Corner (Winnie-the-Pooh, #2)</td></tr><tr><td>Sleeping Beauty (Disney Princess, 5)</td></tr><tr><td>Sleeping Beauty Box Set</td></tr><tr><td>Beauty's Punishment (Sleeping Beauty, #2)</td></tr><tr><td>Beauty's Release (Sleeping Beauty, #3)</td></tr><tr><td>The Claiming of Sleeping Beauty (Sleeping Beauty, #1)</td></tr><tr><td>Wings of Fire: An Autobiography</td></tr><tr><td>Dangerous Girls</td></tr><tr><td>A Higher Call: An Incredible True Story of Combat and Chivalry in the War-Torn Skies of World War II</td></tr><tr><td>Go the Fuck to Sleep</td></tr><tr><td>How to Talk So Kids Will Listen &amp; Listen So Kids Will Talk</td></tr><tr><td>The Invention of Morel</td></tr><tr><td>The Exploits of Sherlock Holmes</td></tr><tr><td>Agamemnon (Oresteia, #1)</td></tr><tr><td>The Oresteia  (Ορέστεια, #1-3)</td></tr><tr><td>Aesop's Fables</td></tr><tr><td>One, Two, Buckle My Shoe (Hercule Poirot, #22)</td></tr><tr><td>The Clocks (Hercule Poirot, #34)</td></tr><tr><td>The Mysterious Affair at Styles (Hercule Poirot, #1)</td></tr><tr><td>Reborn! Vol. 01: Reborn Arrives! (Reborn!, #1)</td></tr><tr><td>The Three Little Pigs (Disney Classic)</td></tr><tr><td>Hand, Hand, Fingers, Thumb</td></tr><tr><td>The 22 Immutable Laws of Marketing: Violate Them at Your Own Risk</td></tr><tr><td>Positioning: The Battle for Your Mind: How to Be Seen and Heard in the Overcrowded Marketplace</td></tr><tr><td>نادي السيارات</td></tr><tr><td>The Yacoubian Building</td></tr><tr><td>شيكاجو</td></tr><tr><td>Hello, Cupcake</td></tr><tr><td>A New Hope  (Star Wars: Novelizations #4)</td></tr><tr><td>The Force Awakens (Star Wars)</td></tr><tr><td>The Lord of the Rings Sketchbook</td></tr><tr><td>Batman: The Killing Joke</td></tr><tr><td>Superman: Whatever Happened to the Man of Tomorrow?</td></tr><tr><td>Watchmen</td></tr><tr><td>V for Vendetta</td></tr><tr><td>From Hell</td></tr><tr><td>The League of Extraordinary Gentlemen, Vol. 1</td></tr><tr><td>The League of Extraordinary Gentlemen, Vol. 2</td></tr><tr><td>Swamp Thing, Vol. 1: Saga of the Swamp Thing</td></tr><tr><td>The Myth of Sisyphus and Other Essays</td></tr><tr><td>The Fall</td></tr><tr><td>The Stranger</td></tr><tr><td>The Plague</td></tr><tr><td>Relativity: The Special and the General Theory</td></tr><tr><td>Brave New World / Brave New World Revisited</td></tr><tr><td>Горе от ума</td></tr><tr><td>The Gulag Archipelago 1918-1956</td></tr><tr><td>One Day in the Life of Ivan Denisovich</td></tr><tr><td>The Federalist Papers</td></tr><tr><td>Business Model Generation</td></tr><tr><td>Eugene Onegin</td></tr><tr><td>La Dame aux Camélias</td></tr><tr><td>Twenty Years After (The D'Artagnan Romances, #2)</td></tr><tr><td>The Man in the Iron Mask (The D'Artagnan Romances, #3.3)</td></tr><tr><td>The Count of Monte Cristo</td></tr><tr><td>Democracy in America </td></tr><tr><td>The Stars My Destination</td></tr><tr><td>The Lady of Shalott</td></tr><tr><td>My Life with the Walter Boys (My Life with the Walter Boys #1)</td></tr><tr><td>The Drama of the Gifted Child: The Search for the True Self</td></tr><tr><td>The Sandman: King of Dreams</td></tr><tr><td>The Dirty Girls Social Club (Dirty Girls, #1)</td></tr><tr><td>Where Eagles Dare </td></tr><tr><td>The Definitive Book of Body Language</td></tr><tr><td>Howl and Other Poems</td></tr><tr><td>Scary Stories to Tell in the Dark (Scary Stories, #1)</td></tr><tr><td>Hope: A Memoir of Survival in Cleveland</td></tr><tr><td>A House in the Sky</td></tr><tr><td>The America's Test Kitchen Family Cookbook</td></tr><tr><td>Illuminae (The Illuminae Files, #1)</td></tr><tr><td>Gemina (The Illuminae Files, #2)</td></tr><tr><td>These Broken Stars (Starbound, #1)</td></tr><tr><td>Samarkand</td></tr><tr><td>The Art of Amy Brown</td></tr><tr><td>Take This Regret (Take This Regret, #1)</td></tr><tr><td>The Climb: Tragic Ambitions on Everest</td></tr><tr><td>The Rainbow Comes and Goes: A Mother and Son On Life, Love, and Loss</td></tr><tr><td>Open</td></tr><tr><td>The Elvenbane (Halfblood Chronicles, #1)</td></tr><tr><td>Frindle</td></tr><tr><td>The Pragmatic Programmer: From Journeyman to Master</td></tr><tr><td>Finding Nemo</td></tr><tr><td>Harry Potter: A Pop-Up Book: Based on the Film Phenomenon</td></tr><tr><td>The Tale of Three Trees</td></tr><tr><td>Flyte (Septimus Heap, #2)</td></tr><tr><td>Queste (Septimus Heap, #4)</td></tr><tr><td>Physik (Septimus Heap, #3)</td></tr><tr><td>Darke (Septimus Heap, #6)</td></tr><tr><td>Stone Soup</td></tr><tr><td>Hunting and Gathering</td></tr><tr><td>Agnes Grey</td></tr><tr><td>The Tenant of Wildfell Hall</td></tr><tr><td>The Cake Mix Doctor</td></tr><tr><td>The Diary of a Young Girl</td></tr><tr><td>Anne Frank's Tales from the Secret Annex</td></tr><tr><td>Some Assembly Required: A Journal of My Son's First Son</td></tr><tr><td>Dragonflight (Dragonriders of Pern, #1)</td></tr><tr><td>Exit to Eden</td></tr><tr><td>Belinda</td></tr><tr><td>Vampire Chronicles: Interview with the Vampire, The Vampire Lestat, The Queen of the Damned (Anne Rice)</td></tr><tr><td>Taltos (Lives of the Mayfair Witches, #3)</td></tr><tr><td>The Complete Poems</td></tr><tr><td>The Accidental Tourist</td></tr><tr><td>Night World: The Ultimate Fan Guide</td></tr><tr><td>The Dhammapada</td></tr><tr><td>The Book of Mormon: Another Testament of Jesus Christ</td></tr><tr><td>The Upanishads: Translations from the Sanskrit</td></tr><tr><td>ESV Study Bible</td></tr><tr><td>The Epic of Gilgamesh</td></tr><tr><td>The Arabian Nights</td></tr><tr><td>The I Ching or Book of Changes</td></tr><tr><td>Life Application Study Bible: NIV</td></tr><tr><td>Scar Tissue</td></tr><tr><td>Unlimited Power : The New Science Of Personal Achievement</td></tr><tr><td>Awaken the Giant Within: How to Take Immediate Control of Your Mental, Emotional, Physical and Financial Destiny!</td></tr><tr><td>The Little Prince</td></tr><tr><td>The Seagull</td></tr><tr><td>The Complete Short Novels</td></tr><tr><td>Selected Stories</td></tr><tr><td>The Cherry Orchard</td></tr><tr><td>Katherine</td></tr><tr><td>Logicomix: An epic search for truth</td></tr><tr><td>Full Moon o Sagashite, Vol. 1</td></tr><tr><td>Lysistrata</td></tr><tr><td>The Nicomachean Ethics</td></tr><tr><td>Metaphysics</td></tr><tr><td>Poetics</td></tr><tr><td>Roadside Picnic</td></tr><tr><td>Tikki Tikki Tembo</td></tr><tr><td>Silence of the Grave (Inspector Erlendur #4)</td></tr><tr><td>Jar City (Inspector Erlendur, #3)</td></tr><tr><td>Rama II (Rama, #2)</td></tr><tr><td>The Garden of Rama (Rama, #3)</td></tr><tr><td>Rama Revealed (Rama, #4)</td></tr><tr><td>The Hound of the Baskervilles</td></tr><tr><td>The Valley of Fear</td></tr><tr><td>The Complete Sherlock Holmes, Vol 2</td></tr><tr><td>The Sign of Four</td></tr><tr><td>The Annotated Sherlock Holmes: The Four Novels and the Fifty-Six Short Stories Complete (2 Volume Set)</td></tr><tr><td>Darkness at Noon</td></tr><tr><td>The Crucible</td></tr><tr><td>All My Sons</td></tr><tr><td>The Flanders Panel</td></tr><tr><td>The Club Dumas</td></tr><tr><td>The Bookseller of Kabul</td></tr><tr><td>Assata: An Autobiography</td></tr><tr><td>Pippi in the South Seas</td></tr><tr><td>The Brothers Lionheart</td></tr><tr><td>Pippi Longstocking</td></tr><tr><td>Ronia, the Robber's Daughter</td></tr><tr><td>Complications: A Surgeon's Notes on an Imperfect Science</td></tr><tr><td>The Kissing Hand</td></tr><tr><td>The Napping House</td></tr><tr><td>Confessions</td></tr><tr><td>All My Friends Are Dead</td></tr><tr><td>Love★Com, Vol. 1</td></tr><tr><td>Atlas Shrugged</td></tr><tr><td>The Fountainhead</td></tr><tr><td>We the Living</td></tr><tr><td>The Virtue of Selfishness: A New Concept of Egoism</td></tr><tr><td>Last Train to Istanbul</td></tr><tr><td>Modern Romance</td></tr><tr><td>Kitchen</td></tr><tr><td>Hands Of Light</td></tr><tr><td>Animal, Vegetable, Miracle: A Year of Food Life</td></tr><tr><td>Junie B. Jones and the  Stupid Smelly Bus (Junie B. Jones, #1)</td></tr><tr><td>Rudolph the Red-Nosed Reindeer</td></tr><tr><td>The Guns of August</td></tr><tr><td>Ethics</td></tr><tr><td>Go Ask Alice</td></tr><tr><td>The Hedge Knight (The Hedge Knight Graphic Novels, #1)</td></tr><tr><td>Gifted Hands: The Ben Carson Story</td></tr><tr><td>Mrs. Mike (Mrs. Mike, #1)</td></tr><tr><td>The Autobiography of Benjamin Franklin</td></tr><tr><td>The Intelligent Investor (Collins Business Essentials)</td></tr><tr><td>The Tao of Pooh</td></tr><tr><td>I Love You Through and Through</td></tr><tr><td>The Reader</td></tr><tr><td>Mother Courage and Her Children</td></tr><tr><td>Why I Am Not a Christian and Other Essays on Religion and Related Subjects</td></tr><tr><td>Saving CeeCee Honeycutt</td></tr><tr><td>The Smartest Guys in the Room: The Amazing Rise and Scandalous Fall of Enron</td></tr><tr><td>The Feminine Mystique</td></tr><tr><td>Mrs. Piggle-Wiggle's Magic (Mrs. Piggle Wiggle, #2)</td></tr><tr><td>Mrs. Piggle-Wiggle (Mrs. Piggle Wiggle, #1)</td></tr><tr><td>Hello, Mrs. Piggle-Wiggle (Mrs. Piggle Wiggle, #4)</td></tr><tr><td>Ramona the Brave (Ramona, #3)</td></tr><tr><td>Ramona and Her Father (Ramona, #4)</td></tr><tr><td>The Mouse and the Motorcycle (Ralph S. Mouse, #1)</td></tr><tr><td>Dear Mr. Henshaw (Leigh Botts, #1)</td></tr><tr><td>Henry Huggins (Henry Huggins, #1)</td></tr><tr><td>Empty Mansions: The Mysterious Life of Huguette Clark and the Spending of a Great American Fortune</td></tr><tr><td>The Batman Chronicles, Vol. 1</td></tr><tr><td>Too Busy Not to Pray: Slowing Down to Be With God</td></tr><tr><td>Panda Bear, Panda Bear, What Do You See?</td></tr><tr><td>Brown Bear, Brown Bear, What Do You See?</td></tr><tr><td>Polar Bear, Polar Bear, What Do You Hear?</td></tr><tr><td>Chicka Chicka Boom Boom</td></tr><tr><td>Killing Kennedy: The End of Camelot</td></tr><tr><td>Killing Lincoln: The Shocking Assassination that Changed America Forever</td></tr><tr><td>Killing Jesus: A History</td></tr><tr><td>Killing Reagan: The Violent Assault That Changed a Presidency</td></tr><tr><td>Killing Patton: The Strange Death of World War II's Most Audacious General</td></tr><tr><td>Calvin and Hobbes</td></tr><tr><td>Fables, Vol. 1: Legends in Exile</td></tr><tr><td>Fables, Vol. 4: March of the Wooden Soldiers</td></tr><tr><td>Fables, Vol. 6: Homelands</td></tr><tr><td>Fables, Vol. 10: The Good Prince</td></tr><tr><td>Fables, Vol. 9: Sons of Empire</td></tr><tr><td>Fables, Vol. 3: Storybook Love</td></tr><tr><td>Fables, Vol. 2: Animal Farm</td></tr><tr><td>Fables, Vol. 7: Arabian Nights [and Days] (Fables, #7)</td></tr><tr><td>Fables, Vol. 8: Wolves</td></tr><tr><td>Fables, Vol. 5: The Mean Seasons</td></tr><tr><td>Black Elk Speaks: Being the Life Story of a Holy Man of the Oglala Sioux</td></tr><tr><td>Chasing Vermeer (Chasing Vermeer, #1)</td></tr><tr><td>The Legend of Sleepy Hollow (Graphic Novel)</td></tr><tr><td>Batman: No Man's Land, Vol. 1</td></tr><tr><td>Up from Slavery</td></tr><tr><td>Doctor Zhivago</td></tr><tr><td>Identity Crisis</td></tr><tr><td>Dracula</td></tr><tr><td>Skin Deep (Legion, #2)</td></tr><tr><td>The Ragamuffin Gospel: Good News for the Bedraggled, Beat-Up, and Burnt Out</td></tr><tr><td>Wonder Woman, Volume 1: Blood</td></tr><tr><td>100 Bullets, Vol. 1: First Shot, Last Call</td></tr><tr><td>The Joker</td></tr><tr><td>The Face of Fear</td></tr><tr><td>The Voice of the Night</td></tr><tr><td>Faeries</td></tr><tr><td>Good Faeries/Bad Faeries</td></tr><tr><td>House Harkonnen (Prelude to Dune #2)</td></tr><tr><td>The Machine Crusade (Legends of Dune, #2)</td></tr><tr><td>The Butlerian Jihad (Legends of Dune, #1)</td></tr><tr><td>House Atreides (Prelude to Dune #1)</td></tr><tr><td>House Corrino (Prelude to Dune #3)</td></tr><tr><td>Hunters of Dune (Dune Chronicles #7)</td></tr><tr><td>The Long Patrol (Redwall, #10)</td></tr><tr><td>Mariel of Redwall (Redwall, #4)</td></tr><tr><td>Salamandastron (Redwall, #5)</td></tr><tr><td>Runaways, Vol. 1: Pride and Joy (Runaways, #1)</td></tr><tr><td>Paper Girls, Vol. 1 (Paper Girls, #1)</td></tr><tr><td>Saga, Vol. 6 (Saga, #6)</td></tr><tr><td>Saga, Vol. 3 (Saga, #3)</td></tr><tr><td>Saga, Vol. 4 (Saga, #4)</td></tr><tr><td>Saga, Vol. 5 (Saga, #5)</td></tr><tr><td>Saga, Vol. 2 (Saga, #2)</td></tr><tr><td>Saga #1</td></tr><tr><td>Saga, Vol. 1 (Saga, #1)</td></tr><tr><td>Pride of Baghdad</td></tr><tr><td>Y: The Last Man, Vol. 4: Safeword (Y: The Last Man, #4)</td></tr><tr><td>Y: The Last Man, Vol. 7: Paper Dolls (Y: The Last Man, #7)</td></tr><tr><td>Y: The Last Man, Vol. 9: Motherland (Y: The Last Man, #9)</td></tr><tr><td>Y: The Last Man, Vol. 6: Girl on Girl (Y: The Last Man, #6)</td></tr><tr><td>Y: The Last Man, Vol. 8: Kimono Dragons (Y: The Last Man, #8)</td></tr><tr><td>Y: The Last Man, Vol. 5: Ring of Truth (Y: The Last Man, #5)</td></tr><tr><td>Y: The Last Man, Vol. 2: Cycles (Y: The Last Man, #2)</td></tr><tr><td>Y: The Last Man, Vol. 1: Unmanned</td></tr><tr><td>Y: The Last Man, Vol. 10: Whys and Wherefores (Y: The Last Man, #10)</td></tr><tr><td>Y: The Last Man - The Deluxe Edition Book One</td></tr><tr><td>Y: The Last Man, Vol. 3: One Small Step (Y: The Last Man, #3)</td></tr><tr><td>George Washington's Secret Six: The Spy Ring That Saved the American Revolution</td></tr><tr><td>Ultimate Spider-Man, Volume 1: Power and Responsibility</td></tr><tr><td>House of M</td></tr><tr><td>God's Smuggler</td></tr><tr><td>Secrets of the Vine: Breaking Through to Abundance</td></tr><tr><td>The Magic Mirror of M.C. Escher</td></tr><tr><td>Barbarians at the Gate: The Fall of RJR Nabisco</td></tr><tr><td>Raymond E. Feist's Magician Master</td></tr><tr><td>Avatar: The Last Airbender: The Lost Adventures</td></tr><tr><td>Seconds</td></tr><tr><td>Scott Pilgrim, Volume 4: Scott Pilgrim Gets It Together</td></tr><tr><td>Anne McCaffrey's Dragonflight #1</td></tr><tr><td>Loving What Is: Four Questions That Can Change Your Life</td></tr><tr><td>Memories, Dreams, Reflections</td></tr><tr><td>Man and His Symbols</td></tr><tr><td>The Chronicles of Narnia (Chronicles of Narnia, #1-7)</td></tr><tr><td>The Voyage of the Dawn Treader (Chronicles of Narnia, #3)</td></tr><tr><td>The Silver Chair (Chronicles of Narnia, #4)</td></tr><tr><td>The Preacher (Patrik Hedström, #2)</td></tr><tr><td>The Ice Princess (Patrik Hedström, #1)</td></tr><tr><td>The Hidden Child (Patrik Hedström, #5)</td></tr><tr><td>One Fifth Avenue</td></tr><tr><td>Snowmen at Night</td></tr><tr><td>All the President's Men</td></tr><tr><td>On Becoming a Person: A Therapist's View of Psychotherapy</td></tr><tr><td>The Demon-Haunted World: Science as a Candle in the Dark</td></tr><tr><td>Billions &amp; Billions: Thoughts on Life and Death at the Brink of the Millennium</td></tr><tr><td>Pale Blue Dot: A Vision of the Human Future in Space</td></tr><tr><td>Pinocchio</td></tr><tr><td>The Angel's Game (The Cemetery of Forgotten Books, #2)</td></tr><tr><td>The Shadow of the Wind (The Cemetery of Forgotten Books,  #1)</td></tr><tr><td>The Prince of Mist (Niebla, #1)</td></tr><tr><td>The Midnight Palace (Niebla, #2)</td></tr><tr><td>Mistakes Were Made (But Not by Me): Why We Justify Foolish Beliefs, Bad Decisions, and Hurtful Acts</td></tr><tr><td>Escape</td></tr><tr><td>The Hidden Staircase (Nancy Drew #2)</td></tr><tr><td>The Secret of the Old Clock (Nancy Drew, #1)</td></tr><tr><td>As You Wish: Inconceivable Tales from the Making of The Princess Bride</td></tr><tr><td>The Infernal Devices: Clockwork Angel (The Infernal Devices: Manga, #1)</td></tr><tr><td>The Shadowhunter's Codex</td></tr><tr><td>Welcome to Shadowhunter Academy (Tales from the Shadowhunter Academy, #1)</td></tr><tr><td>What Really Happened in Peru (The Bane Chronicles, #1)</td></tr><tr><td>The Bane Chronicles</td></tr><tr><td>The Girl Who Circumnavigated Fairyland in a Ship of Her Own Making (Fairyland, #1)</td></tr><tr><td>El Deafo</td></tr><tr><td>Les Fleurs du Mal</td></tr><tr><td>Mutiny on the Bounty (The Bounty Trilogy, #1)</td></tr><tr><td>Oliver Twist</td></tr><tr><td>Little Dorrit</td></tr><tr><td>David Copperfield</td></tr><tr><td>A Christmas Carol, The Chimes and The Cricket on the Hearth</td></tr><tr><td>Nicholas Nickleby</td></tr><tr><td>A Christmas Carol and Other Christmas Writings</td></tr><tr><td>Bleak House</td></tr><tr><td>The Old Curiosity Shop</td></tr><tr><td>Martin Chuzzlewit</td></tr><tr><td>A Tale of Two Cities</td></tr><tr><td>Art in Theory 1900 - 2000: An Anthology of Changing Ideas</td></tr><tr><td>Villette</td></tr><tr><td>Shirley</td></tr><tr><td>Jane Eyre</td></tr><tr><td>The Yellow Wall-Paper</td></tr><tr><td>Lies That Chelsea Handler Told Me</td></tr><tr><td>Made to Stick: Why Some Ideas Survive and Others Die</td></tr><tr><td>Switch: How to Change Things When Change Is Hard</td></tr><tr><td>The Lord of the Rings: Weapons and Warfare</td></tr><tr><td>X-Men: The Dark Phoenix Saga</td></tr><tr><td>The Wishing Spell (The Land of Stories, #1)</td></tr><tr><td>The Enchantress Returns (The Land of Stories, #2)</td></tr><tr><td>A Grimm Warning (The Land of Stories, #3)</td></tr><tr><td>American Sniper: The Autobiography of the Most Lethal Sniper in U.S. Military History</td></tr><tr><td>The Complete Clive Barker's The Great And Secret Show</td></tr><tr><td>The Chronicles of Harris Burdick: 14 Amazing Authors Tell the Tales</td></tr><tr><td>Wir Kinder vom Bahnhof Zoo</td></tr><tr><td>Sex at Dawn: The Prehistoric Origins of Modern Sexuality</td></tr><tr><td>The Invisible Gorilla: And Other Ways Our Intuitions Deceive Us</td></tr><tr><td>The Portable Atheist: Essential Readings for the Nonbeliever</td></tr><tr><td>Island of the Sequined Love Nun</td></tr><tr><td>Ender's Game, Volume 1: Battle School (Ender's Saga)</td></tr><tr><td>Ender's Game, Volume 2: Command School</td></tr><tr><td>The Hobbit: Graphic Novel</td></tr><tr><td>The Five Chinese Brothers</td></tr><tr><td>Cardcaptor Sakura: Master of the Clow, Vol. 1 (Cardcaptor Sakura, #7)</td></tr><tr><td>Tsubasa: RESERVoir CHRoNiCLE, Vol. 01</td></tr><tr><td>Cardcaptor Sakura, Vol. 1 (Cardcaptor Sakura, #1)</td></tr><tr><td>Chobits, Vol. 1</td></tr><tr><td>xxxHolic, Vol. 1 (xxxHOLiC, #1)</td></tr><tr><td>The Second Assistant: A Tale from the Bottom of the Hollywood Ladder</td></tr><tr><td>How Will You Measure Your Life?</td></tr><tr><td>The Night Before Christmas</td></tr><tr><td>Mrs. Kennedy and Me: An Intimate Memoir</td></tr><tr><td>Pacific Vortex! (Dirk Pitt, #1)</td></tr><tr><td>Wildwood (Wildwood Chronicles, #1)</td></tr><tr><td>Never Never (Never Never, #1)</td></tr><tr><td>Never Never: Part Two (Never Never, #2)</td></tr><tr><td>Never Never: Part Three (Never Never, #3)</td></tr><tr><td>The Analects</td></tr><tr><td>The New Best Recipe</td></tr><tr><td>The Moonlit Garden</td></tr><tr><td>Inkspell (Inkworld, #2)</td></tr><tr><td>Inkheart (Inkworld, #1)</td></tr><tr><td>The Hiding Place: The Triumphant True Story of Corrie Ten Boom</td></tr><tr><td>In Real Life</td></tr><tr><td>My Lady Jane (The Lady Janies, #1)</td></tr><tr><td>The Relatives Came</td></tr><tr><td>Jesus Freaks: Stories of Those Who Stood for Jesus, the Ultimate Jesus Freaks (Jesus Freaks, #1)</td></tr><tr><td>The Rainbow</td></tr><tr><td>Lady Chatterley's Lover</td></tr><tr><td>Sons and Lovers</td></tr><tr><td>Balzac and the Little Chinese Seamstress</td></tr><tr><td>The Art of Happiness</td></tr><tr><td>It Starts with Food: Discover the Whole30 and Change Your Life in Unexpected Ways</td></tr><tr><td>The Death of Superman</td></tr><tr><td>A Game of Thrones: Comic Book, Issue 1</td></tr><tr><td>A Game of Thrones: The Graphic Novel, Vol. 1</td></tr><tr><td>The Talent Code: Unlocking the Secret of Skill in Sports, Art, Music, Math, and Just About Everything Else</td></tr><tr><td>Robinson Crusoe</td></tr><tr><td>Why We Broke Up</td></tr><tr><td>No One Here Gets Out Alive</td></tr><tr><td>The Divine Comedy</td></tr><tr><td>Inferno (The Divine Comedy #1)</td></tr><tr><td>Paradiso (The Divine Comedy, #3)</td></tr><tr><td>Purgatorio (The Divine Comedy, #2)</td></tr><tr><td>Rebecca</td></tr><tr><td>Why Nations Fail: The Origins of Power, Prosperity, and Poverty</td></tr><tr><td>DC: The New Frontier, Volume 1</td></tr><tr><td>The Adventures of Ook and Gluk, Kung-Fu Cavemen from the Future</td></tr><tr><td>Longitude: The True Story of a Lone Genius Who Solved the Greatest Scientific Problem of His Time</td></tr><tr><td>Peter and the Secret of Rundoon (Peter and the Starcatchers, #3)</td></tr><tr><td>Peter and the Starcatchers (Peter and the Starcatchers, #1)</td></tr><tr><td>Peter and the Shadow Thieves (Peter and the Starcatchers, #2)</td></tr><tr><td>Grain Brain: The Surprising Truth about Wheat, Carbs,  and Sugar--Your Brain's Silent Killers</td></tr><tr><td>Icebound</td></tr><tr><td>Harry Potter and Philosophy: If Aristotle Ran Hogwarts</td></tr><tr><td>Art and Fear: Observations on the Perils (and Rewards) of Artmaking</td></tr><tr><td>Wicked: The Grimmerie</td></tr><tr><td>Polgara the Sorceress (Malloreon)</td></tr><tr><td>Belgarath the Sorcerer</td></tr><tr><td>The Redemption of Althalus</td></tr><tr><td>Franz Kafka's The Castle (Dramatization)</td></tr><tr><td>The Pale King</td></tr><tr><td>The Girl in the Spider's Web (Millennium, #4)</td></tr><tr><td>Squirrel Seeks Chipmunk: A Modest Bestiary</td></tr><tr><td>The Cross and the Switchblade</td></tr><tr><td>Fix-It and Forget-It Cookbook: Feasting with Your Slow Cooker</td></tr><tr><td>City of Night (Dean Koontz's Frankenstein, #2)</td></tr><tr><td>Seize the Night (Moonlight Bay, #2)</td></tr><tr><td>Dean Koontz's Frankenstein, Volume 1: Prodigal Son</td></tr><tr><td>Prodigal Son (Dean Koontz's Frankenstein, #1)</td></tr><tr><td>Cold Fire / Hideaway / The Key to Midnight</td></tr><tr><td>Is Your Mama a Llama?</td></tr><tr><td>Train Dreams</td></tr><tr><td>Skulduggery Pleasant (Skulduggery Pleasant, #1)</td></tr><tr><td>Ancestors of Avalon (Avalon, #5)</td></tr><tr><td>Diane Arbus: Monograph</td></tr><tr><td>The Monkey's Paw (Oxford Bookworms)</td></tr><tr><td>The Little Red Hen (Little Golden Book)</td></tr><tr><td>Babe: The Gallant Pig</td></tr><tr><td>The New Bedside, Bathtub and Armchair Companion to Agatha Christie</td></tr><tr><td>Beyond Band of Brothers: The War Memoirs of Major Dick Winters</td></tr><tr><td>Metro 2033 (METRO, #1)</td></tr><tr><td>The 101 Dalmatians (The Hundred and One Dalmatians, #1)</td></tr><tr><td>The Little Mouse, the Red Ripe Strawberry, and the Big Hungry Bear</td></tr><tr><td>Falling Man</td></tr><tr><td>90 Minutes in Heaven: A True Story of Death and Life</td></tr><tr><td>Ox-Cart Man (Picture Puffin)</td></tr><tr><td>Trump: The Art of the Deal</td></tr><tr><td>Giggle, Giggle, Quack</td></tr><tr><td>Click, Clack, Moo: Cows That Type</td></tr><tr><td>Diary of a Worm</td></tr><tr><td>Baking: From My Home to Yours</td></tr><tr><td>Team of Rivals: The Political Genius of Abraham Lincoln</td></tr><tr><td>Batman: Knightfall, Vol. 1: Broken Bat</td></tr><tr><td>Last Chance to See</td></tr><tr><td>White Fire (Pendergast, #13)</td></tr><tr><td>Cold Vengeance (Pendergast, #11)</td></tr><tr><td>The Ice Limit (Ice Limit #1)</td></tr><tr><td>Two Graves (Pendergast, #12)</td></tr><tr><td>Riptide</td></tr><tr><td>Gideon's Sword (Gideon Crew, #1)</td></tr><tr><td>Mount Dragon</td></tr><tr><td>Blue Labyrinth (Pendergast, #14)</td></tr><tr><td>The Wheel of Darkness (Pendergast, #8)</td></tr><tr><td>Cemetery Dance (Pendergast, #9)</td></tr><tr><td>The Book of the Dead (Pendergast, #7; Diogenes, #3)</td></tr><tr><td>Fever Dream (Pendergast, #10)</td></tr><tr><td>Still Life With Crows (Pendergast, #4)</td></tr><tr><td>Thunderhead</td></tr><tr><td>Dance of Death (Pendergast, #6; Diogenes, #2)</td></tr><tr><td>Brimstone (Pendergast, #5; Diogenes, #1)</td></tr><tr><td>The Cabinet of Curiosities (Pendergast, #3)</td></tr><tr><td>Reliquary (Pendergast, #2)</td></tr><tr><td>Relic (Pendergast, #1)</td></tr><tr><td>Crimson Shore (Pendergast, #15)</td></tr><tr><td>The Monster of Florence</td></tr><tr><td>The Secret Art of Dr. Seuss</td></tr><tr><td>In a People House</td></tr><tr><td>The Cat in the Hat and Other Dr. Seuss Favorites</td></tr><tr><td>Green Eggs and Ham</td></tr><tr><td>The Day the Crayons Quit</td></tr><tr><td>Of Course I Love You...! Till I Find Someone Better...</td></tr><tr><td>The Trumpet of the Swan</td></tr><tr><td>Stuart Little</td></tr><tr><td>Charlotte's Web</td></tr><tr><td>Selected Poems</td></tr><tr><td>A Little History of the World</td></tr><tr><td>A Passage to India</td></tr><tr><td>Batman: The Man Who Laughs</td></tr><tr><td>Creativity, Inc.: Overcoming the Unseen Forces That Stand in the Way of True Inspiration</td></tr><tr><td>Essential Tales and Poems</td></tr><tr><td>The Tell-Tale Heart</td></tr><tr><td>The Raven</td></tr><tr><td>The Raven and other poems</td></tr><tr><td>The Fall of the House of Usher and Other Tales </td></tr><tr><td>A Princess of Mars (Barsoom, #1)</td></tr><tr><td>The Nazi Officer's Wife: How One Jewish Woman Survived the Holocaust</td></tr><tr><td>Mythology: Timeless Tales of Gods and Heroes</td></tr><tr><td>Ethan Frome and Other Short Fiction</td></tr><tr><td>The Age of Innocence</td></tr><tr><td>The House of Mirth</td></tr><tr><td>Cyrano de Bergerac</td></tr><tr><td>The Faerie Queene </td></tr><tr><td>Tangerine</td></tr><tr><td>Half Magic (Tales of Magic, #1)</td></tr><tr><td>The Decline and Fall of the Roman Empire</td></tr><tr><td>Flatland: A Romance of Many Dimensions</td></tr><tr><td>One Piece, Volume 01: Romance Dawn (One Piece, #1)</td></tr><tr><td>Musashi</td></tr><tr><td>Sadako and the Thousand Paper Cranes</td></tr><tr><td>The Hundred Dresses</td></tr><tr><td>My Brilliant Friend (The Neapolitan Novels #1)</td></tr><tr><td>Those Who Leave and Those Who Stay (The Neapolitan Novels #3)</td></tr><tr><td>The Story of a New Name (The Neapolitan Novels #2)</td></tr><tr><td>The Story of the Lost Child (The Neapolitan Novels, #4)</td></tr><tr><td>Night (The Night Trilogy #1)</td></tr><tr><td>The Forty Rules of Love</td></tr><tr><td>Stolen Innocence: My Story of Growing Up in a Polygamous Sect, Becoming a Teenage Bride, and Breaking Free of Warren Jeffs</td></tr><tr><td>The Goal: A Process of Ongoing Improvement</td></tr><tr><td>My Story</td></tr><tr><td>North and South</td></tr><tr><td>Wives and Daughters</td></tr><tr><td>Mary Barton</td></tr><tr><td>The Three Little Pigs</td></tr><tr><td>My Name Is Lucy Barton</td></tr><tr><td>Henry's Freedom Box: A True Story from the Underground Railroad</td></tr><tr><td>A Kiss for Little Bear (An I Can Read Book) by Minarik, Else Holmelund [1984]</td></tr><tr><td>Little Bear's Friend</td></tr><tr><td>Little Bear</td></tr><tr><td>Thérèse Raquin</td></tr><tr><td>Germinal (Les Rougon-Macquart, #13)</td></tr><tr><td>When I'm Gone</td></tr><tr><td>Wuthering Heights</td></tr><tr><td>The Complete Poems of Emily Dickinson</td></tr><tr><td>The Nanny Diaries (Nanny, #1)</td></tr><tr><td>Lassie Come-Home</td></tr><tr><td>Pete the Cat: I Love My White Shoes</td></tr><tr><td>How Google Works</td></tr><tr><td>Oz: The Wonderful Wizard of Oz</td></tr><tr><td>The Bourne Objective (Jason Bourne, #8)</td></tr><tr><td>The Art of Loving</td></tr><tr><td>All Quiet on the Western Front</td></tr><tr><td>The Devil in the White City: Murder, Magic, and Madness at the Fair That Changed America</td></tr><tr><td>The Freedom Writers Diary</td></tr><tr><td>Paper Princess (The Royals, #1)</td></tr><tr><td>Naïve. Super</td></tr><tr><td>The Motorcycle Diaries: Notes on a Latin American Journey</td></tr><tr><td>Tobacco Road (Brown Thrasher Books)</td></tr><tr><td>This Star Won't Go Out: The Life and Words of Esther Grace Earl</td></tr><tr><td>Johnny Tremain</td></tr><tr><td>The Law of Attraction: The Basics of the Teachings of Abraham</td></tr><tr><td>Money, and the Law of Attraction: Learning to Attract Wealth, Health, and Happiness</td></tr><tr><td>Ask and It Is Given: Learning to Manifest Your Desires</td></tr><tr><td>With the Old Breed: At Peleliu and Okinawa</td></tr><tr><td>Pinocchio</td></tr><tr><td>Peter Pan (A Little Golden Book)</td></tr><tr><td>Medea</td></tr><tr><td>The Vagina Monologues</td></tr><tr><td>The Short Stories</td></tr><tr><td>Daytripper</td></tr><tr><td>Anne Rice's The Vampire Lestat: A Graphic Novel</td></tr><tr><td>Anne Rice's The Tale of the Body Thief (A Graphic Novel)</td></tr><tr><td>La casa de Bernarda Alba</td></tr><tr><td>You're Never Weird on the Internet (Almost)</td></tr><tr><td>Bambi</td></tr><tr><td>The Book of Disquiet</td></tr><tr><td>Everything That Rises Must Converge: Stories</td></tr><tr><td>The Good Soldier</td></tr><tr><td>A Little Princess</td></tr><tr><td>A Voice in the Wind (Mark of the Lion, #1)</td></tr><tr><td>Forgotten God: Reversing Our Tragic Neglect of the Holy Spirit</td></tr><tr><td>Crazy Love: Overwhelmed by a Relentless God</td></tr><tr><td>Hector and the Search for Happiness</td></tr><tr><td>Gargantua and Pantagruel</td></tr><tr><td>Cheaper by the Dozen</td></tr><tr><td>House</td></tr><tr><td>Batman: Year One</td></tr><tr><td>Batman: The Dark Knight Returns (The Dark Knight Saga, #1)</td></tr><tr><td>300</td></tr><tr><td>Batman: The Dark Knight Strikes Again (The Dark Knight Saga, #2)</td></tr><tr><td>Catch Me If You Can: The True Story of a Real Fake</td></tr><tr><td>The Wretched of the Earth</td></tr><tr><td>The Trial</td></tr><tr><td>The Metamorphosis and Other Stories</td></tr><tr><td>The Castle</td></tr><tr><td>The Complete Stories</td></tr><tr><td>The Metamorphosis</td></tr><tr><td>Amerika</td></tr><tr><td>A Man Called Ove</td></tr><tr><td>My Grandmother Asked Me to Tell You She's Sorry</td></tr><tr><td>Britt-Marie Was Here</td></tr><tr><td>The Diary of Frida Kahlo: An Intimate Self-Portrait</td></tr><tr><td>On the Genealogy of Morals</td></tr><tr><td>The Anti-Christ</td></tr><tr><td>Beyond Good and Evil</td></tr><tr><td>Thus Spoke Zarathustra</td></tr><tr><td>The Gay Science</td></tr><tr><td>On the Genealogy of Morals/Ecce Homo</td></tr><tr><td>Notes from Underground, White Nights, The Dream of a Ridiculous Man, and Selections from The House of the Dead</td></tr><tr><td>Notes from Underground</td></tr><tr><td>The Idiot</td></tr><tr><td>The Gambler</td></tr><tr><td>Crime and Punishment</td></tr><tr><td>The House of the Dead</td></tr><tr><td>The Brothers Karamazov</td></tr><tr><td>Demons</td></tr><tr><td>Ms. Marvel, Vol. 1: No Normal</td></tr><tr><td>Ms. Marvel, Vol. 2: Generation Why</td></tr><tr><td>The Man Who Was Thursday: A Nightmare</td></tr><tr><td>Love in the Time of Cholera</td></tr><tr><td>Memories of My Melancholy Whores</td></tr><tr><td>The General in His Labyrinth</td></tr><tr><td>The Autumn of the Patriarch</td></tr><tr><td>Chronicle of a Death Foretold</td></tr><tr><td>One Hundred Years of Solitude</td></tr><tr><td>Innocent Erendira and Other Stories</td></tr><tr><td>No One Writes to the Colonel and Other Stories</td></tr><tr><td>The Story of a Shipwrecked Sailor</td></tr><tr><td>Preacher, Volume 7: Salvation</td></tr><tr><td>Preacher, Volume 9: Alamo</td></tr><tr><td>Preacher, Volume 5: Dixie Fried</td></tr><tr><td>Preacher, Volume 2: Until the End of the World</td></tr><tr><td>Preacher, Volume 1: Gone to Texas</td></tr><tr><td>Preacher, Volume 8: All Hell's a-Coming</td></tr><tr><td>Preacher, Volume 3: Proud Americans</td></tr><tr><td>Preacher, Volume 6: War in the Sun</td></tr><tr><td>Preacher, Volume 4: Ancient History</td></tr><tr><td>The Five Love Languages of Children</td></tr><tr><td>The One Thing: The Surprisingly Simple Truth Behind Extraordinary Results</td></tr><tr><td>The Phantom of the Opera</td></tr><tr><td>The Phoenix Project: A Novel About IT, DevOps, and Helping Your Business Win</td></tr><tr><td>Avatar: The Last Airbender (The Search, #1)</td></tr><tr><td>Avatar: The Last Airbender (The Promise, #1)</td></tr><tr><td>Avatar: The Last Airbender (The Rift, #1)</td></tr><tr><td>Avatar: The Last Airbender (The Promise, #2)</td></tr><tr><td>Harry the Dirty Dog</td></tr><tr><td>Batman: Earth One, Volume 1</td></tr><tr><td>Crossing the Chasm: Marketing and Selling High-Tech Products to Mainstream Customers</td></tr><tr><td>The Canterbury Tales</td></tr><tr><td>The Legend of Sleepy Hollow and Other Stories</td></tr><tr><td>Phenomenology of Spirit</td></tr><tr><td>Pygmalion &amp; My Fair Lady</td></tr><tr><td>Pygmalion and Three Other Plays</td></tr><tr><td>The Complete Phantom of the Opera</td></tr><tr><td>Last Words</td></tr><tr><td>The Mill on the Floss</td></tr><tr><td>Daniel Deronda</td></tr><tr><td>Adam Bede</td></tr><tr><td>Middlemarch</td></tr><tr><td>Selected Poems</td></tr><tr><td>The Princess and the Goblin  (Princess Irene and Curdie, #1)</td></tr><tr><td>Animal Farm / 1984</td></tr><tr><td>1984</td></tr><tr><td>Homage to Catalonia</td></tr><tr><td>The World of Ice &amp; Fire: The Untold History of Westeros and the Game of Thrones</td></tr><tr><td>Rogues</td></tr><tr><td>A Knight of the Seven Kingdoms (The Tales of Dunk and Egg, #1-3)</td></tr><tr><td>The Cricket in Times Square</td></tr><tr><td>Story of the Eye</td></tr><tr><td>My Family and Other Animals (Corfu Trilogy, #1)</td></tr><tr><td>The Umbrella Academy, Vol. 1: The Apocalypse Suite</td></tr><tr><td>The Boxcar Children (The Boxcar Children, #1)</td></tr><tr><td>Giada's Family Dinners</td></tr><tr><td>Giraffes Can't Dance</td></tr><tr><td>Just Me in the Tub (Mercer Mayer's Little Critter)</td></tr><tr><td>The Lives of the Artists</td></tr><tr><td>The Decameron</td></tr><tr><td>Gut: The Inside Story of Our Body’s Most Underrated Organ</td></tr><tr><td>The Leopard</td></tr><tr><td>Horrorstör</td></tr><tr><td>Brighton Rock</td></tr><tr><td>The Power and the Glory</td></tr><tr><td>The End of the Affair</td></tr><tr><td>The Quiet American</td></tr><tr><td>Batman and Son</td></tr><tr><td>Batman: Arkham Asylum - A Serious House on Serious Earth</td></tr><tr><td>All-Star Superman, Vol. 1</td></tr><tr><td>All-Star Superman, Vol. 2</td></tr><tr><td>We3</td></tr><tr><td>Batman &amp; Robin: Batman Reborn</td></tr><tr><td>He's Just Not That Into You: The No-Excuses Truth to Understanding Guys</td></tr><tr><td>Three Cups of Tea: One Man's Mission to Promote Peace ... One School at a Time</td></tr><tr><td>Stones Into Schools: Promoting Peace With Books, Not Bombs, in Afghanistan and Pakistan</td></tr><tr><td>The Incredible Hulk: Planet Hulk</td></tr><tr><td>Batwoman: Elegy</td></tr><tr><td>Son of a Witch (The Wicked Years, #2)</td></tr><tr><td>Wicked: The Life and Times of the Wicked Witch of the West (The Wicked Years, #1)</td></tr><tr><td>Lost</td></tr><tr><td>Out of Oz (The Wicked Years, #4)</td></tr><tr><td>A Lion Among Men (The Wicked Years, #3)</td></tr><tr><td>Happier at Home: Kiss More, Jump More, Abandon a Project, Read Samuel Johnson, and My Other Experiments in the Practice of Everyday Life</td></tr><tr><td>The Strain (The Strain Trilogy, #1)</td></tr><tr><td>The Night Eternal (The Strain Trilogy, #3)</td></tr><tr><td>The Fall (The Strain Trilogy, #2)</td></tr><tr><td>Madame Bovary</td></tr><tr><td>Sentimental Education</td></tr><tr><td>Bel-Ami</td></tr><tr><td>The Society of the Spectacle</td></tr><tr><td>The Time Machine/The Invisible Man</td></tr><tr><td>The War of the Worlds</td></tr><tr><td>The Time Machine</td></tr><tr><td>The Best of H.P. Lovecraft: Bloodcurdling Tales of Horror and the Macabre</td></tr><tr><td>At the Mountains of Madness</td></tr><tr><td>Necronomicon: The Best Weird Tales</td></tr><tr><td>The Call of Cthulhu and Other Weird Stories</td></tr><tr><td>History of Art</td></tr><tr><td>Attack on Titan: No Regrets, Volume 01</td></tr><tr><td>Attack on Titan, Vol. 1 (Attack on Titan, #1)</td></tr><tr><td>The Vegetarian</td></tr><tr><td>I Never Promised You a Rose Garden</td></tr><tr><td>The Ugly Duckling</td></tr><tr><td>The Complete Fairy Tales</td></tr><tr><td>The Little Mermaid</td></tr><tr><td>The Little Match Girl</td></tr><tr><td>Every Man Dies Alone</td></tr><tr><td>Kurt Vonnegut's Cat's Cradle (Modern Critical Interpretations)</td></tr><tr><td>We Were Soldiers Once... and Young: Ia Drang - The Battle that Changed the War in Vietnam</td></tr><tr><td>Miss Nelson Is Back (Miss Nelson, #2)</td></tr><tr><td>Miss Nelson Is Missing! (Miss Nelson, #1)</td></tr><tr><td>Hard-Boiled Wonderland and the End of the World</td></tr><tr><td>A Wild Sheep Chase (The Rat, #3)</td></tr><tr><td>Underground: The Tokyo Gas Attack and the Japanese Psyche</td></tr><tr><td>After Dark</td></tr><tr><td>The Wind-Up Bird Chronicle</td></tr><tr><td>Norwegian Wood</td></tr><tr><td>After the Quake</td></tr><tr><td>1Q84 #1-2 (1Q84, #1-2)</td></tr><tr><td>The Elephant Vanishes</td></tr><tr><td>1Q84</td></tr><tr><td>Colorless Tsukuru Tazaki and His Years of Pilgrimage</td></tr><tr><td>Kafka on the Shore</td></tr><tr><td>Sputnik Sweetheart</td></tr><tr><td>South of the Border, West of the Sun</td></tr><tr><td>What I Talk About When I Talk About Running</td></tr><tr><td>Blind Willow, Sleeping Woman</td></tr><tr><td>The Strange Library</td></tr><tr><td>1Q84 BOOK 1 (1Q84, #1)</td></tr><tr><td>1Q84 BOOK 3 (1Q84, #3)</td></tr><tr><td>Diary ng Panget</td></tr><tr><td>The Royal We</td></tr><tr><td>What to Expect When You're Expecting</td></tr><tr><td>What to Expect the First Year (What to Expect)</td></tr><tr><td>عقاید یک دلقک</td></tr><tr><td>Art Through the Ages </td></tr><tr><td>A Fish Out of Water</td></tr><tr><td>Firewall (Wallander, #8)</td></tr><tr><td>One Step Behind  (Kurt Wallander, #7)</td></tr><tr><td>The White Lioness (Kurt Wallander, #3)</td></tr><tr><td>The Troubled Man (Kurt Wallander, #10)</td></tr><tr><td>The Man Who Smiled (Kurt Wallander, #4)</td></tr><tr><td>The Dogs of Riga (Kurt Wallander, #2)</td></tr><tr><td>The Man from Beijing</td></tr><tr><td>Sidetracked (Kurt Wallander, #5)</td></tr><tr><td>The Fifth Woman (Kurt Wallander, #6)</td></tr><tr><td>Faceless Killers (Kurt Wallander, #1)</td></tr><tr><td>A Doll's House</td></tr><tr><td>Hedda Gabler</td></tr><tr><td>Boundaries: When to Say Yes, How to Say No to Take Control of Your Life</td></tr><tr><td>Walden &amp; Civil Disobedience</td></tr><tr><td>The History of Tom Jones, a Foundling</td></tr><tr><td>The Wings of the Dove</td></tr><tr><td>Washington Square</td></tr><tr><td>The Portrait of a Lady</td></tr><tr><td>Experiencing God: Knowing and Doing the Will of God, Workbook</td></tr><tr><td>Quo Vadis</td></tr><tr><td>Tintin in the Land of the Soviets (Tintin #1)</td></tr><tr><td>Tintin in Tibet (Tintin, #20)</td></tr><tr><td>The Dinner</td></tr><tr><td>Moby-Dick or, The Whale</td></tr><tr><td>Calling Doctor Amelia Bedelia</td></tr><tr><td>Steppenwolf</td></tr><tr><td>Siddhartha</td></tr><tr><td>The Glass Bead Game</td></tr><tr><td>Narcissus and Goldmund</td></tr><tr><td>The Histories</td></tr><tr><td>Press Here</td></tr><tr><td>Fairy Tail, Vol. 1 (Fairy Tail, #1)</td></tr><tr><td>Fullmetal Alchemist, Vol. 1 (Fullmetal Alchemist, #1)</td></tr><tr><td>All You Need Is Kill</td></tr><tr><td>Hana-Kimi, Vol. 1 (Hana-Kimi, #1)</td></tr><tr><td>The Iron Trial (Magisterium, #1)</td></tr><tr><td>Doll Bones</td></tr><tr><td>The Ironwood Tree (The Spiderwick Chronicles, #4)</td></tr><tr><td>Lucinda's Secret (The Spiderwick Chronicles, #3)</td></tr><tr><td>The Seeing Stone (The Spiderwick Chronicles, #2)</td></tr><tr><td>The Wrath of Mulgarath (The Spiderwick Chronicles, #5)</td></tr><tr><td>The Field Guide (The Spiderwick Chronicles, #1)</td></tr><tr><td>The Iliad/The Odyssey</td></tr><tr><td>The Odyssey</td></tr><tr><td>The Iliad</td></tr><tr><td>Eugénie Grandet</td></tr><tr><td>A Wrinkle in Time: The Graphic Novel</td></tr><tr><td>My Lobotomy</td></tr><tr><td>SEAL Team Six: Memoirs of an Elite Navy SEAL Sniper</td></tr><tr><td>Onward: How Starbucks Fought for Its Life without Losing Its Soul</td></tr><tr><td>Requiem for a Dream</td></tr><tr><td>Last Exit to Brooklyn</td></tr><tr><td>The Story of Doctor Dolittle (Doctor Dolittle, #1)</td></tr><tr><td>The Voyages of Doctor Dolittle (Doctor Dolittle, #2)</td></tr><tr><td>Fear and Loathing in Las Vegas</td></tr><tr><td>The Rule of Four</td></tr><tr><td>The Picture of Dorian Gray: A Graphic Novel</td></tr><tr><td>Knots and Crosses (Inspector Rebus, #1)</td></tr><tr><td>حوجن [Ḥawjan]</td></tr><tr><td>The Twelve Chairs</td></tr><tr><td>Left to Tell: Discovering God Amidst the Rwandan Holocaust</td></tr><tr><td>Groundwork of the Metaphysics of Morals</td></tr><tr><td>Critique of Pure Reason</td></tr><tr><td>Barefoot Contessa Family Style: Easy Ideas and Recipes That Make Everyone Feel Like Family</td></tr><tr><td>The Barefoot Contessa Cookbook</td></tr><tr><td>Barefoot Contessa Back to Basics</td></tr><tr><td>Barefoot Contessa at Home: Everyday Recipes You'll Make Over and Over Again</td></tr><tr><td>Barefoot in Paris</td></tr><tr><td>Cunt: A Declaration of Independence</td></tr><tr><td>Suite Française</td></tr><tr><td>Notorious RBG: The Life and Times of Ruth Bader Ginsburg</td></tr><tr><td>The Sea, the Sea</td></tr><tr><td>The Joy of Cooking</td></tr><tr><td>The Gift of Therapy: An Open Letter to a New Generation of Therapists and Their Patients</td></tr><tr><td>Trainspotting</td></tr><tr><td>The Agony and the Ecstasy</td></tr><tr><td>Veganomicon: The Ultimate Vegan Cookbook</td></tr><tr><td>Vegan Cupcakes Take Over the World: 75 Dairy-Free Recipes for Cupcakes that Rule</td></tr><tr><td>The Last Question</td></tr><tr><td>Nightfall</td></tr><tr><td>Maya's Notebook</td></tr><tr><td>The House of the Spirits</td></tr><tr><td>Daughter of Fortune</td></tr><tr><td>Eva Luna</td></tr><tr><td>Portrait in Sepia</td></tr><tr><td>Island Beneath the Sea</td></tr><tr><td>Inés of My Soul</td></tr><tr><td>Zorro</td></tr><tr><td>City of the Beasts (Eagle and Jaguar, #1)</td></tr><tr><td>Of Love and Shadows</td></tr><tr><td>The Japanese Lover</td></tr><tr><td>Ripper</td></tr><tr><td>Out of Africa</td></tr><tr><td>The Baron in the Trees</td></tr><tr><td>If on a Winter's Night a Traveler</td></tr><tr><td>Invisible Cities</td></tr><tr><td>Cosmicomics</td></tr><tr><td>Oblomov</td></tr><tr><td>Fathers and Sons</td></tr><tr><td>Wait for You (Wait for You, #1)</td></tr><tr><td>Tempting the Best Man (Gamble Brothers, #1)</td></tr><tr><td>Stay with Me (Wait for You, #3)</td></tr><tr><td>Frigid (Frigid, #1)</td></tr><tr><td>Be with Me (Wait for You, #2)</td></tr><tr><td>Trust in Me (Wait for You, #1.5)</td></tr><tr><td>Tempting the Player (Gamble Brothers, #2)</td></tr><tr><td>Superman: Earth One, Volume 1</td></tr><tr><td>Judgment in Death (In Death, #11)</td></tr><tr><td>Betrayal in Death (In Death, #12)</td></tr><tr><td>Treachery in Death (In Death, #32)</td></tr><tr><td>Witness in Death (In Death, #10)</td></tr><tr><td>Loyalty in Death (In Death, #9)</td></tr><tr><td>Born in Death (In Death, #23)</td></tr><tr><td>New York to Dallas (In Death, #33)</td></tr><tr><td>Rapture in Death (In Death, #4)</td></tr><tr><td>S.</td></tr><tr><td>Very Good Lives: The Fringe Benefits of Failure and the Importance of Imagination</td></tr><tr><td>Harry Potter and the Sorcerer's Stone (Harry Potter, #1)</td></tr><tr><td>Harry Potter and the Order of the Phoenix (Harry Potter, #5)</td></tr><tr><td>Harry Potter and the Half-Blood Prince (Harry Potter, #6)</td></tr><tr><td>Harry Potter and the Chamber of Secrets (Harry Potter, #2)</td></tr><tr><td>Harry Potter and the Goblet of Fire (Harry Potter, #4)</td></tr><tr><td>Harry Potter and the Deathly Hallows (Harry Potter, #7)</td></tr><tr><td>The Harry Potter Collection 1-4 (Harry Potter, #1-4)</td></tr><tr><td>Harry Potter Boxed Set, Books 1-5 (Harry Potter, #1-5)</td></tr><tr><td>Harry Potter and the Prisoner of Azkaban (Harry Potter, #3)</td></tr><tr><td>Short Stories from Hogwarts of Power, Politics and Pesky Poltergeists (Pottermore Presents, #2)</td></tr><tr><td>Short Stories from Hogwarts of Heroism, Hardship and Dangerous Hobbies (Pottermore Presents, #1)</td></tr><tr><td>Peter Pan</td></tr><tr><td>Unfinished Tales of Númenor and Middle-Earth</td></tr><tr><td>The Children of Húrin</td></tr><tr><td>The Silmarillion (Middle-Earth Universe)</td></tr><tr><td>The Success Principles: How to Get from Where You Are to Where You Want to Be</td></tr><tr><td>Chicken Soup for the Soul</td></tr><tr><td>Chicken Soup for the Teenage Soul: 101 Stories of Life, Love and Learning (Chicken Soup for the Soul)</td></tr><tr><td>Big Sur</td></tr><tr><td>Desolation Angels</td></tr><tr><td>Martin Eden</td></tr><tr><td>Jack: Straight from the Gut</td></tr><tr><td>Winning</td></tr><tr><td>The Complete Grimm's Fairy Tales</td></tr><tr><td>Grimm's Fairy Tales</td></tr><tr><td>Snowflake Bentley</td></tr><tr><td>The Story of Tracy Beaker</td></tr><tr><td>The Illustrated Mum</td></tr><tr><td>Double Act</td></tr><tr><td>Among the Mad (Maisie Dobbs, #6)</td></tr><tr><td>The Essential Rumi</td></tr><tr><td>The Fire Next Time</td></tr><tr><td>Live from New York: An Uncensored History of Saturday Night Live</td></tr><tr><td>Those Guys Have All the Fun: Inside the World of ESPN</td></tr><tr><td>Built to Last: Successful Habits of Visionary Companies</td></tr><tr><td>Great by Choice: Uncertainty, Chaos, and Luck--Why Some Thrive Despite Them All</td></tr><tr><td>Flags of Our Fathers</td></tr><tr><td>The Calling (Endgame, #1)</td></tr><tr><td>Bunnicula (Bunnicula, #1)</td></tr><tr><td>Dubliners</td></tr><tr><td>A Portrait of the Artist as a Young Man</td></tr><tr><td>My Brother Sam Is Dead</td></tr><tr><td>The Jester</td></tr><tr><td>Lifeguard</td></tr><tr><td>Judge &amp; Jury</td></tr><tr><td>3rd Degree (Women's Murder Club, #3)</td></tr><tr><td>2nd Chance (Women's Murder Club, #2)</td></tr><tr><td>Middle School: The Worst Years of My Life (Midde School, #1)</td></tr><tr><td>Mistress</td></tr><tr><td>Invisible</td></tr><tr><td>Guilty Wives</td></tr><tr><td>The Murder House</td></tr><tr><td>First Love</td></tr><tr><td>Witch &amp; Wizard (Witch &amp; Wizard, #1)</td></tr><tr><td>Sundays at Tiffany's</td></tr><tr><td>Honeymoon (Honeymoon, #1)</td></tr><tr><td>Don't Blink</td></tr><tr><td>Second Honeymoon (Honeymoon, #2)</td></tr><tr><td>Sail</td></tr><tr><td>You've Been Warned</td></tr><tr><td>The Fire (Witch &amp; Wizard, #3)</td></tr><tr><td>Cat and Mouse (Alex Cross, #4)</td></tr><tr><td>The Postcard Killers</td></tr><tr><td>Private London (Private #4)</td></tr><tr><td>Private Games (Private #3)</td></tr><tr><td>Private Berlin (Private #5)</td></tr><tr><td>Kill Me If You Can</td></tr><tr><td>NYPD Red (NYPD Red, #1)</td></tr><tr><td>NYPD Red 3 (NYPD Red, #3)</td></tr><tr><td>NYPD Red 2 (NYPD Red, #2)</td></tr><tr><td>Private #1 Suspect (Private, #2)</td></tr><tr><td>Unlucky 13 (Women’s Murder Club, #13)</td></tr><tr><td>Swimsuit</td></tr><tr><td>Confessions of a Murder Suspect (Confessions, #1)</td></tr><tr><td>14th Deadly Sin (Women’s Murder Club, #14)</td></tr><tr><td>15th Affair (Women's Murder Club #15)</td></tr><tr><td>The 5th Horseman (Women's Murder Club, #5)</td></tr><tr><td>4th of July (Women's Murder Club, #4)</td></tr><tr><td>Private (Private, #1)</td></tr><tr><td>7th Heaven (Women's Murder Club, #7)</td></tr><tr><td>The 6th Target (Women's Murder Club, #6)</td></tr><tr><td>12th of Never (Women's Murder Club, #12)</td></tr><tr><td>11th Hour (Women's Murder Club, #11)</td></tr><tr><td>10th Anniversary (Women's Murder Club, #10)</td></tr><tr><td>The 8th Confession (Women's Murder Club, #8)</td></tr><tr><td>The 9th Judgment  (Women's Murder Club, #9)</td></tr><tr><td>Zoo</td></tr><tr><td>Now You See Her</td></tr><tr><td>The Quickie</td></tr><tr><td>Step on a Crack (Michael Bennett, #1)</td></tr><tr><td>Tick Tock (Michael Bennett, #4)</td></tr><tr><td>Worst Case (Michael Bennett, #3)</td></tr><tr><td>Run for Your Life (Michael Bennett, #2)</td></tr><tr><td>I, Michael Bennett (Michael Bennett, #5)</td></tr><tr><td>Gone (Michael Bennett, #6)</td></tr><tr><td>The Dangerous Days of Daniel X (Daniel X, #1)</td></tr><tr><td>Alert (Michael Bennett, #8)</td></tr><tr><td>Burn (Michael Bennett, #7)</td></tr><tr><td>Maximum Ride, Vol. 1 (Maximum Ride: The Manga, #1)</td></tr><tr><td>The Gift (Witch &amp; Wizard, #2)</td></tr><tr><td>Beach Road</td></tr><tr><td>The Beach House</td></tr><tr><td>Alex Cross's Trial (Alex Cross, #15)</td></tr><tr><td>The Christmas Wedding</td></tr><tr><td>The Blood Gospel (The Order of the Sanguines, #1)</td></tr><tr><td>Hellblazer: Original Sins</td></tr><tr><td>Northanger Abbey</td></tr><tr><td>Emma</td></tr><tr><td>Persuasion</td></tr><tr><td>Mansfield Park</td></tr><tr><td>Lady Susan</td></tr><tr><td>Sense and Sensibility</td></tr><tr><td>Alice in Wonderland</td></tr><tr><td>A Map of the World</td></tr><tr><td>Happy Accidents: A Memoir</td></tr><tr><td>Fancy Nancy</td></tr><tr><td>Frosty the Snow Man</td></tr><tr><td>Owl Moon</td></tr><tr><td>How Do Dinosaurs Say Good Night?</td></tr><tr><td>Each Peach Pear Plum</td></tr><tr><td>The Taste of Home Cookbook</td></tr><tr><td>Full Tilt (Full #2)</td></tr><tr><td>Full House (Full #1)</td></tr><tr><td>The Chase (Fox and O'Hare, #2)</td></tr><tr><td>The Job (Fox and O'Hare, #3)</td></tr><tr><td>The Heist (Fox and O'Hare, #1)</td></tr><tr><td>Smokin' Seventeen (Stephanie Plum, #17)</td></tr><tr><td>Hard Eight (Stephanie Plum, #8)</td></tr><tr><td>The Princess and the Pea</td></tr><tr><td>The Poky Little Puppy (A Little Golden Book)</td></tr><tr><td>Gonzo: The Life of Hunter S. Thompson</td></tr><tr><td>Nothing</td></tr><tr><td>The Art of Hearing Heartbeats</td></tr><tr><td>Rework</td></tr><tr><td>The Future of Us</td></tr><tr><td>Rome (Marked Men, #3)</td></tr><tr><td>Rule (Marked Men, #1)</td></tr><tr><td>Julie of the Wolves (Julie of the Wolves, #1)</td></tr><tr><td>The Story of Babar</td></tr><tr><td>The Diving Bell and the Butterfly</td></tr><tr><td>The Social Contract</td></tr><tr><td>Existentialism Is a Humanism</td></tr><tr><td>Being and Nothingness</td></tr><tr><td>Nausea</td></tr><tr><td>No Exit and Three Other Plays</td></tr><tr><td>Flat Stanley (Flat Stanley, #1)</td></tr><tr><td>Artisan Bread in Five Minutes a Day: The Discovery That Revolutionizes Home Baking</td></tr><tr><td>Sweet Tooth, Volume 1: Out of the Deep Woods</td></tr><tr><td>Out from Boneville (Bone, #1)</td></tr><tr><td>The Dragonslayer (Bone, #4)</td></tr><tr><td>Bone: Tall Tales</td></tr><tr><td>A Case of Need</td></tr><tr><td>The End of Poverty</td></tr><tr><td>How to Make Love Like a Porn Star: A Cautionary Tale</td></tr><tr><td>Beyond Belief: My Secret Life Inside Scientology and My Harrowing Escape</td></tr><tr><td>Agnes and the Hitman</td></tr><tr><td>The Fourteenth Goldfish</td></tr><tr><td>All the Bright Places</td></tr><tr><td>Burn for Burn (Burn for Burn, #1)</td></tr><tr><td>Batman: Hush, Vol. 2</td></tr><tr><td>Batman: Hush, Vol. 1</td></tr><tr><td>Batman: Hush</td></tr><tr><td>Batman: Dark Victory</td></tr><tr><td>Superman for All Seasons</td></tr><tr><td>Batman: The Long Halloween</td></tr><tr><td>Inherit the Wind</td></tr><tr><td>The Pursuit of Holiness</td></tr><tr><td>Chopsticks</td></tr><tr><td>The Dresden Files:  Storm Front, Volume 1-  The Gathering Storm</td></tr><tr><td>Fresh Wind, Fresh Fire: What Happens When God's Spirit Invades the Heart of His People</td></tr><tr><td>Big Red (Big Red, #1)</td></tr><tr><td>Justice, Volume 1</td></tr><tr><td>The Power of Full Engagement: Managing Energy, Not Time, Is the Key to High Performance and Personal Renewal</td></tr><tr><td>Batman: A Death in the Family</td></tr><tr><td>Deadman Wonderland, Volume 1 (Deadman Wonderland, #1)</td></tr><tr><td>The Son</td></tr><tr><td>Phantom (Harry Hole, #9)</td></tr><tr><td>Flaggermusmannen (Harry Hole, #1)</td></tr><tr><td>Nemesis (Harry Hole, #4)</td></tr><tr><td>The Redbreast (Harry Hole, #3)</td></tr><tr><td>The Snowman (Harry Hole, #7)</td></tr><tr><td>Police (Harry Hole, #10)</td></tr><tr><td>Headhunters</td></tr><tr><td>Cockroaches (Harry Hole, #2)</td></tr><tr><td>Blood on Snow (Blood on Snow, #1)</td></tr><tr><td>The Wolves of Willoughby Chase (The Wolves Chronicles, #1)</td></tr><tr><td>Play It as It Lays</td></tr><tr><td>Inside the Human Body (The Magic School Bus, #3)</td></tr><tr><td>Between the Lines (Between the Lines, #1)</td></tr><tr><td>20th Century Ghosts</td></tr><tr><td>Locke &amp; Key, Vol. 2: Head Games</td></tr><tr><td>Locke &amp; Key, Vol. 3: Crown of Shadows</td></tr><tr><td>Locke &amp; Key, Vol. 5: Clockworks</td></tr><tr><td>Locke &amp; Key, Vol. 4: Keys to the Kingdom</td></tr><tr><td>Locke &amp; Key, Vol. 6: Alpha &amp; Omega</td></tr><tr><td>Locke &amp; Key, Vol. 1: Welcome to Lovecraft</td></tr><tr><td>What Every Body is Saying: An Ex-FBI Agent's Guide to Speed-Reading People</td></tr><tr><td>Palestine</td></tr><tr><td>The Swiss Family Robinson  </td></tr><tr><td>The Sorrows of Young Werther</td></tr><tr><td>Faust: First Part</td></tr><tr><td>Faust</td></tr><tr><td>Heidi</td></tr><tr><td>March: Book One (March, #1)</td></tr><tr><td>Stoner</td></tr><tr><td>The 21 Irrefutable Laws of Leadership: Follow Them and People Will Follow You</td></tr><tr><td>The Great Brain (Great Brain #1)</td></tr><tr><td>The History of the Hobbit, Part One: Mr. Baggins</td></tr><tr><td>The Sacred Romance Drawing Closer To The Heart Of God</td></tr><tr><td>Captivating: Unveiling the Mystery of a Woman's Soul</td></tr><tr><td>Ask the Dust (Arturo Bandini, #3)</td></tr><tr><td>Foxe's Book of Martyrs</td></tr><tr><td>Will Grayson, Will Grayson</td></tr><tr><td>Let It Snow: Three Holiday Romances</td></tr><tr><td>Theodore Boone: Kid Lawyer (Theodore Boone, #1)</td></tr><tr><td>Game Change: Obama and the Clintons, McCain and Palin, and the Race of a Lifetime</td></tr><tr><td>The Improbable Adventures of Sherlock Holmes</td></tr><tr><td>A Confederacy of Dunces</td></tr><tr><td>The Littles</td></tr><tr><td>Chew, Vol. 2: International Flavor</td></tr><tr><td>Chew, Vol. 1: Taster's Choice</td></tr><tr><td>Second Treatise of Government</td></tr><tr><td>Two Treatises of Government</td></tr><tr><td>The Seven Principles for Making Marriage Work: A Practical Guide from the Country's Foremost Relationship Expert</td></tr><tr><td>Paradise Lost</td></tr><tr><td>The Winter of Our Discontent</td></tr><tr><td>Utilitarianism</td></tr><tr><td>Harry Potter and the Cursed Child - Parts One and Two (Harry Potter, #8)</td></tr><tr><td>Cash</td></tr><tr><td>The Stinky Cheese Man and Other Fairly Stupid Tales</td></tr><tr><td>The True Story of the 3 Little Pigs</td></tr><tr><td>America (The Book): A Citizen's Guide to Democracy Inaction</td></tr><tr><td>Earth (The Book): A Visitor's Guide to the Human Race</td></tr><tr><td>The Monster at the End of this Book</td></tr><tr><td>The Girl Who Saved the King of Sweden</td></tr><tr><td>The Hundred-Year-Old Man Who Climbed Out of the Window and Disappeared</td></tr><tr><td>The Ring of Solomon (Bartimaeus, #0.5)</td></tr><tr><td>Gulliver's Travels</td></tr><tr><td>Joni: An Unforgettable Story</td></tr><tr><td>Collected Fictions</td></tr><tr><td>The Aleph and Other Stories </td></tr><tr><td>Ficciones</td></tr><tr><td>Labyrinths:  Selected Stories and Other Writings</td></tr><tr><td>Os Maias</td></tr><tr><td>درخت زیبای من</td></tr><tr><td>Baltasar and Blimunda</td></tr><tr><td>Blindness</td></tr><tr><td>All the Names</td></tr><tr><td>Seeing</td></tr><tr><td>Death With Interruptions</td></tr><tr><td>The Double</td></tr><tr><td>The Power of Myth</td></tr><tr><td>Heart of Darkness and Selected Short Fiction</td></tr><tr><td>Night of the Soul Stealer (The Last Apprentice / Wardstone Chronicles, #3)</td></tr><tr><td>Attack of the Fiend (The Last Apprentice / Wardstone Chronicles, #4)</td></tr><tr><td>Curse of the Bane (The Last Apprentice / Wardstone Chronicles, #2)</td></tr><tr><td>Revenge of the Witch (The Last Apprentice / Wardstone Chronicles, #1)</td></tr><tr><td>Welcome to Night Vale</td></tr><tr><td>The Power of Your Subconscious Mind</td></tr><tr><td>Fiddler on the Roof</td></tr><tr><td>Those Left Behind (Serenity, #1)</td></tr><tr><td>Buffy the Vampire Slayer: The Long Way Home (Season 8, #1)</td></tr><tr><td>Astonishing X-Men, Volume 1: Gifted</td></tr><tr><td>Astonishing X-Men, Volume 2: Dangerous</td></tr><tr><td>The Orange Girl</td></tr><tr><td>Sophie's World</td></tr><tr><td>The Solitaire Mystery: A Novel About Family and Destiny</td></tr><tr><td>The Sound of Things Falling</td></tr><tr><td>Pedro Páramo</td></tr><tr><td>Cloudy With a Chance of Meatballs</td></tr><tr><td>Alexander and the Terrible, Horrible, No Good, Very Bad Day</td></tr><tr><td>The Silver Palate Cookbook</td></tr><tr><td>Twenty Thousand Leagues Under the Sea</td></tr><tr><td>The Mysterious Island (Extraordinary Voyages, #12)</td></tr><tr><td>Around the World in Eighty Days</td></tr><tr><td>My Life in France</td></tr><tr><td>Mastering the Art of French Cooking</td></tr><tr><td>The Gruffalo</td></tr><tr><td>By the Time You Read This, I'll Be Dead</td></tr><tr><td>The Invisible Bridge</td></tr><tr><td>Kamisama Kiss, Vol. 1</td></tr><tr><td>Hopscotch</td></tr><tr><td>Pandora Hearts 1巻</td></tr><tr><td>The Absent One (Department Q, #2)</td></tr><tr><td>The Keeper of Lost Causes (Department Q, #1)</td></tr><tr><td>The Lion King: A little Golden Book</td></tr><tr><td>Shattered</td></tr><tr><td>The Broken Wings</td></tr><tr><td>Dream Dark (Caster Chronicles, #2.5)</td></tr><tr><td>Beautiful Creatures (Caster Chronicles, #1)</td></tr><tr><td>Beautiful Darkness (Caster Chronicles, #2)</td></tr><tr><td>Beautiful Redemption (Caster Chronicles, #4)</td></tr><tr><td>Beautiful Chaos (Caster Chronicles, #3)</td></tr><tr><td>Black Bird, Vol. 01 (Black Bird, #1)</td></tr><tr><td>Remember (Redemption, #2)</td></tr><tr><td>Return (Redemption, #3)</td></tr><tr><td>Rejoice (Redemption, #4)</td></tr><tr><td>Reunion (Redemption, #5)</td></tr><tr><td>Redemption (Redemption, #1)</td></tr><tr><td>The Communist Manifesto</td></tr><tr><td>Bear Snores On</td></tr><tr><td>Kimi ni Todoke: From Me to You, Vol. 1</td></tr><tr><td>The Readers of Broken Wheel Recommend</td></tr><tr><td>The Awakening and Selected Stories</td></tr><tr><td>The Miraculous Journey of Edward Tulane</td></tr><tr><td>Because of Winn-Dixie</td></tr><tr><td>Flora and Ulysses: The Illuminated Adventures</td></tr><tr><td>The Tale of Despereaux</td></tr><tr><td>The Magician's Elephant</td></tr><tr><td>The One and Only Ivan</td></tr><tr><td>The Saggy Baggy Elephant (A Little Golden Book)</td></tr><tr><td>Tawny Scrawny Lion</td></tr><tr><td>Virals (Virals, #1)</td></tr><tr><td>Kisses from Katie: A Story of Relentless Love and Redemption</td></tr><tr><td>Akira, Vol. 1</td></tr><tr><td>D.Gray-man, Volume 01</td></tr><tr><td>Eloise </td></tr><tr><td>Blue Exorcist, Vol. 1  (Blue Exorcist, #1)</td></tr><tr><td>The Devotion of Suspect X</td></tr><tr><td>The Element: How Finding Your Passion Changes Everything</td></tr><tr><td>Hamlet: Screenplay, Introduction And Film Diary</td></tr><tr><td>The Wind in the Willows</td></tr><tr><td>The One Minute Manager</td></tr><tr><td>Quidditch Through the Ages</td></tr><tr><td>Berserk, Vol. 1 (Berserk, #1)</td></tr><tr><td>Influencer: The Power to Change Anything</td></tr><tr><td>Crucial Conversations: Tools for Talking When Stakes Are High</td></tr><tr><td>Ruby Red (Precious Stone Trilogy, #1)</td></tr><tr><td>Ghost in the Wires: My Adventures as the World's Most Wanted Hacker</td></tr><tr><td>The Boy Who Came Back from Heaven: A Remarkable Account of Miracles, Angels, and Life beyond This World</td></tr><tr><td>The Wicked + The Divine, Vol. 1: The Faust Act</td></tr><tr><td>The Vow: The Kim &amp; Krickitt Carpenter Story</td></tr><tr><td>The War that Saved My Life (The War That Saved My Life #1)</td></tr><tr><td>The Natural Way to Draw</td></tr><tr><td>Lucky Jim</td></tr><tr><td>Yotsuba&amp;!, Vol. 01 (Yotsuba&amp;! #1)</td></tr><tr><td>Hunger</td></tr><tr><td>The Woman in the Dunes</td></tr><tr><td>Hellsing, Vol. 01 (Hellsing, #1)</td></tr><tr><td>Battle Royale</td></tr><tr><td>Deep Kiss of Winter (Includes: Immortals After Dark, #8; Alien Huntress, #3.5)</td></tr><tr><td>The Bhagavad Gita</td></tr><tr><td>Addicted to You (Addicted, #1)</td></tr><tr><td>Marvels</td></tr><tr><td>Rat Queens, Vol. 1: Sass &amp; Sorcery</td></tr><tr><td>Please Look After Mom</td></tr><tr><td>The Marvelous Land of Oz (Oz, #2)</td></tr><tr><td>The Wonderful Wizard of Oz (Oz, #1)</td></tr><tr><td>The Ripper (The Vampire Diaries: Stefan's Diaries, #4)</td></tr><tr><td>Origins (The Vampire Diaries: Stefan's Diaries, #1)</td></tr><tr><td>Bloodlust (The Vampire Diaries: Stefan's Diaries, #2)</td></tr><tr><td>It's Not About the Bike: My Journey Back to Life</td></tr><tr><td>Tao Te Ching</td></tr><tr><td>When the Game Was Ours</td></tr><tr><td>Red Phoenix (Red Phoenix #1)</td></tr><tr><td>Execution: The Discipline of Getting Things Done</td></tr><tr><td>Lucifer's Hammer</td></tr><tr><td>The Mote in God's Eye</td></tr><tr><td>Footfall</td></tr><tr><td>The Hypnotist (Joona Linna, #1)</td></tr><tr><td>The Nightmare (Joona Linna, #2)</td></tr><tr><td>Like Water for Chocolate</td></tr><tr><td>The Little House Collection (Little House, #1-9)</td></tr><tr><td>Little House in the Big Woods (Little House, #1)</td></tr><tr><td>Little House on the Prairie (Little House, #2)</td></tr><tr><td>Little Town on the Prairie  (Little House, #7)</td></tr><tr><td>On the Banks of Plum Creek  (Little House, #4)</td></tr><tr><td>Farmer Boy (Little House, #3)</td></tr><tr><td>By the Shores of Silver Lake  (Little House, #5)</td></tr><tr><td>The Long Winter (Little House, #6)</td></tr><tr><td>These Happy Golden Years (Little House, #8)</td></tr><tr><td>The First Four Years  (Little House, #9)</td></tr><tr><td>If You Give a Pig a Party</td></tr><tr><td>If You Take a Mouse to the Movies</td></tr><tr><td>If You Give a Cat a Cupcake</td></tr><tr><td>If You Take a Mouse to School</td></tr><tr><td>If You Give a Pig a Pancake </td></tr><tr><td>If You Give a Moose a Muffin</td></tr><tr><td>If You Give a Mouse a Cookie</td></tr><tr><td>An Invisible Thread: The True Story of an 11-Year-Old Panhandler, a Busy Sales Executive, and an Unlikely Meeting with Destiny</td></tr><tr><td>A Lick of Frost (Merry Gentry, #6)</td></tr><tr><td>Girls' Night In</td></tr><tr><td>The Life and Opinions of Tristram Shandy, Gentleman</td></tr><tr><td>A Universe from Nothing: Why There Is Something Rather Than Nothing</td></tr><tr><td>Troublemaker: Surviving Hollywood and Scientology</td></tr><tr><td>The Girl Who Was on Fire: Your Favorite Authors on Suzanne Collins' Hunger Games Trilogy</td></tr><tr><td>Without Fail (Jack Reacher, #6)</td></tr><tr><td>A Wanted Man (Jack Reacher, #17)</td></tr><tr><td>Night School</td></tr><tr><td>Please Kill Me: The Uncensored Oral History of Punk</td></tr><tr><td>The Key to Midnight</td></tr><tr><td>Shadow Fires</td></tr><tr><td>The House of Thunder</td></tr><tr><td>The Servants of Twilight</td></tr><tr><td>The Eyes of Darkness</td></tr><tr><td>The Reptile Room (A Series of Unfortunate Events, #2)</td></tr><tr><td>The Wide Window (A Series of Unfortunate Events, #3)</td></tr><tr><td>The Bad Beginning (A Series of Unfortunate Events, #1)</td></tr><tr><td>The Grim Grotto (A Series of Unfortunate Events, #11)</td></tr><tr><td>The Hostile Hospital (A Series of Unfortunate Events, #8)</td></tr><tr><td>The Penultimate Peril (A Series of Unfortunate Events, #12)</td></tr><tr><td>The End (A Series of Unfortunate Events, #13)</td></tr><tr><td>The Carnivorous Carnival (A Series of Unfortunate Events, #9)</td></tr><tr><td>The Slippery Slope (A Series of Unfortunate Events, #10)</td></tr><tr><td>The Ersatz Elevator (A Series of Unfortunate Events, #6)</td></tr><tr><td>The Vile Village (A Series of Unfortunate Events, #7)</td></tr><tr><td>The Austere Academy (A Series of Unfortunate Events, #5)</td></tr><tr><td>The Miserable Mill (A Series of Unfortunate Events, #4)</td></tr><tr><td>A Series of Unfortunate Events Box: The Complete Wreck (Books 1-13)</td></tr><tr><td>Who Could That Be at This Hour? (All the Wrong Questions, #1)</td></tr><tr><td>Not That Kind of Girl: A Young Woman Tells You What She's &quot;Learned&quot;</td></tr><tr><td>The Boy in the Suitcase (Nina Borg, #1)</td></tr><tr><td>The Death of Ivan Ilych</td></tr><tr><td>War and Peace</td></tr><tr><td>The Kreutzer Sonata</td></tr><tr><td>Resurrection</td></tr><tr><td>Anna Karenina</td></tr><tr><td>Leonardo's Notebooks</td></tr><tr><td>Streams in the Desert</td></tr><tr><td>Alice's Adventures in Wonderland &amp; Other Stories</td></tr><tr><td>Alice's Adventures in Wonderland</td></tr><tr><td>Alice's Adventures in Wonderland &amp; Through the Looking-Glass</td></tr><tr><td>Through the Looking-Glass, and What Alice Found There</td></tr><tr><td>Strange Angels (Strange Angels, #1)</td></tr><tr><td>Betrayals (Strange Angels, #2)</td></tr><tr><td>Jealousy (Strange Angels, #3)</td></tr><tr><td>Defiance (Strange Angels, #4)</td></tr><tr><td>The Little Old Lady Who Was Not Afraid of Anything</td></tr><tr><td>Hamilton: The Revolution</td></tr><tr><td>Tempt Me at Twilight (The Hathaways, #3)</td></tr><tr><td>The Dark Forest (Remembrance of Earth’s Past, #2)</td></tr><tr><td>The Three-Body Problem (Remembrance of Earth’s Past, #1)</td></tr><tr><td>The Tail of Emily Windsnap (Emily Windsnap, #1)</td></tr><tr><td>Cinderella</td></tr><tr><td>Sideways Stories from Wayside School (Wayside School #1)</td></tr><tr><td>Wayside School Is Falling Down (Wayside School #2)</td></tr><tr><td>Holes (Holes, #1)</td></tr><tr><td>Journey to the End of the Night</td></tr><tr><td>The Knockoff</td></tr><tr><td>Philosophical Investigations</td></tr><tr><td>The Bite Before Christmas (Argeneau, #15.5; Night Huntress, #6.5)</td></tr><tr><td>M.C. Escher: The Graphic Work</td></tr><tr><td>Extra Yarn (E. B. White Read-Aloud Award. Picture Books)</td></tr><tr><td>I Am Malala: The Story of the Girl Who Stood Up for Education and Was Shot by the Taliban</td></tr><tr><td>The Autobiography of Malcolm X</td></tr><tr><td>Stolen Lives: Twenty Years in a Desert Jail</td></tr><tr><td>Sherlock Holmes and the Case of the Hound of the Baskervilles (Illustrated Classic Editions)</td></tr><tr><td>Stephen King's N.</td></tr><tr><td>Swann's Way (In Search of Lost Time, #1)</td></tr><tr><td>Essentials of Classic Italian Cooking</td></tr><tr><td>Meditations</td></tr><tr><td>First, Break All the Rules: What the World's Greatest Managers Do Differently</td></tr><tr><td>Now, Discover Your Strengths</td></tr><tr><td>Lone Survivor: The Eyewitness Account of Operation Redwing and the Lost Heroes of SEAL Team 10</td></tr><tr><td>The Rainbow Fish</td></tr><tr><td>Alias Grace</td></tr><tr><td>Into the Labyrinth (The Death Gate Cycle, #6)</td></tr><tr><td>Dragonlance Chronicles (Dragonlance #1-3)</td></tr><tr><td>Serpent Mage (The Death Gate Cycle, #4)</td></tr><tr><td>Dragon Wing (The Death Gate Cycle, #1)</td></tr><tr><td>War of the Twins (Dragonlance: Legends, #2)</td></tr><tr><td>Test of the Twins (Dragonlance: Legends, #3)</td></tr><tr><td>The Seventh Gate (The Death Gate Cycle, #7)</td></tr><tr><td>Fire Sea (The Death Gate Cycle, #3)</td></tr><tr><td>The Hand of Chaos (The Death Gate Cycle, #5)</td></tr><tr><td>Dragons of Summer Flame (Dragonlance: The Second Generation, #2)</td></tr><tr><td>Elven Star (The Death Gate Cycle, #2)</td></tr><tr><td>Time of the Twins (Dragonlance: Legends, #1)</td></tr><tr><td>Dragons of Winter Night (Dragonlance: Chronicles, #2)</td></tr><tr><td>Dragons of Spring Dawning (Dragonlance: Chronicles, #3)</td></tr><tr><td>Dragons of Autumn Twilight  (Dragonlance: Chronicles, #1)</td></tr><tr><td>The Runaway Bunny</td></tr><tr><td>Goodnight Moon</td></tr><tr><td>The Velveteen Rabbit</td></tr><tr><td>The Complete Adventures of Curious George</td></tr><tr><td>Curious George Goes to the Hospital</td></tr><tr><td>Curious George Visits the Library</td></tr><tr><td>The Lover</td></tr><tr><td>King of the Wind: The Story of the Godolphin Arabian</td></tr><tr><td>Misty of Chincoteague (Misty, #1)</td></tr><tr><td>The Time in Between</td></tr><tr><td>The Life-Changing Magic of Tidying Up: The Japanese Art of Decluttering and Organizing</td></tr><tr><td>This One Summer</td></tr><tr><td>The Long Hard Road Out of Hell</td></tr><tr><td>The Godfather</td></tr><tr><td>The Feast of the Goat</td></tr><tr><td>Aunt Julia and the Scriptwriter</td></tr><tr><td>The Fannie Farmer Cookbook: Anniversary</td></tr><tr><td>The Forest House (Avalon, #2)</td></tr><tr><td>Lady of Avalon (Avalon, #3)</td></tr><tr><td>Priestess of Avalon (Avalon, #4)</td></tr><tr><td>Persepolis 2: The Story of a Return (Persepolis, #2)</td></tr><tr><td>Embroideries</td></tr><tr><td>Persepolis: The Story of a Childhood (Persepolis, #1)</td></tr><tr><td>The Complete Persepolis</td></tr><tr><td>The Story About Ping</td></tr><tr><td>Wanted</td></tr><tr><td>Kick-Ass (Kick-Ass, #1)</td></tr><tr><td>Superman: Red Son</td></tr><tr><td>Civil War: A Marvel Comics Event</td></tr><tr><td>No Easy Day: The Firsthand Account of the Mission That Killed Osama Bin Laden</td></tr><tr><td>The Prince and the Pauper</td></tr><tr><td>The Adventures of Tom Sawyer</td></tr><tr><td>The Adventures of Huckleberry Finn</td></tr><tr><td>Kingdom Come</td></tr><tr><td>Superman: Birthright</td></tr><tr><td>What Got You Here Won't Get You There: How Successful People Become Even More Successful</td></tr><tr><td>The Medium is the Massage</td></tr><tr><td>Martha Stewart's Cookies: The Very Best Treats to Bake and to Share</td></tr><tr><td>The Autobiography of Martin Luther King, Jr.</td></tr><tr><td>Ghost Boy</td></tr><tr><td>Owl Babies</td></tr><tr><td>Crisis on Infinite Earths</td></tr><tr><td>The Guernsey Literary and Potato Peel Pie Society</td></tr><tr><td>Choosing to SEE</td></tr><tr><td>The Cinderella Murder (Under Suspicion, #2)</td></tr><tr><td>I've Got You Under My Skin (Under Suspicion, #1)</td></tr><tr><td>Amazing Grace</td></tr><tr><td>The Borrowers (The Borrowers, #1)</td></tr><tr><td>My Friend Flicka (Flicka, #1)</td></tr><tr><td>The Knight at Dawn (Magic Tree House, #2)</td></tr><tr><td>Dinosaurs Before Dark (Magic Tree House, #1)</td></tr><tr><td>Mummies in the Morning (Magic Tree House, #3)</td></tr><tr><td>Absent In The Spring</td></tr><tr><td>Frankenstein</td></tr><tr><td>Percy Jackson &amp; the Olympians:  The Ultimate Guide</td></tr><tr><td>Kare Kano: His and Her Circumstances, Vol. 1</td></tr><tr><td>The Hidden Messages in Water</td></tr><tr><td>Naruto, Vol. 11: Impassioned Efforts (Naruto, #11)</td></tr><tr><td>Naruto, Vol. 01: The Tests of the Ninja (Naruto, #1)</td></tr><tr><td>Three Little Kittens</td></tr><tr><td>Vampire Knight, Vol. 9</td></tr><tr><td>Vampire Knight, Vol. 4 (Vampire Knight, #4)</td></tr><tr><td>Vampire Knight, Vol. 1 (Vampire Knight, #1)</td></tr><tr><td>Vampire Knight, Vol. 3 (Vampire Knight, #3)</td></tr><tr><td>Vampire Knight, Vol. 2 (Vampire Knight, #2)</td></tr><tr><td>Sex Criminals, Vol. 1: One Weird Trick</td></tr><tr><td>Hawkeye, Volume 2: Little Hits</td></tr><tr><td>Hawkeye, Volume 1: My Life as a Weapon</td></tr><tr><td>How to Tell If Your Cat Is Plotting to Kill You</td></tr><tr><td>Betsy-Tacy (Betsy-Tacy, #1)</td></tr><tr><td>キスよりも早く1 [Kisu Yorimo Hayaku 1] (Faster than a Kiss #1)</td></tr><tr><td>Judy Moody (Judy Moody, # 1)</td></tr><tr><td>How I Became a Pirate</td></tr><tr><td>Harry, a History: The True Story of a Boy Wizard, His Fans, and Life Inside the Harry Potter Phenomenon</td></tr><tr><td>Anne Frank : The Biography</td></tr><tr><td>Time for Bed</td></tr><tr><td>Tokyo Mew Mew, Vol. 1 (Tokyo Mew Mew, #1)</td></tr><tr><td>Holy Blood, Holy Grail</td></tr><tr><td>A Bear Called Paddington (Paddington, #1)</td></tr><tr><td>The Fairy-Tale Detectives (The Sisters Grimm, #1)</td></tr><tr><td>The Unusual Suspects (The Sisters Grimm, #2)</td></tr><tr><td>The Problem Child (The Sisters Grimm, #3)</td></tr><tr><td>Once Upon a Crime (The Sisters Grimm, #4)</td></tr><tr><td>Tales From the Hood (The Sisters Grimm, #6)</td></tr><tr><td>Magic and Other Misdemeanors (The Sisters Grimm, #5)</td></tr><tr><td>The Everafter War (The Sisters Grimm, #7)</td></tr><tr><td>Gentlemen of the Road</td></tr><tr><td>Wonder Boys</td></tr><tr><td>The Final Solution</td></tr><tr><td>Micro</td></tr><tr><td>Avatar Volume 1: The Last Airbender (Avatar #1)</td></tr><tr><td>The Neverending Story</td></tr><tr><td>We're Going on a Bear Hunt</td></tr><tr><td>Shakespeare's Romeo and Juliet</td></tr><tr><td>The Little Mermaid</td></tr><tr><td>Sleeping Beauty: a Little Golden Book (Disney Princess)</td></tr><tr><td>Discipline and Punish: The Birth of the Prison</td></tr><tr><td>The History of Sexuality, Volume 1: An Introduction</td></tr><tr><td>The Elementary Particles</td></tr><tr><td>Finding Me: A Decade of Darkness, a Life Reclaimed - A Memoir of the Cleveland Kidnappings</td></tr><tr><td>Wolf Brother (Chronicles of Ancient Darkness, #1)</td></tr><tr><td>Vampire Academy: The Ultimate Guide (Vampire Academy)</td></tr><tr><td>Anne Frank Remembered: The Story of the Woman Who Helped to Hide the Frank Family</td></tr><tr><td>Don Quixote</td></tr><tr><td>سینوهه</td></tr><tr><td>The Unwritten, Vol. 1: Tommy Taylor and the Bogus Identity</td></tr><tr><td>Neil Gaiman's Neverwhere</td></tr><tr><td>Hellboy, Vol. 1: Seed of Destruction (Hellboy, #1)</td></tr><tr><td>The Master and Margarita</td></tr><tr><td>Heart of a Dog</td></tr><tr><td>A Hero of Our Time</td></tr><tr><td>Auschwitz: A Doctor's Eyewitness Account</td></tr><tr><td>The Book of Laughter and Forgetting</td></tr><tr><td>Life is Elsewhere</td></tr><tr><td>Slowness</td></tr><tr><td>Ignorance</td></tr><tr><td>Identity</td></tr><tr><td>The Unbearable Lightness of Being</td></tr><tr><td>Laughable Loves</td></tr><tr><td>Miles: The Autobiography</td></tr><tr><td>Geisha, a Life</td></tr><tr><td>It Chooses You</td></tr><tr><td>Tuesdays with Morrie</td></tr><tr><td>A Book of Five Rings: The Classic Guide to Strategy</td></tr><tr><td>Tartuffe</td></tr><tr><td>The Man Who Listens to Horses</td></tr><tr><td>Rebel Spring (Falling Kingdoms, #2)</td></tr><tr><td>Falling Kingdoms (Falling Kingdoms, #1)</td></tr><tr><td>Gathering Darkness (Falling Kingdoms, #3)</td></tr><tr><td>The Wave</td></tr><tr><td>رأيت رام الله</td></tr><tr><td>The Story of Ferdinand</td></tr><tr><td>The Elegance of the Hedgehog</td></tr><tr><td>Palace Walk (The Cairo Trilogy #1)</td></tr><tr><td>الحرافيش</td></tr><tr><td>أولاد حارتنا</td></tr><tr><td>Sheep in a Jeep</td></tr><tr><td>Lies Women Believe: And the Truth that Sets Them Free</td></tr><tr><td>Miracle in the Andes</td></tr><tr><td>The Reason I Jump: The Inner Voice of a Thirteen-Year-Old Boy with Autism</td></tr><tr><td>美少女戦士セーラームーン新装版 1 [Bishōjo Senshi Sailor Moon Shinsōban 1]</td></tr><tr><td>The Day of the Locust</td></tr><tr><td>The House of the Seven Gables</td></tr><tr><td>The Scarlet Letter</td></tr><tr><td>Fruits Basket, Vol. 1</td></tr><tr><td>Fruits Basket, Vol. 7</td></tr><tr><td>Fruits Basket, Vol. 2</td></tr><tr><td>Fruits Basket, Vol. 4</td></tr><tr><td>Fruits Basket, Vol. 3</td></tr><tr><td>Fruits Basket, Vol. 15</td></tr><tr><td>Fruits Basket, Vol. 14</td></tr><tr><td>Kitchen Princess, Vol. 01 (Kitchen Princess, #1)</td></tr><tr><td>Out</td></tr><tr><td>Batman: Whatever Happened to the Caped Crusader?</td></tr><tr><td>Marvel 1602</td></tr><tr><td>The Sandman: Endless Nights</td></tr><tr><td>Fables and Reflections (The Sandman #6)</td></tr><tr><td>Death: The High Cost of Living Collected</td></tr><tr><td>The Sleeper and the Spindle</td></tr><tr><td>The Graveyard Book</td></tr><tr><td>The Sandman: Overture</td></tr><tr><td>Brief Lives (The Sandman #7)</td></tr><tr><td>Dream Country (The Sandman #3)</td></tr><tr><td>The Kindly Ones (The Sandman #9)</td></tr><tr><td>Odd and the Frost Giants</td></tr><tr><td>Season of Mists (The Sandman #4)</td></tr><tr><td>InterWorld (InterWorld, #1)</td></tr><tr><td>The Wake (The Sandman #10)</td></tr><tr><td>Worlds' End (The Sandman #8)</td></tr><tr><td>The Absolute Sandman, Volume One</td></tr><tr><td>Coraline (Illustrated/Graphic Novel Edition)</td></tr><tr><td>Preludes &amp; Nocturnes (The Sandman #1)</td></tr><tr><td>A Game of You (The Sandman #5)</td></tr><tr><td>Fortunately, the Milk</td></tr><tr><td>The Doll's House (The Sandman #2)</td></tr><tr><td>The Sandman: The Dream Hunters</td></tr><tr><td>Neil Patrick Harris: Choose Your Own Autobiography</td></tr><tr><td>Amusing Ourselves to Death: Public Discourse in the Age of Show Business</td></tr><tr><td>Passing</td></tr><tr><td>Fantastic Beasts and Where to Find Them</td></tr><tr><td>The Prince</td></tr><tr><td>Half the Sky: Turning Oppression into Opportunity for Women Worldwide</td></tr><tr><td>Graffiti World: Street Art from Five Continents</td></tr><tr><td>Three Weeks With My Brother</td></tr><tr><td>Run Baby Run</td></tr><tr><td>Everything, Everything</td></tr><tr><td>The Nose</td></tr><tr><td>Dead Souls</td></tr><tr><td>Zorba the Greek</td></tr><tr><td>The Little Paris Bookshop</td></tr><tr><td>Manufacturing Consent: The Political Economy of the Mass Media</td></tr><tr><td>Rurouni Kenshin, Vol. 1: Meiji Swordsman Romantic Story (Rurouni Kenshin, #1)</td></tr><tr><td>Ballet Shoes (Shoes, #1)</td></tr><tr><td>Lumberjanes, Vol. 1: Beware the Kitten Holy</td></tr><tr><td>Savor the Moment (Bride Quartet, #3)</td></tr><tr><td>The Last Boyfriend (Inn BoonsBoro, #2)</td></tr><tr><td>The Next Always (Inn BoonsBoro, #1)</td></tr><tr><td>The Phantom Tollbooth</td></tr><tr><td>I Am Nujood, Age 10 and Divorced</td></tr><tr><td>The Gift of the Magi</td></tr><tr><td>Selected Stories</td></tr><tr><td>The Hangman's Daughter (The Hangman's Daughter, #1)</td></tr><tr><td>The Dark Monk (The Hangman's Daughter, #2)</td></tr><tr><td>The Beggar King (The Hangman's Daughter, #3)</td></tr><tr><td>رباعيات خيام</td></tr><tr><td>My Name is Red</td></tr><tr><td>Snow</td></tr><tr><td>The Museum of Innocence</td></tr><tr><td>Sway: The Irresistible Pull of Irrational Behavior</td></tr><tr><td>Earth Unaware (The First Formic War, #1)</td></tr><tr><td>The Abyss</td></tr><tr><td>The Canterville Ghost</td></tr><tr><td>The Picture of Dorian Gray</td></tr><tr><td>Complete Works of Oscar Wilde</td></tr><tr><td>The Importance of Being Earnest and Other Plays</td></tr><tr><td>Metamorphoses</td></tr><tr><td>The Mask</td></tr><tr><td>The Funhouse</td></tr><tr><td>I Am Ozzy</td></tr><tr><td>Dragon's Oath (House of Night Novellas, #1)</td></tr><tr><td>Revealed (House of Night, #11)</td></tr><tr><td>Hidden (House of Night, #10)</td></tr><tr><td>Marked / Betrayed / Chosen / Untamed / Hunted (House of Night #1-5)</td></tr><tr><td>Marked / Betrayed / Chosen / Untamed (House of Night, #1-4)</td></tr><tr><td>Destined (House of Night, #9)</td></tr><tr><td>Marked (House of Night, #1)</td></tr><tr><td>Untamed (House of Night, #4)</td></tr><tr><td>Betrayed (House of Night, #2)</td></tr><tr><td>Tempted (House of Night, #6)</td></tr><tr><td>Burned (House of Night, #7)</td></tr><tr><td>Hunted (House of Night, #5)</td></tr><tr><td>Chosen (House of Night, #3)</td></tr><tr><td>Awakened (House of Night, #8)</td></tr><tr><td>Redeemed (House of Night, #12)</td></tr><tr><td>Lenobia's Vow (House of Night Novellas, #2)</td></tr><tr><td>Mary Poppins (Mary Poppins, #1)</td></tr><tr><td>The Poetry of Pablo Neruda</td></tr><tr><td>100 Love Sonnets</td></tr><tr><td>Twenty Love Poems and a Song of Despair</td></tr><tr><td>I'm with the Band: Confessions of a Groupie</td></tr><tr><td>Bringing Up Bébé: One American Mother Discovers the Wisdom of French Parenting</td></tr><tr><td>The Solitude of Prime Numbers</td></tr><tr><td>Night Train to Lisbon</td></tr><tr><td>On the Prowl (Alpha &amp; Omega, #0.5)</td></tr><tr><td>Talking to Dragons (Enchanted Forest Chronicles, #4)</td></tr><tr><td>Dealing with Dragons (Enchanted Forest Chronicles, #1)</td></tr><tr><td>Calling on Dragons (Enchanted Forest Chronicles, #3)</td></tr><tr><td>Searching for Dragons (Enchanted Forest Chronicles, #2)</td></tr><tr><td>The Country Mouse and the City Mouse; The Fox and the Crow; The Dog and His Bone</td></tr><tr><td>The Sisters Brothers</td></tr><tr><td>A Monster Calls</td></tr><tr><td>The Slow Regard of Silent Things (The Kingkiller Chronicle #2.5)</td></tr><tr><td>Perfume: The Story of a Murderer</td></tr><tr><td>Wonderful Tonight</td></tr><tr><td>Stand Tall, Molly Lou Melon</td></tr><tr><td>The New York Trilogy</td></tr><tr><td>The Three Billy Goats Gruff</td></tr><tr><td>The Heavenly Man: The Remarkable True Story of Chinese Christian Brother Yun</td></tr><tr><td>Wolverine: Origin</td></tr><tr><td>When Breath Becomes Air</td></tr><tr><td>The Light of the Fireflies</td></tr><tr><td>The Lady &amp; Sons Savannah Country Cookbook</td></tr><tr><td>Story of O (Story of O #1)</td></tr><tr><td>The Valkyries</td></tr><tr><td>By the River Piedra I Sat Down and Wept</td></tr><tr><td>The Alchemist</td></tr><tr><td>The Pilgrimage</td></tr><tr><td>The Devil and Miss Prym (On the Seventh Day, #3)</td></tr><tr><td>The Zahir</td></tr><tr><td>Veronika Decides to Die</td></tr><tr><td>Eleven Minutes</td></tr><tr><td>Manuscript Found in Accra</td></tr><tr><td>Brida</td></tr><tr><td>Pedagogy of the Oppressed</td></tr><tr><td>Amelia Bedelia and the Surprise Shower</td></tr><tr><td>Amelia Bedelia  (Amelia Bedelia #1)</td></tr><tr><td>Come Back, Amelia Bedelia</td></tr><tr><td>Rival (Fall Away, #2)</td></tr><tr><td>Corrupt (Devil's Night, #1)</td></tr><tr><td>Until You (Fall Away, #1.5)</td></tr><tr><td>Cocky Bastard</td></tr><tr><td>Out Stealing Horses</td></tr><tr><td>The Chronicles of Narnia - The Lion, the Witch, and the Wardrobe Official Illustrated Movie Companion</td></tr><tr><td>The Dark Tower: The Gunslinger Born</td></tr><tr><td>Smilla's Sense of Snow</td></tr><tr><td>One Up On Wall Street: How To Use What You Already Know To Make Money In The Market</td></tr><tr><td>Zero to One: Notes on Startups, or How to Build the Future</td></tr><tr><td>The Glassblower</td></tr><tr><td>Happy, Happy, Happy</td></tr><tr><td>A Sick Day for Amos McGee</td></tr><tr><td>Ubik</td></tr><tr><td>Do Androids Dream of Electric Sheep?</td></tr><tr><td>Fairy Tales from the Brothers Grimm: A New English Version</td></tr><tr><td>Lyra's Oxford (His Dark Materials, #3.5)</td></tr><tr><td>Portnoy's Complaint</td></tr><tr><td>The Kingmaker's Daughter (The Plantagenet and Tudor Novels, #4)</td></tr><tr><td>Tom's Midnight Garden</td></tr><tr><td>Planet of the Apes</td></tr><tr><td>Les Liaisons dangereuses</td></tr><tr><td>The Symposium</td></tr><tr><td>The Republic</td></tr><tr><td>The Trial and Death of Socrates</td></tr><tr><td>Five Dialogues: Euthyphro, Apology, Crito, Meno, Phaedo</td></tr><tr><td>Apology</td></tr><tr><td>I Wrote This For You</td></tr><tr><td>NurtureShock: New Thinking About Children</td></tr><tr><td>Survival in Auschwitz</td></tr><tr><td>The Name of This Book Is Secret (Secret, #1)</td></tr><tr><td>This Book Is Not Good for You (Secret, #3)</td></tr><tr><td>If You're Reading This, It's Too Late (Secret, #2)</td></tr><tr><td>Alice in the Country of Hearts, Vol. 01 (Alice in the Country of Hearts, #1)</td></tr><tr><td>Lorna Doone</td></tr><tr><td>Malgudi Days</td></tr><tr><td>Kiss of Death (The Morganville Vampires, #8)</td></tr><tr><td>Silent Spring</td></tr><tr><td>Nick &amp; Norah's Infinite Playlist</td></tr><tr><td>Dash &amp; Lily's Book of Dares (Dash &amp; Lily, #1)</td></tr><tr><td>الطنطورية</td></tr><tr><td>ثلاثية غرناطة</td></tr><tr><td>Drama</td></tr><tr><td>Letters to a Young Poet</td></tr><tr><td>The Selected Poetry of Rainer Maria Rilke</td></tr><tr><td>Vincent Van Gogh: The Complete Paintings</td></tr><tr><td>Essays and Poems</td></tr><tr><td>Be Here Now</td></tr><tr><td>Courageous</td></tr><tr><td>The Last Lecture</td></tr><tr><td>And the Band Played On: Politics, People, and the AIDS Epidemic</td></tr><tr><td>Mistress of the Empire (The Empire Trilogy, #3)</td></tr><tr><td>Daughter of the Empire (The Empire Trilogy, #1)</td></tr><tr><td>Servant of the Empire (The Empire Trilogy, #2)</td></tr><tr><td>Magician: Apprentice  (Raymond E. Feist's Magician: Apprentice #1)</td></tr><tr><td>Twilight and Philosophy: Vampires, Vegetarians, and the Pursuit of Immortality</td></tr><tr><td>Twelve Angry Men</td></tr><tr><td>Discourse on Method</td></tr><tr><td>Meditations on First Philosophy</td></tr><tr><td>Discourse on Method and Meditations on First Philosophy</td></tr><tr><td>Asterix the Gaul (Asterix, #1)</td></tr><tr><td>Le Petit Nicolas (Le petit Nicolas, #1)</td></tr><tr><td>Mr. Popper's Penguins</td></tr><tr><td>Jonathan Livingston Seagull</td></tr><tr><td>Thinner</td></tr><tr><td>The Running Man</td></tr><tr><td>The Bachman Books</td></tr><tr><td>The Long Walk</td></tr><tr><td>The Regulators</td></tr><tr><td>Blaze</td></tr><tr><td>Roadwork</td></tr><tr><td>Rage</td></tr><tr><td>The Magic of Reality: How We Know What's Really True</td></tr><tr><td>Nudge: Improving Decisions About Health, Wealth, and Happiness</td></tr><tr><td>The Further Adventures of Sherlock Holmes: After Sir Arthur Conan Doyle (Classic Crime)</td></tr><tr><td>The Door to December</td></tr><tr><td>That Old Cape Magic</td></tr><tr><td>Black Boy</td></tr><tr><td>Vampire Academy: The Graphic Novel (Vampire Academy: The Graphic Novel, #1)</td></tr><tr><td>Vespers Rising (The 39 Clues, #11)</td></tr><tr><td>The Demigod Diaries</td></tr><tr><td>Percy Jackson's Greek Gods (A Percy Jackson and the Olympians Guide)</td></tr><tr><td>The Lightning Thief: The Graphic Novel (Percy Jackson and the Olympians, #1)</td></tr><tr><td>Percy Jackson and the Olympians Boxed Set (Percy Jackson and the Olympians, #1-5)</td></tr><tr><td>Disney after Dark (Kingdom Keepers, #1)</td></tr><tr><td>Gnomes</td></tr><tr><td>Going Solo</td></tr><tr><td>Revolting Rhymes</td></tr><tr><td>The Giraffe and the Pelly and Me</td></tr><tr><td>The Magic Finger (Young Puffin Developing Reader)</td></tr><tr><td>Esio Trot</td></tr><tr><td>Boy: Tales of Childhood</td></tr><tr><td>Danny the Champion of the World</td></tr><tr><td>The Twits</td></tr><tr><td>Fantastic Mr. Fox</td></tr><tr><td>George's Marvellous Medicine</td></tr><tr><td>Charlie and the Great Glass Elevator (Charlie Bucket, #2)</td></tr><tr><td>James and the Giant Peach</td></tr><tr><td>The BFG</td></tr><tr><td>The Witches</td></tr><tr><td>Charlie and the Chocolate Factory (Charlie Bucket, #1)</td></tr><tr><td>Matilda</td></tr><tr><td>The Thousand-Dollar Tan Line (Veronica Mars, #1)</td></tr><tr><td>Mr. Kiss and Tell (Veronica Mars, #2)</td></tr><tr><td>The Past Through Tomorrow (Future History, #1-21)</td></tr><tr><td>The Story of Ruby Bridges</td></tr><tr><td>Dali: The Paintings</td></tr><tr><td>The Complete Guide to Middle-Earth</td></tr><tr><td>The Poetry of Robert Frost (Collected Poems, Complete &amp; Unabridged)</td></tr><tr><td>The Silkworm (Cormoran Strike, #2)</td></tr><tr><td>Career of Evil (Cormoran Strike, #3)</td></tr><tr><td>The Cuckoo's Calling (Cormoran Strike, #1)</td></tr><tr><td>The 48 Laws of Power</td></tr><tr><td>The Art Spirit: Notes, Articles, Fragments of Letters and Talks to Students, Bearing on the Concept and Technique of Picture Making, the Study of Art (Icon Editions)</td></tr><tr><td>The Gathering Storm (Wheel of Time, #12)</td></tr><tr><td>Towers of Midnight (Wheel of Time, #13)</td></tr><tr><td>A Memory of Light (Wheel of Time, #14)</td></tr><tr><td>Dr. Seuss's Green Eggs and Ham: For Soprano, Boy Soprano, and Orchestra</td></tr><tr><td>The Walking Dead, Compendium 2</td></tr><tr><td>The Walking Dead, Book Two (The Walking Dead #13-24)</td></tr><tr><td>The Walking Dead, Vol. 12: Life Among Them</td></tr><tr><td>The Walking Dead, Vol. 03: Safety Behind Bars</td></tr><tr><td>The Walking Dead, Vol. 02: Miles Behind Us</td></tr><tr><td>The Walking Dead, Vol. 06: This Sorrowful Life</td></tr><tr><td>The Walking Dead, Vol. 04: The Heart's Desire</td></tr><tr><td>The Walking Dead, Vol. 05: The Best Defense</td></tr><tr><td>The Walking Dead, Vol. 14: No Way Out</td></tr><tr><td>The Walking Dead, Vol. 09: Here We Remain</td></tr><tr><td>The Walking Dead, Vol. 11: Fear the Hunters</td></tr><tr><td>The Walking Dead, Vol. 07: The Calm Before</td></tr><tr><td>The Walking Dead, Vol. 13: Too Far Gone</td></tr><tr><td>The Walking Dead, Book Three (The Walking Dead #25-36)</td></tr><tr><td>Rise of the Governor (The Walking Dead #1)</td></tr><tr><td>The Walking Dead, Vol. 01: Days Gone Bye</td></tr><tr><td>The Walking Dead, Book One (The Walking Dead #1-12)</td></tr><tr><td>The Strange Case of Dr. Jekyll and Mr. Hyde and Other Stories </td></tr><tr><td>The Strange Case of Dr. Jekyll and Mr. Hyde and Other Tales of Terror</td></tr><tr><td>A Child's Garden of Verses</td></tr><tr><td>The Strange Case of Dr. Jekyll and Mr. Hyde</td></tr><tr><td>The Monuments Men: Allied Heroes, Nazi Thieves, and the Greatest Treasure Hunt in History</td></tr><tr><td>The Paper Bag Princess</td></tr><tr><td>Love You Forever</td></tr><tr><td>Alice's Adventures in Wonderland: A Pop-Up Adaptation</td></tr><tr><td>The Illuminatus! Trilogy</td></tr><tr><td>Rich Dad's Cashflow Quadrant: Rich Dad's Guide to Financial Freedom</td></tr><tr><td>Rich Dad's Guide to Investing: What the Rich Invest in That the Poor and Middle Class Do Not!</td></tr><tr><td>The King in Yellow and Other Horror Stories</td></tr><tr><td>The Stand: Soul Survivors</td></tr><tr><td>The Stand: Captain Trips</td></tr><tr><td>The Savage Detectives</td></tr><tr><td>The Talisman (Volume 1): The Road of Trials</td></tr><tr><td>Tunnels (Tunnels, #1)</td></tr><tr><td>Getting to Yes: Negotiating an Agreement Without Giving In</td></tr><tr><td>Little House on Rocky Ridge (Little House: The Rocky Ridge Years, #1)</td></tr><tr><td>Lord of Light</td></tr><tr><td>Mythologies</td></tr><tr><td>Camera Lucida: Reflections on Photography</td></tr><tr><td>Same Kind of Different as Me</td></tr><tr><td>A Scandal in Bohemia (The Adventures of Sherlock Holmes, #1)</td></tr><tr><td>Skinny Bitch</td></tr><tr><td>The Cake Bible</td></tr><tr><td>Willpower: Rediscovering the Greatest Human Strength</td></tr><tr><td>Dracula (Marvel Illustrated)</td></tr><tr><td>The Jungle Books</td></tr><tr><td>Kim</td></tr><tr><td>Rikki-Tikki-Tavi</td></tr><tr><td>Bedtime for Frances</td></tr><tr><td>A Bargain for Frances</td></tr><tr><td>Bread and Jam for Frances</td></tr><tr><td>Marching Powder: A True Story of Friendship, Cocaine, and South America's Strangest Jail</td></tr><tr><td>The Carrot Seed</td></tr><tr><td>Anne Frank: Beyond the Diary - A Photographic Remembrance</td></tr><tr><td>In the Miso Soup</td></tr><tr><td>The Blind Owl</td></tr><tr><td>Haroun and the Sea of Stories (Khalifa Brothers, #1)</td></tr><tr><td>Guess How Much I Love You</td></tr><tr><td>The Jordan Rules</td></tr><tr><td>The House of God</td></tr><tr><td>The Rime of the Ancient Mariner</td></tr><tr><td>Low Pressure</td></tr><tr><td>Clementine (Clementine, #1)</td></tr><tr><td>The Postmistress</td></tr><tr><td>Red Riding Hood</td></tr><tr><td>Having Our Say: The Delany Sisters' First 100 Years</td></tr><tr><td>Going Rogue: An American Life</td></tr><tr><td>The Magic Thief (Magic Thief, #1)</td></tr><tr><td>The Partly Cloudy Patriot</td></tr><tr><td>The Adventures of Augie March</td></tr><tr><td>Henderson the Rain King</td></tr><tr><td>Herzog</td></tr><tr><td>Our Dumb Century: The Onion Presents 100 Years of Headlines from America's Finest News Source</td></tr><tr><td>Eat and Run: My Unlikely Journey to Ultramarathon Greatness</td></tr><tr><td>Batman, Volume 1: The Court of Owls</td></tr><tr><td>Batman, Volume 3: Death of the Family</td></tr><tr><td>Batman, Volume 2: The City of Owls</td></tr><tr><td>Batman: The Black Mirror</td></tr><tr><td>American Vampire, Vol. 1</td></tr><tr><td>Goliath (Leviathan, #3)</td></tr><tr><td>Behemoth (Leviathan, #2)</td></tr><tr><td>Night Watch (Watch #1)</td></tr><tr><td>Day Watch (Watch #2)</td></tr><tr><td>Twilight Watch (Watch #3)</td></tr><tr><td>Pride and Prejudice and Zombies (Pride and Prejudice and Zombies, #1)</td></tr><tr><td>Book of a Thousand Days</td></tr><tr><td>A Severe Mercy: A Story of Faith, Tragedy and Triumph</td></tr><tr><td>The Absolutely True Diary of a Part-Time Indian</td></tr><tr><td>Lean In: Women, Work, and the Will to Lead</td></tr><tr><td>We Have Always Lived in the Castle</td></tr><tr><td>The Haunting of Hill House</td></tr><tr><td>FRUiTS</td></tr><tr><td>Silence</td></tr><tr><td>Si-cology 1: Tales and Wisdom from Duck Dynasty’s Favorite Uncle</td></tr><tr><td>The Whipping Boy</td></tr><tr><td>Civilization and Its Discontents</td></tr><tr><td>Soccernomics: Why England Loses, Why Germany and Brazil Win, and Why the U.S., Japan, Australia, Turkey--and Even Iraq--Are Destined to Become the Kings of the World's Most Popular Sport</td></tr><tr><td>The Second Sex</td></tr><tr><td>Slash</td></tr><tr><td>The Tibetan Book of Living and Dying</td></tr><tr><td>The Oedipus Cycle: Oedipus Rex/Oedipus at Colonus/Antigone (The Theban Plays, #1–3)</td></tr><tr><td>Antigone (The Theban Plays, #3)</td></tr><tr><td>Oedipus Rex  (The Theban Plays, #1)</td></tr><tr><td>Fear and Trembling</td></tr><tr><td>Who Moved My Cheese?</td></tr><tr><td>Manga Classics: Les Misérables</td></tr><tr><td>The Berenstain Bears and the Messy Room</td></tr><tr><td>The Berenstain Bears' Trouble at School</td></tr><tr><td>Inside, Outside, Upside Down (Berenstain Bears Bright and Early Board Book)</td></tr><tr><td>The Berenstain Bears Go to School</td></tr><tr><td>The Berenstain Bears Forget Their Manners</td></tr><tr><td>The Berenstain Bears and Too Much TV</td></tr><tr><td>Chess Story</td></tr><tr><td>Cold Comfort Farm</td></tr><tr><td>The Charterhouse of Parma</td></tr><tr><td>The Red and the Black</td></tr><tr><td>America's First Daughter</td></tr><tr><td>My True Love Gave to Me: Twelve Holiday Stories</td></tr><tr><td>Interesting Times: The Play</td></tr><tr><td>Guards! Guards!: The Play</td></tr><tr><td>Fish: A Proven Way to Boost Morale and Improve Results</td></tr><tr><td>I Am America (And So Can You!)</td></tr><tr><td>The Red Badge of Courage and Selected Short Fiction  </td></tr><tr><td>A Brief History of Time</td></tr><tr><td>The Grand Design</td></tr><tr><td>A Briefer History of Time</td></tr><tr><td>Shadows over Innsmouth</td></tr><tr><td>The Love Dare</td></tr><tr><td>Cycle of the Werewolf</td></tr><tr><td>Wolves of the Calla (The Dark Tower, #5)</td></tr><tr><td>The Stand</td></tr><tr><td>Creepshow</td></tr><tr><td>Insomnia</td></tr><tr><td>Song of Susannah (The Dark Tower, #6)</td></tr><tr><td>Wizard and Glass (The Dark Tower, #4)</td></tr><tr><td>Dolores Claiborne</td></tr><tr><td>The Wind Through the Keyhole (The Dark Tower, #4.5)</td></tr><tr><td>'Salem's Lot</td></tr><tr><td>Night Shift</td></tr><tr><td>Riding the Bullet</td></tr><tr><td>Christine</td></tr><tr><td>The Little Sisters of Eluria (The Dark Tower, #0.5)</td></tr><tr><td>The Waste Lands (The Dark Tower, #3)</td></tr><tr><td>The Talisman (The Talisman, #1)</td></tr><tr><td>Black House (The Talisman, #2)</td></tr><tr><td>The Body</td></tr><tr><td>One Past Midnight: The Langoliers</td></tr><tr><td>Dreamcatcher</td></tr><tr><td>First Things First</td></tr><tr><td>Wicked - Piano/Vocal Arrangement</td></tr><tr><td>Sweeney Todd: The Demon Barber of Fleet Street</td></tr><tr><td>The Twilight Saga (Twilight, #1-4)</td></tr><tr><td>Twilight: The Graphic Novel, Vol. 2  (Twilight: The Graphic Novel, #2)</td></tr><tr><td>The Paris Vendetta (Cotton Malone, #5)</td></tr><tr><td>Dawn of the Dreadfuls (Pride and Prejudice and Zombies, #0.5)</td></tr><tr><td>30 Days of Night, Vol. 1</td></tr><tr><td>Breaking Point (Tom Clancy's Net Force, #4)</td></tr><tr><td>SuperFreakonomics: Global Cooling, Patriotic Prostitutes And Why Suicide Bombers Should Buy Life Insurance</td></tr><tr><td>Freakonomics: A Rogue Economist Explores the Hidden Side of Everything (Freakonomics, #1)</td></tr><tr><td>Think Like a Freak</td></tr><tr><td>Van Gogh: The Life</td></tr><tr><td>The War of Art: Break Through the Blocks &amp; Win Your Inner Creative Battles</td></tr><tr><td>The Millennium Trilogy (Millennium Trilogy, #1-3)</td></tr><tr><td>The Girl Who Played with Fire (Millennium, #2)</td></tr><tr><td>The Girl Who Kicked the Hornet's Nest (Millennium, #3)</td></tr><tr><td>The Girl with the Dragon Tattoo (Millennium, #1)</td></tr><tr><td>The Twelve Caesars</td></tr><tr><td>Tokyo Ghoul, tome 1 (Tokyo Ghoul, #1)</td></tr><tr><td>The Art of War</td></tr><tr><td>The Woman in Black</td></tr><tr><td>Meet Samantha: An American Girl (American Girls: Samantha, #1)</td></tr><tr><td>The Ladies of Grace Adieu and Other Stories</td></tr><tr><td>The Winter Sea (Slains, #1)</td></tr><tr><td>The Unabridged Journals of Sylvia Plath</td></tr><tr><td>The Collected Poems</td></tr><tr><td>The China Study: The Most Comprehensive Study of Nutrition Ever Conducted And the Startling Implications for Diet, Weight Loss, And Long-term Health</td></tr><tr><td>Drop City</td></tr><tr><td>Old Possum's Book of Practical Cats</td></tr><tr><td>The Waste Land</td></tr><tr><td>Gakuen Alice, Vol. 01 (Gakuen Alice, #1)</td></tr><tr><td>Season of Migration to the North</td></tr><tr><td>Animal-Speak: The Spiritual &amp; Magical Powers of Creatures Great &amp; Small</td></tr><tr><td>Lady and the Tramp</td></tr><tr><td>Beauty and the Beast (Disney)</td></tr><tr><td>Star Wars - Episode I: The Phantom Menace</td></tr><tr><td>Temple of the Winds (Sword of Truth, #4)</td></tr><tr><td>Lady Cottington's Pressed Fairy Book</td></tr><tr><td>Good Omens: The Nice and Accurate Prophecies of Agnes Nutter, Witch</td></tr><tr><td>The Last Hero (Discworld, #27; Rincewind #7)</td></tr><tr><td>The Long War (The Long Earth, #2)</td></tr><tr><td>The Long Earth (The Long Earth, #1)</td></tr><tr><td>Mort: The Play</td></tr><tr><td>Men at Arms: The Play</td></tr><tr><td>Totto-chan: The Little Girl at the Window</td></tr><tr><td>The Beatles Anthology</td></tr><tr><td>Waiter Rant: Thanks for the Tip-Confessions of a Cynical Waiter</td></tr><tr><td>Ten Apples Up On Top!</td></tr><tr><td>An American Tragedy</td></tr><tr><td>Peace Is Every Step: The Path of Mindfulness in Everyday Life</td></tr><tr><td>The Imitation of Christ</td></tr><tr><td>The Return of the Native  </td></tr><tr><td>The Mayor of Casterbridge</td></tr><tr><td>The Woodlanders</td></tr><tr><td>Far from the Madding Crowd</td></tr><tr><td>Tess of the D'Urbervilles</td></tr><tr><td>Leviathan</td></tr><tr><td>The Millionaire Next Door: The Surprising Secrets of Americas Wealthy</td></tr><tr><td>King Arthur and His Knights: Selected Tales</td></tr><tr><td>Le Morte d'Arthur: King Arthur and the Legends of the Round Table</td></tr><tr><td>Death in Venice and Other Tales</td></tr><tr><td>The Magic Mountain</td></tr><tr><td>Buddenbrooks: The Decline of a Family</td></tr><tr><td>Death in Venice</td></tr><tr><td>The Seven Storey Mountain</td></tr><tr><td>Utopia</td></tr><tr><td>Common Sense, The Rights of Man and Other Essential Writings</td></tr><tr><td>Capital in the Twenty-First Century</td></tr><tr><td>Our Town</td></tr><tr><td>History of the Peloponnesian War</td></tr><tr><td>Fahrenheit 451: The Authorized Adaptation</td></tr><tr><td>Armageddon: The Cosmic Battle of the Ages (Left Behind, #11)</td></tr><tr><td>The Rising: Antichrist is Born  (Before They Were Left Behind, #1)</td></tr><tr><td>The Indwelling (Left Behind, #7)</td></tr><tr><td>Desecration (Left Behind, #9)</td></tr><tr><td>The Remnant (Left Behind, #10)</td></tr><tr><td>Glorious Appearing: The End of Days (Left Behind, #12)</td></tr><tr><td>Apollyon (Left Behind, #5)</td></tr><tr><td>Assassins (Left Behind, #6)</td></tr><tr><td>The Mark (Left Behind, #8)</td></tr><tr><td>Nicolae (Left Behind, #3)</td></tr><tr><td>Soul Harvest: The World Takes Sides (Left Behind, #4)</td></tr><tr><td>Tribulation Force (Left Behind, #2)</td></tr><tr><td>Left Behind (Left Behind, #1)</td></tr><tr><td>Through My Eyes</td></tr><tr><td>The Meaning of Marriage: Facing the Complexities of Commitment with the Wisdom of God</td></tr><tr><td>Heaven is for Real: A Little Boy's Astounding Story of His Trip to Heaven and Back</td></tr><tr><td>Dead or Alive (Jack Ryan Universe, #13)</td></tr><tr><td>Threat Vector (Jack Ryan Universe, #15)</td></tr><tr><td>Command Authority (Jack Ryan Universe, #16)</td></tr><tr><td>Locked On (Jack Ryan Universe, #14)</td></tr><tr><td>Against All Enemies (Max Moore, #1)</td></tr><tr><td>In Search of Excellence: Lessons from America's Best-Run Companies</td></tr><tr><td>Bone: Quest for the Spark, Vol. 1</td></tr><tr><td>Rosencrantz and Guildenstern Are Dead</td></tr><tr><td>The Dirt: Confessions of the World's Most Notorious Rock Band</td></tr><tr><td>The Wallflower, Vol. 1 (The Wallflower, #1)</td></tr><tr><td>Emotional Intelligence 2.0</td></tr><tr><td>The Mysterious Benedict Society (The Mysterious Benedict Society, #1)</td></tr><tr><td>The Mysterious Benedict Society and the Prisoner's Dilemma (The Mysterious Benedict Society, #3)</td></tr><tr><td>The Mysterious Benedict Society and the Perilous Journey (The Mysterious Benedict Society, #2)</td></tr><tr><td>Little Red Riding Hood</td></tr><tr><td>The Day Jimmy's Boa Ate the Wash</td></tr><tr><td>When Rabbit Howls</td></tr><tr><td>Death Note, Vol. 1: Boredom (Death Note, #1)</td></tr><tr><td>Death Note, Vol. 4: Love (Death Note, #4)</td></tr><tr><td>Death Note, Vol. 3: Hard Run (Death Note, #3)</td></tr><tr><td>Death Note, Vol. 6: Give-and-Take (Death Note, #6)</td></tr><tr><td>Death Note, Vol. 8: Target (Death Note, #8)</td></tr><tr><td>Death Note, Vol. 7: Zero (Death Note, #7)</td></tr><tr><td>Death Note, Vol. 5: Whiteout (Death Note, #5)</td></tr><tr><td>Death Note, Vol. 2: Confluence (Death Note, #2)</td></tr><tr><td>Bakuman, Band 1: Traum und Realität</td></tr><tr><td>The Secret Race: Inside the Hidden World of the Tour de France: Doping, Cover-ups, and Winning at All Costs</td></tr><tr><td>History of Beauty</td></tr><tr><td>The Prague Cemetery</td></tr><tr><td>Foucault's Pendulum</td></tr><tr><td>Baudolino</td></tr><tr><td>The Name of the Rose</td></tr><tr><td>Sir Gawain and the Green Knight </td></tr><tr><td>Beowulf</td></tr><tr><td>The Jungle</td></tr><tr><td>The Left Hand of Darkness</td></tr><tr><td>A Gathering of Shadows (Shades of Magic, #2)</td></tr><tr><td>A Darker Shade of Magic (Shades of Magic, #1)</td></tr><tr><td>Vicious (Villains, #1)</td></tr><tr><td>Phantoms in the Brain: Probing the Mysteries of the Human Mind</td></tr><tr><td>Why Mosquitoes Buzz in People's Ears</td></tr><tr><td>Stuck-Up Suit</td></tr><tr><td>Dewey: The Small-Town Library Cat Who Touched the World</td></tr><tr><td>Les Misérables</td></tr><tr><td>The Hunchback of Notre-Dame</td></tr><tr><td>Pinkalicious</td></tr><tr><td>The Survivor (Mitch Rapp, #14)</td></tr><tr><td>Helter Skelter: The True Story of the Manson Murders</td></tr><tr><td>Dear Theo</td></tr><tr><td>The Letters of Vincent van Gogh</td></tr><tr><td>The Aeneid</td></tr><tr><td>Mrs. Dalloway</td></tr><tr><td>Lolita</td></tr><tr><td>Pnin</td></tr><tr><td>Blue Ocean Strategy: How To Create Uncontested Market Space And Make The Competition Irrelevant</td></tr><tr><td>Of Human Bondage</td></tr><tr><td>The Collected Poems of W.B. Yeats</td></tr><tr><td>The Souls of Black Folk</td></tr><tr><td>Austerlitz</td></tr><tr><td>Beauty and the Beast</td></tr><tr><td>The Work of Art in the Age of Its Technological Reproducibility, and Other Writings on Media</td></tr><tr><td>The Black Stallion (The Black Stallion, #1)</td></tr><tr><td>A Night to Remember</td></tr><tr><td>The 13½ Lives of Captain Bluebear (Zamonia, #1)</td></tr><tr><td>Desert Flower</td></tr><tr><td>Iron Man: Extremis</td></tr><tr><td>Transmetropolitan, Vol. 2: Lust for Life (Transmetropolitan, #2)</td></tr><tr><td>Transmetropolitan, Vol. 3: Year of the Bastard (Transmetropolitan, #3)</td></tr><tr><td>Transmetropolitan, Vol. 4: The New Scum (Transmetropolitan, #4)</td></tr><tr><td>Transmetropolitan, Vol. 5: Lonely City (Transmetropolitan, #5)</td></tr><tr><td>Transmetropolitan, Vol. 1: Back on the Street (Transmetropolitan, #1)</td></tr><tr><td>Planetary, Volume 1: All Over the World and Other Stories</td></tr><tr><td>The Little Engine That Could</td></tr><tr><td>The Other Wes Moore: One Name, Two Fates</td></tr><tr><td>The Moonstone</td></tr><tr><td>The Woman in White</td></tr><tr><td>What the Bleep Do We Know!?: Discovering the Endless Possibilities for Altering Your Everyday Reality</td></tr><tr><td>The Complete Poetry and Prose</td></tr><tr><td>Selected Poems</td></tr><tr><td>The Difference Engine </td></tr><tr><td>Burning Chrome (Sprawl, #0)</td></tr><tr><td>Johnny Mnemonic</td></tr><tr><td>Sounder</td></tr><tr><td>The Boy Who Harnessed the Wind: Creating Currents of Electricity and Hope</td></tr><tr><td>Vanity Fair</td></tr><tr><td>The Bad Seed</td></tr><tr><td>Cradle to Cradle: Remaking the Way We Make Things</td></tr><tr><td>The Wind Singer (Wind on Fire, #1)</td></tr><tr><td>Naked Lunch</td></tr><tr><td>Junky</td></tr><tr><td>Measure for Measure</td></tr><tr><td>Henry V</td></tr><tr><td>A Midsummer Night's Dream</td></tr><tr><td>Much Ado About Nothing</td></tr><tr><td>Antony and Cleopatra</td></tr><tr><td>King Henry IV, Part 1 (Wars of the Roses, #2)</td></tr><tr><td>Richard III</td></tr><tr><td>Shakespeare's Sonnets</td></tr><tr><td>Hamlet</td></tr><tr><td>Romeo and Juliet</td></tr><tr><td>The Merchant of Venice</td></tr><tr><td>Julius Caesar</td></tr><tr><td>Richard II</td></tr><tr><td>Four Great Tragedies: Hamlet / Othello / King Lear / Macbeth</td></tr><tr><td>The Elements of Style</td></tr><tr><td>The Pianist: The Extraordinary Story of One Man's Survival in Warsaw, 1939–45</td></tr><tr><td>Black Butler, Vol. 2 (Black Butler, #2)</td></tr><tr><td>Black Butler, Vol. 1 (Black Butler, #1)</td></tr><tr><td>Snow Country</td></tr><tr><td>We</td></tr><tr><td>Boys Over Flowers: Hana Yori Dango, Vol. 1 (Boys Over Flowers, #1)</td></tr><tr><td>The Housekeeper and the Professor</td></tr><tr><td>Hunter x Hunter, Vol. 01 (Hunter x Hunter, #1)</td></tr><tr><td>Skip Beat!, Vol. 01</td></tr><tr><td>Twilight: The Graphic Novel, Vol. 1 (Twilight: The Graphic Novel, #1)</td></tr><tr><td>The Sailor Who Fell from Grace with the Sea</td></tr><tr><td>Fushigi Yûgi: The Mysterious Play, Vol. 1: Priestess</td></tr><tr><td>See You at the Top</td></tr><tr><td>Girl Online (Girl Online, #1)</td></tr><tr><td>فوضى الحواس</td></tr><tr><td>عابر سرير</td></tr><tr><td>ذاكرة الجسد</td></tr><tr><td>com نسيان</td></tr><tr><td>الأسود يليق بك</td></tr><tr><td>تاكسي: حواديت المشاوير</td></tr><tr><td>ساق البامبو</td></tr><tr><td>رباعيات صلاح جاهين</td></tr><tr><td>قمر على سمرقند</td></tr><tr><td>محال</td></tr><tr><td>النبطي</td></tr></table>"
                    },
                    "metadata": {}
                }
            ],
            "execution_count": 3
        },
        {
            "cell_type": "markdown",
            "source": [
                "## QUESTION 2: Ira\n",
                "\n",
                "Ira was asked by a customer for titles that have been tagged \"Meditation\".  As you create a query for Ira, think about how the tables in BooksDB are organized as you write your query."
            ],
            "metadata": {
                "azdata_cell_guid": "06f2a08a-a54e-484e-8053-c74594da9db2"
            },
            "attachments": {}
        },
        {
            "cell_type": "code",
            "source": [
                "-- Code here:\r\n",
                "--SELECT title FROM BooksDB.dbo.Books\r\n",
                "--where best_book_id IN (select book_id from BooksDB.dbo.book_tags where tag_id IN (select tag_id from BooksDB.dbo.tags where tag_name LIKE '%Meditation%') ) \r\n",
                "\r\n",
                "SELECT title FROM BooksDB.dbo.Books\r\n",
                "where best_book_id IN (select goodreads_book_id from BooksDB.dbo.book_tags where tag_id IN (select tag_id from BooksDB.dbo.tags where tag_name ='Meditation') ) \r\n",
                ""
            ],
            "metadata": {
                "azdata_cell_guid": "552924f9-a1cc-4979-8f53-15ba959550c2",
                "tags": [],
                "language": "sql"
            },
            "outputs": [
                {
                    "output_type": "display_data",
                    "data": {
                        "text/html": "(39 rows affected)"
                    },
                    "metadata": {}
                },
                {
                    "output_type": "display_data",
                    "data": {
                        "text/html": "Total execution time: 00:00:00.198"
                    },
                    "metadata": {}
                },
                {
                    "output_type": "execute_result",
                    "metadata": {},
                    "execution_count": 14,
                    "data": {
                        "application/vnd.dataresource+json": {
                            "schema": {
                                "fields": [
                                    {
                                        "name": "title"
                                    }
                                ]
                            },
                            "data": [
                                {
                                    "title": "A New Earth: Awakening to Your Life's Purpose"
                                },
                                {
                                    "title": "The Power of Now: A Guide to Spiritual Enlightenment"
                                },
                                {
                                    "title": "The Four Agreements: A Practical Guide to Personal Freedom"
                                },
                                {
                                    "title": "The Art of Happiness"
                                },
                                {
                                    "title": "Meditations"
                                },
                                {
                                    "title": "Way of the Peaceful Warrior: A Book That Changes Lives"
                                },
                                {
                                    "title": "Practicing the Power of Now: Essential Teachings, Meditations, and Exercises from the Power of Now"
                                },
                                {
                                    "title": "Autobiography of a Yogi"
                                },
                                {
                                    "title": "10% Happier: How I Tamed the Voice in My Head, Reduced Stress Without Losing My Edge, and Found Self-Help That Actually Works"
                                },
                                {
                                    "title": "The Seat of the Soul"
                                },
                                {
                                    "title": "The Teachings of Don Juan: A Yaqui Way of Knowledge "
                                },
                                {
                                    "title": "The Essential Rumi"
                                },
                                {
                                    "title": "Zen Mind, Beginner's Mind: Informal Talks on Zen Meditation and Practice"
                                },
                                {
                                    "title": "A Course in Miracles"
                                },
                                {
                                    "title": "The Power of Intention: Learning to Co-create Your World Your Way"
                                },
                                {
                                    "title": "The Practice of the Presence of God"
                                },
                                {
                                    "title": "Wherever You Go, There You Are: Mindfulness Meditation in Everyday Life"
                                },
                                {
                                    "title": "When Things Fall Apart: Heart Advice for Difficult Times"
                                },
                                {
                                    "title": "Be Here Now"
                                },
                                {
                                    "title": "Peace Is Every Step: The Path of Mindfulness in Everyday Life"
                                },
                                {
                                    "title": "Creative Visualization: Use the Power of Your Imagination to Create What You Want in Your Life"
                                },
                                {
                                    "title": "The Tibetan Book of Living and Dying"
                                },
                                {
                                    "title": "Zen of Seeing: Seeing/Drawing as Meditation"
                                },
                                {
                                    "title": "The Untethered Soul: The Journey Beyond Yourself"
                                },
                                {
                                    "title": "Waking Up: A Guide to Spirituality Without Religion"
                                },
                                {
                                    "title": "The I Ching or Book of Changes"
                                },
                                {
                                    "title": "The Happiness Hypothesis: Finding Modern Truth in Ancient Wisdom"
                                },
                                {
                                    "title": "Loving What Is: Four Questions That Can Change Your Life"
                                },
                                {
                                    "title": "The Imitation of Christ"
                                },
                                {
                                    "title": "The Miracle of Mindfulness: An Introduction to the Practice of Meditation"
                                },
                                {
                                    "title": "Care of the Soul: A Guide for Cultivating Depth and Sacredness in Everyday Life"
                                },
                                {
                                    "title": "Change Your Thoughts - Change Your Life: Living the Wisdom of the Tao"
                                },
                                {
                                    "title": "The Way of Zen"
                                },
                                {
                                    "title": "Living Buddha, Living Christ"
                                },
                                {
                                    "title": "Awakening the Buddha Within: Tibetan Wisdom for the Western World"
                                },
                                {
                                    "title": "The Book on the Taboo Against Knowing Who You Are"
                                },
                                {
                                    "title": "The Tenth Insight: Holding the Vision (Celestine Prophecy, #2)"
                                },
                                {
                                    "title": "Thrive: The Third Metric to Redefining Success and Creating a Life of Well-Being, Wisdom, and Wonder"
                                },
                                {
                                    "title": "The Places That Scare You: A Guide to Fearlessness in Difficult Times"
                                }
                            ]
                        },
                        "text/html": [
                            "<table>",
                            "<tr><th>title</th></tr>",
                            "<tr><td>A New Earth: Awakening to Your Life's Purpose</td></tr>",
                            "<tr><td>The Power of Now: A Guide to Spiritual Enlightenment</td></tr>",
                            "<tr><td>The Four Agreements: A Practical Guide to Personal Freedom</td></tr>",
                            "<tr><td>The Art of Happiness</td></tr>",
                            "<tr><td>Meditations</td></tr>",
                            "<tr><td>Way of the Peaceful Warrior: A Book That Changes Lives</td></tr>",
                            "<tr><td>Practicing the Power of Now: Essential Teachings, Meditations, and Exercises from the Power of Now</td></tr>",
                            "<tr><td>Autobiography of a Yogi</td></tr>",
                            "<tr><td>10% Happier: How I Tamed the Voice in My Head, Reduced Stress Without Losing My Edge, and Found Self-Help That Actually Works</td></tr>",
                            "<tr><td>The Seat of the Soul</td></tr>",
                            "<tr><td>The Teachings of Don Juan: A Yaqui Way of Knowledge </td></tr>",
                            "<tr><td>The Essential Rumi</td></tr>",
                            "<tr><td>Zen Mind, Beginner's Mind: Informal Talks on Zen Meditation and Practice</td></tr>",
                            "<tr><td>A Course in Miracles</td></tr>",
                            "<tr><td>The Power of Intention: Learning to Co-create Your World Your Way</td></tr>",
                            "<tr><td>The Practice of the Presence of God</td></tr>",
                            "<tr><td>Wherever You Go, There You Are: Mindfulness Meditation in Everyday Life</td></tr>",
                            "<tr><td>When Things Fall Apart: Heart Advice for Difficult Times</td></tr>",
                            "<tr><td>Be Here Now</td></tr>",
                            "<tr><td>Peace Is Every Step: The Path of Mindfulness in Everyday Life</td></tr>",
                            "<tr><td>Creative Visualization: Use the Power of Your Imagination to Create What You Want in Your Life</td></tr>",
                            "<tr><td>The Tibetan Book of Living and Dying</td></tr>",
                            "<tr><td>Zen of Seeing: Seeing/Drawing as Meditation</td></tr>",
                            "<tr><td>The Untethered Soul: The Journey Beyond Yourself</td></tr>",
                            "<tr><td>Waking Up: A Guide to Spirituality Without Religion</td></tr>",
                            "<tr><td>The I Ching or Book of Changes</td></tr>",
                            "<tr><td>The Happiness Hypothesis: Finding Modern Truth in Ancient Wisdom</td></tr>",
                            "<tr><td>Loving What Is: Four Questions That Can Change Your Life</td></tr>",
                            "<tr><td>The Imitation of Christ</td></tr>",
                            "<tr><td>The Miracle of Mindfulness: An Introduction to the Practice of Meditation</td></tr>",
                            "<tr><td>Care of the Soul: A Guide for Cultivating Depth and Sacredness in Everyday Life</td></tr>",
                            "<tr><td>Change Your Thoughts - Change Your Life: Living the Wisdom of the Tao</td></tr>",
                            "<tr><td>The Way of Zen</td></tr>",
                            "<tr><td>Living Buddha, Living Christ</td></tr>",
                            "<tr><td>Awakening the Buddha Within: Tibetan Wisdom for the Western World</td></tr>",
                            "<tr><td>The Book on the Taboo Against Knowing Who You Are</td></tr>",
                            "<tr><td>The Tenth Insight: Holding the Vision (Celestine Prophecy, #2)</td></tr>",
                            "<tr><td>Thrive: The Third Metric to Redefining Success and Creating a Life of Well-Being, Wisdom, and Wonder</td></tr>",
                            "<tr><td>The Places That Scare You: A Guide to Fearlessness in Difficult Times</td></tr>",
                            "</table>"
                        ]
                    }
                }
            ],
            "execution_count": 14
        },
        {
            "cell_type": "markdown",
            "source": [
                "## QUESTION 3:  Alyce\n",
                "\n",
                "Alyce wants to create a display of books with an average rating of 4.2 or higher, but she only wants books that share both title and original title.  Write a query that displays both the original title and title for Alyce, in descending order by rating.  Make sure that none of the original titles contain NULL values either."
            ],
            "metadata": {
                "azdata_cell_guid": "1d758d74-b4f0-4836-bdfe-d7280b5b4592"
            },
            "attachments": {}
        },
        {
            "cell_type": "code",
            "source": [
                "-- Code here:\r\n",
                "SELECT title, original_title FROM BooksDB.dbo.books\r\n",
                "where book_id IN (select book_id from BooksDB.dbo.books where average_rating >= 4.2 and title = original_title and original_title is not null)\r\n",
                "ORDER by average_rating DESC\r\n",
                "-- my assumption : here sharing means title and original_title having same value."
            ],
            "metadata": {
                "azdata_cell_guid": "2c693b4e-6987-4c49-ba55-61094e677608",
                "tags": [],
                "language": "sql"
            },
            "outputs": [
                {
                    "output_type": "display_data",
                    "data": {
                        "text/html": "(658 rows affected)"
                    },
                    "metadata": {}
                },
                {
                    "output_type": "display_data",
                    "data": {
                        "text/html": "Total execution time: 00:00:00.201"
                    },
                    "metadata": {}
                },
                {
                    "output_type": "execute_result",
                    "execution_count": 6,
                    "data": {
                        "application/vnd.dataresource+json": {
                            "schema": {
                                "fields": [
                                    {
                                        "name": "title"
                                    },
                                    {
                                        "name": "original_title"
                                    }
                                ]
                            },
                            "data": [
                                {
                                    "title": "The Complete Calvin and Hobbes",
                                    "original_title": "The Complete Calvin and Hobbes"
                                },
                                {
                                    "title": "Mark of the Lion Trilogy",
                                    "original_title": "Mark of the Lion Trilogy"
                                },
                                {
                                    "title": "It's a Magical World: A Calvin and Hobbes Collection",
                                    "original_title": "It's a Magical World: A Calvin and Hobbes Collection"
                                },
                                {
                                    "title": "There's Treasure Everywhere: A Calvin and Hobbes Collection",
                                    "original_title": "There's Treasure Everywhere: A Calvin and Hobbes Collection"
                                },
                                {
                                    "title": "Harry Potter Collection (Harry Potter, #1-6)",
                                    "original_title": "Harry Potter Collection (Harry Potter, #1-6)"
                                },
                                {
                                    "title": "Homicidal Psycho Jungle Cat: A Calvin and Hobbes Collection",
                                    "original_title": "Homicidal Psycho Jungle Cat: A Calvin and Hobbes Collection"
                                },
                                {
                                    "title": "The Days Are Just Packed: A Calvin and Hobbes Collection",
                                    "original_title": "The Days Are Just Packed: A Calvin and Hobbes Collection"
                                },
                                {
                                    "title": "The Calvin and Hobbes Lazy Sunday Book",
                                    "original_title": "The Calvin and Hobbes Lazy Sunday Book"
                                },
                                {
                                    "title": "The Absolute Sandman, Volume One",
                                    "original_title": "The Absolute Sandman, Volume One"
                                },
                                {
                                    "title": "The Essential Calvin and Hobbes: A Calvin and Hobbes Treasury",
                                    "original_title": "The Essential Calvin and Hobbes: A Calvin and Hobbes Treasury"
                                },
                                {
                                    "title": "The Calvin and Hobbes Tenth Anniversary Book",
                                    "original_title": "The Calvin and Hobbes Tenth Anniversary Book"
                                },
                                {
                                    "title": "The Hate U Give",
                                    "original_title": "The Hate U Give"
                                },
                                {
                                    "title": "Calvin and Hobbes",
                                    "original_title": "Calvin and Hobbes"
                                },
                                {
                                    "title": "Holy Bible: New International Version",
                                    "original_title": "Holy Bible: New International Version"
                                },
                                {
                                    "title": "Harry Potter and the Chamber of Secrets: Sheet Music for Flute with C.D",
                                    "original_title": "Harry Potter and the Chamber of Secrets: Sheet Music for Flute with C.D"
                                },
                                {
                                    "title": "The Sandman: King of Dreams",
                                    "original_title": "The Sandman: King of Dreams"
                                },
                                {
                                    "title": "Standing for Something: 10 Neglected Virtues That Will Heal Our Hearts and Homes",
                                    "original_title": "Standing for Something: 10 Neglected Virtues That Will Heal Our Hearts and Homes"
                                },
                                {
                                    "title": "An Echo in the Darkness (Mark of the Lion, #2)",
                                    "original_title": "An Echo in the Darkness (Mark of the Lion, #2)"
                                },
                                {
                                    "title": "The Lord of the Rings: The Art of The Fellowship of the Ring",
                                    "original_title": "The Lord of the Rings: The Art of The Fellowship of the Ring"
                                },
                                {
                                    "title": "Just Mercy: A Story of Justice and Redemption",
                                    "original_title": "Just Mercy: A Story of Justice and Redemption"
                                },
                                {
                                    "title": "NARUTO -ナルト- 巻ノ四十三",
                                    "original_title": "NARUTO -ナルト- 巻ノ四十三 "
                                },
                                {
                                    "title": "Harry Potter Page to Screen: The Complete Filmmaking Journey",
                                    "original_title": "Harry Potter Page to Screen: The Complete Filmmaking Journey"
                                },
                                {
                                    "title": "The Green Mile, Part 6: Coffey on the Mile",
                                    "original_title": "The Green Mile, Part 6: Coffey on the Mile"
                                },
                                {
                                    "title": "The Nightingale",
                                    "original_title": "The Nightingale"
                                },
                                {
                                    "title": "The Constitution of the United States of America",
                                    "original_title": "The Constitution of the United States of America"
                                },
                                {
                                    "title": "The Lord of the Rings: Weapons and Warfare",
                                    "original_title": "The Lord of the Rings: Weapons and Warfare"
                                },
                                {
                                    "title": "Courageous",
                                    "original_title": "Courageous"
                                },
                                {
                                    "title": "The Green Mile, Part 4: The Bad Death of Eduard Delacroix",
                                    "original_title": "The Green Mile, Part 4: The Bad Death of Eduard Delacroix"
                                },
                                {
                                    "title": "Thank You, Mr. Falker",
                                    "original_title": "Thank You, Mr. Falker"
                                },
                                {
                                    "title": "Believing Christ: The Parable of the Bicycle and Other Good News",
                                    "original_title": "Believing Christ: The Parable of the Bicycle and Other Good News"
                                },
                                {
                                    "title": "The Green Mile, Part 5: Night Journey",
                                    "original_title": "The Green Mile, Part 5: Night Journey"
                                },
                                {
                                    "title": "Humans of New York: Stories",
                                    "original_title": "Humans of New York: Stories"
                                },
                                {
                                    "title": "The Green Mile, Part 3: Coffey's Hands",
                                    "original_title": "The Green Mile, Part 3: Coffey's Hands"
                                },
                                {
                                    "title": "Locke & Key, Vol. 6: Alpha & Omega",
                                    "original_title": "Locke & Key, Vol. 6: Alpha & Omega"
                                },
                                {
                                    "title": "The Complete Sherlock Holmes",
                                    "original_title": "The Complete Sherlock Holmes"
                                },
                                {
                                    "title": "The New Jim Crow: Mass Incarceration in the Age of Colorblindness",
                                    "original_title": "The New Jim Crow: Mass Incarceration in the Age of Colorblindness"
                                },
                                {
                                    "title": "The Complete Works",
                                    "original_title": "The Complete Works"
                                },
                                {
                                    "title": "Kürk Mantolu Madonna",
                                    "original_title": "Kürk Mantolu Madonna"
                                },
                                {
                                    "title": "The Green Mile, Part 1: The Two Dead Girls",
                                    "original_title": "The Green Mile, Part 1: The Two Dead Girls"
                                },
                                {
                                    "title": "Evicted: Poverty and Profit in the American City",
                                    "original_title": "Evicted: Poverty and Profit in the American City"
                                },
                                {
                                    "title": "On Food and Cooking: The Science and Lore of the Kitchen",
                                    "original_title": "On Food and Cooking: The Science and Lore of the Kitchen"
                                },
                                {
                                    "title": "Harry Potter: Film Wizardry",
                                    "original_title": "Harry Potter: Film Wizardry"
                                },
                                {
                                    "title": "A Charlie Brown Christmas",
                                    "original_title": "A Charlie Brown Christmas "
                                },
                                {
                                    "title": "Assata: An Autobiography",
                                    "original_title": "Assata: An Autobiography"
                                },
                                {
                                    "title": "The Chronicles of Narnia - The Lion, the Witch, and the Wardrobe Official Illustrated Movie Companion",
                                    "original_title": "The Chronicles of Narnia - The Lion, the Witch, and the Wardrobe Official Illustrated Movie Companion"
                                },
                                {
                                    "title": "The Green Mile, Part 2: The Mouse on the Mile",
                                    "original_title": "The Green Mile, Part 2: The Mouse on the Mile"
                                },
                                {
                                    "title": "Lonesome Dove",
                                    "original_title": "Lonesome Dove"
                                },
                                {
                                    "title": "Fireproof",
                                    "original_title": "Fireproof"
                                },
                                {
                                    "title": "We Should All Be Feminists",
                                    "original_title": "We Should All Be Feminists"
                                },
                                {
                                    "title": "Ficciones",
                                    "original_title": "Ficciones"
                                },
                                {
                                    "title": "The Coldest Winter Ever",
                                    "original_title": "The Coldest Winter Ever"
                                },
                                {
                                    "title": "Hamilton: The Revolution",
                                    "original_title": "Hamilton: The Revolution"
                                },
                                {
                                    "title": "Darkest Powers Trilogy (Darkest Powers, #1-3)",
                                    "original_title": "Darkest Powers Trilogy (Darkest Powers, #1-3)"
                                },
                                {
                                    "title": "Finding Nemo",
                                    "original_title": "Finding Nemo"
                                },
                                {
                                    "title": "Tramp for the Lord",
                                    "original_title": "Tramp for the Lord"
                                },
                                {
                                    "title": "The Gruffalo",
                                    "original_title": "The Gruffalo"
                                },
                                {
                                    "title": "Shoe Dog: A Memoir by the Creator of NIKE",
                                    "original_title": "Shoe Dog: A Memoir by the Creator of Nike"
                                },
                                {
                                    "title": "The Complete Adventures of Peter Rabbit",
                                    "original_title": "The Complete Adventures of Peter Rabbit"
                                },
                                {
                                    "title": "Wicked - Piano/Vocal Arrangement",
                                    "original_title": "Wicked - Piano/Vocal Arrangement"
                                },
                                {
                                    "title": "Harry Potter and Philosophy: If Aristotle Ran Hogwarts",
                                    "original_title": "Harry Potter and Philosophy: If Aristotle Ran Hogwarts"
                                },
                                {
                                    "title": "Sherlock Holmes: The Complete Novels and Stories, Volume I",
                                    "original_title": "Sherlock Holmes: The Complete Novels and Stories, Volume I"
                                },
                                {
                                    "title": "Miss Rumphius",
                                    "original_title": "Miss Rumphius"
                                },
                                {
                                    "title": "The Fire Next Time",
                                    "original_title": "The Fire Next Time"
                                },
                                {
                                    "title": "Praying God's Word: Breaking Free From Spiritual Strongholds",
                                    "original_title": "Praying God's Word: Breaking Free From Spiritual Strongholds"
                                },
                                {
                                    "title": "The Far Side Gallery 3",
                                    "original_title": "The Far Side Gallery 3"
                                },
                                {
                                    "title": "Archer's Voice",
                                    "original_title": "Archer's Voice"
                                },
                                {
                                    "title": "The Help",
                                    "original_title": "The Help"
                                },
                                {
                                    "title": "Lover Awakened (Black Dagger Brotherhood, #3)",
                                    "original_title": "Lover Awakened (Black Dagger Brotherhood, #3)"
                                },
                                {
                                    "title": "The Monster at the End of this Book",
                                    "original_title": "The Monster at the End of This Book"
                                },
                                {
                                    "title": "It Ends with Us",
                                    "original_title": "It Ends with Us"
                                },
                                {
                                    "title": "Ignite Me (Shatter Me, #3)",
                                    "original_title": "Ignite Me (Shatter Me, #3)"
                                },
                                {
                                    "title": "The Complete Stories",
                                    "original_title": "The Complete Stories"
                                },
                                {
                                    "title": "Locke & Key, Vol. 4: Keys to the Kingdom",
                                    "original_title": "Locke & Key, Vol. 4: Keys to the Kingdom"
                                },
                                {
                                    "title": "The Declaration of Independence and The Constitution of the United States",
                                    "original_title": "The Declaration of Independence and The Constitution of the United States "
                                },
                                {
                                    "title": "The Poetry of Pablo Neruda",
                                    "original_title": "The Poetry of Pablo Neruda"
                                },
                                {
                                    "title": "The Wheel of Time: Boxed Set #1 (Wheel of Time, #1-3)",
                                    "original_title": "The Wheel of Time: Boxed Set #1 (Wheel of Time, #1-3)"
                                },
                                {
                                    "title": "رباعيات صلاح جاهين",
                                    "original_title": "رباعيات صلاح جاهين"
                                },
                                {
                                    "title": "Left to Tell: Discovering God Amidst the Rwandan Holocaust",
                                    "original_title": "Left to Tell: Discovering God Amidst the Rwandan Holocaust"
                                },
                                {
                                    "title": "Wonder",
                                    "original_title": "Wonder"
                                },
                                {
                                    "title": "The Green Mile",
                                    "original_title": "The Green Mile"
                                },
                                {
                                    "title": "Band of Brothers: E Company, 506th Regiment, 101st Airborne from Normandy to Hitler's Eagle's Nest",
                                    "original_title": "Band of Brothers: E Company, 506th Regiment, 101st Airborne from Normandy to Hitler's Eagle's Nest"
                                },
                                {
                                    "title": "Nothing to Envy: Ordinary Lives in North Korea",
                                    "original_title": "Nothing to Envy: Ordinary Lives in North Korea"
                                },
                                {
                                    "title": "Ina May's Guide to Childbirth",
                                    "original_title": "Ina May's Guide to Childbirth"
                                },
                                {
                                    "title": "The Far Side Gallery",
                                    "original_title": "The Far Side Gallery"
                                },
                                {
                                    "title": "H.M.S. Surprise",
                                    "original_title": "H.M.S. Surprise "
                                },
                                {
                                    "title": "The Weight of Glory",
                                    "original_title": "The Weight of Glory"
                                },
                                {
                                    "title": "The Story of Ruby Bridges",
                                    "original_title": "The Story of Ruby Bridges"
                                },
                                {
                                    "title": "The Day the Crayons Quit",
                                    "original_title": "The Day the Crayons Quit"
                                },
                                {
                                    "title": "Fantastic Beasts and Where to Find Them: The Original Screenplay",
                                    "original_title": "Fantastic Beasts and Where to Find Them: The Original Screenplay"
                                },
                                {
                                    "title": "The Peacegiver: How Christ Offers to Heal Our Hearts and Homes",
                                    "original_title": "The Peacegiver: How Christ Offers to Heal Our Hearts and Homes"
                                },
                                {
                                    "title": "November 9",
                                    "original_title": "November 9"
                                },
                                {
                                    "title": "The Cat in the Hat and Other Dr. Seuss Favorites",
                                    "original_title": "The Cat in the Hat and Other Dr. Seuss Favorites"
                                },
                                {
                                    "title": "Homegoing",
                                    "original_title": "Homegoing"
                                },
                                {
                                    "title": "Scott Pilgrim, Volume 6: Scott Pilgrim's Finest Hour",
                                    "original_title": "Scott Pilgrim, Volume 6: Scott Pilgrim's Finest Hour"
                                },
                                {
                                    "title": "The Kissing Hand",
                                    "original_title": "The Kissing Hand"
                                },
                                {
                                    "title": "Being Mortal: Medicine and What Matters in the End",
                                    "original_title": "Being Mortal: Medicine and What Matters in the End"
                                },
                                {
                                    "title": "Between the World and Me",
                                    "original_title": "Between the World and Me"
                                },
                                {
                                    "title": "Unbroken: A World War II Story of Survival, Resilience, and Redemption",
                                    "original_title": "Unbroken: A World War II Story of Survival, Resilience, and Redemption"
                                },
                                {
                                    "title": "The Exploits of Sherlock Holmes",
                                    "original_title": "The Exploits of Sherlock Holmes"
                                },
                                {
                                    "title": "Gates of Fire: An Epic Novel of the Battle of Thermopylae",
                                    "original_title": "Gates of Fire: An Epic Novel of the Battle of Thermopylae"
                                },
                                {
                                    "title": "With the Old Breed: At Peleliu and Okinawa",
                                    "original_title": "With The Old Breed: At Peleliu And Okinawa"
                                },
                                {
                                    "title": "The Sunne in Splendour",
                                    "original_title": "The Sunne in Splendour"
                                },
                                {
                                    "title": "The Royal Ranger (Ranger's Apprentice, #12)",
                                    "original_title": "The Royal Ranger (Ranger's Apprentice, #12)"
                                },
                                {
                                    "title": "Red Notice: A True Story of High Finance, Murder, and One Man’s Fight for Justice",
                                    "original_title": "Red Notice: A True Story of High Finance, Murder, and One Man’s Fight for Justice"
                                },
                                {
                                    "title": "I Love You Through and Through",
                                    "original_title": "I Love You Through And Through"
                                },
                                {
                                    "title": "Stand Tall, Molly Lou Melon",
                                    "original_title": "Stand Tall, Molly Lou Melon"
                                },
                                {
                                    "title": "Streams in the Desert",
                                    "original_title": "Streams in the Desert"
                                },
                                {
                                    "title": "Beauty and the Beast",
                                    "original_title": "Beauty and the Beast"
                                },
                                {
                                    "title": "As Sure as the Dawn (Mark of the Lion, #3)",
                                    "original_title": "As Sure as the Dawn (Mark of the Lion, #3)"
                                },
                                {
                                    "title": "I Want My Hat Back",
                                    "original_title": "I Want My Hat Back"
                                },
                                {
                                    "title": "Martin Eden",
                                    "original_title": "Martin Eden"
                                },
                                {
                                    "title": "The Truth Seeker (O'Malley #3)",
                                    "original_title": "The Truth Seeker (O'Malley #3)"
                                },
                                {
                                    "title": "The Brothers K",
                                    "original_title": "The Brothers K"
                                },
                                {
                                    "title": "Every Thing on It",
                                    "original_title": "Every Thing On It"
                                },
                                {
                                    "title": "The Lord God Made Them All",
                                    "original_title": "The Lord God Made Them All"
                                },
                                {
                                    "title": "The Martian",
                                    "original_title": "The Martian"
                                },
                                {
                                    "title": "My Utmost for His Highest",
                                    "original_title": "My Utmost for His Highest"
                                },
                                {
                                    "title": "The Giving Tree",
                                    "original_title": "The Giving Tree"
                                },
                                {
                                    "title": "The Power of a Praying Woman",
                                    "original_title": "The Power of a Praying Woman"
                                },
                                {
                                    "title": "The Return of the Prodigal Son: A Story of Homecoming",
                                    "original_title": "The Return of the Prodigal Son: A Story of Homecoming"
                                },
                                {
                                    "title": "Homicide: A Year on the Killing Streets",
                                    "original_title": "Homicide: A Year on the Killing Streets"
                                },
                                {
                                    "title": "Twilight and History",
                                    "original_title": "Twilight and History"
                                },
                                {
                                    "title": "The Sandman: The Dream Hunters",
                                    "original_title": "The Sandman: The Dream Hunters"
                                },
                                {
                                    "title": "Through Gates of Splendor",
                                    "original_title": "Through Gates of Splendor"
                                },
                                {
                                    "title": "Survivor In Death (In Death, #20)",
                                    "original_title": "Survivor in Death (In Death, #20)"
                                },
                                {
                                    "title": "The Looming Tower: Al-Qaeda and the Road to 9/11",
                                    "original_title": "The Looming Tower: Al-Qaeda and the Road to 9/11"
                                },
                                {
                                    "title": "The Beatles Anthology",
                                    "original_title": "The Beatles Anthology"
                                },
                                {
                                    "title": "Love You to Death: The Unofficial Companion to the Vampire Diaries",
                                    "original_title": "Love You to Death: The Unofficial Companion to The Vampire Diaries"
                                },
                                {
                                    "title": "The Wheel of Time: Boxed Set  (Wheel of Time, #1-8)",
                                    "original_title": "The Wheel of Time: Boxed Set  (Wheel of Time, #1-8)"
                                },
                                {
                                    "title": "The Miracle of Forgiveness",
                                    "original_title": "The Miracle of Forgiveness"
                                },
                                {
                                    "title": "And the Band Played On: Politics, People, and the AIDS Epidemic",
                                    "original_title": "And the Band Played On: Politics, People, and the AIDS Epidemic"
                                },
                                {
                                    "title": "The Improbable Adventures of Sherlock Holmes",
                                    "original_title": "The Improbable Adventures of Sherlock Holmes"
                                },
                                {
                                    "title": "The Pigeon Wants a Puppy!",
                                    "original_title": "The Pigeon Wants a Puppy!"
                                },
                                {
                                    "title": "Bumi Manusia",
                                    "original_title": "Bumi Manusia"
                                },
                                {
                                    "title": "A Gentleman in Moscow",
                                    "original_title": "A Gentleman in Moscow"
                                },
                                {
                                    "title": "Wicked Deeds on a Winter's Night (Immortals After Dark #4)",
                                    "original_title": "Wicked Deeds on a Winter's Night (Immortals After Dark #4)"
                                },
                                {
                                    "title": "Out of My Mind",
                                    "original_title": "Out of My Mind"
                                },
                                {
                                    "title": "Endurance: Shackleton's Incredible Voyage",
                                    "original_title": "Endurance: Shackleton's incredible voyage"
                                },
                                {
                                    "title": "A Monster Calls",
                                    "original_title": "A Monster Calls "
                                },
                                {
                                    "title": "Guess How Much I Love You",
                                    "original_title": "Guess How Much I Love You"
                                },
                                {
                                    "title": "Between Shades of Gray",
                                    "original_title": "Between Shades of Gray"
                                },
                                {
                                    "title": "The Book Thief",
                                    "original_title": "The Book Thief"
                                },
                                {
                                    "title": "The Godfather",
                                    "original_title": "The Godfather"
                                },
                                {
                                    "title": "How the Grinch Stole Christmas!",
                                    "original_title": "How the Grinch Stole Christmas!"
                                },
                                {
                                    "title": "Batman: The Killing Joke",
                                    "original_title": "Batman: The Killing Joke "
                                },
                                {
                                    "title": "Salt to the Sea",
                                    "original_title": "Salt to the Sea"
                                },
                                {
                                    "title": "Making Faces",
                                    "original_title": "Making Faces"
                                },
                                {
                                    "title": "Innocent in Death (In Death, #24)",
                                    "original_title": "Innocent in Death (In Death, #24)"
                                },
                                {
                                    "title": "The Power of the Dog",
                                    "original_title": "The Power of the Dog"
                                },
                                {
                                    "title": "A Work in Progress",
                                    "original_title": "A Work in Progress"
                                },
                                {
                                    "title": "Echo",
                                    "original_title": "Echo"
                                },
                                {
                                    "title": "Y: The Last Man - The Deluxe Edition Book One",
                                    "original_title": "Y: The Last Man - The Deluxe Edition Book One"
                                },
                                {
                                    "title": "On the Night You Were Born",
                                    "original_title": "On the Night You Were Born"
                                },
                                {
                                    "title": "The Mauritius Command",
                                    "original_title": "The Mauritius Command"
                                },
                                {
                                    "title": "The Holiness of God",
                                    "original_title": "The Holiness of God"
                                },
                                {
                                    "title": "Chasing the Prophecy (Beyonders, #3)",
                                    "original_title": "Chasing the Prophecy (Beyonders, #3)"
                                },
                                {
                                    "title": "Don't Let the Pigeon Stay Up Late!",
                                    "original_title": "Don't Let the Pigeon Stay Up Late!"
                                },
                                {
                                    "title": "The Pigeon Finds a Hot Dog!",
                                    "original_title": "The Pigeon Finds a Hot Dog!"
                                },
                                {
                                    "title": "The Lorax",
                                    "original_title": "The Lorax"
                                },
                                {
                                    "title": "Watchmen",
                                    "original_title": "Watchmen"
                                },
                                {
                                    "title": "East of Eden",
                                    "original_title": "East of Eden  "
                                },
                                {
                                    "title": "Cosmos",
                                    "original_title": "Cosmos"
                                },
                                {
                                    "title": "Lover Eternal (Black Dagger Brotherhood, #2)",
                                    "original_title": "Lover Eternal (Black Dagger Brotherhood, #2)"
                                },
                                {
                                    "title": "The Great Dune Trilogy  ",
                                    "original_title": "The Great Dune Trilogy"
                                },
                                {
                                    "title": "The Story of Ferdinand",
                                    "original_title": "The Story of Ferdinand"
                                },
                                {
                                    "title": "The Miraculous Journey of Edward Tulane",
                                    "original_title": "The Miraculous Journey of Edward Tulane"
                                },
                                {
                                    "title": "Identical",
                                    "original_title": "Identical"
                                },
                                {
                                    "title": "Janet Evanovich Three and Four Two-Book Set (Stephanie Plum, #3-4)",
                                    "original_title": "Janet Evanovich Three and Four Two-Book Set (Stephanie Plum, #3-4)"
                                },
                                {
                                    "title": "Lone Survivor: The Eyewitness Account of Operation Redwing and the Lost Heroes of SEAL Team 10",
                                    "original_title": "Lone Survivor: The Eyewitness Account of Operation Redwing and the Lost Heroes of SEAL Team 10"
                                },
                                {
                                    "title": "A Light in the Attic",
                                    "original_title": "A Light in the Attic"
                                },
                                {
                                    "title": "A Thousand Splendid Suns",
                                    "original_title": "A Thousand Splendid Suns"
                                },
                                {
                                    "title": "The Stand",
                                    "original_title": "The Stand"
                                },
                                {
                                    "title": "Oh, The Places You'll Go!",
                                    "original_title": "Oh, the Places You'll Go!"
                                },
                                {
                                    "title": "Different Seasons",
                                    "original_title": "Different Seasons"
                                },
                                {
                                    "title": "A Fine Balance",
                                    "original_title": "A Fine Balance"
                                },
                                {
                                    "title": "Love You Forever",
                                    "original_title": "Love You Forever"
                                },
                                {
                                    "title": "Drums of Autumn (Outlander, #4)",
                                    "original_title": "Drums of Autumn (Outlander, #4)"
                                },
                                {
                                    "title": "The Sea of Tranquility",
                                    "original_title": "The Sea of Tranquility"
                                },
                                {
                                    "title": "The Sandman: Endless Nights",
                                    "original_title": "The Sandman: Endless Nights"
                                },
                                {
                                    "title": "The Last Seven Months of Anne Frank",
                                    "original_title": "The Last Seven Months of Anne Frank"
                                },
                                {
                                    "title": "The Wall of Winnipeg and Me",
                                    "original_title": "The Wall of Winnipeg and Me"
                                },
                                {
                                    "title": "Peace Is Every Step: The Path of Mindfulness in Everyday Life",
                                    "original_title": "Peace Is Every Step: The Path of Mindfulness in Everyday Life"
                                },
                                {
                                    "title": "India After Gandhi: The History of the World's Largest Democracy",
                                    "original_title": "India After Gandhi: The History of the World's Largest Democracy"
                                },
                                {
                                    "title": "The Book with No Pictures",
                                    "original_title": "The Book with No Pictures"
                                },
                                {
                                    "title": "The Walking Dead, Vol. 14: No Way Out",
                                    "original_title": "The Walking Dead, Vol. 14: No Way Out "
                                },
                                {
                                    "title": "Visions in Death (In Death, #19)",
                                    "original_title": "Visions in Death (In Death, #19)"
                                },
                                {
                                    "title": "Born in Death (In Death, #23)",
                                    "original_title": "Born in Death (In Death, #23)"
                                },
                                {
                                    "title": "All-Star Superman, Vol. 2",
                                    "original_title": "All-Star Superman, Vol. 2"
                                },
                                {
                                    "title": "Last Chance to See",
                                    "original_title": "Last Chance to See"
                                },
                                {
                                    "title": "Preacher, Volume 8: All Hell's a-Coming",
                                    "original_title": "Preacher, Volume 8: All Hell's a-Coming"
                                },
                                {
                                    "title": "Scott Pilgrim, Volume 5: Scott Pilgrim Vs. the Universe",
                                    "original_title": "Scott Pilgrim, Volume 5: Scott Pilgrim Vs. the Universe"
                                },
                                {
                                    "title": "The Heavenly Man: The Remarkable True Story of Chinese Christian Brother Yun",
                                    "original_title": "The Heavenly Man: The Remarkable True Story of Chinese Christian Brother Yun"
                                },
                                {
                                    "title": "Mastering the Art of French Cooking",
                                    "original_title": "Mastering the Art of French Cooking"
                                },
                                {
                                    "title": "SantaLand Diaries",
                                    "original_title": "SantaLand Diaries"
                                },
                                {
                                    "title": "The Emperor's Soul",
                                    "original_title": "The Emperor's Soul"
                                },
                                {
                                    "title": "The Real Mother Goose",
                                    "original_title": "The Real Mother Goose"
                                },
                                {
                                    "title": "The Arrival",
                                    "original_title": "The Arrival"
                                },
                                {
                                    "title": "Taken at Dusk (Shadow Falls, #3)",
                                    "original_title": "Taken at Dusk (Shadow Falls, #3)"
                                },
                                {
                                    "title": "Exodus",
                                    "original_title": "Exodus"
                                },
                                {
                                    "title": "Falling Up",
                                    "original_title": "Falling Up"
                                },
                                {
                                    "title": "Battlefield of the Mind: Winning the Battle in Your Mind",
                                    "original_title": "Battlefield of the Mind: Winning the Battle in Your Mind"
                                },
                                {
                                    "title": "Amazing Grace",
                                    "original_title": "Amazing Grace"
                                },
                                {
                                    "title": "The Dragonslayer (Bone, #4)",
                                    "original_title": "The Dragonslayer (Bone, #4)"
                                },
                                {
                                    "title": "Batman, Volume 3: Death of the Family",
                                    "original_title": "Batman, Volume 3: Death of the Family"
                                },
                                {
                                    "title": "Crush",
                                    "original_title": "Crush"
                                },
                                {
                                    "title": "Plenty",
                                    "original_title": "Plenty"
                                },
                                {
                                    "title": "Counterfeit Gods: The Empty Promises of Money, Sex, and Power, and the Only Hope that Matters",
                                    "original_title": "Counterfeit Gods: The Empty Promises of Money, Sex, and Power, and the Only Hope That Matters"
                                },
                                {
                                    "title": "The Auschwitz Escape",
                                    "original_title": "The Auschwitz Escape"
                                },
                                {
                                    "title": "If I Die (Soul Screamers, #5)",
                                    "original_title": "If I Die (Soul Screamers, #5)"
                                },
                                {
                                    "title": "Women's Bodies, Women's Wisdom: Creating Physical and Emotional Health and Healing",
                                    "original_title": "Women's Bodies, Women's Wisdom: Creating Physical and Emotional Health and Healing"
                                },
                                {
                                    "title": "The Everafter War (The Sisters Grimm, #7)",
                                    "original_title": "The Everafter War (The Sisters Grimm, #7)"
                                },
                                {
                                    "title": "The Battle for Skandia (Ranger's Apprentice, #4)",
                                    "original_title": "The Battle for Skandia (Ranger's Apprentice, #4)"
                                },
                                {
                                    "title": "When Breath Becomes Air",
                                    "original_title": "When Breath Becomes Air"
                                },
                                {
                                    "title": "The Memoirs of Sherlock Holmes",
                                    "original_title": "The Memoirs of Sherlock Holmes"
                                },
                                {
                                    "title": "The Boys in the Boat: Nine Americans and Their Epic Quest for Gold at the 1936 Berlin Olympics",
                                    "original_title": "The Boys in the Boat: Nine Americans and Their Epic Quest for Gold at the 1936 Berlin Olympics"
                                },
                                {
                                    "title": "Out of Breath (Breathing, #3)",
                                    "original_title": "Out of Breath (Breathing, #3)"
                                },
                                {
                                    "title": "The Realms of the Gods (Immortals, #4)",
                                    "original_title": "The Realms of the Gods (Immortals, #4)"
                                },
                                {
                                    "title": "The Practice of the Presence of God",
                                    "original_title": "The Practice of the Presence of God"
                                },
                                {
                                    "title": "Scott Pilgrim, Volume 4: Scott Pilgrim Gets It Together",
                                    "original_title": "Scott Pilgrim, Volume 4: Scott Pilgrim Gets It Together"
                                },
                                {
                                    "title": "The Paper Bag Princess",
                                    "original_title": "The Paper Bag Princess"
                                },
                                {
                                    "title": "Wild Magic (Immortals, #1)",
                                    "original_title": "Wild Magic (Immortals, #1)"
                                },
                                {
                                    "title": "The Magic Strings of Frankie Presto",
                                    "original_title": "The Magic Strings of Frankie Presto"
                                },
                                {
                                    "title": "The Making of the Atomic Bomb",
                                    "original_title": "The Making of the Atomic Bomb"
                                },
                                {
                                    "title": "Boy's Life",
                                    "original_title": "Boy's Life"
                                },
                                {
                                    "title": "الطنطورية",
                                    "original_title": "الطنطورية "
                                },
                                {
                                    "title": "Pale Blue Dot: A Vision of the Human Future in Space",
                                    "original_title": "Pale Blue Dot: A Vision of the Human Future in Space"
                                },
                                {
                                    "title": "God's Smuggler",
                                    "original_title": "God's Smuggler"
                                },
                                {
                                    "title": "Battle Cry of Freedom",
                                    "original_title": "Battle Cry of Freedom"
                                },
                                {
                                    "title": "The Darkest Lie (Lords of the Underworld #6)",
                                    "original_title": "The Darkest Lie (Lords of the Underworld #6)"
                                },
                                {
                                    "title": "The Black Dagger Brotherhood: An Insider's Guide",
                                    "original_title": "The Black Dagger Brotherhood: An Insider's Guide"
                                },
                                {
                                    "title": "Mufaro's Beautiful Daughters: An African Tale",
                                    "original_title": "Mufaro's Beautiful Daughters: An African Tale"
                                },
                                {
                                    "title": "Black Lies",
                                    "original_title": "Black Lies"
                                },
                                {
                                    "title": "The Secret Race: Inside the Hidden World of the Tour de France: Doping, Cover-ups, and Winning at All Costs",
                                    "original_title": "The Secret Race: Inside the Hidden World of the Tour de France: Doping, Cover-ups, and Winning at All Costs"
                                },
                                {
                                    "title": "The Missing Piece Meets the Big O ",
                                    "original_title": "The Missing Piece Meets the Big O"
                                },
                                {
                                    "title": "Divided in Death (In Death, #18)",
                                    "original_title": "Divided in Death (In Death, #18)"
                                },
                                {
                                    "title": "A Higher Call: An Incredible True Story of Combat and Chivalry in the War-Torn Skies of World War II",
                                    "original_title": "A Higher Call: An Incredible True Story of Combat and Chivalry in the War-Torn Skies of World War II"
                                },
                                {
                                    "title": "عائد إلى حيفا",
                                    "original_title": "عائد إلى حيفا"
                                },
                                {
                                    "title": "The Love Song of J. Alfred Prufrock and Other Poems",
                                    "original_title": "The Love Song of J. Alfred Prufrock and Other Poems"
                                },
                                {
                                    "title": "The America's Test Kitchen Family Cookbook",
                                    "original_title": "The America's Test Kitchen Family Cookbook"
                                },
                                {
                                    "title": "The Way to Cook",
                                    "original_title": "The Way to Cook"
                                },
                                {
                                    "title": "Financial Peace Revisited",
                                    "original_title": "Financial Peace Revisited"
                                },
                                {
                                    "title": "The Autobiography of Martin Luther King, Jr.",
                                    "original_title": "The Autobiography of Martin Luther King, Jr."
                                },
                                {
                                    "title": "Anne Frank : The Biography",
                                    "original_title": "Anne Frank : The Biography"
                                },
                                {
                                    "title": "The Longest Day",
                                    "original_title": "The Longest Day"
                                },
                                {
                                    "title": "Three Day Road",
                                    "original_title": "Three Day Road"
                                },
                                {
                                    "title": "Daytripper",
                                    "original_title": "Daytripper"
                                },
                                {
                                    "title": "The Endurance: Shackleton's Legendary Antarctic Expedition",
                                    "original_title": "The Endurance: Shackleton's legendary Antarctic expedition"
                                },
                                {
                                    "title": "Half the Sky: Turning Oppression into Opportunity for Women Worldwide",
                                    "original_title": "Half the Sky: Turning Oppression into Opportunity for Women Worldwide"
                                },
                                {
                                    "title": "Chrysanthemum",
                                    "original_title": "Chrysanthemum"
                                },
                                {
                                    "title": "The Power of a Praying Wife",
                                    "original_title": "The Power of a Praying Wife"
                                },
                                {
                                    "title": "The Warmth of Other Suns: The Epic Story of America's Great Migration",
                                    "original_title": "The Warmth of Other Suns: The Epic Story of America's Great Migration "
                                },
                                {
                                    "title": "Lilac Girls",
                                    "original_title": "Lilac Girls"
                                },
                                {
                                    "title": "Knowing God",
                                    "original_title": "Knowing God"
                                },
                                {
                                    "title": "The Little Mouse, the Red Ripe Strawberry, and the Big Hungry Bear",
                                    "original_title": "The Little Mouse, the Red Ripe Strawberry, and the Big Hungry Bear"
                                },
                                {
                                    "title": "Mere Christianity",
                                    "original_title": "Mere Christianity"
                                },
                                {
                                    "title": "On Writing: A Memoir of the Craft",
                                    "original_title": "On Writing: A Memoir of the Craft"
                                },
                                {
                                    "title": "Infinite Jest",
                                    "original_title": "Infinite Jest"
                                },
                                {
                                    "title": "The Sneetches and Other Stories",
                                    "original_title": "The Sneetches and Other Stories"
                                },
                                {
                                    "title": "The Pragmatic Programmer: From Journeyman to Master",
                                    "original_title": "The Pragmatic Programmer: From Journeyman to Master"
                                },
                                {
                                    "title": "Little Bear's Friend",
                                    "original_title": "Little Bear's Friend"
                                },
                                {
                                    "title": "The Places That Scare You: A Guide to Fearlessness in Difficult Times",
                                    "original_title": "The Places That Scare You: A Guide to Fearlessness in Difficult Times"
                                },
                                {
                                    "title": "Copper Sun",
                                    "original_title": "Copper Sun"
                                },
                                {
                                    "title": "Team of Rivals: The Political Genius of Abraham Lincoln",
                                    "original_title": "Team of Rivals: The Political Genius of Abraham Lincoln"
                                },
                                {
                                    "title": "Ugly Love",
                                    "original_title": "Ugly Love"
                                },
                                {
                                    "title": "Still Alice",
                                    "original_title": "Still Alice"
                                },
                                {
                                    "title": "Term Limits",
                                    "original_title": "Term Limits"
                                },
                                {
                                    "title": "The Raven and other poems",
                                    "original_title": "The Raven and Other Poems"
                                },
                                {
                                    "title": "Judas Unchained",
                                    "original_title": "Judas Unchained"
                                },
                                {
                                    "title": "Rudolph the Red-Nosed Reindeer",
                                    "original_title": "Rudolph the Red-Nosed Reindeer"
                                },
                                {
                                    "title": "The Return of Sherlock Holmes",
                                    "original_title": "The Return of Sherlock Holmes"
                                },
                                {
                                    "title": "Hinds' Feet on High Places",
                                    "original_title": "Hinds' Feet on High Places"
                                },
                                {
                                    "title": "Emperor Mage (Immortals, #3)",
                                    "original_title": "Emperor Mage (Immortals, #3)"
                                },
                                {
                                    "title": "The Source",
                                    "original_title": "The Source"
                                },
                                {
                                    "title": "Gödel, Escher, Bach: An Eternal Golden Braid",
                                    "original_title": "Gödel, Escher, Bach: An Eternal Golden Braid"
                                },
                                {
                                    "title": "The Power of Myth",
                                    "original_title": "The Power of Myth"
                                },
                                {
                                    "title": "Batman, Volume 1: The Court of Owls",
                                    "original_title": "Batman, Volume 1: The Court of Owls"
                                },
                                {
                                    "title": "A Child's Garden of Verses",
                                    "original_title": "A Child's Garden of Verses"
                                },
                                {
                                    "title": "We Wish to Inform You That Tomorrow We Will Be Killed with Our Families",
                                    "original_title": "We Wish to Inform You That Tomorrow We Will Be Killed with Our Families"
                                },
                                {
                                    "title": "Tatiana and Alexander (The Bronze Horseman, #2)",
                                    "original_title": "Tatiana and Alexander (The Bronze Horseman, #2)"
                                },
                                {
                                    "title": "Cathedral",
                                    "original_title": "Cathedral"
                                },
                                {
                                    "title": "The Sweet Gum Tree",
                                    "original_title": "The Sweet Gum Tree"
                                },
                                {
                                    "title": "Citizen: An American Lyric",
                                    "original_title": "Citizen: An American Lyric"
                                },
                                {
                                    "title": "Binge",
                                    "original_title": "Binge"
                                },
                                {
                                    "title": "The Complete Phantom of the Opera",
                                    "original_title": "The Complete Phantom of the Opera"
                                },
                                {
                                    "title": "The Walking Dead, Vol. 10: What We Become",
                                    "original_title": "The Walking Dead, Vol. 10: What We Become"
                                },
                                {
                                    "title": "Stalingrad: The Fateful Siege, 1942–1943",
                                    "original_title": "Stalingrad: The Fateful Siege, 1942–1943"
                                },
                                {
                                    "title": "Fallout (Crank, #3)",
                                    "original_title": "Fallout (Crank, #3)"
                                },
                                {
                                    "title": "Sisters",
                                    "original_title": "Sisters"
                                },
                                {
                                    "title": "A Return to Love: Reflections on the Principles of \"A Course in Miracles\"",
                                    "original_title": "A Return to Love: Reflections on the Principles of \"A Course in Miracles\""
                                },
                                {
                                    "title": "We Were Soldiers Once... and Young: Ia Drang - The Battle that Changed the War in Vietnam",
                                    "original_title": "We Were Soldiers Once... and Young: Ia Drang - the Battle That Changed the War in Vietnam"
                                },
                                {
                                    "title": "A Woman After God's Own Heart",
                                    "original_title": "A Woman After God's Own Heart"
                                },
                                {
                                    "title": "First They Killed My Father: A Daughter of Cambodia Remembers",
                                    "original_title": "First They Killed My Father: A Daughter of Cambodia Remembers "
                                },
                                {
                                    "title": "Mistress of the Empire (The Empire Trilogy, #3)",
                                    "original_title": "Mistress of the Empire (The Empire Trilogy, #3)"
                                },
                                {
                                    "title": "Batman: The Black Mirror",
                                    "original_title": "Batman: The Black Mirror"
                                },
                                {
                                    "title": "ثلاثية غرناطة",
                                    "original_title": "ثلاثية غرناطة"
                                },
                                {
                                    "title": "The Road to the Dark Tower: Exploring Stephen King's Magnum Opus",
                                    "original_title": "The Road to the Dark Tower: Exploring Stephen King's Magnum Opus"
                                },
                                {
                                    "title": "Momo",
                                    "original_title": "Momo"
                                },
                                {
                                    "title": "The Total Money Makeover: A Proven Plan for Financial Fitness",
                                    "original_title": "The Total Money Makeover: A Proven Plan for Financial Fitness"
                                },
                                {
                                    "title": "A Pocket for Corduroy",
                                    "original_title": "A Pocket for Corduroy"
                                },
                                {
                                    "title": "Tiny Beautiful Things: Advice on Love and Life from Dear Sugar",
                                    "original_title": "Tiny Beautiful Things: Advice on Love and Life from Dear Sugar"
                                },
                                {
                                    "title": "When Things Fall Apart: Heart Advice for Difficult Times",
                                    "original_title": "When Things Fall Apart: Heart Advice for Difficult Times"
                                },
                                {
                                    "title": "Scott Pilgrim, Volume 3: Scott Pilgrim & The Infinite Sadness",
                                    "original_title": "Scott Pilgrim, Volume 3: Scott Pilgrim & The Infinite Sadness"
                                },
                                {
                                    "title": "The Little House",
                                    "original_title": "The Little House"
                                },
                                {
                                    "title": "11/22/63",
                                    "original_title": "11/22/63"
                                },
                                {
                                    "title": "Matilda",
                                    "original_title": "Matilda"
                                },
                                {
                                    "title": "Green Eggs and Ham",
                                    "original_title": "Green Eggs and Ham"
                                },
                                {
                                    "title": "The Adventures of Sherlock Holmes",
                                    "original_title": "The Adventures of Sherlock Holmes"
                                },
                                {
                                    "title": "The Velveteen Rabbit",
                                    "original_title": "The Velveteen Rabbit"
                                },
                                {
                                    "title": "The Polar Express",
                                    "original_title": "The Polar Express"
                                },
                                {
                                    "title": "The Autobiography of Malcolm X",
                                    "original_title": "The Autobiography of Malcolm X"
                                },
                                {
                                    "title": "The Emperor of All Maladies: A Biography of Cancer",
                                    "original_title": "The Emperor of All Maladies: A Biography of Cancer"
                                },
                                {
                                    "title": "Batman: The Long Halloween",
                                    "original_title": "Batman: The Long Halloween"
                                },
                                {
                                    "title": "A Thousand Boy Kisses",
                                    "original_title": "A Thousand Boy Kisses"
                                },
                                {
                                    "title": "Will You Please Be Quiet, Please?",
                                    "original_title": "Will You Please Be Quiet, Please?"
                                },
                                {
                                    "title": "Curious George Takes a Job",
                                    "original_title": "Curious George Takes a Job"
                                },
                                {
                                    "title": "The Book on the Taboo Against Knowing Who You Are",
                                    "original_title": "The Book on the Taboo Against Knowing Who You Are"
                                },
                                {
                                    "title": "Hairy Maclary from Donaldson's Dairy",
                                    "original_title": "Hairy Maclary from Donaldson's Dairy"
                                },
                                {
                                    "title": "The Great Divorce",
                                    "original_title": "The Great Divorce"
                                },
                                {
                                    "title": "Glass (Crank, #2)",
                                    "original_title": "Glass (Crank, #2)"
                                },
                                {
                                    "title": "The Raven",
                                    "original_title": "The Raven"
                                },
                                {
                                    "title": "Half of a Yellow Sun",
                                    "original_title": "Half of a Yellow Sun"
                                },
                                {
                                    "title": "Stoner",
                                    "original_title": "Stoner"
                                },
                                {
                                    "title": "Unravel Me (Shatter Me, #2)",
                                    "original_title": "Unravel Me (Shatter Me, #2)"
                                },
                                {
                                    "title": "City of Thieves",
                                    "original_title": "City of Thieves"
                                },
                                {
                                    "title": "Corduroy",
                                    "original_title": "Corduroy"
                                },
                                {
                                    "title": "Gone with the Wind",
                                    "original_title": "Gone with the Wind"
                                },
                                {
                                    "title": "Cutting for Stone",
                                    "original_title": "Cutting for Stone"
                                },
                                {
                                    "title": "This Side of the Grave (Night Huntress, #5)",
                                    "original_title": "This Side of the Grave (Night Huntress, #5)"
                                },
                                {
                                    "title": "Once We Were Brothers",
                                    "original_title": "Once We Were Brothers"
                                },
                                {
                                    "title": "Good Night, Mr. Tom",
                                    "original_title": "Good Night, Mr. Tom"
                                },
                                {
                                    "title": "Swan Song",
                                    "original_title": "Swan Song"
                                },
                                {
                                    "title": "Black Hawk Down",
                                    "original_title": "Black Hawk Down"
                                },
                                {
                                    "title": "The Pursuit of Holiness",
                                    "original_title": "The Pursuit of Holiness"
                                },
                                {
                                    "title": "Flotsam",
                                    "original_title": "Flotsam"
                                },
                                {
                                    "title": "Her Mother's Hope (Marta's Legacy, #1)",
                                    "original_title": "Her Mother's Hope (Marta's Legacy, #1)"
                                },
                                {
                                    "title": "Stone Soup",
                                    "original_title": "Stone Soup"
                                },
                                {
                                    "title": "The Lords of Discipline",
                                    "original_title": "The Lords of Discipline"
                                },
                                {
                                    "title": "The Snowman",
                                    "original_title": "The Snowman"
                                },
                                {
                                    "title": "Starlight (Warriors: The New Prophecy, #4)",
                                    "original_title": "Starlight (Warriors: The New Prophecy, #4)"
                                },
                                {
                                    "title": "Llama Llama Mad at Mama",
                                    "original_title": "Llama Llama Mad at Mama"
                                },
                                {
                                    "title": "Fish in a Tree",
                                    "original_title": "Fish In A Tree"
                                },
                                {
                                    "title": "Loving Mr. Daniels",
                                    "original_title": "Loving Mr. Daniels"
                                },
                                {
                                    "title": "Animalia",
                                    "original_title": "Animalia"
                                },
                                {
                                    "title": "The Cartel",
                                    "original_title": "The Cartel"
                                },
                                {
                                    "title": "Taken by Midnight (Midnight Breed, #8)",
                                    "original_title": "Taken by Midnight (Midnight Breed, #8)"
                                },
                                {
                                    "title": "Mastery",
                                    "original_title": "Mastery"
                                },
                                {
                                    "title": "Amelia Bedelia and the Surprise Shower",
                                    "original_title": "Amelia Bedelia and the Surprise Shower"
                                },
                                {
                                    "title": "Stone Butch Blues",
                                    "original_title": "Stone Butch Blues"
                                },
                                {
                                    "title": "Madeline and the Bad Hat",
                                    "original_title": "Madeline and the Bad Hat"
                                },
                                {
                                    "title": "The Lions of Al-Rassan",
                                    "original_title": "The Lions of Al-Rassan"
                                },
                                {
                                    "title": "Coming Home",
                                    "original_title": "Coming Home"
                                },
                                {
                                    "title": "The Stories of John Cheever",
                                    "original_title": "The Stories of John Cheever"
                                },
                                {
                                    "title": "The Hidden Messages in Water",
                                    "original_title": "The Hidden Messages in Water"
                                },
                                {
                                    "title": "Eragon & Eldest (Inheritance, #1-2)",
                                    "original_title": "Eragon & Eldest (Inheritance, #1-2)"
                                },
                                {
                                    "title": "Be Here Now",
                                    "original_title": "Be Here Now"
                                },
                                {
                                    "title": "Stories of Your Life and Others",
                                    "original_title": "Stories of Your Life and Others "
                                },
                                {
                                    "title": "Hark! A Vagrant",
                                    "original_title": "Hark! A Vagrant"
                                },
                                {
                                    "title": "The Missing Piece",
                                    "original_title": "The Missing Piece"
                                },
                                {
                                    "title": "Mila 18",
                                    "original_title": "Mila 18"
                                },
                                {
                                    "title": "Servant of the Empire (The Empire Trilogy, #2)",
                                    "original_title": "Servant of the Empire (The Empire Trilogy, #2)"
                                },
                                {
                                    "title": "The Demon-Haunted World: Science as a Candle in the Dark",
                                    "original_title": "The Demon-Haunted World: Science as a Candle in the Dark"
                                },
                                {
                                    "title": "Angle of Repose",
                                    "original_title": "Angle of Repose"
                                },
                                {
                                    "title": "The Song of Achilles",
                                    "original_title": "The Song of Achilles"
                                },
                                {
                                    "title": "The Napping House",
                                    "original_title": "The Napping House"
                                },
                                {
                                    "title": "Milk and Honey",
                                    "original_title": "milk and honey"
                                },
                                {
                                    "title": "We're Going on a Bear Hunt",
                                    "original_title": "We're Going on a Bear Hunt"
                                },
                                {
                                    "title": "Born to Run: A Hidden Tribe, Superathletes, and the Greatest Race the World Has Never Seen",
                                    "original_title": "Born to Run: A Hidden Tribe, Superathletes, and the Greatest Race the World Has Never Seen"
                                },
                                {
                                    "title": "A Little Life",
                                    "original_title": "A Little Life"
                                },
                                {
                                    "title": "Hawkeye, Volume 2: Little Hits",
                                    "original_title": "Hawkeye, Volume 2: Little Hits"
                                },
                                {
                                    "title": "Roller Girl",
                                    "original_title": "Roller Girl"
                                },
                                {
                                    "title": "Any Human Heart",
                                    "original_title": "Any Human Heart"
                                },
                                {
                                    "title": "13 Hours: The Inside Account of What Really Happened In Benghazi",
                                    "original_title": "13 Hours: The Inside Account of What Really Happened In Benghazi"
                                },
                                {
                                    "title": "The Field of Swords (Emperor, #3)",
                                    "original_title": "The Field of Swords (Emperor, #3)"
                                },
                                {
                                    "title": "The Lord of the Rings Sketchbook",
                                    "original_title": "The Lord of the Rings Sketchbook"
                                },
                                {
                                    "title": "Go the Fuck to Sleep",
                                    "original_title": "Go the Fuck to Sleep"
                                },
                                {
                                    "title": "The Big Short: Inside the Doomsday Machine",
                                    "original_title": "The Big Short: Inside the Doomsday Machine"
                                },
                                {
                                    "title": "Americanah",
                                    "original_title": "Americanah"
                                },
                                {
                                    "title": "Shantaram",
                                    "original_title": "Shantaram"
                                },
                                {
                                    "title": "Lamb: The Gospel According to Biff, Christ's Childhood Pal",
                                    "original_title": "Lamb: The Gospel According to Biff, Christ's Childhood Pal"
                                },
                                {
                                    "title": "The Storyteller",
                                    "original_title": "The Storyteller"
                                },
                                {
                                    "title": "Fried Green Tomatoes at the Whistle Stop Cafe",
                                    "original_title": "Fried Green Tomatoes at the Whistle Stop Cafe"
                                },
                                {
                                    "title": "The Fault in Our Stars",
                                    "original_title": "The Fault in Our Stars"
                                },
                                {
                                    "title": "The Kite Runner",
                                    "original_title": "The Kite Runner "
                                },
                                {
                                    "title": "A Grief Observed",
                                    "original_title": "A Grief Observed"
                                },
                                {
                                    "title": "Columbine",
                                    "original_title": "Columbine"
                                },
                                {
                                    "title": "Alexander Hamilton",
                                    "original_title": "Alexander Hamilton"
                                },
                                {
                                    "title": "The Charm School",
                                    "original_title": "The Charm School"
                                },
                                {
                                    "title": "Les Fleurs du Mal",
                                    "original_title": "Les Fleurs du mal"
                                },
                                {
                                    "title": "Simon vs. the Homo Sapiens Agenda",
                                    "original_title": "Simon vs. the Homo Sapiens Agenda"
                                },
                                {
                                    "title": "The Atonement Child",
                                    "original_title": "The Atonement Child"
                                },
                                {
                                    "title": "Barefoot Contessa Family Style: Easy Ideas and Recipes That Make Everyone Feel Like Family",
                                    "original_title": "Barefoot Contessa Family Style: Easy Ideas and Recipes That Make Everyone Feel Like Family"
                                },
                                {
                                    "title": "Unveiled: Tamar (Lineage of Grace #1)",
                                    "original_title": "Unveiled: Tamar (Lineage of Grace #1)"
                                },
                                {
                                    "title": "Addicted",
                                    "original_title": "Addicted"
                                },
                                {
                                    "title": "Bloodhound (Beka Cooper, #2)",
                                    "original_title": "Bloodhound (Beka Cooper, #2)"
                                },
                                {
                                    "title": "Very Good Lives: The Fringe Benefits of Failure and the Importance of Imagination",
                                    "original_title": "Very Good Lives: The Fringe Benefits of Failure and the Importance of Imagination"
                                },
                                {
                                    "title": "Essentials of Classic Italian Cooking",
                                    "original_title": "Essentials of Classic Italian Cooking"
                                },
                                {
                                    "title": "Batman, Volume 2: The City of Owls",
                                    "original_title": "Batman, Volume 2: The City of Owls"
                                },
                                {
                                    "title": "The Dot",
                                    "original_title": "The Dot"
                                },
                                {
                                    "title": "Far from the Tree: Parents, Children, and the Search for Identity",
                                    "original_title": "Far from the Tree: Parents, Children, and the Search for Identity"
                                },
                                {
                                    "title": "Come Back, Amelia Bedelia",
                                    "original_title": "Come Back, Amelia Bedelia"
                                },
                                {
                                    "title": "In Harm's Way: The Sinking of the U.S.S. Indianapolis and the Extraordinary Story of Its Survivors",
                                    "original_title": "In Harm's Way: The Sinking of the U.S.S. Indianapolis and the Extraordinary Story of Its Survivors"
                                },
                                {
                                    "title": "The Earthsea Trilogy",
                                    "original_title": "The Earthsea Trilogy"
                                },
                                {
                                    "title": "A Sick Day for Amos McGee",
                                    "original_title": "A Sick Day for Amos McGee"
                                },
                                {
                                    "title": "Foxe's Book of Martyrs",
                                    "original_title": "Foxe's Book of Martyrs"
                                },
                                {
                                    "title": "Saving Grace",
                                    "original_title": "Saving Grace"
                                },
                                {
                                    "title": "Barnyard Dance",
                                    "original_title": "Barnyard Dance"
                                },
                                {
                                    "title": "The Taste of Home Cookbook",
                                    "original_title": "The Taste of Home Cookbook"
                                },
                                {
                                    "title": "A Bargain for Frances",
                                    "original_title": "A Bargain for Frances"
                                },
                                {
                                    "title": "The Death of Kings (Emperor, #2)",
                                    "original_title": "The Death of Kings (Emperor, #2)"
                                },
                                {
                                    "title": "Phantoms in the Brain: Probing the Mysteries of the Human Mind",
                                    "original_title": "Phantoms in the Brain: Probing the Mysteries of the Human Mind"
                                },
                                {
                                    "title": "Owen",
                                    "original_title": "Owen"
                                },
                                {
                                    "title": "The Little Old Lady Who Was Not Afraid of Anything",
                                    "original_title": "The Little Old Lady Who Was Not Afraid of Anything"
                                },
                                {
                                    "title": "Bear Snores On",
                                    "original_title": "Bear Snores On"
                                },
                                {
                                    "title": "Skippyjon Jones",
                                    "original_title": "Skippyjon Jones"
                                },
                                {
                                    "title": "Nicholas and Alexandra",
                                    "original_title": "Nicholas and Alexandra"
                                },
                                {
                                    "title": "A Color of His Own",
                                    "original_title": "A Color of His Own"
                                },
                                {
                                    "title": "Seeds of Rebellion (Beyonders, #2)",
                                    "original_title": "Seeds of Rebellion (Beyonders, #2)"
                                },
                                {
                                    "title": "Trials of Death (Cirque Du Freak, #5)",
                                    "original_title": "Trials of Death (Cirque du Freak, #5) "
                                },
                                {
                                    "title": "One Grave at a Time (Night Huntress, #6)",
                                    "original_title": "One Grave at a Time (Night Huntress, #6)"
                                },
                                {
                                    "title": "The Evolutionary Void",
                                    "original_title": "The Evolutionary Void"
                                },
                                {
                                    "title": "Frosty the Snow Man",
                                    "original_title": "Frosty the Snow Man"
                                },
                                {
                                    "title": "Little Princes: One Man's Promise to Bring Home the Lost Children of Nepal",
                                    "original_title": "Little Princes: One Man's Promise to Bring Home the Lost Children of Nepal"
                                },
                                {
                                    "title": "The Hat",
                                    "original_title": "The Hat"
                                },
                                {
                                    "title": "Mystery Man (Dream Man, #1)",
                                    "original_title": "Mystery Man (Dream Man, #1)"
                                },
                                {
                                    "title": "Betty Crocker's Cookbook",
                                    "original_title": "Betty Crocker's Cookbook"
                                },
                                {
                                    "title": "The Rise of Theodore Roosevelt",
                                    "original_title": "The Rise of Theodore Roosevelt "
                                },
                                {
                                    "title": "The Collected Poems of W.B. Yeats",
                                    "original_title": "The Collected Poems of W.B. Yeats"
                                },
                                {
                                    "title": "Anne Frank: Beyond the Diary - A Photographic Remembrance",
                                    "original_title": "Anne Frank: Beyond the Diary - A Photographic Remembrance"
                                },
                                {
                                    "title": "The Call of Cthulhu and Other Weird Stories",
                                    "original_title": "The Call of Cthulhu and Other Weird Stories"
                                },
                                {
                                    "title": "Practicing the Power of Now: Essential Teachings, Meditations, and Exercises from the Power of Now",
                                    "original_title": "Practicing the Power of Now: Essential Teachings, Meditations, and Exercises from The Power of Now"
                                },
                                {
                                    "title": "To Kill a Mockingbird",
                                    "original_title": "To Kill a Mockingbird"
                                },
                                {
                                    "title": "The Princess Bride ",
                                    "original_title": "The Princess Bride"
                                },
                                {
                                    "title": "Good Omens: The Nice and Accurate Prophecies of Agnes Nutter, Witch",
                                    "original_title": "Good Omens: The Nice and Accurate Prophecies of Agnes Nutter, Witch"
                                },
                                {
                                    "title": "The Last Lecture",
                                    "original_title": "The Last Lecture"
                                },
                                {
                                    "title": "V for Vendetta",
                                    "original_title": "V for Vendetta"
                                },
                                {
                                    "title": "The Day of the Jackal",
                                    "original_title": "The Day of the Jackal"
                                },
                                {
                                    "title": "Cryptonomicon",
                                    "original_title": "Cryptonomicon"
                                },
                                {
                                    "title": "Magician: Master (The Riftwar Saga, #2)",
                                    "original_title": "Magician: Master (The Riftwar Saga, #2)"
                                },
                                {
                                    "title": "There are No Children Here: The Story of Two Boys Growing Up in the Other America",
                                    "original_title": "There Are No Children Here: The Story of Two Boys Growing Up in the Other America"
                                },
                                {
                                    "title": "What the Bleep Do We Know!?: Discovering the Endless Possibilities for Altering Your Everyday Reality",
                                    "original_title": "What the Bleep Do We Know!?: Discovering the Endless Possibilities for Altering Your Everyday Reality"
                                },
                                {
                                    "title": "Curious George Visits the Library",
                                    "original_title": "Curious George Visits the Library"
                                },
                                {
                                    "title": "How I Raised Myself from Failure to Success in Selling",
                                    "original_title": "How I Raised Myself from Failure to Success in Selling"
                                },
                                {
                                    "title": "Justice: What's the Right Thing to Do?",
                                    "original_title": "Justice: What's the Right Thing to Do?"
                                },
                                {
                                    "title": "Beyond Band of Brothers: The War Memoirs of Major Dick Winters",
                                    "original_title": "Beyond Band of Brothers: The War Memoirs of Major Dick Winters"
                                },
                                {
                                    "title": "The River Why",
                                    "original_title": "The River Why"
                                },
                                {
                                    "title": "Dispatches",
                                    "original_title": "Dispatches"
                                },
                                {
                                    "title": "Each Peach Pear Plum",
                                    "original_title": "Each Peach Pear Plum"
                                },
                                {
                                    "title": "Money, and the Law of Attraction: Learning to Attract Wealth, Health, and Happiness",
                                    "original_title": "Money, and the Law of Attraction: Learning to Attract Wealth, Health, and Happiness"
                                },
                                {
                                    "title": "A Bad Case of Stripes",
                                    "original_title": "A Bad Case of Stripes"
                                },
                                {
                                    "title": "Scott Pilgrim, Volume 2: Scott Pilgrim vs. The World",
                                    "original_title": "Scott Pilgrim, Volume 2: Scott Pilgrim vs. The World"
                                },
                                {
                                    "title": "Jitterbug Perfume",
                                    "original_title": "Jitterbug Perfume"
                                },
                                {
                                    "title": "Moneyball: The Art of Winning an Unfair Game",
                                    "original_title": "Moneyball: The Art of Winning an Unfair Game"
                                },
                                {
                                    "title": "The One and Only Ivan",
                                    "original_title": "The One and Only Ivan"
                                },
                                {
                                    "title": "Harold and the Purple Crayon",
                                    "original_title": "Harold and the Purple Crayon"
                                },
                                {
                                    "title": "If You Give a Mouse a Cookie",
                                    "original_title": "If You Give a Mouse a Cookie"
                                },
                                {
                                    "title": "A Tree Grows in Brooklyn",
                                    "original_title": "A Tree Grows In Brooklyn "
                                },
                                {
                                    "title": "The Glass Castle",
                                    "original_title": "The Glass Castle"
                                },
                                {
                                    "title": "Pride and Prejudice",
                                    "original_title": "Pride and Prejudice"
                                },
                                {
                                    "title": "Kingdom Come",
                                    "original_title": "Kingdom Come"
                                },
                                {
                                    "title": "Pandora's Star",
                                    "original_title": "Pandora's Star"
                                },
                                {
                                    "title": "Creativity, Inc.: Overcoming the Unseen Forces That Stand in the Way of True Inspiration",
                                    "original_title": "Creativity, Inc.: Overcoming the Unseen Forces That Stand in the Way of True Inspiration"
                                },
                                {
                                    "title": "Once Burned (Night Prince, #1)",
                                    "original_title": "Once Burned (Night Prince, #1)"
                                },
                                {
                                    "title": "The Temporal Void",
                                    "original_title": "The Temporal Void"
                                },
                                {
                                    "title": "Just Me in the Tub (Mercer Mayer's Little Critter)",
                                    "original_title": "Just Me in the Tub (Mercer Mayer's Little Critter)"
                                },
                                {
                                    "title": "The Hating Game",
                                    "original_title": "The Hating Game"
                                },
                                {
                                    "title": "All My Friends Are Dead",
                                    "original_title": "All My Friends Are Dead"
                                },
                                {
                                    "title": "Sometimes a Great Notion",
                                    "original_title": "Sometimes a Great Notion"
                                },
                                {
                                    "title": "Driving Miss Daisy",
                                    "original_title": "Driving Miss Daisy"
                                },
                                {
                                    "title": "Where the Mountain Meets the Moon",
                                    "original_title": "Where the Mountain Meets the Moon"
                                },
                                {
                                    "title": "Madeline's Rescue",
                                    "original_title": "Madeline's Rescue"
                                },
                                {
                                    "title": "The Hero With a Thousand Faces",
                                    "original_title": "The Hero with a Thousand Faces"
                                },
                                {
                                    "title": "Smiley's People",
                                    "original_title": "Smiley's People"
                                },
                                {
                                    "title": "The Souls of Black Folk",
                                    "original_title": "The Souls of Black Folk"
                                },
                                {
                                    "title": "A Leaf on the Wind of All Hallows (Outlander, #8.5)",
                                    "original_title": "A Leaf on the Wind of All Hallows (Outlander, #8.5)"
                                },
                                {
                                    "title": "The Orenda",
                                    "original_title": "The Orenda"
                                },
                                {
                                    "title": "Sailing Alone Around the Room: New and Selected Poems",
                                    "original_title": "Sailing Alone Around the Room: New and Selected Poems"
                                },
                                {
                                    "title": "Glory over Everything: Beyond The Kitchen House",
                                    "original_title": "Glory over Everything: Beyond The Kitchen House"
                                },
                                {
                                    "title": "Curious George Rides a Bike",
                                    "original_title": "Curious George Rides a Bike"
                                },
                                {
                                    "title": "Dom Casmurro",
                                    "original_title": "Dom Casmurro"
                                },
                                {
                                    "title": "Change Your Thoughts - Change Your Life: Living the Wisdom of the Tao",
                                    "original_title": "Change Your Thoughts - Change Your Life: Living the Wisdom of the Tao"
                                },
                                {
                                    "title": "A Bridge Too Far",
                                    "original_title": "A Bridge Too Far"
                                },
                                {
                                    "title": "Snowmen at Night",
                                    "original_title": "Snowmen at Night"
                                },
                                {
                                    "title": "Memórias Póstumas de Brás Cubas",
                                    "original_title": "Memórias Póstumas de Brás Cubas"
                                },
                                {
                                    "title": "This is Not My Hat",
                                    "original_title": "This is Not My Hat"
                                },
                                {
                                    "title": "Systematic Theology: An Introduction to Biblical Doctrine",
                                    "original_title": "Systematic Theology: An Introduction to Biblical Doctrine"
                                },
                                {
                                    "title": "QED: The Strange Theory of Light and Matter",
                                    "original_title": "QED: The Strange Theory of Light and Matter"
                                },
                                {
                                    "title": "A Knight in Shining Armor",
                                    "original_title": "A Knight in Shining Armor"
                                },
                                {
                                    "title": "Barefoot Contessa Back to Basics",
                                    "original_title": "Barefoot Contessa Back to Basics"
                                },
                                {
                                    "title": "The Vampire Prince (Cirque Du Freak, #6)",
                                    "original_title": "The Vampire Prince (Cirque Du Freak, #6)"
                                },
                                {
                                    "title": "Orthodoxy",
                                    "original_title": "Orthodoxy"
                                },
                                {
                                    "title": "The Blue Castle ",
                                    "original_title": "The Blue Castle"
                                },
                                {
                                    "title": "The Caine Mutiny",
                                    "original_title": "The Caine Mutiny"
                                },
                                {
                                    "title": "The Jordan Rules",
                                    "original_title": "The Jordan Rules"
                                },
                                {
                                    "title": "On Writing Well: The Classic Guide to Writing Nonfiction",
                                    "original_title": "On Writing Well: The Classic Guide to Writing Nonfiction"
                                },
                                {
                                    "title": "Savage Inequalities: Children in America's Schools",
                                    "original_title": "Savage Inequalities: Children in America's Schools"
                                },
                                {
                                    "title": "The Ragamuffin Gospel: Good News for the Bedraggled, Beat-Up, and Burnt Out",
                                    "original_title": "The Ragamuffin Gospel: Good News for the Bedraggled, Beat-Up, and Burnt Out"
                                },
                                {
                                    "title": "Complications: A Surgeon's Notes on an Imperfect Science",
                                    "original_title": "Complications: A Surgeon's Notes on an Imperfect Science"
                                },
                                {
                                    "title": "The Right Stuff",
                                    "original_title": "The Right Stuff"
                                },
                                {
                                    "title": "Ariel",
                                    "original_title": "Ariel"
                                },
                                {
                                    "title": "The Complete Adventures of Curious George",
                                    "original_title": "The Complete Adventures of Curious George"
                                },
                                {
                                    "title": "Papillon",
                                    "original_title": "Papillon "
                                },
                                {
                                    "title": "Bonhoeffer: Pastor, Martyr, Prophet, Spy",
                                    "original_title": "Bonhoeffer: Pastor, Martyr, Prophet, Spy"
                                },
                                {
                                    "title": "The Waste Land and Other Poems",
                                    "original_title": "The Waste Land and Other Poems"
                                },
                                {
                                    "title": "Twilight: The Complete Illustrated Movie Companion",
                                    "original_title": "Twilight: The Complete Illustrated Movie Companion"
                                },
                                {
                                    "title": "The Five Love Languages: How to Express Heartfelt Commitment to Your Mate",
                                    "original_title": "The Five Love Languages: How to Express Heartfelt Commitment to Your Mate"
                                },
                                {
                                    "title": "The Invention of Wings",
                                    "original_title": "The Invention of Wings"
                                },
                                {
                                    "title": "Batman: Year One",
                                    "original_title": "Batman: Year One"
                                },
                                {
                                    "title": "The Invention of Hugo Cabret",
                                    "original_title": "The Invention of Hugo Cabret"
                                },
                                {
                                    "title": "Wild Swans: Three Daughters of China",
                                    "original_title": "Wild Swans: Three Daughters of China"
                                },
                                {
                                    "title": "Click, Clack, Moo: Cows That Type",
                                    "original_title": "Click, Clack, Moo: Cows That Type"
                                },
                                {
                                    "title": "If You Give a Pig a Pancake ",
                                    "original_title": "If You Give a Pig a Pancake "
                                },
                                {
                                    "title": "The Tiger Who Came to Tea",
                                    "original_title": "The Tiger Who Came to Tea"
                                },
                                {
                                    "title": "When Crickets Cry",
                                    "original_title": "When Crickets Cry"
                                },
                                {
                                    "title": "Random Family: Love, Drugs, Trouble, and Coming of Age in the Bronx",
                                    "original_title": "Random Family: Love, Drugs, Trouble, and Coming of Age in the Bronx"
                                },
                                {
                                    "title": "The Walking Dead, Vol. 13: Too Far Gone",
                                    "original_title": "The Walking Dead, Vol. 13: Too Far Gone"
                                },
                                {
                                    "title": "Wild Seed (Patternmaster, #1)",
                                    "original_title": "Wild Seed (Patternmaster, #1)"
                                },
                                {
                                    "title": "Selected Poems",
                                    "original_title": "Selected Poems"
                                },
                                {
                                    "title": "Cinderella",
                                    "original_title": "Cinderella"
                                },
                                {
                                    "title": "Do No Harm: Stories of Life, Death and Brain Surgery",
                                    "original_title": "Do No Harm: Stories of Life, Death and Brain Surgery"
                                },
                                {
                                    "title": "Wait for It",
                                    "original_title": "Wait for It"
                                },
                                {
                                    "title": "Bird by Bird: Some Instructions on Writing and Life",
                                    "original_title": "Bird by Bird: Some Instructions on Writing and Life"
                                },
                                {
                                    "title": "Strega Nona",
                                    "original_title": "Strega Nona"
                                },
                                {
                                    "title": "Stellaluna",
                                    "original_title": "Stellaluna"
                                },
                                {
                                    "title": "The Phantom Tollbooth",
                                    "original_title": "The Phantom Tollbooth"
                                },
                                {
                                    "title": "The Prince of Tides",
                                    "original_title": "The Prince of Tides"
                                },
                                {
                                    "title": "The Prophet",
                                    "original_title": "The Prophet"
                                },
                                {
                                    "title": "The BFG",
                                    "original_title": "The BFG"
                                },
                                {
                                    "title": "Alexander and the Terrible, Horrible, No Good, Very Bad Day",
                                    "original_title": "Alexander and the Terrible, Horrible, No Good, Very Bad Day"
                                },
                                {
                                    "title": "The Thorn Birds",
                                    "original_title": "The Thorn Birds"
                                },
                                {
                                    "title": "A Prayer for Owen Meany",
                                    "original_title": "A Prayer for Owen Meany"
                                },
                                {
                                    "title": "Where the Wild Things Are",
                                    "original_title": "Where the Wild Things Are"
                                },
                                {
                                    "title": "Little Bear",
                                    "original_title": "Little Bear"
                                },
                                {
                                    "title": "Autobiography of a Yogi",
                                    "original_title": "Autobiography of a Yogi"
                                },
                                {
                                    "title": "Desert Solitaire",
                                    "original_title": "Desert Solitaire"
                                },
                                {
                                    "title": "The Tell-Tale Heart",
                                    "original_title": "The Tell-Tale Heart"
                                },
                                {
                                    "title": "Curious George Goes to the Hospital",
                                    "original_title": "Curious George Goes to the Hospital"
                                },
                                {
                                    "title": "The Shock Doctrine: The Rise of Disaster Capitalism",
                                    "original_title": "The Shock Doctrine: The Rise of Disaster Capitalism"
                                },
                                {
                                    "title": "Love Comes Softly (Love Comes Softly, #1)",
                                    "original_title": "Love Comes Softly (Love Comes Softly, #1)"
                                },
                                {
                                    "title": "Hand, Hand, Fingers, Thumb",
                                    "original_title": "Hand, Hand, Fingers, Thumb"
                                },
                                {
                                    "title": "The Unlikely Spy",
                                    "original_title": "The Unlikely Spy"
                                },
                                {
                                    "title": "Dragon Slippers (Dragon Slippers, #1)",
                                    "original_title": "Dragon Slippers (Dragon Slippers, #1)"
                                },
                                {
                                    "title": "Lord of the Shadows (Cirque Du Freak, #11)",
                                    "original_title": "Lord of the Shadows (Cirque Du Freak, #11)"
                                },
                                {
                                    "title": "War",
                                    "original_title": "WAR"
                                },
                                {
                                    "title": "David Gets In Trouble",
                                    "original_title": "David Gets in Trouble"
                                },
                                {
                                    "title": "Honor's Splendour",
                                    "original_title": "Honor's Splendour"
                                },
                                {
                                    "title": "A Mango-Shaped Space",
                                    "original_title": "A Mango-Shaped Space"
                                },
                                {
                                    "title": "The Prize",
                                    "original_title": "The Prize"
                                },
                                {
                                    "title": "Killers of the Dawn (Cirque Du Freak, #9)",
                                    "original_title": "Killers of the Dawn (Cirque Du Freak, #9)"
                                },
                                {
                                    "title": "The Going-To-Bed Book",
                                    "original_title": "The Going-To-Bed Book"
                                },
                                {
                                    "title": "The Recruit (Cherub, #1)",
                                    "original_title": "The Recruit (Cherub, #1)"
                                },
                                {
                                    "title": "Fermat's Enigma: The Epic Quest to Solve the World's Greatest Mathematical Problem",
                                    "original_title": "Fermat's Enigma: The Epic Quest to Solve the World's Greatest Mathematical Problem"
                                },
                                {
                                    "title": "The Tibetan Book of Living and Dying",
                                    "original_title": "The Tibetan Book of Living and Dying"
                                },
                                {
                                    "title": "The Crossover",
                                    "original_title": "The Crossover"
                                },
                                {
                                    "title": "Just Go to Bed",
                                    "original_title": "Just Go to Bed"
                                },
                                {
                                    "title": "Barbarians at the Gate: The Fall of RJR Nabisco",
                                    "original_title": "Barbarians at the Gate: The Fall of RJR Nabisco"
                                },
                                {
                                    "title": "Marching Powder: A True Story of Friendship, Cocaine, and South America's Strangest Jail",
                                    "original_title": "Marching Powder: A True Story of Friendship, Cocaine, and South America's Strangest Jail"
                                },
                                {
                                    "title": "Wemberly Worried",
                                    "original_title": "Wemberly Worried"
                                },
                                {
                                    "title": "Stephen King's N.",
                                    "original_title": "Stephen King's N."
                                },
                                {
                                    "title": "The Gift of Therapy: An Open Letter to a New Generation of Therapists and Their Patients",
                                    "original_title": "The Gift of Therapy: An Open Letter to a New Generation of Therapists and Their Patients"
                                },
                                {
                                    "title": "Where Is God When It Hurts?",
                                    "original_title": "Where Is God When It Hurts?"
                                },
                                {
                                    "title": "A Different Blue",
                                    "original_title": "A Different Blue"
                                },
                                {
                                    "title": "Punk 57",
                                    "original_title": "Punk 57"
                                },
                                {
                                    "title": "Manufacturing Consent: The Political Economy of the Mass Media",
                                    "original_title": "Manufacturing Consent: The Political Economy of the Mass Media"
                                },
                                {
                                    "title": "CivilWarLand in Bad Decline",
                                    "original_title": "CivilWarLand in Bad Decline"
                                },
                                {
                                    "title": "America's First Daughter",
                                    "original_title": "America's First Daughter"
                                },
                                {
                                    "title": "The Lions of Little Rock",
                                    "original_title": "The Lions of Little Rock"
                                },
                                {
                                    "title": "Rome (Marked Men, #3)",
                                    "original_title": "Rome (Marked Men, #3)"
                                },
                                {
                                    "title": "Follow the River",
                                    "original_title": "Follow the River"
                                },
                                {
                                    "title": "The Little Red Caboose (Little Golden Book)",
                                    "original_title": "The Little Red Caboose (Little Golden Book)"
                                },
                                {
                                    "title": "A Fish Out of Water",
                                    "original_title": "A Fish Out of Water"
                                },
                                {
                                    "title": "The Mixed-Up Chameleon",
                                    "original_title": "The Mixed-Up Chameleon"
                                },
                                {
                                    "title": "استمتع بحياتك",
                                    "original_title": "استمتع بحياتك"
                                },
                                {
                                    "title": "Go Away, Big Green Monster!",
                                    "original_title": "Go Away, Big Green Monster!"
                                },
                                {
                                    "title": "Run Baby Run",
                                    "original_title": "Run Baby Run"
                                },
                                {
                                    "title": "Disappearing Acts",
                                    "original_title": "Disappearing Acts"
                                },
                                {
                                    "title": "Envy (Fallen Angels, #3)",
                                    "original_title": "Envy (Fallen Angels, #3)"
                                },
                                {
                                    "title": "The Five Love Languages of Children",
                                    "original_title": "The Five Love Languages of Children"
                                },
                                {
                                    "title": "Gifted Hands: The Ben Carson Story",
                                    "original_title": "Gifted Hands: The Ben Carson Story"
                                },
                                {
                                    "title": "Unlimited Power : The New Science Of Personal Achievement",
                                    "original_title": "Unlimited Power : The New Science Of Personal Achievement"
                                },
                                {
                                    "title": "Kiss an Angel",
                                    "original_title": "Kiss an Angel "
                                },
                                {
                                    "title": "I'm Just Here for the Food: Food + Heat = Cooking",
                                    "original_title": "I'm Just Here for the Food: Food + Heat = Cooking"
                                },
                                {
                                    "title": "The Heretic Queen",
                                    "original_title": "The Heretic Queen"
                                },
                                {
                                    "title": "Marvels",
                                    "original_title": "Marvels"
                                },
                                {
                                    "title": "The Barefoot Contessa Cookbook",
                                    "original_title": "The Barefoot Contessa Cookbook"
                                },
                                {
                                    "title": "Panda Bear, Panda Bear, What Do You See?",
                                    "original_title": "Panda Bear, Panda Bear, What Do You See?"
                                },
                                {
                                    "title": "Wolf-Speaker (Immortals, #2)",
                                    "original_title": "Wolf-Speaker (Immortals, #2)"
                                },
                                {
                                    "title": "Calling Me Home",
                                    "original_title": "Calling Me Home"
                                },
                                {
                                    "title": "The Miracle Worker",
                                    "original_title": "The Miracle Worker"
                                },
                                {
                                    "title": "The End of Eternity",
                                    "original_title": "The End of Eternity"
                                },
                                {
                                    "title": "Giovanni's Room",
                                    "original_title": "Giovanni's Room"
                                },
                                {
                                    "title": "Centennial",
                                    "original_title": "Centennial"
                                },
                                {
                                    "title": "What's So Amazing About Grace?",
                                    "original_title": "What's So Amazing About Grace?"
                                },
                                {
                                    "title": "Dead Poets Society",
                                    "original_title": "Dead Poets Society "
                                },
                                {
                                    "title": "Bury My Heart at Wounded Knee: An Indian History of the American West",
                                    "original_title": "Bury My Heart at Wounded Knee: An Indian History of the American West"
                                },
                                {
                                    "title": "The Wishing Spell (The Land of Stories, #1)",
                                    "original_title": "The Wishing Spell (The Land of Stories, #1)"
                                },
                                {
                                    "title": "Tikki Tikki Tembo",
                                    "original_title": "Tikki Tikki Tembo"
                                },
                                {
                                    "title": "The Perks of Being a Wallflower",
                                    "original_title": "The Perks of Being a Wallflower"
                                },
                                {
                                    "title": "The Complete Poems of Emily Dickinson",
                                    "original_title": "The Complete Poems of Emily Dickinson"
                                },
                                {
                                    "title": "Make Way for Ducklings",
                                    "original_title": "Make Way for Ducklings"
                                },
                                {
                                    "title": "Chicka Chicka Boom Boom",
                                    "original_title": "Chicka Chicka Boom Boom"
                                },
                                {
                                    "title": "Mother Night",
                                    "original_title": "Mother Night"
                                },
                                {
                                    "title": "Same Kind of Different as Me",
                                    "original_title": "Same Kind of Different as Me"
                                },
                                {
                                    "title": "Mountains Beyond Mountains: The Quest of Dr. Paul Farmer, A Man Who Would Cure the World",
                                    "original_title": "Mountains Beyond Mountains: The Quest of Dr. Paul Farmer, a Man Who Would Cure the World"
                                },
                                {
                                    "title": "Planetary, Volume 1: All Over the World and Other Stories",
                                    "original_title": "Planetary, Volume 1: All Over the World and Other Stories"
                                },
                                {
                                    "title": "Friends and Lovers",
                                    "original_title": "Friends and Lovers"
                                },
                                {
                                    "title": "المانيفستو",
                                    "original_title": "المانيفستو"
                                },
                                {
                                    "title": "The Case of Charles Dexter Ward",
                                    "original_title": "The Case of Charles Dexter Ward"
                                },
                                {
                                    "title": "Zami: A New Spelling of My Name",
                                    "original_title": "Zami: A New Spelling of My Name"
                                },
                                {
                                    "title": "Hafalan Shalat Delisa",
                                    "original_title": "Hafalan Shalat Delisa"
                                },
                                {
                                    "title": "August: Osage County",
                                    "original_title": "August: Osage County"
                                },
                                {
                                    "title": "The Case-Book of Sherlock Holmes",
                                    "original_title": "The Case-Book of Sherlock Holmes"
                                },
                                {
                                    "title": "Palestine",
                                    "original_title": "Palestine"
                                },
                                {
                                    "title": "If You Give a Cat a Cupcake",
                                    "original_title": "If You Give a Cat a Cupcake"
                                },
                                {
                                    "title": "Infidel",
                                    "original_title": "Infidel"
                                },
                                {
                                    "title": "The Stinky Cheese Man and Other Fairly Stupid Tales",
                                    "original_title": "The Stinky Cheese Man and Other Fairly Stupid Tales"
                                },
                                {
                                    "title": "Fight Club",
                                    "original_title": "Fight Club"
                                },
                                {
                                    "title": "Big Little Lies",
                                    "original_title": "Big Little Lies"
                                },
                                {
                                    "title": "Rebecca",
                                    "original_title": "Rebecca"
                                },
                                {
                                    "title": "A Little Princess",
                                    "original_title": "A Little Princess"
                                },
                                {
                                    "title": "The Cross and the Switchblade",
                                    "original_title": "The Cross and the Switchblade"
                                },
                                {
                                    "title": "Touching the Void: The True Story of One Man's Miraculous Survival",
                                    "original_title": "Touching the Void: The True Story of One Man's Miraculous Survival"
                                },
                                {
                                    "title": "There Was an Old Lady Who Swallowed a Fly",
                                    "original_title": "There Was an Old Lady Who Swallowed a Fly"
                                },
                                {
                                    "title": "The Reason for God: Belief in an Age of Skepticism",
                                    "original_title": "The Reason for God: Belief in an Age of Skepticism"
                                },
                                {
                                    "title": "Nimona",
                                    "original_title": "Nimona"
                                },
                                {
                                    "title": "Mike Mulligan and His Steam Shovel",
                                    "original_title": "Mike Mulligan and His Steam Shovel"
                                },
                                {
                                    "title": "The Lost Wife",
                                    "original_title": "The Lost Wife"
                                },
                                {
                                    "title": "A House in the Sky",
                                    "original_title": "A House in the Sky"
                                },
                                {
                                    "title": "Good Night, Gorilla",
                                    "original_title": "Good Night, Gorilla"
                                },
                                {
                                    "title": "Christy",
                                    "original_title": "Christy"
                                },
                                {
                                    "title": "Owl Moon",
                                    "original_title": "Owl Moon"
                                },
                                {
                                    "title": "The Collected Poems",
                                    "original_title": "The Collected Poems"
                                },
                                {
                                    "title": "The Far Pavilions",
                                    "original_title": "The Far Pavilions"
                                },
                                {
                                    "title": "Eragon, Eldest & Brisingr (Inheritance, #1-3)",
                                    "original_title": "Eragon, Eldest & Brisingr (Inheritance, #1-3)"
                                },
                                {
                                    "title": "The Bane Chronicles",
                                    "original_title": "The Bane Chronicles"
                                },
                                {
                                    "title": "A Chair for My Mother",
                                    "original_title": "A Chair for My Mother "
                                },
                                {
                                    "title": "Small Sacrifices: A True Story of Passion and Murder",
                                    "original_title": "Small Sacrifices: A True Story of Passion and Murder"
                                },
                                {
                                    "title": "The Robe",
                                    "original_title": "The Robe"
                                },
                                {
                                    "title": "ABNKKBSNPLAKo?! (Mga Kwentong Chalk ni Bob Ong)",
                                    "original_title": "ABNKKBSNPLAKo?! (Mga Kwentong Chalk ni Bob Ong)"
                                },
                                {
                                    "title": "Eloise ",
                                    "original_title": "Eloise"
                                },
                                {
                                    "title": "The Brain That Changes Itself: Stories of Personal Triumph from the Frontiers of Brain Science",
                                    "original_title": "The Brain That Changes Itself: Stories of Personal Triumph from the Frontiers of Brain Science"
                                },
                                {
                                    "title": "Bread and Jam for Frances",
                                    "original_title": "Bread and Jam for Frances"
                                },
                                {
                                    "title": "Romancing Mister Bridgerton (Bridgertons, #4)",
                                    "original_title": "Romancing Mister Bridgerton (Bridgertons, #4)"
                                },
                                {
                                    "title": "2666",
                                    "original_title": "2666"
                                },
                                {
                                    "title": "The Hard Thing About Hard Things: Building a Business When There Are No Easy Answers",
                                    "original_title": "The Hard Thing about Hard Things: Building A Business When There Are No Easy Answers"
                                },
                                {
                                    "title": "No Ordinary Time: Franklin and Eleanor Roosevelt: The Home Front in World War II",
                                    "original_title": "No Ordinary Time: Franklin and Eleanor Roosevelt: The Home Front in World War II"
                                },
                                {
                                    "title": "Lilly's Purple Plastic Purse",
                                    "original_title": "Lilly's Purple Plastic Purse"
                                },
                                {
                                    "title": "The Little Red Hen (Little Golden Book)",
                                    "original_title": "The Little Red Hen (Little Golden Book)"
                                },
                                {
                                    "title": "Every Last Word",
                                    "original_title": "Every Last Word"
                                },
                                {
                                    "title": "Malcolm X: A Life of Reinvention",
                                    "original_title": "Malcolm X: A Life of Reinvention"
                                },
                                {
                                    "title": "The Relatives Came",
                                    "original_title": "The Relatives Came"
                                },
                                {
                                    "title": "Tilt",
                                    "original_title": "Tilt"
                                },
                                {
                                    "title": "The Cake Bible",
                                    "original_title": "The Cake Bible"
                                },
                                {
                                    "title": "Amadeus",
                                    "original_title": "Amadeus"
                                },
                                {
                                    "title": "Collected Poems",
                                    "original_title": "Collected Poems"
                                },
                                {
                                    "title": "Malgudi Days",
                                    "original_title": "Malgudi Days"
                                },
                                {
                                    "title": "Jaya: An Illustrated Retelling of the Mahabharata",
                                    "original_title": "Jaya: An Illustrated Retelling of the Mahabharata"
                                },
                                {
                                    "title": "Our Band Could Be Your Life: Scenes from the American Indie Underground 1981-1991",
                                    "original_title": "Our Band Could Be Your Life: Scenes from the American Indie Underground 1981-1991"
                                },
                                {
                                    "title": "Oscar et la dame rose",
                                    "original_title": "Oscar et la dame rose"
                                }
                            ]
                        },
                        "text/html": "<table><tr><th>title</th><th>original_title</th></tr><tr><td>The Complete Calvin and Hobbes</td><td>The Complete Calvin and Hobbes</td></tr><tr><td>Mark of the Lion Trilogy</td><td>Mark of the Lion Trilogy</td></tr><tr><td>It's a Magical World: A Calvin and Hobbes Collection</td><td>It's a Magical World: A Calvin and Hobbes Collection</td></tr><tr><td>There's Treasure Everywhere: A Calvin and Hobbes Collection</td><td>There's Treasure Everywhere: A Calvin and Hobbes Collection</td></tr><tr><td>Harry Potter Collection (Harry Potter, #1-6)</td><td>Harry Potter Collection (Harry Potter, #1-6)</td></tr><tr><td>Homicidal Psycho Jungle Cat: A Calvin and Hobbes Collection</td><td>Homicidal Psycho Jungle Cat: A Calvin and Hobbes Collection</td></tr><tr><td>The Days Are Just Packed: A Calvin and Hobbes Collection</td><td>The Days Are Just Packed: A Calvin and Hobbes Collection</td></tr><tr><td>The Calvin and Hobbes Lazy Sunday Book</td><td>The Calvin and Hobbes Lazy Sunday Book</td></tr><tr><td>The Absolute Sandman, Volume One</td><td>The Absolute Sandman, Volume One</td></tr><tr><td>The Essential Calvin and Hobbes: A Calvin and Hobbes Treasury</td><td>The Essential Calvin and Hobbes: A Calvin and Hobbes Treasury</td></tr><tr><td>The Calvin and Hobbes Tenth Anniversary Book</td><td>The Calvin and Hobbes Tenth Anniversary Book</td></tr><tr><td>The Hate U Give</td><td>The Hate U Give</td></tr><tr><td>Calvin and Hobbes</td><td>Calvin and Hobbes</td></tr><tr><td>Holy Bible: New International Version</td><td>Holy Bible: New International Version</td></tr><tr><td>Harry Potter and the Chamber of Secrets: Sheet Music for Flute with C.D</td><td>Harry Potter and the Chamber of Secrets: Sheet Music for Flute with C.D</td></tr><tr><td>The Sandman: King of Dreams</td><td>The Sandman: King of Dreams</td></tr><tr><td>Standing for Something: 10 Neglected Virtues That Will Heal Our Hearts and Homes</td><td>Standing for Something: 10 Neglected Virtues That Will Heal Our Hearts and Homes</td></tr><tr><td>An Echo in the Darkness (Mark of the Lion, #2)</td><td>An Echo in the Darkness (Mark of the Lion, #2)</td></tr><tr><td>The Lord of the Rings: The Art of The Fellowship of the Ring</td><td>The Lord of the Rings: The Art of The Fellowship of the Ring</td></tr><tr><td>Just Mercy: A Story of Justice and Redemption</td><td>Just Mercy: A Story of Justice and Redemption</td></tr><tr><td>NARUTO -ナルト- 巻ノ四十三</td><td>NARUTO -ナルト- 巻ノ四十三 </td></tr><tr><td>Harry Potter Page to Screen: The Complete Filmmaking Journey</td><td>Harry Potter Page to Screen: The Complete Filmmaking Journey</td></tr><tr><td>The Green Mile, Part 6: Coffey on the Mile</td><td>The Green Mile, Part 6: Coffey on the Mile</td></tr><tr><td>The Nightingale</td><td>The Nightingale</td></tr><tr><td>The Constitution of the United States of America</td><td>The Constitution of the United States of America</td></tr><tr><td>The Lord of the Rings: Weapons and Warfare</td><td>The Lord of the Rings: Weapons and Warfare</td></tr><tr><td>Courageous</td><td>Courageous</td></tr><tr><td>The Green Mile, Part 4: The Bad Death of Eduard Delacroix</td><td>The Green Mile, Part 4: The Bad Death of Eduard Delacroix</td></tr><tr><td>Thank You, Mr. Falker</td><td>Thank You, Mr. Falker</td></tr><tr><td>Believing Christ: The Parable of the Bicycle and Other Good News</td><td>Believing Christ: The Parable of the Bicycle and Other Good News</td></tr><tr><td>The Green Mile, Part 5: Night Journey</td><td>The Green Mile, Part 5: Night Journey</td></tr><tr><td>Humans of New York: Stories</td><td>Humans of New York: Stories</td></tr><tr><td>The Green Mile, Part 3: Coffey's Hands</td><td>The Green Mile, Part 3: Coffey's Hands</td></tr><tr><td>Locke &amp; Key, Vol. 6: Alpha &amp; Omega</td><td>Locke &amp; Key, Vol. 6: Alpha &amp; Omega</td></tr><tr><td>The Complete Sherlock Holmes</td><td>The Complete Sherlock Holmes</td></tr><tr><td>The New Jim Crow: Mass Incarceration in the Age of Colorblindness</td><td>The New Jim Crow: Mass Incarceration in the Age of Colorblindness</td></tr><tr><td>The Complete Works</td><td>The Complete Works</td></tr><tr><td>Kürk Mantolu Madonna</td><td>Kürk Mantolu Madonna</td></tr><tr><td>The Green Mile, Part 1: The Two Dead Girls</td><td>The Green Mile, Part 1: The Two Dead Girls</td></tr><tr><td>Evicted: Poverty and Profit in the American City</td><td>Evicted: Poverty and Profit in the American City</td></tr><tr><td>On Food and Cooking: The Science and Lore of the Kitchen</td><td>On Food and Cooking: The Science and Lore of the Kitchen</td></tr><tr><td>Harry Potter: Film Wizardry</td><td>Harry Potter: Film Wizardry</td></tr><tr><td>A Charlie Brown Christmas</td><td>A Charlie Brown Christmas </td></tr><tr><td>Assata: An Autobiography</td><td>Assata: An Autobiography</td></tr><tr><td>The Chronicles of Narnia - The Lion, the Witch, and the Wardrobe Official Illustrated Movie Companion</td><td>The Chronicles of Narnia - The Lion, the Witch, and the Wardrobe Official Illustrated Movie Companion</td></tr><tr><td>The Green Mile, Part 2: The Mouse on the Mile</td><td>The Green Mile, Part 2: The Mouse on the Mile</td></tr><tr><td>Lonesome Dove</td><td>Lonesome Dove</td></tr><tr><td>Fireproof</td><td>Fireproof</td></tr><tr><td>We Should All Be Feminists</td><td>We Should All Be Feminists</td></tr><tr><td>Ficciones</td><td>Ficciones</td></tr><tr><td>The Coldest Winter Ever</td><td>The Coldest Winter Ever</td></tr><tr><td>Hamilton: The Revolution</td><td>Hamilton: The Revolution</td></tr><tr><td>Darkest Powers Trilogy (Darkest Powers, #1-3)</td><td>Darkest Powers Trilogy (Darkest Powers, #1-3)</td></tr><tr><td>Finding Nemo</td><td>Finding Nemo</td></tr><tr><td>Tramp for the Lord</td><td>Tramp for the Lord</td></tr><tr><td>The Gruffalo</td><td>The Gruffalo</td></tr><tr><td>Shoe Dog: A Memoir by the Creator of NIKE</td><td>Shoe Dog: A Memoir by the Creator of Nike</td></tr><tr><td>The Complete Adventures of Peter Rabbit</td><td>The Complete Adventures of Peter Rabbit</td></tr><tr><td>Wicked - Piano/Vocal Arrangement</td><td>Wicked - Piano/Vocal Arrangement</td></tr><tr><td>Harry Potter and Philosophy: If Aristotle Ran Hogwarts</td><td>Harry Potter and Philosophy: If Aristotle Ran Hogwarts</td></tr><tr><td>Sherlock Holmes: The Complete Novels and Stories, Volume I</td><td>Sherlock Holmes: The Complete Novels and Stories, Volume I</td></tr><tr><td>Miss Rumphius</td><td>Miss Rumphius</td></tr><tr><td>The Fire Next Time</td><td>The Fire Next Time</td></tr><tr><td>Praying God's Word: Breaking Free From Spiritual Strongholds</td><td>Praying God's Word: Breaking Free From Spiritual Strongholds</td></tr><tr><td>The Far Side Gallery 3</td><td>The Far Side Gallery 3</td></tr><tr><td>Archer's Voice</td><td>Archer's Voice</td></tr><tr><td>The Help</td><td>The Help</td></tr><tr><td>Lover Awakened (Black Dagger Brotherhood, #3)</td><td>Lover Awakened (Black Dagger Brotherhood, #3)</td></tr><tr><td>The Monster at the End of this Book</td><td>The Monster at the End of This Book</td></tr><tr><td>It Ends with Us</td><td>It Ends with Us</td></tr><tr><td>Ignite Me (Shatter Me, #3)</td><td>Ignite Me (Shatter Me, #3)</td></tr><tr><td>The Complete Stories</td><td>The Complete Stories</td></tr><tr><td>Locke &amp; Key, Vol. 4: Keys to the Kingdom</td><td>Locke &amp; Key, Vol. 4: Keys to the Kingdom</td></tr><tr><td>The Declaration of Independence and The Constitution of the United States</td><td>The Declaration of Independence and The Constitution of the United States </td></tr><tr><td>The Poetry of Pablo Neruda</td><td>The Poetry of Pablo Neruda</td></tr><tr><td>The Wheel of Time: Boxed Set #1 (Wheel of Time, #1-3)</td><td>The Wheel of Time: Boxed Set #1 (Wheel of Time, #1-3)</td></tr><tr><td>رباعيات صلاح جاهين</td><td>رباعيات صلاح جاهين</td></tr><tr><td>Left to Tell: Discovering God Amidst the Rwandan Holocaust</td><td>Left to Tell: Discovering God Amidst the Rwandan Holocaust</td></tr><tr><td>Wonder</td><td>Wonder</td></tr><tr><td>The Green Mile</td><td>The Green Mile</td></tr><tr><td>Band of Brothers: E Company, 506th Regiment, 101st Airborne from Normandy to Hitler's Eagle's Nest</td><td>Band of Brothers: E Company, 506th Regiment, 101st Airborne from Normandy to Hitler's Eagle's Nest</td></tr><tr><td>Nothing to Envy: Ordinary Lives in North Korea</td><td>Nothing to Envy: Ordinary Lives in North Korea</td></tr><tr><td>Ina May's Guide to Childbirth</td><td>Ina May's Guide to Childbirth</td></tr><tr><td>The Far Side Gallery</td><td>The Far Side Gallery</td></tr><tr><td>H.M.S. Surprise</td><td>H.M.S. Surprise </td></tr><tr><td>The Weight of Glory</td><td>The Weight of Glory</td></tr><tr><td>The Story of Ruby Bridges</td><td>The Story of Ruby Bridges</td></tr><tr><td>The Day the Crayons Quit</td><td>The Day the Crayons Quit</td></tr><tr><td>Fantastic Beasts and Where to Find Them: The Original Screenplay</td><td>Fantastic Beasts and Where to Find Them: The Original Screenplay</td></tr><tr><td>The Peacegiver: How Christ Offers to Heal Our Hearts and Homes</td><td>The Peacegiver: How Christ Offers to Heal Our Hearts and Homes</td></tr><tr><td>November 9</td><td>November 9</td></tr><tr><td>The Cat in the Hat and Other Dr. Seuss Favorites</td><td>The Cat in the Hat and Other Dr. Seuss Favorites</td></tr><tr><td>Homegoing</td><td>Homegoing</td></tr><tr><td>Scott Pilgrim, Volume 6: Scott Pilgrim's Finest Hour</td><td>Scott Pilgrim, Volume 6: Scott Pilgrim's Finest Hour</td></tr><tr><td>The Kissing Hand</td><td>The Kissing Hand</td></tr><tr><td>Being Mortal: Medicine and What Matters in the End</td><td>Being Mortal: Medicine and What Matters in the End</td></tr><tr><td>Between the World and Me</td><td>Between the World and Me</td></tr><tr><td>Unbroken: A World War II Story of Survival, Resilience, and Redemption</td><td>Unbroken: A World War II Story of Survival, Resilience, and Redemption</td></tr><tr><td>The Exploits of Sherlock Holmes</td><td>The Exploits of Sherlock Holmes</td></tr><tr><td>Gates of Fire: An Epic Novel of the Battle of Thermopylae</td><td>Gates of Fire: An Epic Novel of the Battle of Thermopylae</td></tr><tr><td>With the Old Breed: At Peleliu and Okinawa</td><td>With The Old Breed: At Peleliu And Okinawa</td></tr><tr><td>The Sunne in Splendour</td><td>The Sunne in Splendour</td></tr><tr><td>The Royal Ranger (Ranger's Apprentice, #12)</td><td>The Royal Ranger (Ranger's Apprentice, #12)</td></tr><tr><td>Red Notice: A True Story of High Finance, Murder, and One Man’s Fight for Justice</td><td>Red Notice: A True Story of High Finance, Murder, and One Man’s Fight for Justice</td></tr><tr><td>I Love You Through and Through</td><td>I Love You Through And Through</td></tr><tr><td>Stand Tall, Molly Lou Melon</td><td>Stand Tall, Molly Lou Melon</td></tr><tr><td>Streams in the Desert</td><td>Streams in the Desert</td></tr><tr><td>Beauty and the Beast</td><td>Beauty and the Beast</td></tr><tr><td>As Sure as the Dawn (Mark of the Lion, #3)</td><td>As Sure as the Dawn (Mark of the Lion, #3)</td></tr><tr><td>I Want My Hat Back</td><td>I Want My Hat Back</td></tr><tr><td>Martin Eden</td><td>Martin Eden</td></tr><tr><td>The Truth Seeker (O'Malley #3)</td><td>The Truth Seeker (O'Malley #3)</td></tr><tr><td>The Brothers K</td><td>The Brothers K</td></tr><tr><td>Every Thing on It</td><td>Every Thing On It</td></tr><tr><td>The Lord God Made Them All</td><td>The Lord God Made Them All</td></tr><tr><td>The Martian</td><td>The Martian</td></tr><tr><td>My Utmost for His Highest</td><td>My Utmost for His Highest</td></tr><tr><td>The Giving Tree</td><td>The Giving Tree</td></tr><tr><td>The Power of a Praying Woman</td><td>The Power of a Praying Woman</td></tr><tr><td>The Return of the Prodigal Son: A Story of Homecoming</td><td>The Return of the Prodigal Son: A Story of Homecoming</td></tr><tr><td>Homicide: A Year on the Killing Streets</td><td>Homicide: A Year on the Killing Streets</td></tr><tr><td>Twilight and History</td><td>Twilight and History</td></tr><tr><td>The Sandman: The Dream Hunters</td><td>The Sandman: The Dream Hunters</td></tr><tr><td>Through Gates of Splendor</td><td>Through Gates of Splendor</td></tr><tr><td>Survivor In Death (In Death, #20)</td><td>Survivor in Death (In Death, #20)</td></tr><tr><td>The Looming Tower: Al-Qaeda and the Road to 9/11</td><td>The Looming Tower: Al-Qaeda and the Road to 9/11</td></tr><tr><td>The Beatles Anthology</td><td>The Beatles Anthology</td></tr><tr><td>Love You to Death: The Unofficial Companion to the Vampire Diaries</td><td>Love You to Death: The Unofficial Companion to The Vampire Diaries</td></tr><tr><td>The Wheel of Time: Boxed Set  (Wheel of Time, #1-8)</td><td>The Wheel of Time: Boxed Set  (Wheel of Time, #1-8)</td></tr><tr><td>The Miracle of Forgiveness</td><td>The Miracle of Forgiveness</td></tr><tr><td>And the Band Played On: Politics, People, and the AIDS Epidemic</td><td>And the Band Played On: Politics, People, and the AIDS Epidemic</td></tr><tr><td>The Improbable Adventures of Sherlock Holmes</td><td>The Improbable Adventures of Sherlock Holmes</td></tr><tr><td>The Pigeon Wants a Puppy!</td><td>The Pigeon Wants a Puppy!</td></tr><tr><td>Bumi Manusia</td><td>Bumi Manusia</td></tr><tr><td>A Gentleman in Moscow</td><td>A Gentleman in Moscow</td></tr><tr><td>Wicked Deeds on a Winter's Night (Immortals After Dark #4)</td><td>Wicked Deeds on a Winter's Night (Immortals After Dark #4)</td></tr><tr><td>Out of My Mind</td><td>Out of My Mind</td></tr><tr><td>Endurance: Shackleton's Incredible Voyage</td><td>Endurance: Shackleton's incredible voyage</td></tr><tr><td>A Monster Calls</td><td>A Monster Calls </td></tr><tr><td>Guess How Much I Love You</td><td>Guess How Much I Love You</td></tr><tr><td>Between Shades of Gray</td><td>Between Shades of Gray</td></tr><tr><td>The Book Thief</td><td>The Book Thief</td></tr><tr><td>The Godfather</td><td>The Godfather</td></tr><tr><td>How the Grinch Stole Christmas!</td><td>How the Grinch Stole Christmas!</td></tr><tr><td>Batman: The Killing Joke</td><td>Batman: The Killing Joke </td></tr><tr><td>Salt to the Sea</td><td>Salt to the Sea</td></tr><tr><td>Making Faces</td><td>Making Faces</td></tr><tr><td>Innocent in Death (In Death, #24)</td><td>Innocent in Death (In Death, #24)</td></tr><tr><td>The Power of the Dog</td><td>The Power of the Dog</td></tr><tr><td>A Work in Progress</td><td>A Work in Progress</td></tr><tr><td>Echo</td><td>Echo</td></tr><tr><td>Y: The Last Man - The Deluxe Edition Book One</td><td>Y: The Last Man - The Deluxe Edition Book One</td></tr><tr><td>On the Night You Were Born</td><td>On the Night You Were Born</td></tr><tr><td>The Mauritius Command</td><td>The Mauritius Command</td></tr><tr><td>The Holiness of God</td><td>The Holiness of God</td></tr><tr><td>Chasing the Prophecy (Beyonders, #3)</td><td>Chasing the Prophecy (Beyonders, #3)</td></tr><tr><td>Don't Let the Pigeon Stay Up Late!</td><td>Don't Let the Pigeon Stay Up Late!</td></tr><tr><td>The Pigeon Finds a Hot Dog!</td><td>The Pigeon Finds a Hot Dog!</td></tr><tr><td>The Lorax</td><td>The Lorax</td></tr><tr><td>Watchmen</td><td>Watchmen</td></tr><tr><td>East of Eden</td><td>East of Eden  </td></tr><tr><td>Cosmos</td><td>Cosmos</td></tr><tr><td>Lover Eternal (Black Dagger Brotherhood, #2)</td><td>Lover Eternal (Black Dagger Brotherhood, #2)</td></tr><tr><td>The Great Dune Trilogy  </td><td>The Great Dune Trilogy</td></tr><tr><td>The Story of Ferdinand</td><td>The Story of Ferdinand</td></tr><tr><td>The Miraculous Journey of Edward Tulane</td><td>The Miraculous Journey of Edward Tulane</td></tr><tr><td>Identical</td><td>Identical</td></tr><tr><td>Janet Evanovich Three and Four Two-Book Set (Stephanie Plum, #3-4)</td><td>Janet Evanovich Three and Four Two-Book Set (Stephanie Plum, #3-4)</td></tr><tr><td>Lone Survivor: The Eyewitness Account of Operation Redwing and the Lost Heroes of SEAL Team 10</td><td>Lone Survivor: The Eyewitness Account of Operation Redwing and the Lost Heroes of SEAL Team 10</td></tr><tr><td>A Light in the Attic</td><td>A Light in the Attic</td></tr><tr><td>A Thousand Splendid Suns</td><td>A Thousand Splendid Suns</td></tr><tr><td>The Stand</td><td>The Stand</td></tr><tr><td>Oh, The Places You'll Go!</td><td>Oh, the Places You'll Go!</td></tr><tr><td>Different Seasons</td><td>Different Seasons</td></tr><tr><td>A Fine Balance</td><td>A Fine Balance</td></tr><tr><td>Love You Forever</td><td>Love You Forever</td></tr><tr><td>Drums of Autumn (Outlander, #4)</td><td>Drums of Autumn (Outlander, #4)</td></tr><tr><td>The Sea of Tranquility</td><td>The Sea of Tranquility</td></tr><tr><td>The Sandman: Endless Nights</td><td>The Sandman: Endless Nights</td></tr><tr><td>The Last Seven Months of Anne Frank</td><td>The Last Seven Months of Anne Frank</td></tr><tr><td>The Wall of Winnipeg and Me</td><td>The Wall of Winnipeg and Me</td></tr><tr><td>Peace Is Every Step: The Path of Mindfulness in Everyday Life</td><td>Peace Is Every Step: The Path of Mindfulness in Everyday Life</td></tr><tr><td>India After Gandhi: The History of the World's Largest Democracy</td><td>India After Gandhi: The History of the World's Largest Democracy</td></tr><tr><td>The Book with No Pictures</td><td>The Book with No Pictures</td></tr><tr><td>The Walking Dead, Vol. 14: No Way Out</td><td>The Walking Dead, Vol. 14: No Way Out </td></tr><tr><td>Visions in Death (In Death, #19)</td><td>Visions in Death (In Death, #19)</td></tr><tr><td>Born in Death (In Death, #23)</td><td>Born in Death (In Death, #23)</td></tr><tr><td>All-Star Superman, Vol. 2</td><td>All-Star Superman, Vol. 2</td></tr><tr><td>Last Chance to See</td><td>Last Chance to See</td></tr><tr><td>Preacher, Volume 8: All Hell's a-Coming</td><td>Preacher, Volume 8: All Hell's a-Coming</td></tr><tr><td>Scott Pilgrim, Volume 5: Scott Pilgrim Vs. the Universe</td><td>Scott Pilgrim, Volume 5: Scott Pilgrim Vs. the Universe</td></tr><tr><td>The Heavenly Man: The Remarkable True Story of Chinese Christian Brother Yun</td><td>The Heavenly Man: The Remarkable True Story of Chinese Christian Brother Yun</td></tr><tr><td>Mastering the Art of French Cooking</td><td>Mastering the Art of French Cooking</td></tr><tr><td>SantaLand Diaries</td><td>SantaLand Diaries</td></tr><tr><td>The Emperor's Soul</td><td>The Emperor's Soul</td></tr><tr><td>The Real Mother Goose</td><td>The Real Mother Goose</td></tr><tr><td>The Arrival</td><td>The Arrival</td></tr><tr><td>Taken at Dusk (Shadow Falls, #3)</td><td>Taken at Dusk (Shadow Falls, #3)</td></tr><tr><td>Exodus</td><td>Exodus</td></tr><tr><td>Falling Up</td><td>Falling Up</td></tr><tr><td>Battlefield of the Mind: Winning the Battle in Your Mind</td><td>Battlefield of the Mind: Winning the Battle in Your Mind</td></tr><tr><td>Amazing Grace</td><td>Amazing Grace</td></tr><tr><td>The Dragonslayer (Bone, #4)</td><td>The Dragonslayer (Bone, #4)</td></tr><tr><td>Batman, Volume 3: Death of the Family</td><td>Batman, Volume 3: Death of the Family</td></tr><tr><td>Crush</td><td>Crush</td></tr><tr><td>Plenty</td><td>Plenty</td></tr><tr><td>Counterfeit Gods: The Empty Promises of Money, Sex, and Power, and the Only Hope that Matters</td><td>Counterfeit Gods: The Empty Promises of Money, Sex, and Power, and the Only Hope That Matters</td></tr><tr><td>The Auschwitz Escape</td><td>The Auschwitz Escape</td></tr><tr><td>If I Die (Soul Screamers, #5)</td><td>If I Die (Soul Screamers, #5)</td></tr><tr><td>Women's Bodies, Women's Wisdom: Creating Physical and Emotional Health and Healing</td><td>Women's Bodies, Women's Wisdom: Creating Physical and Emotional Health and Healing</td></tr><tr><td>The Everafter War (The Sisters Grimm, #7)</td><td>The Everafter War (The Sisters Grimm, #7)</td></tr><tr><td>The Battle for Skandia (Ranger's Apprentice, #4)</td><td>The Battle for Skandia (Ranger's Apprentice, #4)</td></tr><tr><td>When Breath Becomes Air</td><td>When Breath Becomes Air</td></tr><tr><td>The Memoirs of Sherlock Holmes</td><td>The Memoirs of Sherlock Holmes</td></tr><tr><td>The Boys in the Boat: Nine Americans and Their Epic Quest for Gold at the 1936 Berlin Olympics</td><td>The Boys in the Boat: Nine Americans and Their Epic Quest for Gold at the 1936 Berlin Olympics</td></tr><tr><td>Out of Breath (Breathing, #3)</td><td>Out of Breath (Breathing, #3)</td></tr><tr><td>The Realms of the Gods (Immortals, #4)</td><td>The Realms of the Gods (Immortals, #4)</td></tr><tr><td>The Practice of the Presence of God</td><td>The Practice of the Presence of God</td></tr><tr><td>Scott Pilgrim, Volume 4: Scott Pilgrim Gets It Together</td><td>Scott Pilgrim, Volume 4: Scott Pilgrim Gets It Together</td></tr><tr><td>The Paper Bag Princess</td><td>The Paper Bag Princess</td></tr><tr><td>Wild Magic (Immortals, #1)</td><td>Wild Magic (Immortals, #1)</td></tr><tr><td>The Magic Strings of Frankie Presto</td><td>The Magic Strings of Frankie Presto</td></tr><tr><td>The Making of the Atomic Bomb</td><td>The Making of the Atomic Bomb</td></tr><tr><td>Boy's Life</td><td>Boy's Life</td></tr><tr><td>الطنطورية</td><td>الطنطورية </td></tr><tr><td>Pale Blue Dot: A Vision of the Human Future in Space</td><td>Pale Blue Dot: A Vision of the Human Future in Space</td></tr><tr><td>God's Smuggler</td><td>God's Smuggler</td></tr><tr><td>Battle Cry of Freedom</td><td>Battle Cry of Freedom</td></tr><tr><td>The Darkest Lie (Lords of the Underworld #6)</td><td>The Darkest Lie (Lords of the Underworld #6)</td></tr><tr><td>The Black Dagger Brotherhood: An Insider's Guide</td><td>The Black Dagger Brotherhood: An Insider's Guide</td></tr><tr><td>Mufaro's Beautiful Daughters: An African Tale</td><td>Mufaro's Beautiful Daughters: An African Tale</td></tr><tr><td>Black Lies</td><td>Black Lies</td></tr><tr><td>The Secret Race: Inside the Hidden World of the Tour de France: Doping, Cover-ups, and Winning at All Costs</td><td>The Secret Race: Inside the Hidden World of the Tour de France: Doping, Cover-ups, and Winning at All Costs</td></tr><tr><td>The Missing Piece Meets the Big O </td><td>The Missing Piece Meets the Big O</td></tr><tr><td>Divided in Death (In Death, #18)</td><td>Divided in Death (In Death, #18)</td></tr><tr><td>A Higher Call: An Incredible True Story of Combat and Chivalry in the War-Torn Skies of World War II</td><td>A Higher Call: An Incredible True Story of Combat and Chivalry in the War-Torn Skies of World War II</td></tr><tr><td>عائد إلى حيفا</td><td>عائد إلى حيفا</td></tr><tr><td>The Love Song of J. Alfred Prufrock and Other Poems</td><td>The Love Song of J. Alfred Prufrock and Other Poems</td></tr><tr><td>The America's Test Kitchen Family Cookbook</td><td>The America's Test Kitchen Family Cookbook</td></tr><tr><td>The Way to Cook</td><td>The Way to Cook</td></tr><tr><td>Financial Peace Revisited</td><td>Financial Peace Revisited</td></tr><tr><td>The Autobiography of Martin Luther King, Jr.</td><td>The Autobiography of Martin Luther King, Jr.</td></tr><tr><td>Anne Frank : The Biography</td><td>Anne Frank : The Biography</td></tr><tr><td>The Longest Day</td><td>The Longest Day</td></tr><tr><td>Three Day Road</td><td>Three Day Road</td></tr><tr><td>Daytripper</td><td>Daytripper</td></tr><tr><td>The Endurance: Shackleton's Legendary Antarctic Expedition</td><td>The Endurance: Shackleton's legendary Antarctic expedition</td></tr><tr><td>Half the Sky: Turning Oppression into Opportunity for Women Worldwide</td><td>Half the Sky: Turning Oppression into Opportunity for Women Worldwide</td></tr><tr><td>Chrysanthemum</td><td>Chrysanthemum</td></tr><tr><td>The Power of a Praying Wife</td><td>The Power of a Praying Wife</td></tr><tr><td>The Warmth of Other Suns: The Epic Story of America's Great Migration</td><td>The Warmth of Other Suns: The Epic Story of America's Great Migration </td></tr><tr><td>Lilac Girls</td><td>Lilac Girls</td></tr><tr><td>Knowing God</td><td>Knowing God</td></tr><tr><td>The Little Mouse, the Red Ripe Strawberry, and the Big Hungry Bear</td><td>The Little Mouse, the Red Ripe Strawberry, and the Big Hungry Bear</td></tr><tr><td>Mere Christianity</td><td>Mere Christianity</td></tr><tr><td>On Writing: A Memoir of the Craft</td><td>On Writing: A Memoir of the Craft</td></tr><tr><td>Infinite Jest</td><td>Infinite Jest</td></tr><tr><td>The Sneetches and Other Stories</td><td>The Sneetches and Other Stories</td></tr><tr><td>The Pragmatic Programmer: From Journeyman to Master</td><td>The Pragmatic Programmer: From Journeyman to Master</td></tr><tr><td>Little Bear's Friend</td><td>Little Bear's Friend</td></tr><tr><td>The Places That Scare You: A Guide to Fearlessness in Difficult Times</td><td>The Places That Scare You: A Guide to Fearlessness in Difficult Times</td></tr><tr><td>Copper Sun</td><td>Copper Sun</td></tr><tr><td>Team of Rivals: The Political Genius of Abraham Lincoln</td><td>Team of Rivals: The Political Genius of Abraham Lincoln</td></tr><tr><td>Ugly Love</td><td>Ugly Love</td></tr><tr><td>Still Alice</td><td>Still Alice</td></tr><tr><td>Term Limits</td><td>Term Limits</td></tr><tr><td>The Raven and other poems</td><td>The Raven and Other Poems</td></tr><tr><td>Judas Unchained</td><td>Judas Unchained</td></tr><tr><td>Rudolph the Red-Nosed Reindeer</td><td>Rudolph the Red-Nosed Reindeer</td></tr><tr><td>The Return of Sherlock Holmes</td><td>The Return of Sherlock Holmes</td></tr><tr><td>Hinds' Feet on High Places</td><td>Hinds' Feet on High Places</td></tr><tr><td>Emperor Mage (Immortals, #3)</td><td>Emperor Mage (Immortals, #3)</td></tr><tr><td>The Source</td><td>The Source</td></tr><tr><td>Gödel, Escher, Bach: An Eternal Golden Braid</td><td>Gödel, Escher, Bach: An Eternal Golden Braid</td></tr><tr><td>The Power of Myth</td><td>The Power of Myth</td></tr><tr><td>Batman, Volume 1: The Court of Owls</td><td>Batman, Volume 1: The Court of Owls</td></tr><tr><td>A Child's Garden of Verses</td><td>A Child's Garden of Verses</td></tr><tr><td>We Wish to Inform You That Tomorrow We Will Be Killed with Our Families</td><td>We Wish to Inform You That Tomorrow We Will Be Killed with Our Families</td></tr><tr><td>Tatiana and Alexander (The Bronze Horseman, #2)</td><td>Tatiana and Alexander (The Bronze Horseman, #2)</td></tr><tr><td>Cathedral</td><td>Cathedral</td></tr><tr><td>The Sweet Gum Tree</td><td>The Sweet Gum Tree</td></tr><tr><td>Citizen: An American Lyric</td><td>Citizen: An American Lyric</td></tr><tr><td>Binge</td><td>Binge</td></tr><tr><td>The Complete Phantom of the Opera</td><td>The Complete Phantom of the Opera</td></tr><tr><td>The Walking Dead, Vol. 10: What We Become</td><td>The Walking Dead, Vol. 10: What We Become</td></tr><tr><td>Stalingrad: The Fateful Siege, 1942–1943</td><td>Stalingrad: The Fateful Siege, 1942–1943</td></tr><tr><td>Fallout (Crank, #3)</td><td>Fallout (Crank, #3)</td></tr><tr><td>Sisters</td><td>Sisters</td></tr><tr><td>A Return to Love: Reflections on the Principles of &quot;A Course in Miracles&quot;</td><td>A Return to Love: Reflections on the Principles of &quot;A Course in Miracles&quot;</td></tr><tr><td>We Were Soldiers Once... and Young: Ia Drang - The Battle that Changed the War in Vietnam</td><td>We Were Soldiers Once... and Young: Ia Drang - the Battle That Changed the War in Vietnam</td></tr><tr><td>A Woman After God's Own Heart</td><td>A Woman After God's Own Heart</td></tr><tr><td>First They Killed My Father: A Daughter of Cambodia Remembers</td><td>First They Killed My Father: A Daughter of Cambodia Remembers </td></tr><tr><td>Mistress of the Empire (The Empire Trilogy, #3)</td><td>Mistress of the Empire (The Empire Trilogy, #3)</td></tr><tr><td>Batman: The Black Mirror</td><td>Batman: The Black Mirror</td></tr><tr><td>ثلاثية غرناطة</td><td>ثلاثية غرناطة</td></tr><tr><td>The Road to the Dark Tower: Exploring Stephen King's Magnum Opus</td><td>The Road to the Dark Tower: Exploring Stephen King's Magnum Opus</td></tr><tr><td>Momo</td><td>Momo</td></tr><tr><td>The Total Money Makeover: A Proven Plan for Financial Fitness</td><td>The Total Money Makeover: A Proven Plan for Financial Fitness</td></tr><tr><td>A Pocket for Corduroy</td><td>A Pocket for Corduroy</td></tr><tr><td>Tiny Beautiful Things: Advice on Love and Life from Dear Sugar</td><td>Tiny Beautiful Things: Advice on Love and Life from Dear Sugar</td></tr><tr><td>When Things Fall Apart: Heart Advice for Difficult Times</td><td>When Things Fall Apart: Heart Advice for Difficult Times</td></tr><tr><td>Scott Pilgrim, Volume 3: Scott Pilgrim &amp; The Infinite Sadness</td><td>Scott Pilgrim, Volume 3: Scott Pilgrim &amp; The Infinite Sadness</td></tr><tr><td>The Little House</td><td>The Little House</td></tr><tr><td>11/22/63</td><td>11/22/63</td></tr><tr><td>Matilda</td><td>Matilda</td></tr><tr><td>Green Eggs and Ham</td><td>Green Eggs and Ham</td></tr><tr><td>The Adventures of Sherlock Holmes</td><td>The Adventures of Sherlock Holmes</td></tr><tr><td>The Velveteen Rabbit</td><td>The Velveteen Rabbit</td></tr><tr><td>The Polar Express</td><td>The Polar Express</td></tr><tr><td>The Autobiography of Malcolm X</td><td>The Autobiography of Malcolm X</td></tr><tr><td>The Emperor of All Maladies: A Biography of Cancer</td><td>The Emperor of All Maladies: A Biography of Cancer</td></tr><tr><td>Batman: The Long Halloween</td><td>Batman: The Long Halloween</td></tr><tr><td>A Thousand Boy Kisses</td><td>A Thousand Boy Kisses</td></tr><tr><td>Will You Please Be Quiet, Please?</td><td>Will You Please Be Quiet, Please?</td></tr><tr><td>Curious George Takes a Job</td><td>Curious George Takes a Job</td></tr><tr><td>The Book on the Taboo Against Knowing Who You Are</td><td>The Book on the Taboo Against Knowing Who You Are</td></tr><tr><td>Hairy Maclary from Donaldson's Dairy</td><td>Hairy Maclary from Donaldson's Dairy</td></tr><tr><td>The Great Divorce</td><td>The Great Divorce</td></tr><tr><td>Glass (Crank, #2)</td><td>Glass (Crank, #2)</td></tr><tr><td>The Raven</td><td>The Raven</td></tr><tr><td>Half of a Yellow Sun</td><td>Half of a Yellow Sun</td></tr><tr><td>Stoner</td><td>Stoner</td></tr><tr><td>Unravel Me (Shatter Me, #2)</td><td>Unravel Me (Shatter Me, #2)</td></tr><tr><td>City of Thieves</td><td>City of Thieves</td></tr><tr><td>Corduroy</td><td>Corduroy</td></tr><tr><td>Gone with the Wind</td><td>Gone with the Wind</td></tr><tr><td>Cutting for Stone</td><td>Cutting for Stone</td></tr><tr><td>This Side of the Grave (Night Huntress, #5)</td><td>This Side of the Grave (Night Huntress, #5)</td></tr><tr><td>Once We Were Brothers</td><td>Once We Were Brothers</td></tr><tr><td>Good Night, Mr. Tom</td><td>Good Night, Mr. Tom</td></tr><tr><td>Swan Song</td><td>Swan Song</td></tr><tr><td>Black Hawk Down</td><td>Black Hawk Down</td></tr><tr><td>The Pursuit of Holiness</td><td>The Pursuit of Holiness</td></tr><tr><td>Flotsam</td><td>Flotsam</td></tr><tr><td>Her Mother's Hope (Marta's Legacy, #1)</td><td>Her Mother's Hope (Marta's Legacy, #1)</td></tr><tr><td>Stone Soup</td><td>Stone Soup</td></tr><tr><td>The Lords of Discipline</td><td>The Lords of Discipline</td></tr><tr><td>The Snowman</td><td>The Snowman</td></tr><tr><td>Starlight (Warriors: The New Prophecy, #4)</td><td>Starlight (Warriors: The New Prophecy, #4)</td></tr><tr><td>Llama Llama Mad at Mama</td><td>Llama Llama Mad at Mama</td></tr><tr><td>Fish in a Tree</td><td>Fish In A Tree</td></tr><tr><td>Loving Mr. Daniels</td><td>Loving Mr. Daniels</td></tr><tr><td>Animalia</td><td>Animalia</td></tr><tr><td>The Cartel</td><td>The Cartel</td></tr><tr><td>Taken by Midnight (Midnight Breed, #8)</td><td>Taken by Midnight (Midnight Breed, #8)</td></tr><tr><td>Mastery</td><td>Mastery</td></tr><tr><td>Amelia Bedelia and the Surprise Shower</td><td>Amelia Bedelia and the Surprise Shower</td></tr><tr><td>Stone Butch Blues</td><td>Stone Butch Blues</td></tr><tr><td>Madeline and the Bad Hat</td><td>Madeline and the Bad Hat</td></tr><tr><td>The Lions of Al-Rassan</td><td>The Lions of Al-Rassan</td></tr><tr><td>Coming Home</td><td>Coming Home</td></tr><tr><td>The Stories of John Cheever</td><td>The Stories of John Cheever</td></tr><tr><td>The Hidden Messages in Water</td><td>The Hidden Messages in Water</td></tr><tr><td>Eragon &amp; Eldest (Inheritance, #1-2)</td><td>Eragon &amp; Eldest (Inheritance, #1-2)</td></tr><tr><td>Be Here Now</td><td>Be Here Now</td></tr><tr><td>Stories of Your Life and Others</td><td>Stories of Your Life and Others </td></tr><tr><td>Hark! A Vagrant</td><td>Hark! A Vagrant</td></tr><tr><td>The Missing Piece</td><td>The Missing Piece</td></tr><tr><td>Mila 18</td><td>Mila 18</td></tr><tr><td>Servant of the Empire (The Empire Trilogy, #2)</td><td>Servant of the Empire (The Empire Trilogy, #2)</td></tr><tr><td>The Demon-Haunted World: Science as a Candle in the Dark</td><td>The Demon-Haunted World: Science as a Candle in the Dark</td></tr><tr><td>Angle of Repose</td><td>Angle of Repose</td></tr><tr><td>The Song of Achilles</td><td>The Song of Achilles</td></tr><tr><td>The Napping House</td><td>The Napping House</td></tr><tr><td>Milk and Honey</td><td>milk and honey</td></tr><tr><td>We're Going on a Bear Hunt</td><td>We're Going on a Bear Hunt</td></tr><tr><td>Born to Run: A Hidden Tribe, Superathletes, and the Greatest Race the World Has Never Seen</td><td>Born to Run: A Hidden Tribe, Superathletes, and the Greatest Race the World Has Never Seen</td></tr><tr><td>A Little Life</td><td>A Little Life</td></tr><tr><td>Hawkeye, Volume 2: Little Hits</td><td>Hawkeye, Volume 2: Little Hits</td></tr><tr><td>Roller Girl</td><td>Roller Girl</td></tr><tr><td>Any Human Heart</td><td>Any Human Heart</td></tr><tr><td>13 Hours: The Inside Account of What Really Happened In Benghazi</td><td>13 Hours: The Inside Account of What Really Happened In Benghazi</td></tr><tr><td>The Field of Swords (Emperor, #3)</td><td>The Field of Swords (Emperor, #3)</td></tr><tr><td>The Lord of the Rings Sketchbook</td><td>The Lord of the Rings Sketchbook</td></tr><tr><td>Go the Fuck to Sleep</td><td>Go the Fuck to Sleep</td></tr><tr><td>The Big Short: Inside the Doomsday Machine</td><td>The Big Short: Inside the Doomsday Machine</td></tr><tr><td>Americanah</td><td>Americanah</td></tr><tr><td>Shantaram</td><td>Shantaram</td></tr><tr><td>Lamb: The Gospel According to Biff, Christ's Childhood Pal</td><td>Lamb: The Gospel According to Biff, Christ's Childhood Pal</td></tr><tr><td>The Storyteller</td><td>The Storyteller</td></tr><tr><td>Fried Green Tomatoes at the Whistle Stop Cafe</td><td>Fried Green Tomatoes at the Whistle Stop Cafe</td></tr><tr><td>The Fault in Our Stars</td><td>The Fault in Our Stars</td></tr><tr><td>The Kite Runner</td><td>The Kite Runner </td></tr><tr><td>A Grief Observed</td><td>A Grief Observed</td></tr><tr><td>Columbine</td><td>Columbine</td></tr><tr><td>Alexander Hamilton</td><td>Alexander Hamilton</td></tr><tr><td>The Charm School</td><td>The Charm School</td></tr><tr><td>Les Fleurs du Mal</td><td>Les Fleurs du mal</td></tr><tr><td>Simon vs. the Homo Sapiens Agenda</td><td>Simon vs. the Homo Sapiens Agenda</td></tr><tr><td>The Atonement Child</td><td>The Atonement Child</td></tr><tr><td>Barefoot Contessa Family Style: Easy Ideas and Recipes That Make Everyone Feel Like Family</td><td>Barefoot Contessa Family Style: Easy Ideas and Recipes That Make Everyone Feel Like Family</td></tr><tr><td>Unveiled: Tamar (Lineage of Grace #1)</td><td>Unveiled: Tamar (Lineage of Grace #1)</td></tr><tr><td>Addicted</td><td>Addicted</td></tr><tr><td>Bloodhound (Beka Cooper, #2)</td><td>Bloodhound (Beka Cooper, #2)</td></tr><tr><td>Very Good Lives: The Fringe Benefits of Failure and the Importance of Imagination</td><td>Very Good Lives: The Fringe Benefits of Failure and the Importance of Imagination</td></tr><tr><td>Essentials of Classic Italian Cooking</td><td>Essentials of Classic Italian Cooking</td></tr><tr><td>Batman, Volume 2: The City of Owls</td><td>Batman, Volume 2: The City of Owls</td></tr><tr><td>The Dot</td><td>The Dot</td></tr><tr><td>Far from the Tree: Parents, Children, and the Search for Identity</td><td>Far from the Tree: Parents, Children, and the Search for Identity</td></tr><tr><td>Come Back, Amelia Bedelia</td><td>Come Back, Amelia Bedelia</td></tr><tr><td>In Harm's Way: The Sinking of the U.S.S. Indianapolis and the Extraordinary Story of Its Survivors</td><td>In Harm's Way: The Sinking of the U.S.S. Indianapolis and the Extraordinary Story of Its Survivors</td></tr><tr><td>The Earthsea Trilogy</td><td>The Earthsea Trilogy</td></tr><tr><td>A Sick Day for Amos McGee</td><td>A Sick Day for Amos McGee</td></tr><tr><td>Foxe's Book of Martyrs</td><td>Foxe's Book of Martyrs</td></tr><tr><td>Saving Grace</td><td>Saving Grace</td></tr><tr><td>Barnyard Dance</td><td>Barnyard Dance</td></tr><tr><td>The Taste of Home Cookbook</td><td>The Taste of Home Cookbook</td></tr><tr><td>A Bargain for Frances</td><td>A Bargain for Frances</td></tr><tr><td>The Death of Kings (Emperor, #2)</td><td>The Death of Kings (Emperor, #2)</td></tr><tr><td>Phantoms in the Brain: Probing the Mysteries of the Human Mind</td><td>Phantoms in the Brain: Probing the Mysteries of the Human Mind</td></tr><tr><td>Owen</td><td>Owen</td></tr><tr><td>The Little Old Lady Who Was Not Afraid of Anything</td><td>The Little Old Lady Who Was Not Afraid of Anything</td></tr><tr><td>Bear Snores On</td><td>Bear Snores On</td></tr><tr><td>Skippyjon Jones</td><td>Skippyjon Jones</td></tr><tr><td>Nicholas and Alexandra</td><td>Nicholas and Alexandra</td></tr><tr><td>A Color of His Own</td><td>A Color of His Own</td></tr><tr><td>Seeds of Rebellion (Beyonders, #2)</td><td>Seeds of Rebellion (Beyonders, #2)</td></tr><tr><td>Trials of Death (Cirque Du Freak, #5)</td><td>Trials of Death (Cirque du Freak, #5) </td></tr><tr><td>One Grave at a Time (Night Huntress, #6)</td><td>One Grave at a Time (Night Huntress, #6)</td></tr><tr><td>The Evolutionary Void</td><td>The Evolutionary Void</td></tr><tr><td>Frosty the Snow Man</td><td>Frosty the Snow Man</td></tr><tr><td>Little Princes: One Man's Promise to Bring Home the Lost Children of Nepal</td><td>Little Princes: One Man's Promise to Bring Home the Lost Children of Nepal</td></tr><tr><td>The Hat</td><td>The Hat</td></tr><tr><td>Mystery Man (Dream Man, #1)</td><td>Mystery Man (Dream Man, #1)</td></tr><tr><td>Betty Crocker's Cookbook</td><td>Betty Crocker's Cookbook</td></tr><tr><td>The Rise of Theodore Roosevelt</td><td>The Rise of Theodore Roosevelt </td></tr><tr><td>The Collected Poems of W.B. Yeats</td><td>The Collected Poems of W.B. Yeats</td></tr><tr><td>Anne Frank: Beyond the Diary - A Photographic Remembrance</td><td>Anne Frank: Beyond the Diary - A Photographic Remembrance</td></tr><tr><td>The Call of Cthulhu and Other Weird Stories</td><td>The Call of Cthulhu and Other Weird Stories</td></tr><tr><td>Practicing the Power of Now: Essential Teachings, Meditations, and Exercises from the Power of Now</td><td>Practicing the Power of Now: Essential Teachings, Meditations, and Exercises from The Power of Now</td></tr><tr><td>To Kill a Mockingbird</td><td>To Kill a Mockingbird</td></tr><tr><td>The Princess Bride </td><td>The Princess Bride</td></tr><tr><td>Good Omens: The Nice and Accurate Prophecies of Agnes Nutter, Witch</td><td>Good Omens: The Nice and Accurate Prophecies of Agnes Nutter, Witch</td></tr><tr><td>The Last Lecture</td><td>The Last Lecture</td></tr><tr><td>V for Vendetta</td><td>V for Vendetta</td></tr><tr><td>The Day of the Jackal</td><td>The Day of the Jackal</td></tr><tr><td>Cryptonomicon</td><td>Cryptonomicon</td></tr><tr><td>Magician: Master (The Riftwar Saga, #2)</td><td>Magician: Master (The Riftwar Saga, #2)</td></tr><tr><td>There are No Children Here: The Story of Two Boys Growing Up in the Other America</td><td>There Are No Children Here: The Story of Two Boys Growing Up in the Other America</td></tr><tr><td>What the Bleep Do We Know!?: Discovering the Endless Possibilities for Altering Your Everyday Reality</td><td>What the Bleep Do We Know!?: Discovering the Endless Possibilities for Altering Your Everyday Reality</td></tr><tr><td>Curious George Visits the Library</td><td>Curious George Visits the Library</td></tr><tr><td>How I Raised Myself from Failure to Success in Selling</td><td>How I Raised Myself from Failure to Success in Selling</td></tr><tr><td>Justice: What's the Right Thing to Do?</td><td>Justice: What's the Right Thing to Do?</td></tr><tr><td>Beyond Band of Brothers: The War Memoirs of Major Dick Winters</td><td>Beyond Band of Brothers: The War Memoirs of Major Dick Winters</td></tr><tr><td>The River Why</td><td>The River Why</td></tr><tr><td>Dispatches</td><td>Dispatches</td></tr><tr><td>Each Peach Pear Plum</td><td>Each Peach Pear Plum</td></tr><tr><td>Money, and the Law of Attraction: Learning to Attract Wealth, Health, and Happiness</td><td>Money, and the Law of Attraction: Learning to Attract Wealth, Health, and Happiness</td></tr><tr><td>A Bad Case of Stripes</td><td>A Bad Case of Stripes</td></tr><tr><td>Scott Pilgrim, Volume 2: Scott Pilgrim vs. The World</td><td>Scott Pilgrim, Volume 2: Scott Pilgrim vs. The World</td></tr><tr><td>Jitterbug Perfume</td><td>Jitterbug Perfume</td></tr><tr><td>Moneyball: The Art of Winning an Unfair Game</td><td>Moneyball: The Art of Winning an Unfair Game</td></tr><tr><td>The One and Only Ivan</td><td>The One and Only Ivan</td></tr><tr><td>Harold and the Purple Crayon</td><td>Harold and the Purple Crayon</td></tr><tr><td>If You Give a Mouse a Cookie</td><td>If You Give a Mouse a Cookie</td></tr><tr><td>A Tree Grows in Brooklyn</td><td>A Tree Grows In Brooklyn </td></tr><tr><td>The Glass Castle</td><td>The Glass Castle</td></tr><tr><td>Pride and Prejudice</td><td>Pride and Prejudice</td></tr><tr><td>Kingdom Come</td><td>Kingdom Come</td></tr><tr><td>Pandora's Star</td><td>Pandora's Star</td></tr><tr><td>Creativity, Inc.: Overcoming the Unseen Forces That Stand in the Way of True Inspiration</td><td>Creativity, Inc.: Overcoming the Unseen Forces That Stand in the Way of True Inspiration</td></tr><tr><td>Once Burned (Night Prince, #1)</td><td>Once Burned (Night Prince, #1)</td></tr><tr><td>The Temporal Void</td><td>The Temporal Void</td></tr><tr><td>Just Me in the Tub (Mercer Mayer's Little Critter)</td><td>Just Me in the Tub (Mercer Mayer's Little Critter)</td></tr><tr><td>The Hating Game</td><td>The Hating Game</td></tr><tr><td>All My Friends Are Dead</td><td>All My Friends Are Dead</td></tr><tr><td>Sometimes a Great Notion</td><td>Sometimes a Great Notion</td></tr><tr><td>Driving Miss Daisy</td><td>Driving Miss Daisy</td></tr><tr><td>Where the Mountain Meets the Moon</td><td>Where the Mountain Meets the Moon</td></tr><tr><td>Madeline's Rescue</td><td>Madeline's Rescue</td></tr><tr><td>The Hero With a Thousand Faces</td><td>The Hero with a Thousand Faces</td></tr><tr><td>Smiley's People</td><td>Smiley's People</td></tr><tr><td>The Souls of Black Folk</td><td>The Souls of Black Folk</td></tr><tr><td>A Leaf on the Wind of All Hallows (Outlander, #8.5)</td><td>A Leaf on the Wind of All Hallows (Outlander, #8.5)</td></tr><tr><td>The Orenda</td><td>The Orenda</td></tr><tr><td>Sailing Alone Around the Room: New and Selected Poems</td><td>Sailing Alone Around the Room: New and Selected Poems</td></tr><tr><td>Glory over Everything: Beyond The Kitchen House</td><td>Glory over Everything: Beyond The Kitchen House</td></tr><tr><td>Curious George Rides a Bike</td><td>Curious George Rides a Bike</td></tr><tr><td>Dom Casmurro</td><td>Dom Casmurro</td></tr><tr><td>Change Your Thoughts - Change Your Life: Living the Wisdom of the Tao</td><td>Change Your Thoughts - Change Your Life: Living the Wisdom of the Tao</td></tr><tr><td>A Bridge Too Far</td><td>A Bridge Too Far</td></tr><tr><td>Snowmen at Night</td><td>Snowmen at Night</td></tr><tr><td>Memórias Póstumas de Brás Cubas</td><td>Memórias Póstumas de Brás Cubas</td></tr><tr><td>This is Not My Hat</td><td>This is Not My Hat</td></tr><tr><td>Systematic Theology: An Introduction to Biblical Doctrine</td><td>Systematic Theology: An Introduction to Biblical Doctrine</td></tr><tr><td>QED: The Strange Theory of Light and Matter</td><td>QED: The Strange Theory of Light and Matter</td></tr><tr><td>A Knight in Shining Armor</td><td>A Knight in Shining Armor</td></tr><tr><td>Barefoot Contessa Back to Basics</td><td>Barefoot Contessa Back to Basics</td></tr><tr><td>The Vampire Prince (Cirque Du Freak, #6)</td><td>The Vampire Prince (Cirque Du Freak, #6)</td></tr><tr><td>Orthodoxy</td><td>Orthodoxy</td></tr><tr><td>The Blue Castle </td><td>The Blue Castle</td></tr><tr><td>The Caine Mutiny</td><td>The Caine Mutiny</td></tr><tr><td>The Jordan Rules</td><td>The Jordan Rules</td></tr><tr><td>On Writing Well: The Classic Guide to Writing Nonfiction</td><td>On Writing Well: The Classic Guide to Writing Nonfiction</td></tr><tr><td>Savage Inequalities: Children in America's Schools</td><td>Savage Inequalities: Children in America's Schools</td></tr><tr><td>The Ragamuffin Gospel: Good News for the Bedraggled, Beat-Up, and Burnt Out</td><td>The Ragamuffin Gospel: Good News for the Bedraggled, Beat-Up, and Burnt Out</td></tr><tr><td>Complications: A Surgeon's Notes on an Imperfect Science</td><td>Complications: A Surgeon's Notes on an Imperfect Science</td></tr><tr><td>The Right Stuff</td><td>The Right Stuff</td></tr><tr><td>Ariel</td><td>Ariel</td></tr><tr><td>The Complete Adventures of Curious George</td><td>The Complete Adventures of Curious George</td></tr><tr><td>Papillon</td><td>Papillon </td></tr><tr><td>Bonhoeffer: Pastor, Martyr, Prophet, Spy</td><td>Bonhoeffer: Pastor, Martyr, Prophet, Spy</td></tr><tr><td>The Waste Land and Other Poems</td><td>The Waste Land and Other Poems</td></tr><tr><td>Twilight: The Complete Illustrated Movie Companion</td><td>Twilight: The Complete Illustrated Movie Companion</td></tr><tr><td>The Five Love Languages: How to Express Heartfelt Commitment to Your Mate</td><td>The Five Love Languages: How to Express Heartfelt Commitment to Your Mate</td></tr><tr><td>The Invention of Wings</td><td>The Invention of Wings</td></tr><tr><td>Batman: Year One</td><td>Batman: Year One</td></tr><tr><td>The Invention of Hugo Cabret</td><td>The Invention of Hugo Cabret</td></tr><tr><td>Wild Swans: Three Daughters of China</td><td>Wild Swans: Three Daughters of China</td></tr><tr><td>Click, Clack, Moo: Cows That Type</td><td>Click, Clack, Moo: Cows That Type</td></tr><tr><td>If You Give a Pig a Pancake </td><td>If You Give a Pig a Pancake </td></tr><tr><td>The Tiger Who Came to Tea</td><td>The Tiger Who Came to Tea</td></tr><tr><td>When Crickets Cry</td><td>When Crickets Cry</td></tr><tr><td>Random Family: Love, Drugs, Trouble, and Coming of Age in the Bronx</td><td>Random Family: Love, Drugs, Trouble, and Coming of Age in the Bronx</td></tr><tr><td>The Walking Dead, Vol. 13: Too Far Gone</td><td>The Walking Dead, Vol. 13: Too Far Gone</td></tr><tr><td>Wild Seed (Patternmaster, #1)</td><td>Wild Seed (Patternmaster, #1)</td></tr><tr><td>Selected Poems</td><td>Selected Poems</td></tr><tr><td>Cinderella</td><td>Cinderella</td></tr><tr><td>Do No Harm: Stories of Life, Death and Brain Surgery</td><td>Do No Harm: Stories of Life, Death and Brain Surgery</td></tr><tr><td>Wait for It</td><td>Wait for It</td></tr><tr><td>Bird by Bird: Some Instructions on Writing and Life</td><td>Bird by Bird: Some Instructions on Writing and Life</td></tr><tr><td>Strega Nona</td><td>Strega Nona</td></tr><tr><td>Stellaluna</td><td>Stellaluna</td></tr><tr><td>The Phantom Tollbooth</td><td>The Phantom Tollbooth</td></tr><tr><td>The Prince of Tides</td><td>The Prince of Tides</td></tr><tr><td>The Prophet</td><td>The Prophet</td></tr><tr><td>The BFG</td><td>The BFG</td></tr><tr><td>Alexander and the Terrible, Horrible, No Good, Very Bad Day</td><td>Alexander and the Terrible, Horrible, No Good, Very Bad Day</td></tr><tr><td>The Thorn Birds</td><td>The Thorn Birds</td></tr><tr><td>A Prayer for Owen Meany</td><td>A Prayer for Owen Meany</td></tr><tr><td>Where the Wild Things Are</td><td>Where the Wild Things Are</td></tr><tr><td>Little Bear</td><td>Little Bear</td></tr><tr><td>Autobiography of a Yogi</td><td>Autobiography of a Yogi</td></tr><tr><td>Desert Solitaire</td><td>Desert Solitaire</td></tr><tr><td>The Tell-Tale Heart</td><td>The Tell-Tale Heart</td></tr><tr><td>Curious George Goes to the Hospital</td><td>Curious George Goes to the Hospital</td></tr><tr><td>The Shock Doctrine: The Rise of Disaster Capitalism</td><td>The Shock Doctrine: The Rise of Disaster Capitalism</td></tr><tr><td>Love Comes Softly (Love Comes Softly, #1)</td><td>Love Comes Softly (Love Comes Softly, #1)</td></tr><tr><td>Hand, Hand, Fingers, Thumb</td><td>Hand, Hand, Fingers, Thumb</td></tr><tr><td>The Unlikely Spy</td><td>The Unlikely Spy</td></tr><tr><td>Dragon Slippers (Dragon Slippers, #1)</td><td>Dragon Slippers (Dragon Slippers, #1)</td></tr><tr><td>Lord of the Shadows (Cirque Du Freak, #11)</td><td>Lord of the Shadows (Cirque Du Freak, #11)</td></tr><tr><td>War</td><td>WAR</td></tr><tr><td>David Gets In Trouble</td><td>David Gets in Trouble</td></tr><tr><td>Honor's Splendour</td><td>Honor's Splendour</td></tr><tr><td>A Mango-Shaped Space</td><td>A Mango-Shaped Space</td></tr><tr><td>The Prize</td><td>The Prize</td></tr><tr><td>Killers of the Dawn (Cirque Du Freak, #9)</td><td>Killers of the Dawn (Cirque Du Freak, #9)</td></tr><tr><td>The Going-To-Bed Book</td><td>The Going-To-Bed Book</td></tr><tr><td>The Recruit (Cherub, #1)</td><td>The Recruit (Cherub, #1)</td></tr><tr><td>Fermat's Enigma: The Epic Quest to Solve the World's Greatest Mathematical Problem</td><td>Fermat's Enigma: The Epic Quest to Solve the World's Greatest Mathematical Problem</td></tr><tr><td>The Tibetan Book of Living and Dying</td><td>The Tibetan Book of Living and Dying</td></tr><tr><td>The Crossover</td><td>The Crossover</td></tr><tr><td>Just Go to Bed</td><td>Just Go to Bed</td></tr><tr><td>Barbarians at the Gate: The Fall of RJR Nabisco</td><td>Barbarians at the Gate: The Fall of RJR Nabisco</td></tr><tr><td>Marching Powder: A True Story of Friendship, Cocaine, and South America's Strangest Jail</td><td>Marching Powder: A True Story of Friendship, Cocaine, and South America's Strangest Jail</td></tr><tr><td>Wemberly Worried</td><td>Wemberly Worried</td></tr><tr><td>Stephen King's N.</td><td>Stephen King's N.</td></tr><tr><td>The Gift of Therapy: An Open Letter to a New Generation of Therapists and Their Patients</td><td>The Gift of Therapy: An Open Letter to a New Generation of Therapists and Their Patients</td></tr><tr><td>Where Is God When It Hurts?</td><td>Where Is God When It Hurts?</td></tr><tr><td>A Different Blue</td><td>A Different Blue</td></tr><tr><td>Punk 57</td><td>Punk 57</td></tr><tr><td>Manufacturing Consent: The Political Economy of the Mass Media</td><td>Manufacturing Consent: The Political Economy of the Mass Media</td></tr><tr><td>CivilWarLand in Bad Decline</td><td>CivilWarLand in Bad Decline</td></tr><tr><td>America's First Daughter</td><td>America's First Daughter</td></tr><tr><td>The Lions of Little Rock</td><td>The Lions of Little Rock</td></tr><tr><td>Rome (Marked Men, #3)</td><td>Rome (Marked Men, #3)</td></tr><tr><td>Follow the River</td><td>Follow the River</td></tr><tr><td>The Little Red Caboose (Little Golden Book)</td><td>The Little Red Caboose (Little Golden Book)</td></tr><tr><td>A Fish Out of Water</td><td>A Fish Out of Water</td></tr><tr><td>The Mixed-Up Chameleon</td><td>The Mixed-Up Chameleon</td></tr><tr><td>استمتع بحياتك</td><td>استمتع بحياتك</td></tr><tr><td>Go Away, Big Green Monster!</td><td>Go Away, Big Green Monster!</td></tr><tr><td>Run Baby Run</td><td>Run Baby Run</td></tr><tr><td>Disappearing Acts</td><td>Disappearing Acts</td></tr><tr><td>Envy (Fallen Angels, #3)</td><td>Envy (Fallen Angels, #3)</td></tr><tr><td>The Five Love Languages of Children</td><td>The Five Love Languages of Children</td></tr><tr><td>Gifted Hands: The Ben Carson Story</td><td>Gifted Hands: The Ben Carson Story</td></tr><tr><td>Unlimited Power : The New Science Of Personal Achievement</td><td>Unlimited Power : The New Science Of Personal Achievement</td></tr><tr><td>Kiss an Angel</td><td>Kiss an Angel </td></tr><tr><td>I'm Just Here for the Food: Food + Heat = Cooking</td><td>I'm Just Here for the Food: Food + Heat = Cooking</td></tr><tr><td>The Heretic Queen</td><td>The Heretic Queen</td></tr><tr><td>Marvels</td><td>Marvels</td></tr><tr><td>The Barefoot Contessa Cookbook</td><td>The Barefoot Contessa Cookbook</td></tr><tr><td>Panda Bear, Panda Bear, What Do You See?</td><td>Panda Bear, Panda Bear, What Do You See?</td></tr><tr><td>Wolf-Speaker (Immortals, #2)</td><td>Wolf-Speaker (Immortals, #2)</td></tr><tr><td>Calling Me Home</td><td>Calling Me Home</td></tr><tr><td>The Miracle Worker</td><td>The Miracle Worker</td></tr><tr><td>The End of Eternity</td><td>The End of Eternity</td></tr><tr><td>Giovanni's Room</td><td>Giovanni's Room</td></tr><tr><td>Centennial</td><td>Centennial</td></tr><tr><td>What's So Amazing About Grace?</td><td>What's So Amazing About Grace?</td></tr><tr><td>Dead Poets Society</td><td>Dead Poets Society </td></tr><tr><td>Bury My Heart at Wounded Knee: An Indian History of the American West</td><td>Bury My Heart at Wounded Knee: An Indian History of the American West</td></tr><tr><td>The Wishing Spell (The Land of Stories, #1)</td><td>The Wishing Spell (The Land of Stories, #1)</td></tr><tr><td>Tikki Tikki Tembo</td><td>Tikki Tikki Tembo</td></tr><tr><td>The Perks of Being a Wallflower</td><td>The Perks of Being a Wallflower</td></tr><tr><td>The Complete Poems of Emily Dickinson</td><td>The Complete Poems of Emily Dickinson</td></tr><tr><td>Make Way for Ducklings</td><td>Make Way for Ducklings</td></tr><tr><td>Chicka Chicka Boom Boom</td><td>Chicka Chicka Boom Boom</td></tr><tr><td>Mother Night</td><td>Mother Night</td></tr><tr><td>Same Kind of Different as Me</td><td>Same Kind of Different as Me</td></tr><tr><td>Mountains Beyond Mountains: The Quest of Dr. Paul Farmer, A Man Who Would Cure the World</td><td>Mountains Beyond Mountains: The Quest of Dr. Paul Farmer, a Man Who Would Cure the World</td></tr><tr><td>Planetary, Volume 1: All Over the World and Other Stories</td><td>Planetary, Volume 1: All Over the World and Other Stories</td></tr><tr><td>Friends and Lovers</td><td>Friends and Lovers</td></tr><tr><td>المانيفستو</td><td>المانيفستو</td></tr><tr><td>The Case of Charles Dexter Ward</td><td>The Case of Charles Dexter Ward</td></tr><tr><td>Zami: A New Spelling of My Name</td><td>Zami: A New Spelling of My Name</td></tr><tr><td>Hafalan Shalat Delisa</td><td>Hafalan Shalat Delisa</td></tr><tr><td>August: Osage County</td><td>August: Osage County</td></tr><tr><td>The Case-Book of Sherlock Holmes</td><td>The Case-Book of Sherlock Holmes</td></tr><tr><td>Palestine</td><td>Palestine</td></tr><tr><td>If You Give a Cat a Cupcake</td><td>If You Give a Cat a Cupcake</td></tr><tr><td>Infidel</td><td>Infidel</td></tr><tr><td>The Stinky Cheese Man and Other Fairly Stupid Tales</td><td>The Stinky Cheese Man and Other Fairly Stupid Tales</td></tr><tr><td>Fight Club</td><td>Fight Club</td></tr><tr><td>Big Little Lies</td><td>Big Little Lies</td></tr><tr><td>Rebecca</td><td>Rebecca</td></tr><tr><td>A Little Princess</td><td>A Little Princess</td></tr><tr><td>The Cross and the Switchblade</td><td>The Cross and the Switchblade</td></tr><tr><td>Touching the Void: The True Story of One Man's Miraculous Survival</td><td>Touching the Void: The True Story of One Man's Miraculous Survival</td></tr><tr><td>There Was an Old Lady Who Swallowed a Fly</td><td>There Was an Old Lady Who Swallowed a Fly</td></tr><tr><td>The Reason for God: Belief in an Age of Skepticism</td><td>The Reason for God: Belief in an Age of Skepticism</td></tr><tr><td>Nimona</td><td>Nimona</td></tr><tr><td>Mike Mulligan and His Steam Shovel</td><td>Mike Mulligan and His Steam Shovel</td></tr><tr><td>The Lost Wife</td><td>The Lost Wife</td></tr><tr><td>A House in the Sky</td><td>A House in the Sky</td></tr><tr><td>Good Night, Gorilla</td><td>Good Night, Gorilla</td></tr><tr><td>Christy</td><td>Christy</td></tr><tr><td>Owl Moon</td><td>Owl Moon</td></tr><tr><td>The Collected Poems</td><td>The Collected Poems</td></tr><tr><td>The Far Pavilions</td><td>The Far Pavilions</td></tr><tr><td>Eragon, Eldest &amp; Brisingr (Inheritance, #1-3)</td><td>Eragon, Eldest &amp; Brisingr (Inheritance, #1-3)</td></tr><tr><td>The Bane Chronicles</td><td>The Bane Chronicles</td></tr><tr><td>A Chair for My Mother</td><td>A Chair for My Mother </td></tr><tr><td>Small Sacrifices: A True Story of Passion and Murder</td><td>Small Sacrifices: A True Story of Passion and Murder</td></tr><tr><td>The Robe</td><td>The Robe</td></tr><tr><td>ABNKKBSNPLAKo?! (Mga Kwentong Chalk ni Bob Ong)</td><td>ABNKKBSNPLAKo?! (Mga Kwentong Chalk ni Bob Ong)</td></tr><tr><td>Eloise </td><td>Eloise</td></tr><tr><td>The Brain That Changes Itself: Stories of Personal Triumph from the Frontiers of Brain Science</td><td>The Brain That Changes Itself: Stories of Personal Triumph from the Frontiers of Brain Science</td></tr><tr><td>Bread and Jam for Frances</td><td>Bread and Jam for Frances</td></tr><tr><td>Romancing Mister Bridgerton (Bridgertons, #4)</td><td>Romancing Mister Bridgerton (Bridgertons, #4)</td></tr><tr><td>2666</td><td>2666</td></tr><tr><td>The Hard Thing About Hard Things: Building a Business When There Are No Easy Answers</td><td>The Hard Thing about Hard Things: Building A Business When There Are No Easy Answers</td></tr><tr><td>No Ordinary Time: Franklin and Eleanor Roosevelt: The Home Front in World War II</td><td>No Ordinary Time: Franklin and Eleanor Roosevelt: The Home Front in World War II</td></tr><tr><td>Lilly's Purple Plastic Purse</td><td>Lilly's Purple Plastic Purse</td></tr><tr><td>The Little Red Hen (Little Golden Book)</td><td>The Little Red Hen (Little Golden Book)</td></tr><tr><td>Every Last Word</td><td>Every Last Word</td></tr><tr><td>Malcolm X: A Life of Reinvention</td><td>Malcolm X: A Life of Reinvention</td></tr><tr><td>The Relatives Came</td><td>The Relatives Came</td></tr><tr><td>Tilt</td><td>Tilt</td></tr><tr><td>The Cake Bible</td><td>The Cake Bible</td></tr><tr><td>Amadeus</td><td>Amadeus</td></tr><tr><td>Collected Poems</td><td>Collected Poems</td></tr><tr><td>Malgudi Days</td><td>Malgudi Days</td></tr><tr><td>Jaya: An Illustrated Retelling of the Mahabharata</td><td>Jaya: An Illustrated Retelling of the Mahabharata</td></tr><tr><td>Our Band Could Be Your Life: Scenes from the American Indie Underground 1981-1991</td><td>Our Band Could Be Your Life: Scenes from the American Indie Underground 1981-1991</td></tr><tr><td>Oscar et la dame rose</td><td>Oscar et la dame rose</td></tr></table>"
                    },
                    "metadata": {}
                }
            ],
            "execution_count": 6
        },
        {
            "cell_type": "markdown",
            "source": [
                "## QUESTION 4:  Thisbe\n",
                "\n",
                "Thisbe is planning to make a long-term display of popular books that she will update monthly, reflecting different time periods.  She wants to make it reader-centric by including titles that readers have averagely rated higher than the book's actual average rating. \n",
                "\n",
                "**Part A:**   Write a query that compares the publication time with average reader ratings.\n",
                "\n",
                "**Part B:**  She wants the list ordered by year, then the book title"
            ],
            "metadata": {
                "azdata_cell_guid": "c3cb4fa8-802c-4130-8740-2adf20ec6a15"
            },
            "attachments": {}
        },
        {
            "cell_type": "code",
            "source": [
                "-- Code here:\r\n",
                "SELECT title,average_rating,original_publication_year FROM BooksDB.dbo.books as b\r\n",
                "where average_rating < (select Avg(rating) from BooksDB.dbo.ratings where book_id = b.book_id)\r\n",
                "order BY b.original_publication_year,b.title\r\n",
                ""
            ],
            "metadata": {
                "azdata_cell_guid": "164e0a22-349f-45ed-afe8-0753d5a8c6fc",
                "tags": [],
                "language": "sql"
            },
            "outputs": [
                {
                    "output_type": "display_data",
                    "data": {
                        "text/html": "(178 rows affected)"
                    },
                    "metadata": {}
                },
                {
                    "output_type": "display_data",
                    "data": {
                        "text/html": "Total execution time: 00:00:00.287"
                    },
                    "metadata": {}
                },
                {
                    "output_type": "execute_result",
                    "metadata": {},
                    "execution_count": 6,
                    "data": {
                        "application/vnd.dataresource+json": {
                            "schema": {
                                "fields": [
                                    {
                                        "name": "title"
                                    },
                                    {
                                        "name": "average_rating"
                                    },
                                    {
                                        "name": "original_publication_year"
                                    }
                                ]
                            },
                            "data": [
                                {
                                    "title": "The Iliad",
                                    "average_rating": "3.83",
                                    "original_publication_year": "-750"
                                },
                                {
                                    "title": "The Oresteia  (Ορέστεια, #1-3)",
                                    "average_rating": "3.99",
                                    "original_publication_year": "-458"
                                },
                                {
                                    "title": "Antigone (The Theban Plays, #3)",
                                    "average_rating": "3.6",
                                    "original_publication_year": "-441"
                                },
                                {
                                    "title": "Oedipus Rex  (The Theban Plays, #1)",
                                    "average_rating": "3.67",
                                    "original_publication_year": "-430"
                                },
                                {
                                    "title": "Lysistrata",
                                    "average_rating": "3.84",
                                    "original_publication_year": "-411"
                                },
                                {
                                    "title": "The Canterbury Tales",
                                    "average_rating": "3.48",
                                    "original_publication_year": "1390"
                                },
                                {
                                    "title": "Don Quixote",
                                    "average_rating": "3.85",
                                    "original_publication_year": "1605"
                                },
                                {
                                    "title": "Macbeth",
                                    "average_rating": "3.88",
                                    "original_publication_year": "1606"
                                },
                                {
                                    "title": "Gulliver's Travels",
                                    "average_rating": "3.55",
                                    "original_publication_year": "1726"
                                },
                                {
                                    "title": "Wuthering Heights",
                                    "average_rating": "3.82",
                                    "original_publication_year": "1847"
                                },
                                {
                                    "title": "La Dame aux Camélias",
                                    "average_rating": "3.97",
                                    "original_publication_year": "1848"
                                },
                                {
                                    "title": "Hard Times",
                                    "average_rating": "3.5",
                                    "original_publication_year": "1854"
                                },
                                {
                                    "title": "Madame Bovary",
                                    "average_rating": "3.64",
                                    "original_publication_year": "1856"
                                },
                                {
                                    "title": "Great Expectations",
                                    "average_rating": "3.75",
                                    "original_publication_year": "1860"
                                },
                                {
                                    "title": "Heidi",
                                    "average_rating": "3.97",
                                    "original_publication_year": "1880"
                                },
                                {
                                    "title": "Treasure Island",
                                    "average_rating": "3.82",
                                    "original_publication_year": "1882"
                                },
                                {
                                    "title": "The Adventures of Huckleberry Finn",
                                    "average_rating": "3.8",
                                    "original_publication_year": "1884"
                                },
                                {
                                    "title": "Three Men in a Boat (Three Men, #1)",
                                    "average_rating": "3.9",
                                    "original_publication_year": "1889"
                                },
                                {
                                    "title": "The Time Machine",
                                    "average_rating": "3.87",
                                    "original_publication_year": "1895"
                                },
                                {
                                    "title": "The War of the Worlds",
                                    "average_rating": "3.8",
                                    "original_publication_year": "1897"
                                },
                                {
                                    "title": "The Wind in the Willows",
                                    "average_rating": "3.98",
                                    "original_publication_year": "1908"
                                },
                                {
                                    "title": "Pygmalion",
                                    "average_rating": "3.9",
                                    "original_publication_year": "1912"
                                },
                                {
                                    "title": "The Broken Wings",
                                    "average_rating": "3.93",
                                    "original_publication_year": "1912"
                                },
                                {
                                    "title": "Women in Love (Brangwen Family, #2)",
                                    "average_rating": "3.66",
                                    "original_publication_year": "1920"
                                },
                                {
                                    "title": "The Beautiful and Damned",
                                    "average_rating": "3.75",
                                    "original_publication_year": "1922"
                                },
                                {
                                    "title": "Brave New World",
                                    "average_rating": "3.97",
                                    "original_publication_year": "1932"
                                },
                                {
                                    "title": "Lost Horizon",
                                    "average_rating": "3.9",
                                    "original_publication_year": "1933"
                                },
                                {
                                    "title": "The Red Pony",
                                    "average_rating": "3.42",
                                    "original_publication_year": "1933"
                                },
                                {
                                    "title": "Burmese Days",
                                    "average_rating": "3.84",
                                    "original_publication_year": "1934"
                                },
                                {
                                    "title": "Of Mice and Men",
                                    "average_rating": "3.84",
                                    "original_publication_year": "1937"
                                },
                                {
                                    "title": "Tropic of Capricorn",
                                    "average_rating": "3.85",
                                    "original_publication_year": "1938"
                                },
                                {
                                    "title": "The Power and the Glory",
                                    "average_rating": "3.99",
                                    "original_publication_year": "1940"
                                },
                                {
                                    "title": "Animal Farm",
                                    "average_rating": "3.87",
                                    "original_publication_year": "1945"
                                },
                                {
                                    "title": "The Heart of the Matter",
                                    "average_rating": "3.98",
                                    "original_publication_year": "1948"
                                },
                                {
                                    "title": "Player Piano",
                                    "average_rating": "3.85",
                                    "original_publication_year": "1952"
                                },
                                {
                                    "title": "Fahrenheit 451",
                                    "average_rating": "3.97",
                                    "original_publication_year": "1953"
                                },
                                {
                                    "title": "The First Four Years  (Little House, #9)",
                                    "average_rating": "3.88",
                                    "original_publication_year": "1953"
                                },
                                {
                                    "title": "The Quiet American",
                                    "average_rating": "3.96",
                                    "original_publication_year": "1955"
                                },
                                {
                                    "title": "Atlas Shrugged",
                                    "average_rating": "3.68",
                                    "original_publication_year": "1957"
                                },
                                {
                                    "title": "Brave New World Revisited ",
                                    "average_rating": "3.93",
                                    "original_publication_year": "1958"
                                },
                                {
                                    "title": "Goldfinger (James Bond, #7)",
                                    "average_rating": "3.8",
                                    "original_publication_year": "1959"
                                },
                                {
                                    "title": "A House for Mr Biswas",
                                    "average_rating": "3.82",
                                    "original_publication_year": "1961"
                                },
                                {
                                    "title": "Franny and Zooey",
                                    "average_rating": "3.98",
                                    "original_publication_year": "1961"
                                },
                                {
                                    "title": "James and the Giant Peach",
                                    "average_rating": "3.99",
                                    "original_publication_year": "1961"
                                },
                                {
                                    "title": "The Virtue of Selfishness: A New Concept of Egoism",
                                    "average_rating": "3.47",
                                    "original_publication_year": "1961"
                                },
                                {
                                    "title": "The Winter of Our Discontent",
                                    "average_rating": "3.99",
                                    "original_publication_year": "1961"
                                },
                                {
                                    "title": "The Woman in the Dunes",
                                    "average_rating": "3.91",
                                    "original_publication_year": "1962"
                                },
                                {
                                    "title": "The Bell Jar",
                                    "average_rating": "3.98",
                                    "original_publication_year": "1963"
                                },
                                {
                                    "title": "The Crying of Lot 49",
                                    "average_rating": "3.7",
                                    "original_publication_year": "1966"
                                },
                                {
                                    "title": "Another Roadside Attraction",
                                    "average_rating": "3.97",
                                    "original_publication_year": "1971"
                                },
                                {
                                    "title": "The Terminal Man",
                                    "average_rating": "3.34",
                                    "original_publication_year": "1972"
                                },
                                {
                                    "title": "The 158-Pound Marriage",
                                    "average_rating": "3.22",
                                    "original_publication_year": "1974"
                                },
                                {
                                    "title": "A History of God: The 4,000-Year Quest of Judaism, Christianity, and Islam",
                                    "average_rating": "3.85",
                                    "original_publication_year": "1975"
                                },
                                {
                                    "title": "Children of Dune (Dune Chronicles #3)",
                                    "average_rating": "3.9",
                                    "original_publication_year": "1976"
                                },
                                {
                                    "title": "Congo",
                                    "average_rating": "3.55",
                                    "original_publication_year": "1980"
                                },
                                {
                                    "title": "Deadeye Dick",
                                    "average_rating": "3.8",
                                    "original_publication_year": "1982"
                                },
                                {
                                    "title": "Life and Times of Michael K",
                                    "average_rating": "3.85",
                                    "original_publication_year": "1983"
                                },
                                {
                                    "title": "Heretics of Dune (Dune Chronicles #5)",
                                    "average_rating": "3.83",
                                    "original_publication_year": "1984"
                                },
                                {
                                    "title": "City of Glass (The New York Trilogy, #1)",
                                    "average_rating": "3.81",
                                    "original_publication_year": "1985"
                                },
                                {
                                    "title": "Love in the Time of Cholera",
                                    "average_rating": "3.89",
                                    "original_publication_year": "1985"
                                },
                                {
                                    "title": "Hatchet (Brian's Saga, #1)",
                                    "average_rating": "3.68",
                                    "original_publication_year": "1986"
                                },
                                {
                                    "title": "Beloved",
                                    "average_rating": "3.77",
                                    "original_publication_year": "1987"
                                },
                                {
                                    "title": "Dirk Gently's Holistic Detective Agency (Dirk Gently #1)",
                                    "average_rating": "3.97",
                                    "original_publication_year": "1987"
                                },
                                {
                                    "title": "In the Skin of a Lion",
                                    "average_rating": "3.88",
                                    "original_publication_year": "1987"
                                },
                                {
                                    "title": "The Pilgrimage",
                                    "average_rating": "3.64",
                                    "original_publication_year": "1987"
                                },
                                {
                                    "title": "The Rules of Attraction",
                                    "average_rating": "3.71",
                                    "original_publication_year": "1987"
                                },
                                {
                                    "title": "The Book of Ruth",
                                    "average_rating": "3.82",
                                    "original_publication_year": "1988"
                                },
                                {
                                    "title": "The Valkyries",
                                    "average_rating": "3.3",
                                    "original_publication_year": "1988"
                                },
                                {
                                    "title": "What to Expect the First Year (What to Expect)",
                                    "average_rating": "3.86",
                                    "original_publication_year": "1989"
                                },
                                {
                                    "title": "Hocus Pocus",
                                    "average_rating": "3.81",
                                    "original_publication_year": "1990"
                                },
                                {
                                    "title": "Jurassic Park (Jurassic Park, #1)",
                                    "average_rating": "3.96",
                                    "original_publication_year": "1990"
                                },
                                {
                                    "title": "The Mother Tongue: English and How It Got That Way",
                                    "average_rating": "3.95",
                                    "original_publication_year": "1990"
                                },
                                {
                                    "title": "Generation X: Tales for an Accelerated Culture",
                                    "average_rating": "3.73",
                                    "original_publication_year": "1991"
                                },
                                {
                                    "title": "Jewel",
                                    "average_rating": "3.64",
                                    "original_publication_year": "1991"
                                },
                                {
                                    "title": "Mariel of Redwall (Redwall, #4)",
                                    "average_rating": "3.96",
                                    "original_publication_year": "1991"
                                },
                                {
                                    "title": "Neither Here nor There: Travels in Europe",
                                    "average_rating": "3.88",
                                    "original_publication_year": "1991"
                                },
                                {
                                    "title": "Night Over Water",
                                    "average_rating": "3.78",
                                    "original_publication_year": "1991"
                                },
                                {
                                    "title": "Xenocide (Ender's Saga, #3)",
                                    "average_rating": "3.77",
                                    "original_publication_year": "1991"
                                },
                                {
                                    "title": "A Map of the World",
                                    "average_rating": "3.78",
                                    "original_publication_year": "1992"
                                },
                                {
                                    "title": "Leviathan",
                                    "average_rating": "3.95",
                                    "original_publication_year": "1992"
                                },
                                {
                                    "title": "Little Altars Everywhere",
                                    "average_rating": "3.55",
                                    "original_publication_year": "1992"
                                },
                                {
                                    "title": "Prophet",
                                    "average_rating": "3.92",
                                    "original_publication_year": "1992"
                                },
                                {
                                    "title": "Deerskin",
                                    "average_rating": "3.88",
                                    "original_publication_year": "1993"
                                },
                                {
                                    "title": "The Client",
                                    "average_rating": "3.97",
                                    "original_publication_year": "1993"
                                },
                                {
                                    "title": "A Son of the Circus",
                                    "average_rating": "3.61",
                                    "original_publication_year": "1994"
                                },
                                {
                                    "title": "Built to Last: Successful Habits of Visionary Companies",
                                    "average_rating": "3.98",
                                    "original_publication_year": "1994"
                                },
                                {
                                    "title": "In the Lake of the Woods",
                                    "average_rating": "3.78",
                                    "original_publication_year": "1994"
                                },
                                {
                                    "title": "The Bellmaker (Redwall, #7)",
                                    "average_rating": "3.95",
                                    "original_publication_year": "1994"
                                },
                                {
                                    "title": "Longitude: The True Story of a Lone Genius Who Solved the Greatest Scientific Problem of His Time",
                                    "average_rating": "3.95",
                                    "original_publication_year": "1995"
                                },
                                {
                                    "title": "Reservation Blues",
                                    "average_rating": "3.98",
                                    "original_publication_year": "1995"
                                },
                                {
                                    "title": "Songs in Ordinary Time",
                                    "average_rating": "3.68",
                                    "original_publication_year": "1995"
                                },
                                {
                                    "title": "The Lost World (Jurassic Park, #2)",
                                    "average_rating": "3.72",
                                    "original_publication_year": "1995"
                                },
                                {
                                    "title": "The Moor's Last Sigh",
                                    "average_rating": "3.92",
                                    "original_publication_year": "1995"
                                },
                                {
                                    "title": "The Rapture of Canaan",
                                    "average_rating": "3.8",
                                    "original_publication_year": "1995"
                                },
                                {
                                    "title": "Cause of Death (Kay Scarpetta, #7)",
                                    "average_rating": "3.93",
                                    "original_publication_year": "1996"
                                },
                                {
                                    "title": "Last Orders",
                                    "average_rating": "3.68",
                                    "original_publication_year": "1996"
                                },
                                {
                                    "title": "Lucy Sullivan Is Getting Married",
                                    "average_rating": "3.74",
                                    "original_publication_year": "1996"
                                },
                                {
                                    "title": "Sex and the City",
                                    "average_rating": "3.37",
                                    "original_publication_year": "1996"
                                },
                                {
                                    "title": "We Were the Mulvaneys",
                                    "average_rating": "3.7",
                                    "original_publication_year": "1996"
                                },
                                {
                                    "title": "Here on Earth",
                                    "average_rating": "3.68",
                                    "original_publication_year": "1997"
                                },
                                {
                                    "title": "Rachel's Holiday (Walsh Family, #2)",
                                    "average_rating": "3.93",
                                    "original_publication_year": "1997"
                                },
                                {
                                    "title": "Rose Daughter",
                                    "average_rating": "3.77",
                                    "original_publication_year": "1997"
                                },
                                {
                                    "title": "About a Boy",
                                    "average_rating": "3.79",
                                    "original_publication_year": "1998"
                                },
                                {
                                    "title": "Amsterdam",
                                    "average_rating": "3.41",
                                    "original_publication_year": "1998"
                                },
                                {
                                    "title": "Girlfriend in a Coma",
                                    "average_rating": "3.61",
                                    "original_publication_year": "1998"
                                },
                                {
                                    "title": "Glamorama",
                                    "average_rating": "3.47",
                                    "original_publication_year": "1998"
                                },
                                {
                                    "title": "I'm a Stranger Here Myself: Notes on Returning to America after Twenty Years Away",
                                    "average_rating": "3.89",
                                    "original_publication_year": "1998"
                                },
                                {
                                    "title": "Marlfox (Redwall, #11)",
                                    "average_rating": "3.99",
                                    "original_publication_year": "1998"
                                },
                                {
                                    "title": "Men Are from Mars, Women Are from Venus",
                                    "average_rating": "3.52",
                                    "original_publication_year": "1998"
                                },
                                {
                                    "title": "Message in a Bottle",
                                    "average_rating": "3.95",
                                    "original_publication_year": "1998"
                                },
                                {
                                    "title": "The No. 1 Ladies' Detective Agency  (No. 1 Ladies' Detective Agency, #1)",
                                    "average_rating": "3.75",
                                    "original_publication_year": "1998"
                                },
                                {
                                    "title": "The Street Lawyer",
                                    "average_rating": "3.81",
                                    "original_publication_year": "1998"
                                },
                                {
                                    "title": "Who Moved My Cheese?",
                                    "average_rating": "3.74",
                                    "original_publication_year": "1998"
                                },
                                {
                                    "title": "Bagombo Snuff Box",
                                    "average_rating": "3.72",
                                    "original_publication_year": "1999"
                                },
                                {
                                    "title": "Girl with a Pearl Earring",
                                    "average_rating": "3.85",
                                    "original_publication_year": "1999"
                                },
                                {
                                    "title": "Last Chance Saloon",
                                    "average_rating": "3.78",
                                    "original_publication_year": "1999"
                                },
                                {
                                    "title": "Sputnik Sweetheart",
                                    "average_rating": "3.82",
                                    "original_publication_year": "1999"
                                },
                                {
                                    "title": "The Legend of Luke (Redwall, #12)",
                                    "average_rating": "3.99",
                                    "original_publication_year": "1999"
                                },
                                {
                                    "title": "Timeline",
                                    "average_rating": "3.83",
                                    "original_publication_year": "1999"
                                },
                                {
                                    "title": "A Heartbreaking Work of Staggering Genius",
                                    "average_rating": "3.68",
                                    "original_publication_year": "2000"
                                },
                                {
                                    "title": "Angels & Demons  (Robert Langdon, #1)",
                                    "average_rating": "3.85",
                                    "original_publication_year": "2000"
                                },
                                {
                                    "title": "Code to Zero",
                                    "average_rating": "3.64",
                                    "original_publication_year": "2000"
                                },
                                {
                                    "title": "Dreamland",
                                    "average_rating": "3.91",
                                    "original_publication_year": "2000"
                                },
                                {
                                    "title": "Drowning Ruth",
                                    "average_rating": "3.73",
                                    "original_publication_year": "2000"
                                },
                                {
                                    "title": "Four Blondes",
                                    "average_rating": "2.8",
                                    "original_publication_year": "2000"
                                },
                                {
                                    "title": "Shadow of the Hegemon (Ender's Shadow, #2)",
                                    "average_rating": "3.93",
                                    "original_publication_year": "2000"
                                },
                                {
                                    "title": "Tears of the Giraffe (No. 1 Ladies' Detective Agency, #2)",
                                    "average_rating": "3.95",
                                    "original_publication_year": "2000"
                                },
                                {
                                    "title": "The Brethren",
                                    "average_rating": "3.71",
                                    "original_publication_year": "2000"
                                },
                                {
                                    "title": "A Painted House",
                                    "average_rating": "3.67",
                                    "original_publication_year": "2001"
                                },
                                {
                                    "title": "Atonement",
                                    "average_rating": "3.88",
                                    "original_publication_year": "2001"
                                },
                                {
                                    "title": "Deception Point",
                                    "average_rating": "3.67",
                                    "original_publication_year": "2001"
                                },
                                {
                                    "title": "Falling Angels",
                                    "average_rating": "3.55",
                                    "original_publication_year": "2001"
                                },
                                {
                                    "title": "Morality for Beautiful Girls (No. 1 Ladies' Detective Agency, #3)",
                                    "average_rating": "3.97",
                                    "original_publication_year": "2001"
                                },
                                {
                                    "title": "Nickel and Dimed: On (Not) Getting By in America",
                                    "average_rating": "3.6",
                                    "original_publication_year": "2001"
                                },
                                {
                                    "title": "number9dream",
                                    "average_rating": "3.92",
                                    "original_publication_year": "2001"
                                },
                                {
                                    "title": "Them: Adventures with Extremists",
                                    "average_rating": "3.94",
                                    "original_publication_year": "2001"
                                },
                                {
                                    "title": "Holy Cow: An Indian Adventure",
                                    "average_rating": "3.51",
                                    "original_publication_year": "2002"
                                },
                                {
                                    "title": "The Autograph Man",
                                    "average_rating": "3.14",
                                    "original_publication_year": "2002"
                                },
                                {
                                    "title": "The Beach House",
                                    "average_rating": "3.82",
                                    "original_publication_year": "2002"
                                },
                                {
                                    "title": "The Bookseller of Kabul",
                                    "average_rating": "3.76",
                                    "original_publication_year": "2002"
                                },
                                {
                                    "title": "The Salmon of Doubt (Dirk Gently, #3)",
                                    "average_rating": "3.92",
                                    "original_publication_year": "2002"
                                },
                                {
                                    "title": "The Summons",
                                    "average_rating": "3.68",
                                    "original_publication_year": "2002"
                                },
                                {
                                    "title": "Bleachers",
                                    "average_rating": "3.46",
                                    "original_publication_year": "2003"
                                },
                                {
                                    "title": "Hey Nostradamus!",
                                    "average_rating": "3.72",
                                    "original_publication_year": "2003"
                                },
                                {
                                    "title": "Sickened: The Memoir of a Munchausen by Proxy Childhood",
                                    "average_rating": "3.72",
                                    "original_publication_year": "2003"
                                },
                                {
                                    "title": "Songbook",
                                    "average_rating": "3.56",
                                    "original_publication_year": "2003"
                                },
                                {
                                    "title": "The Amber Room",
                                    "average_rating": "3.83",
                                    "original_publication_year": "2003"
                                },
                                {
                                    "title": "The Curious Incident of the Dog in the Night-Time",
                                    "average_rating": "3.85",
                                    "original_publication_year": "2003"
                                },
                                {
                                    "title": "The King of Torts",
                                    "average_rating": "3.67",
                                    "original_publication_year": "2003"
                                },
                                {
                                    "title": "The Second Summer of the Sisterhood (Sisterhood, #2)",
                                    "average_rating": "3.78",
                                    "original_publication_year": "2003"
                                },
                                {
                                    "title": "Villa Incognito",
                                    "average_rating": "3.65",
                                    "original_publication_year": "2003"
                                },
                                {
                                    "title": "Blue Ocean Strategy: How To Create Uncontested Market Space And Make The Competition Irrelevant",
                                    "average_rating": "3.86",
                                    "original_publication_year": "2004"
                                },
                                {
                                    "title": "Confessions of an Economic Hit Man",
                                    "average_rating": "3.83",
                                    "original_publication_year": "2004"
                                },
                                {
                                    "title": "His Excellency: George Washington",
                                    "average_rating": "3.9",
                                    "original_publication_year": "2004"
                                },
                                {
                                    "title": "Maximum City: Bombay Lost and Found",
                                    "average_rating": "3.91",
                                    "original_publication_year": "2004"
                                },
                                {
                                    "title": "Memories of My Melancholy Whores",
                                    "average_rating": "3.59",
                                    "original_publication_year": "2004"
                                },
                                {
                                    "title": "Shopaholic and Sister (Shopaholic, #4)",
                                    "average_rating": "3.64",
                                    "original_publication_year": "2004"
                                },
                                {
                                    "title": "Song of Susannah (The Dark Tower, #6)",
                                    "average_rating": "3.98",
                                    "original_publication_year": "2004"
                                },
                                {
                                    "title": "The Last Juror",
                                    "average_rating": "3.85",
                                    "original_publication_year": "2004"
                                },
                                {
                                    "title": "Assassination Vacation",
                                    "average_rating": "3.98",
                                    "original_publication_year": "2005"
                                },
                                {
                                    "title": "Everyday Italian: 125 Simple and Delicious Recipes",
                                    "average_rating": "3.97",
                                    "original_publication_year": "2005"
                                },
                                {
                                    "title": "Lipstick Jungle",
                                    "average_rating": "3.39",
                                    "original_publication_year": "2005"
                                },
                                {
                                    "title": "Olympos (Ilium, #2)",
                                    "average_rating": "3.93",
                                    "original_publication_year": "2005"
                                },
                                {
                                    "title": "On Beauty",
                                    "average_rating": "3.68",
                                    "original_publication_year": "2005"
                                },
                                {
                                    "title": "Saturday",
                                    "average_rating": "3.61",
                                    "original_publication_year": "2005"
                                },
                                {
                                    "title": "Shadow of the Giant (Ender's Shadow, #4)",
                                    "average_rating": "3.98",
                                    "original_publication_year": "2005"
                                },
                                {
                                    "title": "The Brooklyn Follies",
                                    "average_rating": "3.81",
                                    "original_publication_year": "2005"
                                },
                                {
                                    "title": "The Game: Penetrating the Secret Society of Pickup Artists",
                                    "average_rating": "3.73",
                                    "original_publication_year": "2005"
                                },
                                {
                                    "title": "I Hope They Serve Beer in Hell (Tucker Max, #1)",
                                    "average_rating": "3.51",
                                    "original_publication_year": "2006"
                                },
                                {
                                    "title": "Motor Mouth (Alex Barnaby #2)",
                                    "average_rating": "3.66",
                                    "original_publication_year": "2006"
                                },
                                {
                                    "title": "Next",
                                    "average_rating": "3.48",
                                    "original_publication_year": "2006"
                                },
                                {
                                    "title": "Special Topics in Calamity Physics",
                                    "average_rating": "3.7",
                                    "original_publication_year": "2006"
                                },
                                {
                                    "title": "The Android's Dream",
                                    "average_rating": "3.97",
                                    "original_publication_year": "2006"
                                },
                                {
                                    "title": "The Emperor's Children",
                                    "average_rating": "2.93",
                                    "original_publication_year": "2006"
                                },
                                {
                                    "title": "Forever in Blue: The Fourth Summer of the Sisterhood (Sisterhood, #4)",
                                    "average_rating": "3.8",
                                    "original_publication_year": "2007"
                                },
                                {
                                    "title": "Plum Lovin' (Stephanie Plum, #12.5)",
                                    "average_rating": "3.7",
                                    "original_publication_year": "2007"
                                },
                                {
                                    "title": "Shopaholic & Baby (Shopaholic, #5)",
                                    "average_rating": "3.77",
                                    "original_publication_year": "2007"
                                },
                                {
                                    "title": "Execution: The Discipline of Getting Things Done",
                                    "average_rating": "3.83",
                                    "original_publication_year": "2009"
                                }
                            ]
                        },
                        "text/html": [
                            "<table>",
                            "<tr><th>title</th><th>average_rating</th><th>original_publication_year</th></tr>",
                            "<tr><td>The Iliad</td><td>3.83</td><td>-750</td></tr>",
                            "<tr><td>The Oresteia  (Ορέστεια, #1-3)</td><td>3.99</td><td>-458</td></tr>",
                            "<tr><td>Antigone (The Theban Plays, #3)</td><td>3.6</td><td>-441</td></tr>",
                            "<tr><td>Oedipus Rex  (The Theban Plays, #1)</td><td>3.67</td><td>-430</td></tr>",
                            "<tr><td>Lysistrata</td><td>3.84</td><td>-411</td></tr>",
                            "<tr><td>The Canterbury Tales</td><td>3.48</td><td>1390</td></tr>",
                            "<tr><td>Don Quixote</td><td>3.85</td><td>1605</td></tr>",
                            "<tr><td>Macbeth</td><td>3.88</td><td>1606</td></tr>",
                            "<tr><td>Gulliver's Travels</td><td>3.55</td><td>1726</td></tr>",
                            "<tr><td>Wuthering Heights</td><td>3.82</td><td>1847</td></tr>",
                            "<tr><td>La Dame aux Camélias</td><td>3.97</td><td>1848</td></tr>",
                            "<tr><td>Hard Times</td><td>3.5</td><td>1854</td></tr>",
                            "<tr><td>Madame Bovary</td><td>3.64</td><td>1856</td></tr>",
                            "<tr><td>Great Expectations</td><td>3.75</td><td>1860</td></tr>",
                            "<tr><td>Heidi</td><td>3.97</td><td>1880</td></tr>",
                            "<tr><td>Treasure Island</td><td>3.82</td><td>1882</td></tr>",
                            "<tr><td>The Adventures of Huckleberry Finn</td><td>3.8</td><td>1884</td></tr>",
                            "<tr><td>Three Men in a Boat (Three Men, #1)</td><td>3.9</td><td>1889</td></tr>",
                            "<tr><td>The Time Machine</td><td>3.87</td><td>1895</td></tr>",
                            "<tr><td>The War of the Worlds</td><td>3.8</td><td>1897</td></tr>",
                            "<tr><td>The Wind in the Willows</td><td>3.98</td><td>1908</td></tr>",
                            "<tr><td>Pygmalion</td><td>3.9</td><td>1912</td></tr>",
                            "<tr><td>The Broken Wings</td><td>3.93</td><td>1912</td></tr>",
                            "<tr><td>Women in Love (Brangwen Family, #2)</td><td>3.66</td><td>1920</td></tr>",
                            "<tr><td>The Beautiful and Damned</td><td>3.75</td><td>1922</td></tr>",
                            "<tr><td>Brave New World</td><td>3.97</td><td>1932</td></tr>",
                            "<tr><td>Lost Horizon</td><td>3.9</td><td>1933</td></tr>",
                            "<tr><td>The Red Pony</td><td>3.42</td><td>1933</td></tr>",
                            "<tr><td>Burmese Days</td><td>3.84</td><td>1934</td></tr>",
                            "<tr><td>Of Mice and Men</td><td>3.84</td><td>1937</td></tr>",
                            "<tr><td>Tropic of Capricorn</td><td>3.85</td><td>1938</td></tr>",
                            "<tr><td>The Power and the Glory</td><td>3.99</td><td>1940</td></tr>",
                            "<tr><td>Animal Farm</td><td>3.87</td><td>1945</td></tr>",
                            "<tr><td>The Heart of the Matter</td><td>3.98</td><td>1948</td></tr>",
                            "<tr><td>Player Piano</td><td>3.85</td><td>1952</td></tr>",
                            "<tr><td>Fahrenheit 451</td><td>3.97</td><td>1953</td></tr>",
                            "<tr><td>The First Four Years  (Little House, #9)</td><td>3.88</td><td>1953</td></tr>",
                            "<tr><td>The Quiet American</td><td>3.96</td><td>1955</td></tr>",
                            "<tr><td>Atlas Shrugged</td><td>3.68</td><td>1957</td></tr>",
                            "<tr><td>Brave New World Revisited </td><td>3.93</td><td>1958</td></tr>",
                            "<tr><td>Goldfinger (James Bond, #7)</td><td>3.8</td><td>1959</td></tr>",
                            "<tr><td>A House for Mr Biswas</td><td>3.82</td><td>1961</td></tr>",
                            "<tr><td>Franny and Zooey</td><td>3.98</td><td>1961</td></tr>",
                            "<tr><td>James and the Giant Peach</td><td>3.99</td><td>1961</td></tr>",
                            "<tr><td>The Virtue of Selfishness: A New Concept of Egoism</td><td>3.47</td><td>1961</td></tr>",
                            "<tr><td>The Winter of Our Discontent</td><td>3.99</td><td>1961</td></tr>",
                            "<tr><td>The Woman in the Dunes</td><td>3.91</td><td>1962</td></tr>",
                            "<tr><td>The Bell Jar</td><td>3.98</td><td>1963</td></tr>",
                            "<tr><td>The Crying of Lot 49</td><td>3.7</td><td>1966</td></tr>",
                            "<tr><td>Another Roadside Attraction</td><td>3.97</td><td>1971</td></tr>",
                            "<tr><td>The Terminal Man</td><td>3.34</td><td>1972</td></tr>",
                            "<tr><td>The 158-Pound Marriage</td><td>3.22</td><td>1974</td></tr>",
                            "<tr><td>A History of God: The 4,000-Year Quest of Judaism, Christianity, and Islam</td><td>3.85</td><td>1975</td></tr>",
                            "<tr><td>Children of Dune (Dune Chronicles #3)</td><td>3.9</td><td>1976</td></tr>",
                            "<tr><td>Congo</td><td>3.55</td><td>1980</td></tr>",
                            "<tr><td>Deadeye Dick</td><td>3.8</td><td>1982</td></tr>",
                            "<tr><td>Life and Times of Michael K</td><td>3.85</td><td>1983</td></tr>",
                            "<tr><td>Heretics of Dune (Dune Chronicles #5)</td><td>3.83</td><td>1984</td></tr>",
                            "<tr><td>City of Glass (The New York Trilogy, #1)</td><td>3.81</td><td>1985</td></tr>",
                            "<tr><td>Love in the Time of Cholera</td><td>3.89</td><td>1985</td></tr>",
                            "<tr><td>Hatchet (Brian's Saga, #1)</td><td>3.68</td><td>1986</td></tr>",
                            "<tr><td>Beloved</td><td>3.77</td><td>1987</td></tr>",
                            "<tr><td>Dirk Gently's Holistic Detective Agency (Dirk Gently #1)</td><td>3.97</td><td>1987</td></tr>",
                            "<tr><td>In the Skin of a Lion</td><td>3.88</td><td>1987</td></tr>",
                            "<tr><td>The Pilgrimage</td><td>3.64</td><td>1987</td></tr>",
                            "<tr><td>The Rules of Attraction</td><td>3.71</td><td>1987</td></tr>",
                            "<tr><td>The Book of Ruth</td><td>3.82</td><td>1988</td></tr>",
                            "<tr><td>The Valkyries</td><td>3.3</td><td>1988</td></tr>",
                            "<tr><td>What to Expect the First Year (What to Expect)</td><td>3.86</td><td>1989</td></tr>",
                            "<tr><td>Hocus Pocus</td><td>3.81</td><td>1990</td></tr>",
                            "<tr><td>Jurassic Park (Jurassic Park, #1)</td><td>3.96</td><td>1990</td></tr>",
                            "<tr><td>The Mother Tongue: English and How It Got That Way</td><td>3.95</td><td>1990</td></tr>",
                            "<tr><td>Generation X: Tales for an Accelerated Culture</td><td>3.73</td><td>1991</td></tr>",
                            "<tr><td>Jewel</td><td>3.64</td><td>1991</td></tr>",
                            "<tr><td>Mariel of Redwall (Redwall, #4)</td><td>3.96</td><td>1991</td></tr>",
                            "<tr><td>Neither Here nor There: Travels in Europe</td><td>3.88</td><td>1991</td></tr>",
                            "<tr><td>Night Over Water</td><td>3.78</td><td>1991</td></tr>",
                            "<tr><td>Xenocide (Ender's Saga, #3)</td><td>3.77</td><td>1991</td></tr>",
                            "<tr><td>A Map of the World</td><td>3.78</td><td>1992</td></tr>",
                            "<tr><td>Leviathan</td><td>3.95</td><td>1992</td></tr>",
                            "<tr><td>Little Altars Everywhere</td><td>3.55</td><td>1992</td></tr>",
                            "<tr><td>Prophet</td><td>3.92</td><td>1992</td></tr>",
                            "<tr><td>Deerskin</td><td>3.88</td><td>1993</td></tr>",
                            "<tr><td>The Client</td><td>3.97</td><td>1993</td></tr>",
                            "<tr><td>A Son of the Circus</td><td>3.61</td><td>1994</td></tr>",
                            "<tr><td>Built to Last: Successful Habits of Visionary Companies</td><td>3.98</td><td>1994</td></tr>",
                            "<tr><td>In the Lake of the Woods</td><td>3.78</td><td>1994</td></tr>",
                            "<tr><td>The Bellmaker (Redwall, #7)</td><td>3.95</td><td>1994</td></tr>",
                            "<tr><td>Longitude: The True Story of a Lone Genius Who Solved the Greatest Scientific Problem of His Time</td><td>3.95</td><td>1995</td></tr>",
                            "<tr><td>Reservation Blues</td><td>3.98</td><td>1995</td></tr>",
                            "<tr><td>Songs in Ordinary Time</td><td>3.68</td><td>1995</td></tr>",
                            "<tr><td>The Lost World (Jurassic Park, #2)</td><td>3.72</td><td>1995</td></tr>",
                            "<tr><td>The Moor's Last Sigh</td><td>3.92</td><td>1995</td></tr>",
                            "<tr><td>The Rapture of Canaan</td><td>3.8</td><td>1995</td></tr>",
                            "<tr><td>Cause of Death (Kay Scarpetta, #7)</td><td>3.93</td><td>1996</td></tr>",
                            "<tr><td>Last Orders</td><td>3.68</td><td>1996</td></tr>",
                            "<tr><td>Lucy Sullivan Is Getting Married</td><td>3.74</td><td>1996</td></tr>",
                            "<tr><td>Sex and the City</td><td>3.37</td><td>1996</td></tr>",
                            "<tr><td>We Were the Mulvaneys</td><td>3.7</td><td>1996</td></tr>",
                            "<tr><td>Here on Earth</td><td>3.68</td><td>1997</td></tr>",
                            "<tr><td>Rachel's Holiday (Walsh Family, #2)</td><td>3.93</td><td>1997</td></tr>",
                            "<tr><td>Rose Daughter</td><td>3.77</td><td>1997</td></tr>",
                            "<tr><td>About a Boy</td><td>3.79</td><td>1998</td></tr>",
                            "<tr><td>Amsterdam</td><td>3.41</td><td>1998</td></tr>",
                            "<tr><td>Girlfriend in a Coma</td><td>3.61</td><td>1998</td></tr>",
                            "<tr><td>Glamorama</td><td>3.47</td><td>1998</td></tr>",
                            "<tr><td>I'm a Stranger Here Myself: Notes on Returning to America after Twenty Years Away</td><td>3.89</td><td>1998</td></tr>",
                            "<tr><td>Marlfox (Redwall, #11)</td><td>3.99</td><td>1998</td></tr>",
                            "<tr><td>Men Are from Mars, Women Are from Venus</td><td>3.52</td><td>1998</td></tr>",
                            "<tr><td>Message in a Bottle</td><td>3.95</td><td>1998</td></tr>",
                            "<tr><td>The No. 1 Ladies' Detective Agency  (No. 1 Ladies' Detective Agency, #1)</td><td>3.75</td><td>1998</td></tr>",
                            "<tr><td>The Street Lawyer</td><td>3.81</td><td>1998</td></tr>",
                            "<tr><td>Who Moved My Cheese?</td><td>3.74</td><td>1998</td></tr>",
                            "<tr><td>Bagombo Snuff Box</td><td>3.72</td><td>1999</td></tr>",
                            "<tr><td>Girl with a Pearl Earring</td><td>3.85</td><td>1999</td></tr>",
                            "<tr><td>Last Chance Saloon</td><td>3.78</td><td>1999</td></tr>",
                            "<tr><td>Sputnik Sweetheart</td><td>3.82</td><td>1999</td></tr>",
                            "<tr><td>The Legend of Luke (Redwall, #12)</td><td>3.99</td><td>1999</td></tr>",
                            "<tr><td>Timeline</td><td>3.83</td><td>1999</td></tr>",
                            "<tr><td>A Heartbreaking Work of Staggering Genius</td><td>3.68</td><td>2000</td></tr>",
                            "<tr><td>Angels &amp; Demons  (Robert Langdon, #1)</td><td>3.85</td><td>2000</td></tr>",
                            "<tr><td>Code to Zero</td><td>3.64</td><td>2000</td></tr>",
                            "<tr><td>Dreamland</td><td>3.91</td><td>2000</td></tr>",
                            "<tr><td>Drowning Ruth</td><td>3.73</td><td>2000</td></tr>",
                            "<tr><td>Four Blondes</td><td>2.8</td><td>2000</td></tr>",
                            "<tr><td>Shadow of the Hegemon (Ender's Shadow, #2)</td><td>3.93</td><td>2000</td></tr>",
                            "<tr><td>Tears of the Giraffe (No. 1 Ladies' Detective Agency, #2)</td><td>3.95</td><td>2000</td></tr>",
                            "<tr><td>The Brethren</td><td>3.71</td><td>2000</td></tr>",
                            "<tr><td>A Painted House</td><td>3.67</td><td>2001</td></tr>",
                            "<tr><td>Atonement</td><td>3.88</td><td>2001</td></tr>",
                            "<tr><td>Deception Point</td><td>3.67</td><td>2001</td></tr>",
                            "<tr><td>Falling Angels</td><td>3.55</td><td>2001</td></tr>",
                            "<tr><td>Morality for Beautiful Girls (No. 1 Ladies' Detective Agency, #3)</td><td>3.97</td><td>2001</td></tr>",
                            "<tr><td>Nickel and Dimed: On (Not) Getting By in America</td><td>3.6</td><td>2001</td></tr>",
                            "<tr><td>number9dream</td><td>3.92</td><td>2001</td></tr>",
                            "<tr><td>Them: Adventures with Extremists</td><td>3.94</td><td>2001</td></tr>",
                            "<tr><td>Holy Cow: An Indian Adventure</td><td>3.51</td><td>2002</td></tr>",
                            "<tr><td>The Autograph Man</td><td>3.14</td><td>2002</td></tr>",
                            "<tr><td>The Beach House</td><td>3.82</td><td>2002</td></tr>",
                            "<tr><td>The Bookseller of Kabul</td><td>3.76</td><td>2002</td></tr>",
                            "<tr><td>The Salmon of Doubt (Dirk Gently, #3)</td><td>3.92</td><td>2002</td></tr>",
                            "<tr><td>The Summons</td><td>3.68</td><td>2002</td></tr>",
                            "<tr><td>Bleachers</td><td>3.46</td><td>2003</td></tr>",
                            "<tr><td>Hey Nostradamus!</td><td>3.72</td><td>2003</td></tr>",
                            "<tr><td>Sickened: The Memoir of a Munchausen by Proxy Childhood</td><td>3.72</td><td>2003</td></tr>",
                            "<tr><td>Songbook</td><td>3.56</td><td>2003</td></tr>",
                            "<tr><td>The Amber Room</td><td>3.83</td><td>2003</td></tr>",
                            "<tr><td>The Curious Incident of the Dog in the Night-Time</td><td>3.85</td><td>2003</td></tr>",
                            "<tr><td>The King of Torts</td><td>3.67</td><td>2003</td></tr>",
                            "<tr><td>The Second Summer of the Sisterhood (Sisterhood, #2)</td><td>3.78</td><td>2003</td></tr>",
                            "<tr><td>Villa Incognito</td><td>3.65</td><td>2003</td></tr>",
                            "<tr><td>Blue Ocean Strategy: How To Create Uncontested Market Space And Make The Competition Irrelevant</td><td>3.86</td><td>2004</td></tr>",
                            "<tr><td>Confessions of an Economic Hit Man</td><td>3.83</td><td>2004</td></tr>",
                            "<tr><td>His Excellency: George Washington</td><td>3.9</td><td>2004</td></tr>",
                            "<tr><td>Maximum City: Bombay Lost and Found</td><td>3.91</td><td>2004</td></tr>",
                            "<tr><td>Memories of My Melancholy Whores</td><td>3.59</td><td>2004</td></tr>",
                            "<tr><td>Shopaholic and Sister (Shopaholic, #4)</td><td>3.64</td><td>2004</td></tr>",
                            "<tr><td>Song of Susannah (The Dark Tower, #6)</td><td>3.98</td><td>2004</td></tr>",
                            "<tr><td>The Last Juror</td><td>3.85</td><td>2004</td></tr>",
                            "<tr><td>Assassination Vacation</td><td>3.98</td><td>2005</td></tr>",
                            "<tr><td>Everyday Italian: 125 Simple and Delicious Recipes</td><td>3.97</td><td>2005</td></tr>",
                            "<tr><td>Lipstick Jungle</td><td>3.39</td><td>2005</td></tr>",
                            "<tr><td>Olympos (Ilium, #2)</td><td>3.93</td><td>2005</td></tr>",
                            "<tr><td>On Beauty</td><td>3.68</td><td>2005</td></tr>",
                            "<tr><td>Saturday</td><td>3.61</td><td>2005</td></tr>",
                            "<tr><td>Shadow of the Giant (Ender's Shadow, #4)</td><td>3.98</td><td>2005</td></tr>",
                            "<tr><td>The Brooklyn Follies</td><td>3.81</td><td>2005</td></tr>",
                            "<tr><td>The Game: Penetrating the Secret Society of Pickup Artists</td><td>3.73</td><td>2005</td></tr>",
                            "<tr><td>I Hope They Serve Beer in Hell (Tucker Max, #1)</td><td>3.51</td><td>2006</td></tr>",
                            "<tr><td>Motor Mouth (Alex Barnaby #2)</td><td>3.66</td><td>2006</td></tr>",
                            "<tr><td>Next</td><td>3.48</td><td>2006</td></tr>",
                            "<tr><td>Special Topics in Calamity Physics</td><td>3.7</td><td>2006</td></tr>",
                            "<tr><td>The Android's Dream</td><td>3.97</td><td>2006</td></tr>",
                            "<tr><td>The Emperor's Children</td><td>2.93</td><td>2006</td></tr>",
                            "<tr><td>Forever in Blue: The Fourth Summer of the Sisterhood (Sisterhood, #4)</td><td>3.8</td><td>2007</td></tr>",
                            "<tr><td>Plum Lovin' (Stephanie Plum, #12.5)</td><td>3.7</td><td>2007</td></tr>",
                            "<tr><td>Shopaholic &amp; Baby (Shopaholic, #5)</td><td>3.77</td><td>2007</td></tr>",
                            "<tr><td>Execution: The Discipline of Getting Things Done</td><td>3.83</td><td>2009</td></tr>",
                            "</table>"
                        ]
                    }
                }
            ],
            "execution_count": 6
        }
    ]
}